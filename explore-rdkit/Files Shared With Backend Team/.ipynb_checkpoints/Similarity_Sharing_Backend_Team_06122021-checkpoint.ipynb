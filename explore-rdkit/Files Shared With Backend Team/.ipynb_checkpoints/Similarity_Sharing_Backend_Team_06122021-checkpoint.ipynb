{
 "cells": [
  {
   "cell_type": "markdown",
   "id": "6bce1aa8-16f5-4030-8b07-26a2473a40e6",
   "metadata": {},
   "source": [
    "#Similarity searching between molecules"
   ]
  },
  {
   "cell_type": "markdown",
   "id": "720e5854-c419-4a6d-a6bb-f3d6d11c4f7b",
   "metadata": {},
   "source": [
    "#Importing the libraries"
   ]
  },
  {
   "cell_type": "code",
   "execution_count": null,
   "id": "10070c8a-e202-4097-9c57-ca287c8876c9",
   "metadata": {},
   "outputs": [],
   "source": [
    "from rdkit import Chem\n",
    "from rdkit.Chem.Draw import SimilarityMaps\n",
    "from rdkit.Chem import MACCSkeys\n",
    "from rdkit import DataStructs"
   ]
  },
  {
   "cell_type": "markdown",
   "id": "f24bad98-e8f1-446a-a813-61b2b46b0a60",
   "metadata": {},
   "source": [
    "#Importing Molecules as SMILES"
   ]
  },
  {
   "cell_type": "code",
   "execution_count": null,
   "id": "2329d9c8-2b6a-43e2-bb58-e43a4a80b4a9",
   "metadata": {},
   "outputs": [],
   "source": [
    "smiles = ['C[C@H]1COC2=C3N1C=C(C(=O)C3=CC(=C2N4CCN(CC4)C)F)C(=O)O',\n",
    " 'CC1COC2=C3N1C=C(C(=O)C3=CC(=C2N4CCN(CC4)C)F)C(=O)O',\n",
    " 'C[C@H]1COC2=C3N1C=C(C(=O)C3=CC(=C2C4(CC4)N)F)C(=O)O',\n",
    " 'CCN1C=C(C(=O)C2=CC(=C(C(=C21)F)N3CCNC(C3)C)F)C(=O)O',\n",
    " 'CC1=C(C=CC=C1Cl)NC2=CC=CC=C2C(=O)O',\n",
    " 'CC1=C(C(=CC=C1)NC2=CC=CC=C2C(=O)O)C',\n",
    " 'C1=NC(=O)NC(=C1F)N',\n",
    " 'C1=CN=C(NC1=O)N']"
   ]
  },
  {
   "cell_type": "markdown",
   "id": "69cc5a86-5ddb-49db-8464-3da9e4288a25",
   "metadata": {},
   "source": [
    "#Converting SMILES to mols"
   ]
  },
  {
   "cell_type": "code",
   "execution_count": null,
   "id": "0f8b930e-58e2-4efc-8c61-48701d8de73e",
   "metadata": {},
   "outputs": [],
   "source": [
    "mols = [Chem.MolFromSmiles(smiles) for smiles in smiles]"
   ]
  },
  {
   "cell_type": "markdown",
   "id": "c0b42a7b-ec3b-432d-86e9-c04f829c9e55",
   "metadata": {},
   "source": [
    "#Calculating the fingerprint using MACCSKeys instead of Morgan Fingerprint"
   ]
  },
  {
   "cell_type": "code",
   "execution_count": null,
   "id": "865871a3-68bb-412f-8124-c444487bc908",
   "metadata": {},
   "outputs": [],
   "source": [
    "fps_MACCSKeys = [MACCSkeys.GenMACCSKeys(mol) for mol in mols]"
   ]
  },
  {
   "cell_type": "markdown",
   "id": "0b1bb304-2665-4415-96dc-a033eb99ce4f",
   "metadata": {},
   "source": [
    "#Assigning variables to the two molecules between which similarity has to be checked"
   ]
  },
  {
   "cell_type": "code",
   "execution_count": null,
   "id": "59bf15eb-e072-406c-9d8d-c245abeeb33d",
   "metadata": {},
   "outputs": [],
   "source": [
    "num1 = 1\n",
    "num2 = 2"
   ]
  },
  {
   "cell_type": "markdown",
   "id": "af1a9a41-d9a0-4a3c-b679-9d27ef5c77dc",
   "metadata": {},
   "source": [
    "#Three types of similarities namely Tanimoto Similarity, Cosine similarity and Dice similarity are assessed"
   ]
  },
  {
   "cell_type": "code",
   "execution_count": null,
   "id": "b63a8b0a-63aa-4dfc-ad0f-488a083fbab1",
   "metadata": {},
   "outputs": [],
   "source": [
    "print(\"Tanimoto Similarity = \",DataStructs.FingerprintSimilarity(fps_MACCSKeys[num1],fps_MACCSKeys[num2],metric=DataStructs.TanimotoSimilarity))\n",
    "print(\"Cosine Similarity = \",DataStructs.FingerprintSimilarity(fps_MACCSKeys[num1],fps_MACCSKeys[num2],metric=DataStructs.CosineSimilarity))\n",
    "print(\"Dice Similarity = \",DataStructs.FingerprintSimilarity(fps_MACCSKeys[num1],fps_MACCSKeys[num2],metric=DataStructs.DiceSimilarity))"
   ]
  },
  {
   "cell_type": "code",
   "execution_count": null,
   "id": "fcea0279-3ab1-4be6-8825-472775f45d62",
   "metadata": {},
   "outputs": [],
   "source": []
  }
 ],
 "metadata": {
  "kernelspec": {
   "display_name": "Python 3",
   "language": "python",
   "name": "python3"
  },
  "language_info": {
   "codemirror_mode": {
    "name": "ipython",
    "version": 3
   },
   "file_extension": ".py",
   "mimetype": "text/x-python",
   "name": "python",
   "nbconvert_exporter": "python",
   "pygments_lexer": "ipython3",
   "version": "3.9.5"
  }
 },
 "nbformat": 4,
 "nbformat_minor": 5
}
