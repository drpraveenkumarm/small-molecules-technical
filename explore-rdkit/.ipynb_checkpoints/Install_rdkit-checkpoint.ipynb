{
 "cells": [
  {
   "cell_type": "code",
   "execution_count": null,
   "id": "94743bb2-0ba4-4ded-83f8-59dc741662e7",
   "metadata": {},
   "outputs": [],
   "source": [
    "conda install rdkit"
   ]
  },
  {
   "cell_type": "code",
   "execution_count": null,
   "id": "9e430682-b7f1-45fd-948d-af2425d57a69",
   "metadata": {},
   "outputs": [],
   "source": [
    "conda install ipywidgets"
   ]
  },
  {
   "cell_type": "code",
   "execution_count": null,
   "id": "8fb0f4e9-0bc6-4b69-a619-d518cb321c6e",
   "metadata": {},
   "outputs": [],
   "source": [
    "conda install openbabel"
   ]
  },
  {
   "cell_type": "code",
   "execution_count": null,
   "id": "4daed24f-727c-44c6-b957-6f9296ac3d61",
   "metadata": {},
   "outputs": [],
   "source": [
    "conda install cmake"
   ]
  },
  {
   "cell_type": "code",
   "execution_count": null,
   "id": "8cf8d9d7-f270-4753-ac7f-12e675f73f18",
   "metadata": {},
   "outputs": [],
   "source": [
    "conda install pathlib"
   ]
  },
  {
   "cell_type": "code",
   "execution_count": null,
   "id": "d89856dd-f564-43e3-8d1e-85b60378b30a",
   "metadata": {},
   "outputs": [],
   "source": [
    "conda install nglview"
   ]
  }
 ],
 "metadata": {
  "kernelspec": {
   "display_name": "Python 3",
   "language": "python",
   "name": "python3"
  },
  "language_info": {
   "codemirror_mode": {
    "name": "ipython",
    "version": 3
   },
   "file_extension": ".py",
   "mimetype": "text/x-python",
   "name": "python",
   "nbconvert_exporter": "python",
   "pygments_lexer": "ipython3",
   "version": "3.9.5"
  }
 },
 "nbformat": 4,
 "nbformat_minor": 5
}
