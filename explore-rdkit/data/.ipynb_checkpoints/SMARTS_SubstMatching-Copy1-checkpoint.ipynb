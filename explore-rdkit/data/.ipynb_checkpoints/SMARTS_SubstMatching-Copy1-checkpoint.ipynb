{
 "cells": [
  {
   "cell_type": "code",
   "execution_count": null,
   "id": "20b00175-142d-419f-904f-1dd0e0bc167c",
   "metadata": {},
   "outputs": [],
   "source": [
    "#  https://github.com/rdkit/rdkit-tutorials/blob/master/notebooks/002_SMARTS_SubstructureMatching.ipynb"
   ]
  },
  {
   "cell_type": "code",
   "execution_count": null,
   "id": "bd45da78-83c8-4a85-81c1-61e6711e2916",
   "metadata": {},
   "outputs": [],
   "source": [
    "from __future__ import print_function\n",
    "# import rdkit components\n",
    "from rdkit import rdBase\n",
    "from rdkit import Chem\n",
    "from rdkit.Chem import AllChem\n",
    "from rdkit.Chem import Draw\n",
    "\n",
    "# use IPythonConsole for pretty drawings\n",
    "from rdkit.Chem.Draw import IPythonConsole"
   ]
  },
  {
   "cell_type": "code",
   "execution_count": null,
   "id": "e20dc4f2-6163-4b05-bd27-7f1a4672acbf",
   "metadata": {},
   "outputs": [],
   "source": [
    "#defining the variables as my compounds, and adding them in a list\n",
    "\n",
    "naphthalene = Chem.MolFromSmiles('c12ccccc1cccc2')\n",
    "benzene = Chem.MolFromSmiles('c1ccccc1')\n",
    "benzoxazole = Chem.MolFromSmiles('n1c2ccccc2oc1')\n",
    "indane = Chem.MolFromSmiles('c1ccc2c(c1)CCC2')\n",
    "skatole = Chem.MolFromSmiles('CC1=CNC2=CC=CC=C12')\n",
    "quinoline = Chem.MolFromSmiles('n1cccc2ccccc12')\n",
    "\n",
    "my_compounds = [naphthalene,benzene,benzoxazole,indane,skatole,quinoline]"
   ]
  },
  {
   "cell_type": "code",
   "execution_count": null,
   "id": "3a0bf046-5d90-41d6-916f-d34d3a2412ae",
   "metadata": {},
   "outputs": [],
   "source": [
    "#To view the molecules \n",
    "\n",
    "Draw.MolsToGridImage(my_compounds, useSVG=False)"
   ]
  },
  {
   "cell_type": "code",
   "execution_count": null,
   "id": "a0d429bd-34dd-4b3d-9e9f-22cba987d57f",
   "metadata": {},
   "outputs": [],
   "source": [
    "\"\"\" Check https://www.daylight.com/dayhtml_tutorials/languages/smarts/#:~:text=and%20aromatic%20atoms.-,%5BR2%5D%20%C2%A0,-Atoms%20that%20are\n",
    "[R2] in SMARTS means the list of atoms that are a part of 2 rings\n",
    "SSSR = smallest set of smallest rings ( https://depth-first.com/articles/2020/08/31/a-smallest-set-of-smallest-rings/ )\n",
    "\n",
    "This code tests whether any atom in each molecule is a member of two rings \n",
    "\n",
    "\"\"\" \n",
    "is_in_two_rings = Chem.MolFromSmarts('[R2]')\n",
    "[mol.HasSubstructMatch(is_in_two_rings) for mol in my_mos]"
   ]
  },
  {
   "cell_type": "code",
   "execution_count": null,
   "id": "f6e5df85-e251-436b-9017-785fec5c75ff",
   "metadata": {},
   "outputs": [],
   "source": [
    "#For RDKit molecules created via SMILES, ring properties are instantiated automatically on molecule creation.\n",
    "#Using SMARTS instead of SMILES to initialize molecules does not result in instantiation of a molecule's RingInfo property. Thus, until Chem.GetSSSR() is invoked on a SMARTS-derived molecule, certain queries will fail."
   ]
  },
  {
   "cell_type": "code",
   "execution_count": null,
   "id": "e1e63f4d-3367-4c55-a581-535d75017314",
   "metadata": {},
   "outputs": [],
   "source": [
    "benzo_five = Chem.MolFromSmarts('[*r5R1]1[cR2]2[cR1][cR1][cR1][cR1][cR2]2[*r5R1][*r5R1]1')\n",
    "benzo_six = Chem.MolFromSmarts('[*r6R1]1[cR2]2[cR1][cR1][cR1][cR1][cR2]2[*r6R1][*r6R1][*r6R1]1')\n",
    "smarts_queries = [benzo_five, benzo_six]"
   ]
  },
  {
   "cell_type": "code",
   "execution_count": null,
   "id": "117db282-661f-403c-bea3-9155895b8397",
   "metadata": {},
   "outputs": [],
   "source": [
    "# our first try fails\n",
    "try:\n",
    "    print([mol.HasSubstructMatch(is_in_two_rings) for mol in smarts_queries])\n",
    "    print('Success!  Your query worked.')\n",
    "except RuntimeError as err:\n",
    "    print('ERROR; {0} because RingInfo wasn\\'t initialized\\n'.format(err))"
   ]
  },
  {
   "cell_type": "code",
   "execution_count": null,
   "id": "0a4ec39b-de35-4573-bfc6-ef2519dc6f31",
   "metadata": {},
   "outputs": [],
   "source": [
    "# initialize rings\n",
    "[Chem.GetSSSR(mol) for mol in smarts_queries]\n",
    "\n",
    "# now it works\n",
    "try:\n",
    "    print([mol.HasSubstructMatch(is_in_two_rings) for mol in smarts_queries])\n",
    "    print('Success!  Your query worked.\\n')\n",
    "except RuntimeError as err:\n",
    "    print('ERROR; {0} because RingInfo wasn\\'t initialized'.format(err))\n",
    "    \n",
    "    #(doubt. what are we trying to do here?)"
   ]
  },
  {
   "cell_type": "code",
   "execution_count": null,
   "id": "c0227181-338c-4ca6-834e-15285a8ec023",
   "metadata": {},
   "outputs": [],
   "source": [
    "\"\"\"RingInfo is instantiated, it will be possible to compute meaningful 2D sets of coordinates for the SMARTS molecule and to both (a) query against the SMARTS molecule and (b) use the SMARTS molecule as a query against other molecules. Without calling Chem.GetSSSR(), only the second option would be viable.\"\"\""
   ]
  },
  {
   "cell_type": "code",
   "execution_count": null,
   "id": "699a47db-0620-41ce-9368-ed5a0b71ff60",
   "metadata": {},
   "outputs": [],
   "source": [
    "[AllChem.Compute2DCoords(mol) for mol in smarts_queries]"
   ]
  },
  {
   "cell_type": "code",
   "execution_count": null,
   "id": "40d0d5f5-45a8-4ee3-a646-65c7fb375940",
   "metadata": {},
   "outputs": [],
   "source": [
    "# matching the first query\n",
    "for mol in my_compounds:\n",
    "    AllChem.GenerateDepictionMatching2DStructure(mol, benzo_five, acceptFailure = True)"
   ]
  },
  {
   "cell_type": "code",
   "execution_count": null,
   "id": "a5dc1616-9f23-4286-b42d-bae2670f9637",
   "metadata": {},
   "outputs": [],
   "source": [
    "#matching to our first query is done. Now we have to draw the results"
   ]
  },
  {
   "cell_type": "code",
   "execution_count": null,
   "id": "f7e1ebc9-7b7a-4eb3-babf-8776cf8b736d",
   "metadata": {},
   "outputs": [],
   "source": [
    "# IPythonConsole module of rdkit.Chem.Draw doesn't seem to pass through the highlightSubstructs = True parameter to the appropriate rendering function, even though it does result in setting the mol.__sssAtoms property for each molecule. We can pass this parameter manually."
   ]
  },
  {
   "cell_type": "code",
   "execution_count": null,
   "id": "755a8493-33bf-4cd4-9e26-b934fa716eea",
   "metadata": {},
   "outputs": [],
   "source": [
    "highlight_lists = [mol.GetSubstructMatch(benzo_five) for mol in my_compounds]\n",
    "Draw.MolsToGridImage(my_compounds, \n",
    "                     highlightAtomLists = highlight_lists,\n",
    "                     useSVG=False\n",
    "                    )"
   ]
  },
  {
   "cell_type": "code",
   "execution_count": null,
   "id": "695e277b-0703-49d8-b3f0-8287e905e906",
   "metadata": {},
   "outputs": [],
   "source": [
    "\"\"\"skatole, indane, and benzoxazole hit our first query, which tested whether a molecule contained a benzene fused to a five-membered ring. The skatole example illustrates that not all atoms in a molecule need to match a query, and also that only those atoms that match will be highlighted. benzene isn't highlighted because it doesn't contain two rings, and naphthalene and quinoline aren't highlighted because they contain benzene fused to a six-membered ring.\"\"\""
   ]
  },
  {
   "cell_type": "code",
   "execution_count": null,
   "id": "03f12796-bddd-4cbf-8a7b-1561bf16eab5",
   "metadata": {},
   "outputs": [],
   "source": [
    "for mol in my_compounds:\n",
    "    AllChem.GenerateDepictionMatching2DStructure(mol, benzo_six, acceptFailure = True)\n",
    "# make sure the molecules are storing information about the SSS match:\n",
    "highlight_lists = [mol.GetSubstructMatch(benzo_six) for mol in my_compounds]\n",
    "Draw.MolsToGridImage(my_compounds, \n",
    "                     highlightAtomLists = highlight_lists,\n",
    "                     useSVG=False\n",
    "                    )"
   ]
  },
  {
   "cell_type": "code",
   "execution_count": null,
   "id": "53855739-eaff-4271-afe0-3530b1aed58f",
   "metadata": {},
   "outputs": [],
   "source": []
  },
  {
   "cell_type": "code",
   "execution_count": null,
   "id": "d89be120-075f-446e-a216-68a234d05777",
   "metadata": {},
   "outputs": [],
   "source": []
  },
  {
   "cell_type": "code",
   "execution_count": null,
   "id": "5a3946ec-6f56-4ced-9150-075f58ed96b2",
   "metadata": {},
   "outputs": [],
   "source": []
  },
  {
   "cell_type": "code",
   "execution_count": null,
   "id": "0be1ab31-c979-4f2e-89a1-df189f96e44c",
   "metadata": {},
   "outputs": [],
   "source": []
  },
  {
   "cell_type": "code",
   "execution_count": null,
   "id": "c4204c81-ee2f-4bb3-92ac-a8476134832a",
   "metadata": {},
   "outputs": [],
   "source": []
  },
  {
   "cell_type": "code",
   "execution_count": null,
   "id": "799dc4a6-1cb6-43f4-bbc3-6ef5a0ef3dd0",
   "metadata": {},
   "outputs": [],
   "source": []
  },
  {
   "cell_type": "code",
   "execution_count": null,
   "id": "ad666d1e-1af5-4247-adc6-d2a8375d9d7d",
   "metadata": {},
   "outputs": [],
   "source": []
  },
  {
   "cell_type": "code",
   "execution_count": null,
   "id": "90a5444f-f895-4545-a820-9da5680e34c8",
   "metadata": {},
   "outputs": [],
   "source": []
  }
 ],
 "metadata": {
  "kernelspec": {
   "display_name": "Python 3",
   "language": "python",
   "name": "python3"
  },
  "language_info": {
   "codemirror_mode": {
    "name": "ipython",
    "version": 3
   },
   "file_extension": ".py",
   "mimetype": "text/x-python",
   "name": "python",
   "nbconvert_exporter": "python",
   "pygments_lexer": "ipython3",
   "version": "3.9.5"
  }
 },
 "nbformat": 4,
 "nbformat_minor": 5
}
