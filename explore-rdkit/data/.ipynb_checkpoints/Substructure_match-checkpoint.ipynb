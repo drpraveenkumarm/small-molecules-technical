{
 "cells": [
  {
   "cell_type": "code",
   "execution_count": null,
   "id": "b5e17765-36c4-42ae-8d12-2ca64799b087",
   "metadata": {},
   "outputs": [],
   "source": [
    "from rdkit import Chem\n",
    "from rdkit.Chem import Draw\n",
    "from rdkit.Chem.Draw import IPythonConsole\n",
    "IPythonConsole.molSize=(450,350)\n",
    "from rdkit.Chem import rdRGroupDecomposition\n",
    "from rdkit.Chem import rdqueries\n",
    "from rdkit.Chem import rdDepictor\n",
    "from rdkit.Chem.Draw import rdMolDraw2D\n",
    "from rdkit import Geometry\n",
    "rdDepictor.SetPreferCoordGen(True)\n",
    "import pandas as pd\n",
    "\n",
    "from IPython.display import SVG,Image\n",
    "from ipywidgets import interact\n",
    "\n",
    "import rdkit\n",
    "print(rdkit.__version__)"
   ]
  },
  {
   "cell_type": "code",
   "execution_count": null,
   "id": "70fdc703-ff3c-4528-814d-bd76246126b1",
   "metadata": {},
   "outputs": [],
   "source": [
    "from rdkit import Chem"
   ]
  },
  {
   "cell_type": "code",
   "execution_count": null,
   "id": "5daa79c3-02ac-4000-8e3e-8cff9f993b7f",
   "metadata": {},
   "outputs": [],
   "source": [
    "from rdkit.Chem import rdFMCS "
   ]
  },
  {
   "cell_type": "code",
   "execution_count": null,
   "id": "d6a37d63-964c-4907-a2dd-deb020ee7f87",
   "metadata": {},
   "outputs": [],
   "source": [
    "mol1 = Chem.MolFromSmiles('[H]C([H])([H])[H]')\n",
    "mol2 = Chem.MolFromSmiles('[H][C]([H])([H])~[Pt]')\n",
    "mols = [mol1, mol2]\n",
    "res = rdFMCS.FindMCS(mols)"
   ]
  },
  {
   "cell_type": "code",
   "execution_count": null,
   "id": "5001bea1-820f-4433-879b-425464612152",
   "metadata": {},
   "outputs": [],
   "source": [
    "rdkit.Chem.fmcs(mol1, mol2)"
   ]
  },
  {
   "cell_type": "code",
   "execution_count": null,
   "id": "e42477c5-24ae-4f7c-ac5f-bad43a403c48",
   "metadata": {},
   "outputs": [],
   "source": [
    "from rdkit.Chem import MCS\n",
    "MCS.FMCS(mols)"
   ]
  },
  {
   "cell_type": "code",
   "execution_count": null,
   "id": "84246c64-f36c-4dab-b73d-d74613461221",
   "metadata": {},
   "outputs": [],
   "source": []
  },
  {
   "cell_type": "code",
   "execution_count": null,
   "id": "d4491381-3915-45ce-be16-6fdfdb81941c",
   "metadata": {},
   "outputs": [],
   "source": []
  },
  {
   "cell_type": "code",
   "execution_count": null,
   "id": "8bc18510-618c-448e-979d-54579b85abc2",
   "metadata": {},
   "outputs": [],
   "source": []
  },
  {
   "cell_type": "code",
   "execution_count": null,
   "id": "27800cd2-1502-49ee-b5e0-bea7a7aa849d",
   "metadata": {},
   "outputs": [],
   "source": []
  },
  {
   "cell_type": "code",
   "execution_count": null,
   "id": "c7ef468a-c49b-4795-9487-cb131afd6d57",
   "metadata": {},
   "outputs": [],
   "source": []
  },
  {
   "cell_type": "code",
   "execution_count": null,
   "id": "c0ff7bc1-6ca6-43a1-8120-25d78bf26d9e",
   "metadata": {},
   "outputs": [],
   "source": []
  },
  {
   "cell_type": "code",
   "execution_count": null,
   "id": "940267bc-45ce-4731-8caf-601a888167a7",
   "metadata": {},
   "outputs": [],
   "source": []
  },
  {
   "cell_type": "code",
   "execution_count": null,
   "id": "0ef4b53b-88ce-43f7-8ccb-4a0650f928e1",
   "metadata": {},
   "outputs": [],
   "source": []
  },
  {
   "cell_type": "code",
   "execution_count": null,
   "id": "e475c5a1-9ab9-482f-a2ce-e7dc20e18d07",
   "metadata": {},
   "outputs": [],
   "source": []
  },
  {
   "cell_type": "code",
   "execution_count": null,
   "id": "77e39180-12da-43ee-996b-f36e48b14061",
   "metadata": {},
   "outputs": [],
   "source": []
  },
  {
   "cell_type": "code",
   "execution_count": null,
   "id": "7d5674f4-a0dd-43d4-8fc1-ad0ea8d0dcbe",
   "metadata": {},
   "outputs": [],
   "source": []
  },
  {
   "cell_type": "code",
   "execution_count": null,
   "id": "98fb826e-ac77-4c19-aed5-3e44ae6922cb",
   "metadata": {},
   "outputs": [],
   "source": []
  },
  {
   "cell_type": "code",
   "execution_count": null,
   "id": "9163bbe1-118b-4c60-bbc2-378519c52a94",
   "metadata": {},
   "outputs": [],
   "source": []
  },
  {
   "cell_type": "code",
   "execution_count": null,
   "id": "4679e60e-f0f6-4e57-a0ce-8b10543b449c",
   "metadata": {},
   "outputs": [],
   "source": []
  },
  {
   "cell_type": "code",
   "execution_count": null,
   "id": "157a88bf-6cb8-4c4b-a211-75b316dd2ccc",
   "metadata": {},
   "outputs": [],
   "source": []
  }
 ],
 "metadata": {
  "kernelspec": {
   "display_name": "Python 3",
   "language": "python",
   "name": "python3"
  },
  "language_info": {
   "codemirror_mode": {
    "name": "ipython",
    "version": 3
   },
   "file_extension": ".py",
   "mimetype": "text/x-python",
   "name": "python",
   "nbconvert_exporter": "python",
   "pygments_lexer": "ipython3",
   "version": "3.9.5"
  }
 },
 "nbformat": 4,
 "nbformat_minor": 5
}
