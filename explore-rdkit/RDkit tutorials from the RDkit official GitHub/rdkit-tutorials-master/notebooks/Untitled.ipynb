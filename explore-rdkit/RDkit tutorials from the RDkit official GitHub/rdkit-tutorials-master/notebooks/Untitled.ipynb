{
 "cells": [
  {
   "cell_type": "code",
   "execution_count": null,
   "id": "5a68b566-168d-4a27-b469-7175ce1d5fbd",
   "metadata": {},
   "outputs": [],
   "source": [
    "from __future__ import print_function\n",
    "from rdkit import rdBase\n",
    "from rdkit import Chem\n",
    "from rdkit.Chem import AllChem\n",
    "from rdkit.Chem import Draw"
   ]
  },
  {
   "cell_type": "code",
   "execution_count": null,
   "id": "81db2122-b647-4048-8452-0a15cbeb3986",
   "metadata": {},
   "outputs": [],
   "source": [
    "from rdkit.Chem.Draw import IPythonConsole"
   ]
  },
  {
   "cell_type": "code",
   "execution_count": null,
   "id": "66bd477b-1385-450f-aab4-d32ec77f9457",
   "metadata": {},
   "outputs": [],
   "source": [
    "naphthalene = Chem.MolFromSmiles('c12ccccc1cccc2')\n",
    "benzoxazole = Chem.MolFromSmiles('n1c2ccccc2oc1')\n",
    "indane = Chem.MolFromSmiles('c1ccc2c(c1)CCC2')\n",
    "skatole = Chem.MolFromSmiles('CC1=CNC2=CC=CC=C12')\n",
    "benzene = Chem.MolFromSmiles('c1ccccc1')\n",
    "quinoline = Chem.MolFromSmiles('n1cccc2ccccc12')\n",
    "\n",
    "my_molecules = [naphthalene,\n",
    "               benzoxazole,\n",
    "               indane,\n",
    "               skatole,\n",
    "               benzene,\n",
    "               quinoline,\n",
    "               ]"
   ]
  },
  {
   "cell_type": "code",
   "execution_count": null,
   "id": "c5df367e-69a7-4b92-961c-a1efd7e5fbc3",
   "metadata": {},
   "outputs": [],
   "source": [
    "Draw.MolsToGridImage(my_molecules, useSVG=False)"
   ]
  },
  {
   "cell_type": "code",
   "execution_count": null,
   "id": "9ddb8400-95ca-4757-be2b-e7469952ef6c",
   "metadata": {},
   "outputs": [],
   "source": [
    "is_in_two_rings = Chem.MolFromSmarts('[R2]')\n",
    "[mol.HasSubstructMatch(is_in_two_rings) for mol in my_molecules]"
   ]
  },
  {
   "cell_type": "code",
   "execution_count": null,
   "id": "fcae3642-1553-4ece-bcf3-3871a00ba434",
   "metadata": {},
   "outputs": [],
   "source": [
    "benzo_five = Chem.MolFromSmarts('[*r5R1]1[cR2]2[cR1][cR1][cR1][cR1][cR2]2[*r5R1][*r5R1]1')"
   ]
  },
  {
   "cell_type": "code",
   "execution_count": null,
   "id": "954f2ff7-6e1e-4ba7-9338-4b4cb58d6bfd",
   "metadata": {},
   "outputs": [],
   "source": [
    "benzo_six = Chem.MolFromSmarts('[*r6R1]1[cR2]2[cR1][cR1][cR1][cR1][cR2]2[*r6R1][*r6R1][*r6R1]1')"
   ]
  },
  {
   "cell_type": "code",
   "execution_count": null,
   "id": "a043dbb1-6238-4fd4-95c5-1c5fcdb97af4",
   "metadata": {},
   "outputs": [],
   "source": [
    "smarts_queries = [benzo_five, benzo_six]"
   ]
  },
  {
   "cell_type": "code",
   "execution_count": null,
   "id": "df34c93c-d894-4f0a-9c56-328c834d3333",
   "metadata": {},
   "outputs": [],
   "source": [
    "try:\n",
    "    print([mol.HasSubstructMatch(is_in_two_rings) for mol in smarts_queries])\n",
    "    print('Success! Your query worked.')\n",
    "except RuntimeError as err:\n",
    "    print('ERROR; {0} becauseRingInfo wasn\\'t initialized\\n'.format(err))"
   ]
  },
  {
   "cell_type": "code",
   "execution_count": null,
   "id": "97b21ee3-f3fb-4e7d-918c-6dd958c76206",
   "metadata": {},
   "outputs": [],
   "source": []
  },
  {
   "cell_type": "code",
   "execution_count": null,
   "id": "ac756424-de4f-40b2-9186-4d5422798af4",
   "metadata": {},
   "outputs": [],
   "source": []
  },
  {
   "cell_type": "code",
   "execution_count": null,
   "id": "9169c872-977f-4f78-be2e-1a257217221e",
   "metadata": {},
   "outputs": [],
   "source": []
  }
 ],
 "metadata": {
  "kernelspec": {
   "display_name": "Python 3",
   "language": "python",
   "name": "python3"
  },
  "language_info": {
   "codemirror_mode": {
    "name": "ipython",
    "version": 3
   },
   "file_extension": ".py",
   "mimetype": "text/x-python",
   "name": "python",
   "nbconvert_exporter": "python",
   "pygments_lexer": "ipython3",
   "version": "3.9.5"
  }
 },
 "nbformat": 4,
 "nbformat_minor": 5
}
