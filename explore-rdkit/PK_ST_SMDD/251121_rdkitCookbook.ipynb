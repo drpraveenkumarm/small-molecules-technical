{
 "cells": [
  {
   "cell_type": "code",
   "execution_count": null,
   "id": "2c1a83b1-a7dd-4cbe-a1a6-95c7f0e4d214",
   "metadata": {},
   "outputs": [],
   "source": [
    "from rdkit import Chem\n",
    "from rdkit.Chem.Draw import IPythonConsole\n",
    "from rdkit.Chem import Draw\n",
    "IPythonConsole.ipython_useSVG=True #< set this to False if you want PNGs instead of SVGs"
   ]
  },
  {
   "cell_type": "code",
   "execution_count": null,
   "id": "7277cc8c-7fe2-49bb-870a-61925a74b600",
   "metadata": {},
   "outputs": [],
   "source": [
    "def mol_with_atom_index(mol):\n",
    "    for atom in mol.GetAtoms():\n",
    "        atom.SetAtomMapNum(atom.GetIdx())\n",
    "        return mol"
   ]
  },
  {
   "cell_type": "code",
   "execution_count": null,
   "id": "e99f3ce0-14f5-45c3-a5c9-2c17275ceda6",
   "metadata": {},
   "outputs": [],
   "source": [
    "# Test in a kinase inhibitor\n",
    "mol = Chem.MolFromSmiles(\"C1CC2=C3C(=CC=C2)C(=CN3C1)[C@H]4[C@@H](C(=O)NC4=O)C5=CNC6=CC=CC=C65\")\n",
    "#Default \n",
    "mol"
   ]
  },
  {
   "cell_type": "code",
   "execution_count": null,
   "id": "397e9f19-a66e-477e-8f11-1d4edc1194c8",
   "metadata": {},
   "outputs": [],
   "source": [
    "# With atom index\n",
    "mol_with_atom_index(mol)"
   ]
  },
  {
   "cell_type": "code",
   "execution_count": null,
   "id": "e4295e0a-1140-40b1-b963-674b1d1ea98a",
   "metadata": {},
   "outputs": [],
   "source": [
    "from rdkit import Chem\n",
    "from rdkit.Chem.Draw import IPythonConsole\n",
    "from rdkit.Chem import Draw\n",
    "IPythonConsole.drawOptions.addAtomIndices = True\n",
    "IPythonConsole.molSize = 300,300"
   ]
  },
  {
   "cell_type": "code",
   "execution_count": null,
   "id": "40b9484d-f1a0-455f-bf5f-3ba481a59bde",
   "metadata": {},
   "outputs": [],
   "source": [
    "mol = Chem.MolFromSmiles('C1CC2=C3C(=CC=C2)C(=CN3C1)[C@H]4[C@@H](C(=O)NC4=O)C5=CNC6=CC=CC=C65')\n",
    "mol"
   ]
  },
  {
   "cell_type": "code",
   "execution_count": null,
   "id": "b0e26d55-003a-40a8-9c42-7d1f837e78dc",
   "metadata": {},
   "outputs": [],
   "source": [
    "# Draw a molecule with a calculation value displayed(eg. Gasteiger Charge)"
   ]
  },
  {
   "cell_type": "code",
   "execution_count": null,
   "id": "3ac5ed18-bd4a-4f59-9dff-97c8046cef91",
   "metadata": {},
   "outputs": [],
   "source": [
    "from rdkit import Chem\n",
    "from rdkit.Chem import AllChem\n",
    "from rdkit.Chem.Draw import IPythonConsole\n",
    "IPythonConsole.molsize = 250,250"
   ]
  },
  {
   "cell_type": "code",
   "execution_count": null,
   "id": "25ef0b50-979e-4537-ba2d-7d3a0d14eecc",
   "metadata": {},
   "outputs": [],
   "source": [
    "m = Chem.MolFromSmiles('c1ncncc1C(=O)[O-]')\n",
    "AllChem.ComputeGasteigerCharges(m)\n",
    "m"
   ]
  },
  {
   "cell_type": "code",
   "execution_count": null,
   "id": "134f22f2-bfcd-4841-b8f6-ffa4e0590fa2",
   "metadata": {},
   "outputs": [],
   "source": [
    "m2 = Chem.Mol(m)\n",
    "for at in m2.GetAtoms():\n",
    "    lbl = '%.2f'%(at.GetDoubleProp(\"_GasteigerCharge\"))\n",
    "    at.SetProp('atomNote', lbl)\n",
    "m2"
   ]
  },
  {
   "cell_type": "code",
   "execution_count": null,
   "id": "452f79ef-f1be-4f6f-a16f-7a4bc312cc81",
   "metadata": {},
   "outputs": [],
   "source": [
    "# Draw a molecule with stereochemistry annotations displayed"
   ]
  },
  {
   "cell_type": "code",
   "execution_count": null,
   "id": "afa74554-72d7-4ae5-849c-e6f1e0a7cc74",
   "metadata": {},
   "outputs": [],
   "source": [
    "from rdkit import Chem\n",
    "from rdkit.Chem import Draw\n",
    "from rdkit.Chem.Draw import IPythonConsole\n",
    "IPythonConsole.drawOptions.addAtomIndices = False\n",
    "IPythonConsole.drawOptions.addStereoAnnotation = True"
   ]
  },
  {
   "cell_type": "code",
   "execution_count": null,
   "id": "ab8a5ee5-ef47-417c-a072-356160b8d94a",
   "metadata": {},
   "outputs": [],
   "source": [
    "# Default Representation uses legacy FindMolChiralCenters() code\n",
    "m1 = Chem.MolFromSmiles('C1CC1[C@H](F)C1CCC1')\n",
    "m2 = Chem.MolFromSmiles('F[C@H]1CC[C@H](O)CC1')\n",
    "Draw.MolsToGridImage((m1,m2), subImgSize=(250,250))"
   ]
  },
  {
   "cell_type": "code",
   "execution_count": null,
   "id": "40cfee71-a43d-4795-a7eb-4ae9dfaa68fb",
   "metadata": {},
   "outputs": [],
   "source": [
    "# new stereochemistry code with more accurate CIP labels, 2020.09 release\n",
    "from rdkit.Chem import rdCIPLabeler\n",
    "rdCIPLabeler.AssignCIPLabels(m1)\n",
    "rdCIPLabeler.AssignCIPLabels(m2)\n",
    "Draw.MolsToGridImage((m1,m2), subImgSize=(250,250))"
   ]
  },
  {
   "cell_type": "markdown",
   "id": "65fc565e-67d5-42df-8b93-ba6cc9a9df8f",
   "metadata": {},
   "source": [
    "#Draw a molecule in black and white."
   ]
  },
  {
   "cell_type": "code",
   "execution_count": null,
   "id": "75117b65-2570-469e-9db0-8a7001f28f48",
   "metadata": {},
   "outputs": [],
   "source": [
    "from rdkit import Chem\n",
    "from rdkit.Chem.Draw import IPythonConsole\n",
    "from rdkit.Chem import Draw"
   ]
  },
  {
   "cell_type": "code",
   "execution_count": null,
   "id": "46b54863-a339-42c6-9fd0-44298e0602be",
   "metadata": {},
   "outputs": [],
   "source": [
    "ms = [Chem.MolFromSmiles(x) for x in ('Cc1onc(-c2ccccc2)c1C(=O)N[C@@H]1C(=O)N2[C@@H](C(=O)O)C(C)(C)S[C@H]12','CC1(C)SC2C(NC(=O)Cc3ccccc3)C(=O)N2C1C(=O)O.[Na]')]\n",
    "Draw.MolsToGridImage(ms)"
   ]
  },
  {
   "cell_type": "code",
   "execution_count": null,
   "id": "45754ab3-bb20-4d81-8150-7da21ed29912",
   "metadata": {},
   "outputs": [],
   "source": [
    "IPythonConsole.drawOptions.useBWAtomPalette()\n",
    "Draw.MolsToGridImage(ms)"
   ]
  },
  {
   "cell_type": "code",
   "execution_count": null,
   "id": "a67ab407-c1a7-4806-b8c0-f0718bd49160",
   "metadata": {},
   "outputs": [],
   "source": [
    "#Draw a molcule with a substructure highlight in Jupyter."
   ]
  },
  {
   "cell_type": "code",
   "execution_count": null,
   "id": "c3207cfc-896c-46ab-872d-46e0b95ffa5f",
   "metadata": {},
   "outputs": [],
   "source": [
    "from rdkit import Chem\n",
    "from rdkit.Chem.Draw import IPythonConsole"
   ]
  },
  {
   "cell_type": "code",
   "execution_count": null,
   "id": "7fd2906e-9b7d-4840-8282-f5ca2203e6b7",
   "metadata": {},
   "outputs": [],
   "source": [
    "m = Chem.MolFromSmiles('c1cc(C(=O)O)c(OC(=O)C)cc1')\n",
    "substructure = Chem.MolFromSmarts('C(=O)O')\n",
    "print(m.GetSubstructMatches(substructure))"
   ]
  },
  {
   "cell_type": "code",
   "execution_count": null,
   "id": "69bc54d4-59c8-48a4-936c-dae400f65f1b",
   "metadata": {},
   "outputs": [],
   "source": [
    "m"
   ]
  },
  {
   "cell_type": "code",
   "execution_count": null,
   "id": "747c22fb-86df-4543-9fe1-09a2e193e293",
   "metadata": {},
   "outputs": [],
   "source": [
    "# You can also manually set the atoms that should be highlighted\n",
    "m.__sssAtoms = [0,1,2,6,11,12]\n",
    "m"
   ]
  },
  {
   "cell_type": "code",
   "execution_count": null,
   "id": "6f364095-5836-48cb-858c-b599cc07c3d6",
   "metadata": {},
   "outputs": [],
   "source": [
    "# Highlight molecule differences based on maximum common substructure"
   ]
  },
  {
   "cell_type": "code",
   "execution_count": null,
   "id": "69d15a20-636a-45e4-866d-70486b7d90b4",
   "metadata": {},
   "outputs": [],
   "source": [
    "from rdkit import Chem\n",
    "from rdkit.Chem import Draw\n",
    "from rdkit.Chem.Draw import IPythonConsole\n",
    "from rdkit.Chem import rdFMCS\n",
    "from rdkit.Chem.Draw import rdDepictor\n",
    "rdDepictor.SetPreferCoordGen(True)\n",
    "IPythonConsole.drawOptions.minFontSize=20"
   ]
  },
  {
   "cell_type": "code",
   "execution_count": null,
   "id": "e8c1447d-90db-4113-bcb8-c3a3c1aa27ea",
   "metadata": {},
   "outputs": [],
   "source": [
    "mol1 = Chem.MolFromSmiles('FC1=CC=C2C(=C1)C=NN2')\n",
    "mol2 = Chem.MolFromSmiles('CCC1=C2NN=CC2=CC(Cl)=C1')"
   ]
  },
  {
   "cell_type": "code",
   "execution_count": null,
   "id": "f60b41c0-981d-4772-acdd-5b8f40fc066a",
   "metadata": {},
   "outputs": [],
   "source": [
    "Draw.MolsToGridImage([mol1,mol2])"
   ]
  },
  {
   "cell_type": "code",
   "execution_count": null,
   "id": "1cf9f06a-5ba7-4729-8b2d-c33851a9b3f8",
   "metadata": {},
   "outputs": [],
   "source": [
    "def view_difference(mol1, mol2):\n",
    "    mcs = rdFMCS.FindMCS([mol1,mol2])\n",
    "    mcs_mol = Chem.MolFromSmarts(mcs.smartsString)\n",
    "    match1 = mol1.GetSubstructMatch(mcs_mol)\n",
    "    target_atm1 = []\n",
    "    for atom in mol1.GetAtoms():\n",
    "        if atom.GetIdx() not in match1:\n",
    "            target_atm1.append(atom.GetIdx())\n",
    "    match2 = mol2.GetSubstructMatch(mcs_mol)\n",
    "    target_atm2 = []\n",
    "    for atom in mol2.GetAtoms():\n",
    "        if atom.GetIdx() not in match2:\n",
    "            target_atm2.append(atom.GetIdx())\n",
    "    return Draw.MolsToGridImage([mol1, mol2], highlightAtomLists= [target_atm1, target_atm2]) "
   ]
  },
  {
   "cell_type": "code",
   "execution_count": null,
   "id": "6e9b7e2b-614b-439b-9e43-7db4d48fd131",
   "metadata": {},
   "outputs": [],
   "source": [
    "view_difference(mol1,mol2)"
   ]
  },
  {
   "cell_type": "code",
   "execution_count": null,
   "id": "4423a5b1-110e-4e03-bbda-48d43f1e15f6",
   "metadata": {},
   "outputs": [],
   "source": [
    "#Draw a moleculewithout implicit hydrogens"
   ]
  },
  {
   "cell_type": "code",
   "execution_count": null,
   "id": "940fb098-dd04-4e1a-82dc-4af3483e2e45",
   "metadata": {},
   "outputs": [],
   "source": [
    "from rdkit import Chem\n",
    "from rdkit.Chem.Draw import IPythonConsole\n",
    "m = Chem.MolFromSmiles('[Pt](Cl)(Cl)(N)N')\n",
    "m"
   ]
  },
  {
   "cell_type": "code",
   "execution_count": null,
   "id": "d473f814-0e4c-4042-aa29-d607e2a5f564",
   "metadata": {},
   "outputs": [],
   "source": [
    "for atom in m.GetAtoms():\n",
    "    atom.SetProp(\"atomLabel\", atom.GetSymbol())\n",
    "m"
   ]
  },
  {
   "cell_type": "code",
   "execution_count": null,
   "id": "b1125413-218e-45f5-b8ec-eaccb1ba33d8",
   "metadata": {},
   "outputs": [],
   "source": [
    "#Draw a molecule with functional group abbreviations"
   ]
  },
  {
   "cell_type": "code",
   "execution_count": null,
   "id": "22b547d5-c284-4deb-8d28-21fa7ecc76f5",
   "metadata": {},
   "outputs": [],
   "source": [
    "from rdkit import Chem\n",
    "from rdkit.Chem.Draw import IPythonConsole\n",
    "from rdkit.Chem import Draw\n",
    "from rdkit.Chem import rdAbbreviations"
   ]
  },
  {
   "cell_type": "code",
   "execution_count": null,
   "id": "438cd499-92b7-43f6-95d9-9b5520192a28",
   "metadata": {},
   "outputs": [],
   "source": [
    "m = Chem.MolFromSmiles('COc1ccc(C(=O)[O-])cc1')\n",
    "m"
   ]
  },
  {
   "cell_type": "code",
   "execution_count": null,
   "id": "b4288b5e-8abd-432e-8e74-05c5ed5bb902",
   "metadata": {},
   "outputs": [],
   "source": [
    "abbrevs = rdAbbreviations.GetDefaultAbbreviations()\n",
    "nm = rdAbbreviations.CondenseMolAbbreviations(m,abbrevs)\n",
    "nm"
   ]
  },
  {
   "cell_type": "code",
   "execution_count": null,
   "id": "82fcd67f-cb35-4fa8-8016-4d90768859da",
   "metadata": {},
   "outputs": [],
   "source": [
    "# abbreviations that cover more than 40% of the molecule won't be applied by default\n",
    "m = Chem.MolFromSmiles('c1c[nH]cc1C(F)(F)F')\n",
    "nm1 = rdAbbreviations.CondenseMolAbbreviations(m,abbrevs)\n",
    "nm2 = rdAbbreviations.CondenseMolAbbreviations(m,abbrevs, maxCoverage=0.8)\n",
    "Draw.MolsToGridImage((m,nm1,nm2), legends=('','default','maxCoverage=0.8'))"
   ]
  },
  {
   "cell_type": "code",
   "execution_count": null,
   "id": "44b7be8e-0098-402c-b514-7dd7fbd8b887",
   "metadata": {},
   "outputs": [],
   "source": [
    "#See available abbreviations\n",
    "abbrevs = rdAbbreviations.GetDefaultAbbreviations()\n",
    "for a in abbrevs:\n",
    "    print(a.label)"
   ]
  },
  {
   "cell_type": "code",
   "execution_count": null,
   "id": "08d0797f-d41a-49f9-a9dc-7f6da3851997",
   "metadata": {},
   "outputs": [],
   "source": [
    "#Draw a molecule using CoordGen Library"
   ]
  },
  {
   "cell_type": "code",
   "execution_count": null,
   "id": "37aa186e-5f68-4ef9-86e2-8cef254a90d0",
   "metadata": {},
   "outputs": [],
   "source": [
    "from rdkit import Chem\n",
    "from rdkit.Chem.Draw import IPythonConsole\n",
    "IPythonConsole.molSize = 350,300\n",
    "from rdkit.Chem import Draw"
   ]
  },
  {
   "cell_type": "code",
   "execution_count": null,
   "id": "8ed16f60-c7fb-4ccb-aceb-327c3f6fbe01",
   "metadata": {},
   "outputs": [],
   "source": [
    "#default drawing\n",
    "mol = Chem.MolFromSmiles(\"C/C=C/CC(C)C(O)C1C(=O)NC(CC)C(=O)N(C)CC(=O)N(C)C(CC(C)C)C(=O)NC(C(C)C)C(=O)N(C)C(CC(C)C)C(=O)NC(C)C(=O)NC(C)C(=O)N(C)C(CC(C)C)C(=O)N(C)C(CC(C)C)C(=O)N(C)C(C(C)C)C(=O)N1C\")\n",
    "mol"
   ]
  },
  {
   "cell_type": "code",
   "execution_count": null,
   "id": "dee43d08-33e7-4a84-b82c-d19490ad8b8f",
   "metadata": {},
   "outputs": [],
   "source": [
    "# with CoordGen\n",
    "from rdkit.Chem import rdCoordGen\n",
    "rdCoordGen.AddCoords(mol)\n",
    "mol"
   ]
  },
  {
   "cell_type": "code",
   "execution_count": null,
   "id": "3599852a-5b1b-4284-91d2-3bd4fd745e80",
   "metadata": {},
   "outputs": [],
   "source": [
    "from rdkit import Chem\n",
    "from rdkit.Chem import Draw\n",
    "from rdkit.Chem.Draw import rdMolDraw2D\n",
    "from rdkit.Chem import rdDepictor\n",
    "rdDepictor.SetPreferCoordGen(True)\n",
    "from rdkit.Chem.Draw import IPythonConsole\n",
    "from IPython.display import SVG"
   ]
  },
  {
   "cell_type": "code",
   "execution_count": null,
   "id": "4d1a185d-30f0-40d6-ad05-bde386f7d9eb",
   "metadata": {},
   "outputs": [],
   "source": [
    "mol = Chem.MolFromSmiles(\"C/C=C/CC(C)C(O)C1C(=O)NC(CC)C(=O)N(C)CC(=O)N(C)C(CC(C)C)C(=O)NC(C(C)C)C(=O)N(C)C(CC(C)C)C(=O)NC(C)C(=O)NC(C)C(=O)N(C)C(CC(C)C)C(=O)N(C)C(CC(C)C)C(=O)N(C)C(C(C)C)C(=O)N1C\")\n",
    "drawer = rdMolDraw2D.MolDraw2DSVG(300,300)\n",
    "drawer.drawOptions().addStereoAnnotation = False\n",
    "drawer.DrawMolecules(mol)\n",
    "drawer.FinishDrawing()\n",
    "SVG(drawer.GetDrawingText())"
   ]
  },
  {
   "cell_type": "code",
   "execution_count": null,
   "id": "832feadd-7e78-4f87-bd76-79f9ba050f25",
   "metadata": {},
   "outputs": [],
   "source": []
  },
  {
   "cell_type": "code",
   "execution_count": null,
   "id": "225e3354-0c99-49c0-a5a2-f122e77eaba8",
   "metadata": {},
   "outputs": [],
   "source": []
  },
  {
   "cell_type": "code",
   "execution_count": null,
   "id": "91b76bce-85a5-48bb-a024-4a9371211bb3",
   "metadata": {},
   "outputs": [],
   "source": []
  },
  {
   "cell_type": "code",
   "execution_count": null,
   "id": "62873686-5da4-46b2-84b9-a6e2cec2545f",
   "metadata": {},
   "outputs": [],
   "source": []
  },
  {
   "cell_type": "code",
   "execution_count": null,
   "id": "ea74e4a2-cb1e-447d-a3fc-92f3ee8701c1",
   "metadata": {},
   "outputs": [],
   "source": []
  },
  {
   "cell_type": "code",
   "execution_count": null,
   "id": "db2fea05-fe3a-460f-90a5-a1d712fc0667",
   "metadata": {},
   "outputs": [],
   "source": []
  },
  {
   "cell_type": "code",
   "execution_count": null,
   "id": "98fbef3c-7980-4e59-8905-e0957e830df4",
   "metadata": {},
   "outputs": [],
   "source": []
  }
 ],
 "metadata": {
  "kernelspec": {
   "display_name": "Python 3",
   "language": "python",
   "name": "python3"
  },
  "language_info": {
   "codemirror_mode": {
    "name": "ipython",
    "version": 3
   },
   "file_extension": ".py",
   "mimetype": "text/x-python",
   "name": "python",
   "nbconvert_exporter": "python",
   "pygments_lexer": "ipython3",
   "version": "3.9.5"
  }
 },
 "nbformat": 4,
 "nbformat_minor": 5
}
