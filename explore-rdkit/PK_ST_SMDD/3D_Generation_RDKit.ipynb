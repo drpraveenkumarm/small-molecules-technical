{
 "cells": [
  {
   "cell_type": "code",
   "execution_count": null,
   "id": "6a0d12d2-48b6-4053-ad81-e876904c1064",
   "metadata": {},
   "outputs": [],
   "source": [
    "# Source https://iwatobipen.wordpress.com/2021/01/31/generate-conformers-script-with-rdkit-rdkit-chemoinformatics/"
   ]
  },
  {
   "cell_type": "code",
   "execution_count": null,
   "id": "f587a345-42b0-4e12-bf90-e5dac7e63a83",
   "metadata": {},
   "outputs": [],
   "source": [
    "import click\n",
    "from rdkit import Chem\n",
    "from rdkit.Chem import rdDistGeom\n",
    "from rdkit.Chem import AllChem\n",
    "from rdkit.Chem import rdMolAlign\n",
    " \n",
    "@click.command()\n",
    "@click.option('--input', '-i', help='inputfile MOL', required=True)\n",
    "@click.option('--output', '-o', help='output file path', default='gen_confs.sdf')\n",
    "@click.option('--prunermsthresh', '-t', default=0.1, type=float, help='Retain only the conformations out of ‘numConfs’')\n",
    "@click.option('--numconf', default=50, type=int)\n",
    "@click.option('--add_ref', '-r', default=False, type=bool)\n",
    "def confgen(input, output, prunermsthresh, numconf, add_ref):\n",
    "    mol = Chem.AddHs(Chem.MolFromMolFile(input), addCoords=True)\n",
    "    refmol = Chem.AddHs(Chem.Mol(mol))\n",
    "    param = rdDistGeom.ETKDGv2()\n",
    "    param.pruneRmsThresh = prunermsthresh\n",
    "    cids = rdDistGeom.EmbedMultipleConfs(mol, numconf, param)\n",
    "    mp = AllChem.MMFFGetMoleculeProperties(mol, mmffVariant='MMFF94s')\n",
    "    AllChem.MMFFOptimizeMoleculeConfs(mol, numThreads=0, mmffVariant='MMFF94s')\n",
    "    w = Chem.SDWriter(output)\n",
    "    if add_ref:\n",
    "        refmol.SetProp('CID', '-1')\n",
    "        refmol.SetProp('Energy', '')\n",
    "        w.write(refmol)\n",
    "    res = []\n",
    " \n",
    "    for cid in cids:\n",
    "        ff = AllChem.MMFFGetMoleculeForceField(mol, mp, confId=cid)\n",
    "        e = ff.CalcEnergy()\n",
    "        res.append((cid, e))\n",
    "    sorted_res = sorted(res, key=lambda x:x[1])\n",
    "    rdMolAlign.AlignMolConformers(mol)\n",
    "    for cid, e in sorted_res:\n",
    "        mol.SetProp('CID', str(cid))\n",
    "        mol.SetProp('Energy', str(e))\n",
    "        w.write(mol, confId=cid)\n",
    "    w.close()\n",
    " \n",
    "if __name__=='__main__':\n",
    "    confgen()"
   ]
  },
  {
   "cell_type": "code",
   "execution_count": null,
   "id": "0b1b8307-310e-4aae-b6c7-c3a9cf84d186",
   "metadata": {},
   "outputs": [],
   "source": [
    "import click\n",
    "from rdkit import Chem\n",
    "from rdkit.Chem import rdDistGeom\n",
    "from rdkit.Chem import AllChem\n",
    "from rdkit.Chem import rdMolAlign\n",
    "\n",
    "def confgen(input, output, prunermsthresh, numconf):\n",
    "    mol = Chem.AddHs(Chem.MolFromMolFile(input), addCoords=True)\n",
    "    refmol = Chem.AddHs(Chem.Mol(mol))\n",
    "    param = rdDistGeom.ETKDGv2()\n",
    "    param.pruneRmsThresh = prunermsthresh\n",
    "    cids = rdDistGeom.EmbedMultipleConfs(mol, numconf, param)\n",
    "    mp = AllChem.MMFFGetMoleculeProperties(mol, mmffVariant='MMFF94s')\n",
    "    AllChem.MMFFOptimizeMoleculeConfs(mol, numThreads=0, mmffVariant='MMFF94s')\n",
    "    w = Chem.SDWriter(output)\n",
    "    #if add_ref:\n",
    "    #    refmol.SetProp('CID', '-1')\n",
    "    #    refmol.SetProp('Energy', '')\n",
    "    #    w.write(refmol)\n",
    "    res = []\n",
    " \n",
    "    for cid in cids:\n",
    "        ff = AllChem.MMFFGetMoleculeForceField(mol, mp, confId=cid)\n",
    "        e = ff.CalcEnergy()\n",
    "        res.append((cid, e))\n",
    "    sorted_res = sorted(res, key=lambda x:x[1])\n",
    "    rdMolAlign.AlignMolConformers(mol)\n",
    "    for cid, e in sorted_res:\n",
    "        mol.SetProp('CID', str(cid))\n",
    "        mol.SetProp('Energy', str(e))\n",
    "        w.write(mol, confId=cid)\n",
    "    w.close()\n"
   ]
  },
  {
   "cell_type": "code",
   "execution_count": null,
   "id": "5708bf33-a006-4e52-be17-b2c5e894bf83",
   "metadata": {},
   "outputs": [],
   "source": [
    "confgen(input = \"/data/DrugDiscoveryGroup/shared/mayachemtools/data/Structure2D_CID_5291.sdf\",output = \"/data/DrugDiscoveryGroup/shared/explore-rdkit/Structure3D_CID_5291.sdf\",prunermsthresh = 5,numconf = 10)"
   ]
  },
  {
   "cell_type": "raw",
   "id": "0d7e2aa6-1485-4842-a62c-d177cd8ac59a",
   "metadata": {},
   "source": [
    "Source: https://iwatobipen.wordpress.com/2019/01/14/visualize-pharmacophore-with-rdkit-rdkit-pymol-chemoinformatics/"
   ]
  },
  {
   "cell_type": "code",
   "execution_count": null,
   "id": "df0895d2-adfc-493d-96ff-42adb0bcd18a",
   "metadata": {},
   "outputs": [],
   "source": [
    "from Ipython import display"
   ]
  },
  {
   "cell_type": "code",
   "execution_count": null,
   "id": "e6ac201c-4441-4f51-8b83-2c435bdb32b4",
   "metadata": {},
   "outputs": [],
   "source": [
    "from rdkit import Chem\n",
    "from rdkit import RDConfig\n",
    "from rdkit.Chem import AllChem\n",
    "from rdkit.Chem import rdMolAlign\n",
    "from rdkit.Chem import rdShapeHelpers\n",
    "from rdkit.Chem import rdMolDescriptors\n",
    "from rdkit.Chem import Draw\n",
    "from rdkit.Chem.Draw import IPythonConsole"
   ]
  },
  {
   "cell_type": "code",
   "execution_count": null,
   "id": "e4de4475-efa8-4846-8dbd-136da8defea9",
   "metadata": {},
   "outputs": [],
   "source": [
    "import os\n",
    "import subprocess\n",
    "import copy\n",
    "import pprint"
   ]
  },
  {
   "cell_type": "code",
   "execution_count": null,
   "id": "1147de49-f63c-41de-9bca-f3a8a34e2caa",
   "metadata": {},
   "outputs": [],
   "source": [
    "mols = Chem.SDMolSupplier(\"/data/DrugDiscoveryGroup/shared/mayachemtools/data/Sample.sdf\",removeHs = False)"
   ]
  },
  {
   "cell_type": "code",
   "execution_count": null,
   "id": "0e2f34a3-8df4-41f9-b534-dee2dbcd64f9",
   "metadata": {},
   "outputs": [],
   "source": [
    "cdk2mols = [m for m in mols]\n",
    "cdk2mols = [Chem.AddHs(m) for m in cdk2mol]"
   ]
  },
  {
   "cell_type": "code",
   "execution_count": null,
   "id": "ad02cb1e-db63-4125-a6b2-938f1cbcda4e",
   "metadata": {},
   "outputs": [],
   "source": [
    "for m in cdk2mols:\n",
    "    AllChem.EmbedMolecule(m, AllChem.ETKDGv2())"
   ]
  },
  {
   "cell_type": "code",
   "execution_count": null,
   "id": "c83589e7-3458-4256-9746-b8863058ad0d",
   "metadata": {},
   "outputs": [],
   "source": [
    "cdk2mols2 = copy.deepcopy(cdk2mols)"
   ]
  },
  {
   "cell_type": "code",
   "execution_count": null,
   "id": "b94fa9ec-f434-4df0-ab12-dc257bb1ccaf",
   "metadata": {},
   "outputs": [],
   "source": [
    "crippen_contribs = [rdMolDescriptors._CalcCrippenContribs(mol) for mol in cdk2mols2]"
   ]
  },
  {
   "cell_type": "code",
   "execution_count": null,
   "id": "e61c225d-6469-4405-8701-b4bd5e3f4722",
   "metadata": {},
   "outputs": [],
   "source": [
    "ref = cdk2mols2[0]"
   ]
  },
  {
   "cell_type": "code",
   "execution_count": null,
   "id": "0e1f1803-963a-477b-b0a7-62966cd1a2a6",
   "metadata": {},
   "outputs": [],
   "source": [
    "ref"
   ]
  },
  {
   "cell_type": "code",
   "execution_count": null,
   "id": "0bd9db28-a2ec-4851-87d4-e87f6ed5be49",
   "metadata": {},
   "outputs": [],
   "source": [
    "targets = cdk2mols2[1]"
   ]
  },
  {
   "cell_type": "code",
   "execution_count": null,
   "id": "a03291ce-d211-4b0d-8078-819ce5ec0fb3",
   "metadata": {},
   "outputs": [],
   "source": [
    "targets_contrib = crippen_contribs[1]"
   ]
  },
  {
   "cell_type": "code",
   "execution_count": null,
   "id": "167cf22a-d908-4b79-8741-ce1f8f79feda",
   "metadata": {},
   "outputs": [],
   "source": [
    "ref_contrib = crippen_contribs[0]"
   ]
  },
  {
   "cell_type": "code",
   "execution_count": null,
   "id": "642d1f6a-0b56-4b0e-baaa-3ab7eb980bc1",
   "metadata": {},
   "outputs": [],
   "source": [
    "for i, target in enumerate(targets):\n",
    "    crippen03A = rdMolAlign.GetCrippenO3A(target, ref,targets_contrib[i],ref_contrib)\n",
    "    crippen03A.Align()"
   ]
  },
  {
   "cell_type": "code",
   "execution_count": null,
   "id": "9b12e0fb-58ba-48bc-9e50-1eb4709d0642",
   "metadata": {},
   "outputs": [],
   "source": [
    "w = Chem.SDWriter(\"./align_sdk2.sdf\")\n",
    "w.write(ref)\n",
    "for mol in targets:\n",
    "    w.write(mol)\n",
    "w.close()"
   ]
  },
  {
   "cell_type": "code",
   "execution_count": null,
   "id": "eb7c2146-a155-42e4-a5b0-57439f1f8185",
   "metadata": {},
   "outputs": [],
   "source": [
    "crippen03A = rdMolAlign.GetCrippenO3A(target, ref,targets_contrib[i,ref_contrib)\n",
    "crippen03A.Align()"
   ]
  },
  {
   "cell_type": "code",
   "execution_count": null,
   "id": "8cfa2950-6090-41a7-949d-a655e43e66ae",
   "metadata": {},
   "outputs": [],
   "source": []
  }
 ],
 "metadata": {
  "kernelspec": {
   "display_name": "Python 3",
   "language": "python",
   "name": "python3"
  },
  "language_info": {
   "codemirror_mode": {
    "name": "ipython",
    "version": 3
   },
   "file_extension": ".py",
   "mimetype": "text/x-python",
   "name": "python",
   "nbconvert_exporter": "python",
   "pygments_lexer": "ipython3",
   "version": "3.9.5"
  }
 },
 "nbformat": 4,
 "nbformat_minor": 5
}
