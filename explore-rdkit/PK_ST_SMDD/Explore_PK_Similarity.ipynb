{
 "cells": [
  {
   "cell_type": "code",
   "execution_count": null,
   "id": "828f27fe-cce7-4c2f-8095-d4b3b4e4194f",
   "metadata": {},
   "outputs": [],
   "source": [
    "from rdkit import *"
   ]
  },
  {
   "cell_type": "code",
   "execution_count": null,
   "id": "48c5b7ae-6dac-4b5a-bb4c-c2a94cd01b6d",
   "metadata": {},
   "outputs": [],
   "source": [
    "from rdkit import Chem,DataStructs\n",
    "mol1 = Chem.MolFromSmiles(\"CC#C[C@@]1(CC[C@@H]2[C@@]1(C[C@@H](C3=C4CCC(=O)C=C4CC[C@@H]23)C5=CC=C(C=C5)N(C)C)C)O\")\n",
    "mol2 = Chem.MolFromSmiles(\"C/C=C\\[C@@]1(CC[C@@H]2[C@@]1(C[C@@H](C3=C4CCC(=O)C=C4CC[C@@H]23)C5=CC=C(C=C5)N(C)C)C)O\")\n",
    "\n",
    "# the default fingerprint is path-based:\n",
    "fp1 = Chem.RDKFingerprint(mol1)\n",
    "fp2 = Chem.RDKFingerprint(mol2)\n",
    "print(\"RDK fingerprint: \",DataStructs.TanimotoSimilarity(fp1,fp2))\n",
    "\n",
    "# the Morgan fingerprint (similar to ECFP) is also useful:\n",
    "from rdkit.Chem import rdMolDescriptors\n",
    "mfp1 = rdMolDescriptors.GetMorganFingerprint(mol1,2)\n",
    "mfp2 = rdMolDescriptors.GetMorganFingerprint(mol2,2)\n",
    "print(\"Morgan fingerprint: \",DataStructs.DiceSimilarity(mfp1,mfp2))"
   ]
  },
  {
   "cell_type": "code",
   "execution_count": null,
   "id": "a85b0486-7ca8-482d-8bba-f0937c4f44fc",
   "metadata": {},
   "outputs": [],
   "source": [
    "from rdkit import Chem,DataStructs\n",
    "mol1 = Chem.MolFromSmiles(\"CC#CC1(CCC2C1(CC(C3=C4CCC(=O)C=C4CCC23)C5=CC=C(C=C5)N(C)C)C)O\")\n",
    "mol2 = Chem.MolFromSmiles(\"CC=CC1(CCC2C1(CC(C3=C4CCC(=O)C=C4CCC23)C5=CC=C(C=C5)N(C)C)C)O\")\n",
    "\n",
    "# the default fingerprint is path-based:\n",
    "fp1 = Chem.RDKFingerprint(mol1)\n",
    "fp2 = Chem.RDKFingerprint(mol2)\n",
    "print(\"RDK fingerprint: \",DataStructs.TanimotoSimilarity(fp1,fp2))\n",
    "\n",
    "# the Morgan fingerprint (similar to ECFP) is also useful:\n",
    "from rdkit.Chem import rdMolDescriptors\n",
    "mfp1 = rdMolDescriptors.GetMorganFingerprint(mol1,2)\n",
    "mfp2 = rdMolDescriptors.GetMorganFingerprint(mol2,2)\n",
    "print(\"Morgan fingerprint: \",DataStructs.DiceSimilarity(mfp1,mfp2))"
   ]
  },
  {
   "cell_type": "code",
   "execution_count": null,
   "id": "c679644d-8f59-4f51-a4c5-d373a0544599",
   "metadata": {},
   "outputs": [],
   "source": [
    "imatinib = Chem.MolFromSmiles(\"CC1=C(C=C(C=C1)NC(=O)C2=CC=C(C=C2)CN3CCN(CC3)C)NC4=NC=CC(=N4)C5=CN=CC=C5\")\n",
    "dasatinib = Chem.MolFromSmiles(\"CC1=C(C(=CC=C1)Cl)NC(=O)C2=CN=C(S2)NC3=CC(=NC(=N3)C)N4CCN(CC4)CCO\")\n",
    "fp_imatinib = Chem.RDKFingerprint(imatinib)\n",
    "fp_dasatinib = Chem.RDKFingerprint(dasatinib)\n",
    "print(\"RDK Fingerprint\", round(DataStructs.TanimotoSimilarity(fp_imatinib,fp_dasatinib),2))"
   ]
  },
  {
   "cell_type": "code",
   "execution_count": null,
   "id": "3bcf7ee8-844c-4dd4-ab20-bdf13ddb5892",
   "metadata": {},
   "outputs": [],
   "source": [
    "def tanimoto_calc(smi1, smi2):\n",
    "    mol1 = Chem.MolFromSmiles(smi1)\n",
    "    mol2 = Chem.MolFromSmiles(smi2)\n",
    "    fp1 = AllChem.GetMorganFingerprintAsBitVect(mol1, 3, nBits=2048)\n",
    "    fp2 = AllChem.GetMorganFingerprintAsBitVect(mol2, 3, nBits=2048)\n",
    "    s = round(DataStructs.TanimotoSimilarity(fp1,fp2),3)\n",
    "    return s"
   ]
  },
  {
   "cell_type": "code",
   "execution_count": null,
   "id": "9ca8088c-7c48-4b6c-a6ab-de5c8c717c62",
   "metadata": {},
   "outputs": [],
   "source": [
    "tanimoto_calc(smi1=\"CC1=C(C=C(C=C1)NC(=O)C2=CC=C(C=C2)CN3CCN(CC3)C)NC4=NC=CC(=N4)C5=CN=CC=C5\",smi2=\"CC1=C(C(=CC=C1)Cl)NC(=O)C2=CN=C(S2)NC3=CC(=NC(=N3)C)N4CCN(CC4)CCO\")"
   ]
  },
  {
   "cell_type": "code",
   "execution_count": null,
   "id": "9d5b66b3-cdbd-474d-8ae3-893721270a6e",
   "metadata": {},
   "outputs": [],
   "source": [
    "mol1 = Chem.MolFromSmiles(imatinib)"
   ]
  },
  {
   "cell_type": "code",
   "execution_count": null,
   "id": "91109c09-9e9e-4db6-9142-516be00235c0",
   "metadata": {},
   "outputs": [],
   "source": [
    "from rdkit import Chem\n",
    "from rdkit.Chem import AllChem\n",
    "from rdkit import DataStructs"
   ]
  }
 ],
 "metadata": {
  "kernelspec": {
   "display_name": "Python 3",
   "language": "python",
   "name": "python3"
  },
  "language_info": {
   "codemirror_mode": {
    "name": "ipython",
    "version": 3
   },
   "file_extension": ".py",
   "mimetype": "text/x-python",
   "name": "python",
   "nbconvert_exporter": "python",
   "pygments_lexer": "ipython3",
   "version": "3.9.5"
  }
 },
 "nbformat": 4,
 "nbformat_minor": 5
}
