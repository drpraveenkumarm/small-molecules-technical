{
 "cells": [
  {
   "cell_type": "code",
   "execution_count": null,
   "id": "233ecc13-2927-4118-8d0f-d0f0ff6e4ded",
   "metadata": {},
   "outputs": [],
   "source": [
    "from rdkit import Chem\n",
    "from rdkit.Chem import rdMolHash\n",
    "import rdkit"
   ]
  },
  {
   "cell_type": "raw",
   "id": "16deae12-bbb1-4bc6-b4cd-9f41cc764f3a",
   "metadata": {},
   "source": [
    "Source: http://rdkit.org/docs/Cookbook.html#d-functionality-in-the-rdkit"
   ]
  },
  {
   "cell_type": "code",
   "execution_count": null,
   "id": "76fe87e5-6595-48b7-82ce-a6761a095d75",
   "metadata": {},
   "outputs": [],
   "source": [
    "s = Chem.MolFromSmiles('CC(C(C1=CC(=C(C=C1)O)O)O)N(C)C(=O)OCC2=CC=CC=C2')"
   ]
  },
  {
   "cell_type": "code",
   "execution_count": null,
   "id": "6835c68d-a923-43b0-978f-65c3ea6fa700",
   "metadata": {},
   "outputs": [],
   "source": [
    "s"
   ]
  },
  {
   "cell_type": "code",
   "execution_count": null,
   "id": "f246f5ca-abd5-4bfc-8aaf-5db49fc26ebc",
   "metadata": {},
   "outputs": [],
   "source": [
    "molhasf = rdMolHash.HashFunction.names"
   ]
  },
  {
   "cell_type": "code",
   "execution_count": null,
   "id": "ae06fd19-7f7a-4700-973c-38a3f4c16d53",
   "metadata": {},
   "outputs": [],
   "source": [
    "print(molhasf)"
   ]
  },
  {
   "cell_type": "code",
   "execution_count": null,
   "id": "01afd5ad-861b-4ebf-a577-63fe5a6b1eb4",
   "metadata": {},
   "outputs": [],
   "source": [
    "for i, j in molhasf.items():\n",
    "    print(i, rdMolHash.MolHash(s,j))"
   ]
  },
  {
   "cell_type": "code",
   "execution_count": null,
   "id": "7b3985bc-10e0-4d73-908b-0e104a0dfc81",
   "metadata": {},
   "outputs": [],
   "source": [
    "# Murcko Scaffold Hashes (from slide 16 in [ref2])\n",
    "# Create a list of SMILES\n",
    "mList = ['CCC1CC(CCC1=O)C(=O)C1=CC=CC(C)=C1','CCC1CC(CCC1=O)C(=O)C1=CC=CC=C1',\\\n",
    "         'CC(=C)C(C1=CC=CC=C1)S(=O)CC(N)=O','CC1=CC(=CC=C1)C(C1CCC(N)CC1)C(F)(F)F',\\\n",
    "         'CNC1CCC(C2=CC(Cl)=C(Cl)C=C2)C2=CC=CC=C12','CCCOC(C1CCCCC1)C1=CC=C(Cl)C=C1']"
   ]
  },
  {
   "cell_type": "code",
   "execution_count": null,
   "id": "13515020-bcad-4006-b00b-985e618ef5b0",
   "metadata": {},
   "outputs": [],
   "source": [
    "mList"
   ]
  },
  {
   "cell_type": "code",
   "execution_count": null,
   "id": "48193f82-c760-4707-94c1-11c7b1963f18",
   "metadata": {},
   "outputs": [],
   "source": [
    "mMols = [Chem.MolFromSmiles(m) for m in mList]"
   ]
  },
  {
   "cell_type": "code",
   "execution_count": null,
   "id": "2b66afde-1c34-4e93-b179-28704b6d629f",
   "metadata": {},
   "outputs": [],
   "source": [
    "mMols"
   ]
  },
  {
   "cell_type": "code",
   "execution_count": null,
   "id": "c1dbd767-6f60-47ba-b538-f4bb8e72cc26",
   "metadata": {},
   "outputs": [],
   "source": [
    "murckoHashList = [rdMolHash.MolHash(mMol, rdkit.Chem.rdMolHash.HashFunction.MurckoScaffold) for mMol in mMols]"
   ]
  },
  {
   "cell_type": "code",
   "execution_count": null,
   "id": "640575be-f536-4e69-ba3f-b74071b49fcf",
   "metadata": {},
   "outputs": [],
   "source": [
    "def mostFreq(list):\n",
    "    return max(set(list),key = list.count)\n",
    "    "
   ]
  },
  {
   "cell_type": "code",
   "execution_count": null,
   "id": "51b59645-9bf6-4603-a1b4-95e6224de154",
   "metadata": {},
   "outputs": [],
   "source": [
    "mostFreq_murckoHash = mostFreq(murckoHashList)"
   ]
  },
  {
   "cell_type": "code",
   "execution_count": null,
   "id": "71f27c44-2a06-4597-9e5a-827302a55601",
   "metadata": {},
   "outputs": [],
   "source": [
    "mostFreq_murckoHash_mol = Chem.MolFromSmiles(mostFreq_murckoHash)"
   ]
  },
  {
   "cell_type": "code",
   "execution_count": null,
   "id": "e92fc314-117e-4c60-b438-82413dc15402",
   "metadata": {},
   "outputs": [],
   "source": [
    "mostFreq_murckoHash_mol"
   ]
  },
  {
   "cell_type": "code",
   "execution_count": null,
   "id": "b1da8136-a132-46be-863c-7898343e6526",
   "metadata": {},
   "outputs": [],
   "source": [
    "highlight_mostFreq_murckoHash = [mMol.GetSubstructMatch(mostFreq_murckoHash_mol) for mMol in mMols]"
   ]
  },
  {
   "cell_type": "code",
   "execution_count": null,
   "id": "9889aa11-4101-4077-8831-814f17a82a0f",
   "metadata": {},
   "outputs": [],
   "source": [
    "from rdkit.Chem import Draw"
   ]
  },
  {
   "cell_type": "code",
   "execution_count": null,
   "id": "18e6ba86-889c-409f-9537-f01ee531a8a2",
   "metadata": {},
   "outputs": [],
   "source": [
    "Draw.MolsToGridImage(mMols, legends = [murckoHash for murckoHash in murckoHashList],\n",
    "                    highlightAtomLists = highlight_mostFreq_murckoHash, subImgSize = (250,250), useSVG = False)"
   ]
  },
  {
   "cell_type": "raw",
   "id": "d9ddcb55-006b-43fa-936b-3e7f7b252ede",
   "metadata": {},
   "source": [
    "Source: https://www.rdkit.org/docs/source/rdkit.Chem.MCS.html"
   ]
  },
  {
   "cell_type": "code",
   "execution_count": null,
   "id": "9d12196f-5234-4dbd-9790-4e77064344d9",
   "metadata": {},
   "outputs": [],
   "source": [
    "from rdkit import Chem\n",
    "from rdkit.Chem import rdFMCS"
   ]
  },
  {
   "cell_type": "code",
   "execution_count": null,
   "id": "0376e107-b4de-4bc8-9a75-f67bfe130b89",
   "metadata": {},
   "outputs": [],
   "source": [
    "mList = ['CCC1CC(CCC1=O)C(=O)C1=CC=CC(C)=C1','CCC1CC(CCC1=O)C(=O)C1=CC=CC=C1',\\\n",
    "         'CC(=C)C(C1=CC=CC=C1)S(=O)CC(N)=O','CC1=CC(=CC=C1)C(C1CCC(N)CC1)C(F)(F)F',\\\n",
    "         'CNC1CCC(C2=CC(Cl)=C(Cl)C=C2)C2=CC=CC=C12','CCCOC(C1CCCCC1)C1=CC=C(Cl)C=C1']"
   ]
  },
  {
   "cell_type": "code",
   "execution_count": null,
   "id": "1f749311-2e89-48b5-a09c-c4d4012d0cd1",
   "metadata": {},
   "outputs": [],
   "source": [
    "mMols = [Chem.MolFromSmiles(m) for m in mList]"
   ]
  },
  {
   "cell_type": "code",
   "execution_count": null,
   "id": "caee673b-b16d-499b-9b3b-de06f351df16",
   "metadata": {},
   "outputs": [],
   "source": [
    "commonMCS = rdFMCS.FindMCS(mMols)"
   ]
  },
  {
   "cell_type": "code",
   "execution_count": null,
   "id": "f859c6c5-469f-4419-a409-b709391dc73e",
   "metadata": {},
   "outputs": [],
   "source": [
    "commonMCS_Mol = Chem.MolFromSmarts(commonMCS.smartsString)"
   ]
  },
  {
   "cell_type": "code",
   "execution_count": null,
   "id": "e8f9554f-9d37-41e7-ad3a-253c29810ef2",
   "metadata": {},
   "outputs": [],
   "source": [
    "highlight_MCS = [mMol.GetSubstructMatch(commonMCS_Mol) for mMol in mMols]"
   ]
  },
  {
   "cell_type": "code",
   "execution_count": null,
   "id": "f2247a87-27ef-4a50-86a8-f2280df63ef2",
   "metadata": {},
   "outputs": [],
   "source": [
    "Draw.MolsToGridImage(mMols,\n",
    "                    highlightAtomLists = highlight_MCS, subImgSize = (250,250), useSVG = False)"
   ]
  },
  {
   "cell_type": "code",
   "execution_count": null,
   "id": "8e6ce051-f543-4b82-8385-7fde88f9213a",
   "metadata": {},
   "outputs": [],
   "source": [
    "Extended_murckoHashList = [rdMolHash.MolHash(mMol, rdkit.Chem.rdMolHash.HashFunction.ExtendedMurcko) for mMol in mMols]\n",
    "mostFreq_Extended_murckoHash = mostFreq(Extended_murckoHashList)\n",
    "mostFreq_Extended_murckoHash_mol = Chem.MolFromSmiles(mostFreq_murckoHash)\n",
    "mostFreq_Extended_murckoHash_mol\n",
    "highlight_mostFreq_Extended_murckoHash = [mMol.GetSubstructMatch(mostFreq_Extended_murckoHash_mol) for mMol in mMols]\n",
    "Draw.MolsToGridImage(mMols, legends = [murckoHash for murckoHash in Extended_murckoHashList],\n",
    "                    highlightAtomLists = highlight_mostFreq_Extended_murckoHash, subImgSize = (250,250), useSVG = False)"
   ]
  },
  {
   "cell_type": "code",
   "execution_count": null,
   "id": "9b3e60a7-5a2c-49c0-9737-6ff6b6c3db08",
   "metadata": {},
   "outputs": [],
   "source": [
    "#This is leading to error.\n",
    "#MesomerHashList = [rdMolHash.MolHash(mMol, rdkit.Chem.rdMolHash.HashFunction.Mesomer) for mMol in mMols]\n",
    "#mostFreq_MesomerHash = mostFreq(MesomerHashList)\n",
    "#mostFreq_MesomerHash_mol = Chem.MolFromSmiles(mostFreq_MesomerHash)\n",
    "#mostFreq_MesomerHash_mol\n",
    "#highlight_mostFreq_MesomerHash = [mMol.GetSubstructMatch(mostFreq_MesomerHash_mol) for mMol in mMols]\n",
    "#Draw.MolsToGridImage(mMols, legends = [mesomer for mesomer in MesomerHashList],\n",
    "#                    highlightAtomLists = highlight_mostFreq_Extended_murckoHash, subImgSize = (250,250), useSVG = False)"
   ]
  },
  {
   "cell_type": "raw",
   "id": "714c1f61-296f-41ee-b264-6dbab17f5036",
   "metadata": {},
   "source": [
    "notes source: http://www.dalkescientific.com/writings/diary/archive/2012/05/13/fmcs.html"
   ]
  },
  {
   "cell_type": "code",
   "execution_count": null,
   "id": "6fd0093b-0ecc-4578-8a37-828d7d2030bb",
   "metadata": {},
   "outputs": [],
   "source": []
  }
 ],
 "metadata": {
  "kernelspec": {
   "display_name": "Python 3",
   "language": "python",
   "name": "python3"
  },
  "language_info": {
   "codemirror_mode": {
    "name": "ipython",
    "version": 3
   },
   "file_extension": ".py",
   "mimetype": "text/x-python",
   "name": "python",
   "nbconvert_exporter": "python",
   "pygments_lexer": "ipython3",
   "version": "3.9.5"
  }
 },
 "nbformat": 4,
 "nbformat_minor": 5
}
