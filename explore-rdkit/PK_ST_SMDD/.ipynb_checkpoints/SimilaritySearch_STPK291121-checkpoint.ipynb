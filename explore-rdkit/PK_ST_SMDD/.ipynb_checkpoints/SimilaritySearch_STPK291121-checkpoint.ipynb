{
 "cells": [
  {
   "cell_type": "code",
   "execution_count": null,
   "id": "4f976833-2100-4072-8a23-26a10fac6e23",
   "metadata": {},
   "outputs": [],
   "source": [
    "from rdkit import Chem\n",
    "mol = Chem.MolFromSmiles('COc1cccc2cc(C(=O)NCCCCN3CCN(c4cccc5nccnc54)CC3)oc21')\n",
    "refmol = Chem.MolFromSmiles('CCCN(CCCCN1CCN(c2ccccc2OC)CC1)Cc1ccc2ccccc2c1')"
   ]
  },
  {
   "cell_type": "code",
   "execution_count": null,
   "id": "dd2d9b78-d025-4392-8ad2-9b5cb0adf0ad",
   "metadata": {},
   "outputs": [],
   "source": [
    "from rdkit.Chem import Draw\n",
    "from rdkit.Chem.Draw import SimilarityMaps\n",
    "fp = SimilarityMaps.GetAPFingerprint(mol, fpType='normal')\n",
    "fp = SimilarityMaps.GetTTFingerprint(mol, fpType='normal')\n",
    "fp = SimilarityMaps.GetMorganFingerprint(mol, fpType='bv')"
   ]
  },
  {
   "cell_type": "code",
   "execution_count": null,
   "id": "27197365-e2ba-4594-a674-b9fa99017deb",
   "metadata": {},
   "outputs": [],
   "source": [
    "fig, maxweight = SimilarityMaps.GetSimilarityMapForFingerprint(refmol, mol, SimilarityMaps.GetMorganFingerprint)"
   ]
  },
  {
   "cell_type": "code",
   "execution_count": null,
   "id": "c66faf41-8b54-4db9-89de-dfcd58e81f3c",
   "metadata": {},
   "outputs": [],
   "source": [
    "from rdkit.Chem import MACCSkeys\n",
    "ms = [Chem.MolFromSmiles('CCOC'), Chem.MolFromSmiles('CCO'),\n",
    "      Chem.MolFromSmiles('COC')]\n",
    "fps = [MACCSkeys.GenMACCSKeys(x) for x in ms]\n",
    "from rdkit import DataStructs\n",
    "DataStructs.FingerprintSimilarity(fps[0],fps[1])"
   ]
  },
  {
   "cell_type": "code",
   "execution_count": null,
   "id": "519ca649-eb58-4e23-bbdd-4e9d00855e97",
   "metadata": {},
   "outputs": [],
   "source": [
    "DataStructs.FingerprintSimilarity(fps[0],fps[2])"
   ]
  },
  {
   "cell_type": "code",
   "execution_count": null,
   "id": "cbe105b6-5ce6-4360-a068-b6e30579b5f7",
   "metadata": {},
   "outputs": [],
   "source": [
    "DataStructs.FingerprintSimilarity(fps[1],fps[2])"
   ]
  },
  {
   "cell_type": "code",
   "execution_count": null,
   "id": "4831aa7d-2064-4d61-b2b5-2509c2274f59",
   "metadata": {},
   "outputs": [],
   "source": [
    "DataStructs.FingerprintSimilarity(fps[0],fps[1], metric=DataStructs.DiceSimilarity)"
   ]
  },
  {
   "cell_type": "code",
   "execution_count": null,
   "id": "0cf30d77-b0de-4daa-8d66-c0a0a4b2be24",
   "metadata": {},
   "outputs": [],
   "source": [
    "DataStructs.FingerprintSimilarity(fps[0],fps[1], metric=DataStructs.CosineSimilarity)"
   ]
  },
  {
   "cell_type": "code",
   "execution_count": null,
   "id": "e75432b8-db79-4d90-b5ac-300fa52efb97",
   "metadata": {},
   "outputs": [],
   "source": [
    "DataStructs.FingerprintSimilarity(fps[0],fps[1], metric=DataStructs.RusselSimilarity)"
   ]
  },
  {
   "cell_type": "code",
   "execution_count": null,
   "id": "f5552731-a399-48cc-b9fd-cee72848ffb2",
   "metadata": {},
   "outputs": [],
   "source": [
    "DataStructs.FingerprintSimilarity(fps[0],fps[1], metric=DataStructs.McConnaugheySimilarity)"
   ]
  },
  {
   "cell_type": "code",
   "execution_count": null,
   "id": "793721a4-5637-4260-92f4-754b26c7f296",
   "metadata": {},
   "outputs": [],
   "source": [
    "DataStructs.FingerprintSimilarity(fps[0],fps[1], metric=DataStructs.TanimotoSimilarity)"
   ]
  },
  {
   "cell_type": "code",
   "execution_count": null,
   "id": "043191a8-7bfd-4441-a34c-81021c23bd90",
   "metadata": {},
   "outputs": [],
   "source": [
    "from rdkit.Chem.AtomPairs import Pairs\n",
    "ms = [Chem.MolFromSmiles('C1CCC1OCC'),Chem.MolFromSmiles('CC(C)OCC'),Chem.MolFromSmiles('CCOCC')]\n",
    "pairFps = [Pairs.GetAtomPairFingerprint(x) for x in ms]"
   ]
  },
  {
   "cell_type": "code",
   "execution_count": null,
   "id": "f64a8981-ecfb-4326-a359-c8bf8d2cc34f",
   "metadata": {},
   "outputs": [],
   "source": [
    "pairFps"
   ]
  },
  {
   "cell_type": "code",
   "execution_count": null,
   "id": "f159a1f9-a691-4203-a9d1-e71d02ac980f",
   "metadata": {},
   "outputs": [],
   "source": [
    "d = pairFps[-1].GetNonzeroElements()\n",
    "d[541732]"
   ]
  },
  {
   "cell_type": "code",
   "execution_count": null,
   "id": "489aa6e4-a582-4033-9e22-b5322cb4b0ba",
   "metadata": {},
   "outputs": [],
   "source": [
    "d[1606690]"
   ]
  },
  {
   "cell_type": "code",
   "execution_count": null,
   "id": "9aaff4cf-7876-4fe0-a68e-04c4631d3421",
   "metadata": {},
   "outputs": [],
   "source": [
    "Pairs.ExplainPairScore(558115)\n"
   ]
  },
  {
   "cell_type": "code",
   "execution_count": null,
   "id": "f576ddaa-ac9d-41da-9f47-d9fc2699c3db",
   "metadata": {},
   "outputs": [],
   "source": [
    "from rdkit import DataStructs\n",
    "DataStructs.DiceSimilarity(pairFps[0], pairFps[1])"
   ]
  },
  {
   "cell_type": "code",
   "execution_count": null,
   "id": "ed63b5e7-7ea8-4148-b04e-ac8723bc760c",
   "metadata": {},
   "outputs": [],
   "source": [
    "DataStructs.DiceSimilarity(pairFps[0], pairFps[2])"
   ]
  },
  {
   "cell_type": "code",
   "execution_count": null,
   "id": "ff6eb086-774f-4355-8c60-2bae30921796",
   "metadata": {},
   "outputs": [],
   "source": [
    "DataStructs.DiceSimilarity(pairFps[1], pairFps[2])"
   ]
  },
  {
   "cell_type": "code",
   "execution_count": null,
   "id": "c26599ad-a5b8-41d8-abe8-011589068b81",
   "metadata": {},
   "outputs": [],
   "source": [
    "pairFps = [Pairs.GetAtomPairFingerprintAsBitVect(x) for x in ms]"
   ]
  },
  {
   "cell_type": "code",
   "execution_count": null,
   "id": "5cb34212-cd07-46f1-9503-900d7b5a0200",
   "metadata": {},
   "outputs": [],
   "source": []
  },
  {
   "cell_type": "code",
   "execution_count": null,
   "id": "32bfbc42-06c9-4b3e-8a3c-bf1b24930c19",
   "metadata": {},
   "outputs": [],
   "source": []
  },
  {
   "cell_type": "code",
   "execution_count": null,
   "id": "9ca8f6cb-f69f-46eb-ba56-42f8dcf098e7",
   "metadata": {},
   "outputs": [],
   "source": []
  },
  {
   "cell_type": "code",
   "execution_count": null,
   "id": "2a51d090-b121-49cb-95d7-cdf7c8213023",
   "metadata": {},
   "outputs": [],
   "source": []
  },
  {
   "cell_type": "code",
   "execution_count": null,
   "id": "6dba7496-0fc0-4743-b4bf-be9b4e65d955",
   "metadata": {},
   "outputs": [],
   "source": []
  }
 ],
 "metadata": {
  "kernelspec": {
   "display_name": "Python 3",
   "language": "python",
   "name": "python3"
  },
  "language_info": {
   "codemirror_mode": {
    "name": "ipython",
    "version": 3
   },
   "file_extension": ".py",
   "mimetype": "text/x-python",
   "name": "python",
   "nbconvert_exporter": "python",
   "pygments_lexer": "ipython3",
   "version": "3.9.5"
  }
 },
 "nbformat": 4,
 "nbformat_minor": 5
}
