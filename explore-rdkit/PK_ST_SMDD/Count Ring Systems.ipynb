{
 "cells": [
  {
   "cell_type": "code",
   "execution_count": null,
   "id": "b1ef904f-ed32-49fa-811d-81603a9fba2b",
   "metadata": {},
   "outputs": [],
   "source": [
    "from rdkit import Chem\n",
    "from rdkit.Chem.Draw import IPythonConsole"
   ]
  },
  {
   "cell_type": "code",
   "execution_count": null,
   "id": "9924e271-46da-4654-aff5-dd0cf18ec9dd",
   "metadata": {},
   "outputs": [],
   "source": [
    "def GetRingSystems(mol, includeSpiro=False):\n",
    "    ri = mol.GetRingInfo()\n",
    "    systems = []\n",
    "    for ring in ri.AtomRings():\n",
    "        ringAts = set(ring)\n",
    "        nSystems = []\n",
    "        for system in systems:\n",
    "            nInCommon = len(ringAts.intersection(system))\n",
    "            if nInCommon and (includeSpiro or nInCommon>1):\n",
    "                ringAts = ringAts.union(system)\n",
    "            else:\n",
    "                nSystems.append(system)\n",
    "        nSystems.append(ringAts)\n",
    "        systems = nSystems\n",
    "    return systems"
   ]
  },
  {
   "cell_type": "code",
   "execution_count": null,
   "id": "bd6c63f1-89ed-498e-8b5b-89b25fd0497f",
   "metadata": {},
   "outputs": [],
   "source": [
    "mol = Chem.MolFromSmiles('CN1C(=O)CN=C(C2=C1C=CC(=C2)Cl)C3=CC=CC=C3')\n",
    "print(GetRingSystems(mol))"
   ]
  },
  {
   "cell_type": "code",
   "execution_count": null,
   "id": "603b3a3d-032f-4815-b9fb-2d38a359de4d",
   "metadata": {},
   "outputs": [],
   "source": [
    "# Draw molecule with atom index (see RDKitCB_0)\n",
    "def mol_with_atom_index(mol):\n",
    "    for atom in mol.GetAtoms():\n",
    "        atom.SetAtomMapNum(atom.GetIdx())\n",
    "    return mol\n",
    "mol_with_atom_index(mol)"
   ]
  }
 ],
 "metadata": {
  "kernelspec": {
   "display_name": "Python 3",
   "language": "python",
   "name": "python3"
  },
  "language_info": {
   "codemirror_mode": {
    "name": "ipython",
    "version": 3
   },
   "file_extension": ".py",
   "mimetype": "text/x-python",
   "name": "python",
   "nbconvert_exporter": "python",
   "pygments_lexer": "ipython3",
   "version": "3.9.5"
  }
 },
 "nbformat": 4,
 "nbformat_minor": 5
}
