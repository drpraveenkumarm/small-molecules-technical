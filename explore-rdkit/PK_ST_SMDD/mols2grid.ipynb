{
 "cells": [
  {
   "cell_type": "code",
   "execution_count": null,
   "id": "0497b008-f4b7-42ba-b1fd-c73e28afc925",
   "metadata": {},
   "outputs": [],
   "source": [
    "import mols2grid\n",
    "import pandas as pd\n",
    "from rdkit import Chem\n",
    "from rdkit.Chem import Descriptors"
   ]
  },
  {
   "cell_type": "code",
   "execution_count": null,
   "id": "e1f1ad3e-63c3-41ed-8c90-d76c233872a3",
   "metadata": {},
   "outputs": [],
   "source": [
    "df = pd.read_table(\"data/structures.smiles.tsv\")"
   ]
  },
  {
   "cell_type": "code",
   "execution_count": null,
   "id": "090b792b-ea0d-418a-9682-de3ee180ab66",
   "metadata": {},
   "outputs": [],
   "source": [
    "df"
   ]
  },
  {
   "cell_type": "code",
   "execution_count": null,
   "id": "02986ffe-a339-410a-a8a9-21800a2bf75c",
   "metadata": {},
   "outputs": [],
   "source": [
    "df[\"mol\"] = df[\"SMILES\"].apply(Chem.MolFromSmiles)"
   ]
  },
  {
   "cell_type": "code",
   "execution_count": null,
   "id": "10132337-3d85-4414-b493-030e31b87e7d",
   "metadata": {},
   "outputs": [],
   "source": [
    "df[\"MolWt\"] = df[\"mol\"].apply(Descriptors.ExactMolWt)"
   ]
  },
  {
   "cell_type": "code",
   "execution_count": null,
   "id": "16327250-ae25-40a5-8a78-0b369c557e67",
   "metadata": {},
   "outputs": [],
   "source": [
    "df[\"LogP\"] = df[\"mol\"].apply(Descriptors.MolLogP)"
   ]
  },
  {
   "cell_type": "code",
   "execution_count": null,
   "id": "4fba8135-5aaf-42e7-921b-26aa00471fef",
   "metadata": {},
   "outputs": [],
   "source": [
    "df[\"NumHDonors\"] = df[\"mol\"].apply(Descriptors.NumHDonors)"
   ]
  },
  {
   "cell_type": "code",
   "execution_count": null,
   "id": "bd96b35e-d501-4c35-a209-2715ca25d9c4",
   "metadata": {},
   "outputs": [],
   "source": [
    "df[\"NumHAcceptors\"] = df[\"mol\"].apply(Descriptors.NumHAcceptors)"
   ]
  },
  {
   "cell_type": "code",
   "execution_count": null,
   "id": "0e11cb42-9cd1-4965-9560-1983dfd42d6a",
   "metadata": {},
   "outputs": [],
   "source": [
    "df.drop(columns=[\"mol\"],inplace=True)"
   ]
  },
  {
   "cell_type": "code",
   "execution_count": null,
   "id": "e97b74a0-68b7-48ec-8ac4-6c5170484ed6",
   "metadata": {},
   "outputs": [],
   "source": [
    "df.rename(columns={\"INN\":\"Name\",\"CAS_RN\":\"CAS\"},inplace=True)"
   ]
  },
  {
   "cell_type": "code",
   "execution_count": null,
   "id": "2f7bfb48-2564-4495-8f08-d9d476aa8037",
   "metadata": {},
   "outputs": [],
   "source": [
    "print(f\"{ len(df)} molecules read\")"
   ]
  },
  {
   "cell_type": "code",
   "execution_count": null,
   "id": "f313b00f-dc97-4888-8bf0-ceb161ce836d",
   "metadata": {},
   "outputs": [],
   "source": [
    "df.head()"
   ]
  },
  {
   "cell_type": "code",
   "execution_count": null,
   "id": "e3d7074e-9eeb-4ea5-9219-1e573a4f6bfd",
   "metadata": {},
   "outputs": [],
   "source": [
    "mols2grid.display(df,\n",
    "                 subset = [\"ID\",\"img\",\"CAS\"],\n",
    "                 tooltip = [\"Name\",\"MolWt\"])"
   ]
  },
  {
   "cell_type": "raw",
   "id": "c9a5cbea-abfe-471a-9fe0-0bbb87c7f450",
   "metadata": {},
   "source": [
    "Source: https://colab.research.google.com/github/pb3lab/ibm3202/blob/master/tutorials/lab02_molviz.ipynb"
   ]
  },
  {
   "cell_type": "code",
   "execution_count": null,
   "id": "ec8a2bb2-0ec1-42cc-b69a-280eca516d83",
   "metadata": {},
   "outputs": [],
   "source": []
  }
 ],
 "metadata": {
  "kernelspec": {
   "display_name": "Python 3",
   "language": "python",
   "name": "python3"
  },
  "language_info": {
   "codemirror_mode": {
    "name": "ipython",
    "version": 3
   },
   "file_extension": ".py",
   "mimetype": "text/x-python",
   "name": "python",
   "nbconvert_exporter": "python",
   "pygments_lexer": "ipython3",
   "version": "3.9.5"
  }
 },
 "nbformat": 4,
 "nbformat_minor": 5
}
