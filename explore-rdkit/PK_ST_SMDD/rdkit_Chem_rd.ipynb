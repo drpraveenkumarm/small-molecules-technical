{
 "cells": [
  {
   "cell_type": "code",
   "execution_count": null,
   "id": "48018d7e-4afd-41d4-9813-5e731fdc6173",
   "metadata": {},
   "outputs": [],
   "source": [
    "from rdkit.Chem import rdAbbreviations"
   ]
  },
  {
   "cell_type": "code",
   "execution_count": null,
   "id": "b574f7a4-7dcc-49a7-961e-221f557e61f4",
   "metadata": {},
   "outputs": [],
   "source": [
    "from rdkit import Chem"
   ]
  },
  {
   "cell_type": "code",
   "execution_count": null,
   "id": "31efecc1-1ffe-4f0e-ba11-4c30e1d3382d",
   "metadata": {},
   "outputs": [],
   "source": [
    "smiles_dict = [{\"Drug\":\"Levofloxacin\",\"Smiles\":\"C[C@H]1COC2=C3N1C=C(C(=O)C3=CC(=C2N4CCN(CC4)C)F)C(=O)O\"},\n",
    "              {\"Drug\":\"Ofloxacin\",\"Smiles\":\"CC1COC2=C3N1C=C(C(=O)C3=CC(=C2N4CCN(CC4)C)F)C(=O)O\"},\n",
    "              {\"Drug\":\"Pazufloxacin\",\"Smiles\":\"C[C@H]1COC2=C3N1C=C(C(=O)C3=CC(=C2C4(CC4)N)F)C(=O)O\"},\n",
    "              {\"Drug\":\"Lemofloxacin\",\"Smiles\":\"CCN1C=C(C(=O)C2=CC(=C(C(=C21)F)N3CCNC(C3)C)F)C(=O)O\"},\n",
    "              {\"Drug\":\"Tolfenamic Acid\",\"Smiles\":\"CC1=C(C=CC=C1Cl)NC2=CC=CC=C2C(=O)O\"},\n",
    "              {\"Drug\":\"Mefenamic Acid\",\"Smiles\":\"CC1=C(C(=CC=C1)NC2=CC=CC=C2C(=O)O)C\"},\n",
    "              {\"Drug\":\"5-Fluorocytosine\",\"Smiles\":\"C1=NC(=O)NC(=C1F)N\"},\n",
    "              {\"Drug\":\"isocytosine\",\"Smiles\":\"C1=CN=C(NC1=O)N\"}]"
   ]
  },
  {
   "cell_type": "code",
   "execution_count": null,
   "id": "3cb5a888-2e5b-47d5-9d10-182194de495e",
   "metadata": {},
   "outputs": [],
   "source": [
    "smiles_dict"
   ]
  },
  {
   "cell_type": "code",
   "execution_count": null,
   "id": "9b9d2a10-1abe-4860-9baa-81c753ef1071",
   "metadata": {},
   "outputs": [],
   "source": [
    "smiles = [sub[\"Smiles\"] for sub in smiles_dict]"
   ]
  },
  {
   "cell_type": "code",
   "execution_count": null,
   "id": "747336b7-bd7e-4290-97fa-5fcc9c249a78",
   "metadata": {},
   "outputs": [],
   "source": [
    "Chem.rdAbbreviations.CondenseMolAbbreviations(Chem.MolFromSmiles(smiles[0]))"
   ]
  },
  {
   "cell_type": "code",
   "execution_count": null,
   "id": "c1fbd7ab-af85-4d22-9fe4-4bcedf99f701",
   "metadata": {},
   "outputs": [],
   "source": [
    "Chem.MolFromSmiles(smiles[0])"
   ]
  },
  {
   "cell_type": "code",
   "execution_count": null,
   "id": "7af7020a-0951-4eab-94ec-b93e6b02f3e9",
   "metadata": {},
   "outputs": [],
   "source": [
    "Chem.rdAbbreviations.GetDefaultLinkers()"
   ]
  },
  {
   "cell_type": "code",
   "execution_count": null,
   "id": "8991a368-292a-47f4-b781-98e85975c0a3",
   "metadata": {},
   "outputs": [],
   "source": [
    "Chem.rdAbbreviations.GetDefaultAbbreviations()"
   ]
  },
  {
   "cell_type": "code",
   "execution_count": null,
   "id": "bbe96458-41b5-4680-89f6-290355766ee4",
   "metadata": {},
   "outputs": [],
   "source": [
    "from rdkit.Chem import rdChemicalFeatures"
   ]
  },
  {
   "cell_type": "code",
   "execution_count": null,
   "id": "d4317aec-f3fb-4065-9e23-362c3313efa4",
   "metadata": {},
   "outputs": [],
   "source": [
    "import rdkit.Chem.rdChemicalFeatures as rCF"
   ]
  },
  {
   "cell_type": "code",
   "execution_count": null,
   "id": "96c3680d-4f41-4168-8447-05ad51cbd0c5",
   "metadata": {},
   "outputs": [],
   "source": [
    "rCF.GetBonds(Chem.MolFromSmiles(smiles[0]))"
   ]
  },
  {
   "cell_type": "code",
   "execution_count": null,
   "id": "919bf1f7-a0fc-4057-87eb-6f422cc6dfca",
   "metadata": {},
   "outputs": [],
   "source": [
    "Chem.rdChemicalFeatures.FreeChemicalFeature(Chem.MolFromSmiles(smiles[0]))"
   ]
  },
  {
   "cell_type": "code",
   "execution_count": null,
   "id": "e68b8875-44cf-4ad8-a2b9-73c11f9a2197",
   "metadata": {},
   "outputs": [],
   "source": [
    "from rdkit import Chem\n",
    "from rdkit.Chem import ChemicalFeatures\n",
    "from rdkit import RDConfig"
   ]
  },
  {
   "cell_type": "code",
   "execution_count": null,
   "id": "2c8fc328-7b10-4df6-b952-3782aabedb6a",
   "metadata": {},
   "outputs": [],
   "source": [
    "import os"
   ]
  },
  {
   "cell_type": "code",
   "execution_count": null,
   "id": "2c06a4ab-735a-485f-92d5-45738609309d",
   "metadata": {},
   "outputs": [],
   "source": [
    "fdefName = os.path.join(RDConfig.RDDataDir,'BaseFeatures.fdef')"
   ]
  },
  {
   "cell_type": "code",
   "execution_count": null,
   "id": "9212e271-85e1-4582-8c71-7ba3213f63fa",
   "metadata": {},
   "outputs": [],
   "source": [
    "fdefName"
   ]
  },
  {
   "cell_type": "code",
   "execution_count": null,
   "id": "4b7273ee-5e31-4512-a83d-703c47ae349b",
   "metadata": {},
   "outputs": [],
   "source": [
    "factory = ChemicalFeatures.BuildFeatureFactory(fdefName)"
   ]
  },
  {
   "cell_type": "code",
   "execution_count": null,
   "id": "504904a2-9622-4ff1-bef2-5da707395717",
   "metadata": {},
   "outputs": [],
   "source": [
    "factory"
   ]
  },
  {
   "cell_type": "code",
   "execution_count": null,
   "id": "9c43401a-f290-4e56-bea5-07affaa6cc8e",
   "metadata": {},
   "outputs": [],
   "source": [
    "m = Chem.MolFromSmiles(smiles[0])\n"
   ]
  },
  {
   "cell_type": "code",
   "execution_count": null,
   "id": "4aa71a5d-3824-4821-bcdc-e721de4ab2ac",
   "metadata": {},
   "outputs": [],
   "source": [
    "ChemicalFeatures.BuildFeatureFactory(m)"
   ]
  },
  {
   "cell_type": "code",
   "execution_count": null,
   "id": "ebfecd47-d6e1-4b61-8977-5a5c55ef0404",
   "metadata": {},
   "outputs": [],
   "source": [
    "feats = factory.GetFeaturesForMol(m)"
   ]
  },
  {
   "cell_type": "code",
   "execution_count": null,
   "id": "a4471c74-a418-4d14-a81d-6280b18fc40e",
   "metadata": {},
   "outputs": [],
   "source": [
    "feats"
   ]
  },
  {
   "cell_type": "code",
   "execution_count": null,
   "id": "6e3eea91-93ee-4a3e-8062-53b7ebcc37a0",
   "metadata": {},
   "outputs": [],
   "source": [
    "print(feats[0].GetFamily())\n",
    "print(feats[0].GetType())\n",
    "print(feats[0].GetAtomIds())\n",
    "print(feats[4].GetFamily())\n",
    "print(feats[4].GetAtomIds())"
   ]
  },
  {
   "cell_type": "code",
   "execution_count": null,
   "id": "5b7da8c4-fadd-4fdb-abe4-912718f7230a",
   "metadata": {},
   "outputs": [],
   "source": [
    "gettype = [feat.GetFamily() for feat in feats]"
   ]
  },
  {
   "cell_type": "code",
   "execution_count": null,
   "id": "0cfe880e-5728-4a13-acc8-9b9f1048ff7c",
   "metadata": {},
   "outputs": [],
   "source": [
    "gettype"
   ]
  },
  {
   "cell_type": "code",
   "execution_count": null,
   "id": "c41b6eb8-dd1e-4950-9851-cbecb12accc0",
   "metadata": {},
   "outputs": [],
   "source": [
    "fdefName"
   ]
  },
  {
   "cell_type": "code",
   "execution_count": null,
   "id": "15d27fe6-60fa-433b-8bb7-4c152cbb0cc3",
   "metadata": {},
   "outputs": [],
   "source": []
  }
 ],
 "metadata": {
  "kernelspec": {
   "display_name": "Python 3",
   "language": "python",
   "name": "python3"
  },
  "language_info": {
   "codemirror_mode": {
    "name": "ipython",
    "version": 3
   },
   "file_extension": ".py",
   "mimetype": "text/x-python",
   "name": "python",
   "nbconvert_exporter": "python",
   "pygments_lexer": "ipython3",
   "version": "3.9.5"
  }
 },
 "nbformat": 4,
 "nbformat_minor": 5
}
