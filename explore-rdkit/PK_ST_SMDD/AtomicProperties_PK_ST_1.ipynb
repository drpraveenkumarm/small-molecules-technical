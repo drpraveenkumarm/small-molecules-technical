{
 "cells": [
  {
   "cell_type": "code",
   "execution_count": null,
   "id": "376aa1d4-ca47-4ce4-a9a3-7ce9cdcc3577",
   "metadata": {},
   "outputs": [],
   "source": [
    "import rdkit as rd"
   ]
  },
  {
   "cell_type": "code",
   "execution_count": null,
   "id": "d46a4738-9b1f-406a-a665-96b0d5730e25",
   "metadata": {},
   "outputs": [],
   "source": [
    "from rdkit import Chem"
   ]
  },
  {
   "cell_type": "code",
   "execution_count": null,
   "id": "da407153-9b8b-4b09-974d-ec110cad7a76",
   "metadata": {},
   "outputs": [],
   "source": [
    "m = Chem.MolFromSmiles('Cc1ccccc1')"
   ]
  },
  {
   "cell_type": "code",
   "execution_count": null,
   "id": "4de59b65-17cd-4fb7-a96b-5be35c4b78c0",
   "metadata": {},
   "outputs": [],
   "source": [
    "m"
   ]
  },
  {
   "cell_type": "code",
   "execution_count": null,
   "id": "f4d1ab8b-d0e5-4e18-bd90-42a145acb4a9",
   "metadata": {},
   "outputs": [],
   "source": [
    "inh = Chem.MolFromSmiles('C1=CN=CC=C1C(=O)NN')"
   ]
  },
  {
   "cell_type": "code",
   "execution_count": null,
   "id": "1e7cbb0f-8d67-4f04-a175-13850f76264d",
   "metadata": {},
   "outputs": [],
   "source": [
    "inh"
   ]
  },
  {
   "cell_type": "code",
   "execution_count": null,
   "id": "927aeccd-a1be-46cb-9a77-a4c3bdc9de5e",
   "metadata": {},
   "outputs": [],
   "source": [
    "for atom in inh.GetAtoms(): \n",
    "    print(atom.GetAtomicNum())"
   ]
  },
  {
   "cell_type": "code",
   "execution_count": null,
   "id": "dd3a247b-a7e5-4505-a2f6-da06c84b19b1",
   "metadata": {},
   "outputs": [],
   "source": [
    "inh.GetAtomWithIdx(0).GetSymbol()"
   ]
  },
  {
   "cell_type": "code",
   "execution_count": null,
   "id": "45233dce-66fd-47ac-8d0a-7bf086f9c83e",
   "metadata": {},
   "outputs": [],
   "source": [
    "inh.GetAtomWithIdx(0).GetExplicitValence()"
   ]
  },
  {
   "cell_type": "code",
   "execution_count": null,
   "id": "01162cb2-9b8c-42b1-b69e-388399fd23d1",
   "metadata": {},
   "outputs": [],
   "source": [
    "inh.GetBondWithIdx(0).GetBeginAtomIdx()"
   ]
  },
  {
   "cell_type": "code",
   "execution_count": null,
   "id": "9995b635-a459-4682-ba45-5a75c6966f4e",
   "metadata": {},
   "outputs": [],
   "source": [
    "inh.GetBondWithIdx(0).GetEndAtomIdx()"
   ]
  },
  {
   "cell_type": "code",
   "execution_count": null,
   "id": "e440ab1b-a955-4e55-9064-aa7c07060e83",
   "metadata": {},
   "outputs": [],
   "source": [
    "inh.GetBondBetweenAtoms(0,1).GetBondType()"
   ]
  },
  {
   "cell_type": "code",
   "execution_count": null,
   "id": "d054c8cf-cf12-4f5c-a50f-58d2f0aa742e",
   "metadata": {},
   "outputs": [],
   "source": [
    "atom = inh.GetAtomWithIdx(0)"
   ]
  },
  {
   "cell_type": "code",
   "execution_count": null,
   "id": "d3c9e133-8946-4237-9182-06f874c941fe",
   "metadata": {},
   "outputs": [],
   "source": [
    "[x.GetAtomicNum() for x in atom.GetNeighbors()]"
   ]
  },
  {
   "cell_type": "code",
   "execution_count": null,
   "id": "15ddc7ba-adce-4e3f-aee7-c59c92a35640",
   "metadata": {},
   "outputs": [],
   "source": [
    "len(atom.GetNeighbors()[-1].GetBonds())"
   ]
  },
  {
   "cell_type": "code",
   "execution_count": null,
   "id": "563b4aa1-aec3-4218-a89b-523835e74b25",
   "metadata": {},
   "outputs": [],
   "source": [
    "inh = Chem.MolFromSmiles('C1=CN=CC=C1C(=O)NN')"
   ]
  },
  {
   "cell_type": "code",
   "execution_count": null,
   "id": "d1377096-80d3-47c2-b7ce-a93d372085ac",
   "metadata": {},
   "outputs": [],
   "source": [
    "inh.GetAtomWithIdx(0).IsInRing()"
   ]
  },
  {
   "cell_type": "code",
   "execution_count": null,
   "id": "a381ea0e-bae9-4c52-b056-977f721504e6",
   "metadata": {},
   "outputs": [],
   "source": [
    "inh.GetAtomWithIdx(1).IsInRing()"
   ]
  },
  {
   "cell_type": "code",
   "execution_count": null,
   "id": "9aaa0d2c-195f-4bb2-85cf-b63cb4c158f1",
   "metadata": {},
   "outputs": [],
   "source": [
    "inh.GetAtomWithIdx(2).IsInRingSize(3)"
   ]
  },
  {
   "cell_type": "code",
   "execution_count": null,
   "id": "ee4d7f40-e452-40a3-a3c8-5bbc1e56f735",
   "metadata": {},
   "outputs": [],
   "source": [
    "inh.GetAtomWithIdx(2).IsInRingSize(4)"
   ]
  },
  {
   "cell_type": "code",
   "execution_count": null,
   "id": "acf8ca5f-017d-4ca5-aa0d-386c5ff6f812",
   "metadata": {},
   "outputs": [],
   "source": [
    "inh.GetAtomWithIdx(2).IsInRingSize(5)"
   ]
  },
  {
   "cell_type": "code",
   "execution_count": null,
   "id": "44a1f0d3-057a-42db-8596-377c275f545b",
   "metadata": {},
   "outputs": [],
   "source": [
    "inh.GetBondWithIdx(1).IsInRingSize(3)"
   ]
  },
  {
   "cell_type": "code",
   "execution_count": null,
   "id": "b645baa6-cdb0-4b62-9f69-ec80dead9f6f",
   "metadata": {},
   "outputs": [],
   "source": [
    "inh.GetBondWithIdx(1).IsInRing()"
   ]
  },
  {
   "cell_type": "code",
   "execution_count": null,
   "id": "c306e365-6a15-4adf-8330-0533d88f7c02",
   "metadata": {},
   "outputs": [],
   "source": [
    "inh.GetAtomWithIdx(1).IsInRingSize(5)"
   ]
  },
  {
   "cell_type": "code",
   "execution_count": null,
   "id": "7118578f-c122-4a96-9c8a-8ce303c6edfb",
   "metadata": {},
   "outputs": [],
   "source": [
    "ssr = Chem.GetSymmSSSR(inh)"
   ]
  },
  {
   "cell_type": "code",
   "execution_count": null,
   "id": "890c9d21-b6c9-408c-9ba8-0264bbe70267",
   "metadata": {},
   "outputs": [],
   "source": [
    "len(ssr)"
   ]
  },
  {
   "cell_type": "code",
   "execution_count": null,
   "id": "ddfff896-030d-48b9-8304-81a5e66cee33",
   "metadata": {},
   "outputs": [],
   "source": [
    "list(ssr[0])"
   ]
  },
  {
   "cell_type": "code",
   "execution_count": null,
   "id": "e8517f3a-4cf2-4e9f-8fd1-c6aca8c87749",
   "metadata": {},
   "outputs": [],
   "source": [
    "list(ssr[1])"
   ]
  },
  {
   "cell_type": "code",
   "execution_count": null,
   "id": "bc3f0b68-3542-4a3f-a580-9ecb789f1b49",
   "metadata": {},
   "outputs": [],
   "source": [
    "Chem.GetSSSR(m)"
   ]
  },
  {
   "cell_type": "code",
   "execution_count": null,
   "id": "0648c602-e5ef-4fc8-be0f-c801890e5fd6",
   "metadata": {},
   "outputs": [],
   "source": [
    "ri = inh.GetRingInfo()"
   ]
  },
  {
   "cell_type": "code",
   "execution_count": null,
   "id": "e0657343-903e-4884-ae04-7b015df68b87",
   "metadata": {},
   "outputs": [],
   "source": [
    "ri.NumAtomRings(0)"
   ]
  },
  {
   "cell_type": "code",
   "execution_count": null,
   "id": "eb80e7ac-d4f1-44a1-b3ce-f07faa547b6e",
   "metadata": {},
   "outputs": [],
   "source": [
    "ri.NumAtomRings(1)"
   ]
  },
  {
   "cell_type": "code",
   "execution_count": null,
   "id": "a8001704-8c19-4f91-b463-0562e0cceacb",
   "metadata": {},
   "outputs": [],
   "source": [
    "ri.NumAtomRings(2)"
   ]
  },
  {
   "cell_type": "code",
   "execution_count": null,
   "id": "5fce1abd-5b3d-4331-b65a-7580573fec62",
   "metadata": {},
   "outputs": [],
   "source": [
    "ri.IsAtomInRingOfSize(1,3)"
   ]
  },
  {
   "cell_type": "code",
   "execution_count": null,
   "id": "b05466ba-7ece-4175-9867-164a82db6564",
   "metadata": {},
   "outputs": [],
   "source": [
    "ri.IsBondInRingOfSize(1,3)"
   ]
  },
  {
   "cell_type": "code",
   "execution_count": null,
   "id": "90713634-595a-496a-addf-8868eeb5196a",
   "metadata": {},
   "outputs": [],
   "source": [
    "inh.GetNumAtoms()"
   ]
  },
  {
   "cell_type": "code",
   "execution_count": null,
   "id": "fc4bdb67-edb4-4fcc-ad55-f4b1261ad03f",
   "metadata": {},
   "outputs": [],
   "source": [
    "inh2 = Chem.AddHs(levofloxacin)"
   ]
  },
  {
   "cell_type": "code",
   "execution_count": null,
   "id": "a495d741-246e-4a53-be1c-cee2ddd647cc",
   "metadata": {},
   "outputs": [],
   "source": [
    "inh2.GetNumAtoms()"
   ]
  },
  {
   "cell_type": "code",
   "execution_count": null,
   "id": "d66aa73c-9a27-416a-8f03-ae66662e95b4",
   "metadata": {},
   "outputs": [],
   "source": [
    "inh3 = Chem.RemoveHs(inh2)"
   ]
  },
  {
   "cell_type": "code",
   "execution_count": null,
   "id": "d5f2758b-2467-4050-8201-bcc868c9ff17",
   "metadata": {},
   "outputs": [],
   "source": [
    "inh3.GetNumAtoms()"
   ]
  },
  {
   "cell_type": "code",
   "execution_count": null,
   "id": "caf1ce2f-4f6b-42fa-8f0a-b9ec0736aa43",
   "metadata": {},
   "outputs": [],
   "source": [
    "inh3.GetNumAtoms()"
   ]
  },
  {
   "cell_type": "code",
   "execution_count": null,
   "id": "ba7904ab-fe1f-438d-82a9-545a43947376",
   "metadata": {},
   "outputs": [],
   "source": [
    "inh.GetBondWithIdx(0).GetBondType()"
   ]
  },
  {
   "cell_type": "code",
   "execution_count": null,
   "id": "659c4c03-fbe5-4d07-a139-b03f924a8827",
   "metadata": {},
   "outputs": [],
   "source": [
    "Chem.Kekulize(inh)"
   ]
  },
  {
   "cell_type": "code",
   "execution_count": null,
   "id": "fb02605e-474d-4824-863f-435a7e2dc410",
   "metadata": {},
   "outputs": [],
   "source": [
    "m.GetBondWithIdx(0).GetBondType()"
   ]
  },
  {
   "cell_type": "code",
   "execution_count": null,
   "id": "cb4c1c9e-b54d-483f-993b-9bd5cbee4880",
   "metadata": {},
   "outputs": [],
   "source": [
    "m.GetBondWithIdx(1).GetBondType()"
   ]
  },
  {
   "cell_type": "code",
   "execution_count": null,
   "id": "586e3aeb-7c16-430a-90fc-41c65de4767c",
   "metadata": {},
   "outputs": [],
   "source": [
    "m.GetBondWithIdx(1).GetIsAromatic()"
   ]
  },
  {
   "cell_type": "code",
   "execution_count": null,
   "id": "f15ae725-a4cd-4c18-8070-753580747d73",
   "metadata": {},
   "outputs": [],
   "source": [
    "levofloxacin.GetBondWithIdx(1).GetIsAromatic()"
   ]
  },
  {
   "cell_type": "code",
   "execution_count": null,
   "id": "f50506a4-5d43-4039-a965-910e410bf9b1",
   "metadata": {},
   "outputs": [],
   "source": [
    "levofloxacin.GetBondWithIdx(0).GetIsAromatic()"
   ]
  },
  {
   "cell_type": "code",
   "execution_count": null,
   "id": "743ba2d5-2e0b-4bfe-a3fc-f7a19b99a5e8",
   "metadata": {},
   "outputs": [],
   "source": [
    "Chem.Kekulize(levofloxacin, clearAromaticFlags=True)"
   ]
  },
  {
   "cell_type": "code",
   "execution_count": null,
   "id": "18d53526-ff79-4113-a31d-89aa8ab6d71c",
   "metadata": {},
   "outputs": [],
   "source": [
    "levofloxacin.GetBondWithIdx(0).GetIsAromatic()"
   ]
  },
  {
   "cell_type": "code",
   "execution_count": null,
   "id": "7036d059-6045-4d5e-bf95-23fa402b912f",
   "metadata": {},
   "outputs": [],
   "source": [
    "Chem.SanitizeMol(levofloxacin)"
   ]
  },
  {
   "cell_type": "code",
   "execution_count": null,
   "id": "b67fa3da-194c-44b1-97b1-7da33e5c2955",
   "metadata": {},
   "outputs": [],
   "source": [
    "levofloxacin.GetBondWithIdx(0).GetBondType()"
   ]
  },
  {
   "cell_type": "code",
   "execution_count": null,
   "id": "cb4134b6-c8ec-4af2-a78a-952870ca5a3d",
   "metadata": {},
   "outputs": [],
   "source": [
    "AllChem.Compute2DCoords(levofloxacin)"
   ]
  },
  {
   "cell_type": "code",
   "execution_count": null,
   "id": "cdbc913b-8fe8-4a6d-a9b7-e085c4e617d1",
   "metadata": {},
   "outputs": [],
   "source": [
    "m = Chem.MolFromSmiles('C[C@H]1COC2=C3N1C=C(C(=O)C3=CC(=C2N4CCN(CC4)C)F)C(=O)O')"
   ]
  },
  {
   "cell_type": "code",
   "execution_count": null,
   "id": "074478ed-8371-4b6d-bcd1-e23008844b77",
   "metadata": {},
   "outputs": [],
   "source": [
    "AllChem.Compute2DCoords(levofloxacin)"
   ]
  },
  {
   "cell_type": "code",
   "execution_count": null,
   "id": "e0a6a08b-7d48-45fe-a571-098c91444110",
   "metadata": {},
   "outputs": [],
   "source": [
    "levofloxacin = Chem.MolFromSmiles('C[C@H]1COC2=C3N1C=C(C(=O)C3=CC(=C2N4CCN(CC4)C)F)C(=O)O')"
   ]
  },
  {
   "cell_type": "code",
   "execution_count": null,
   "id": "6f14dfbf-e370-400f-baaf-0ef0f91d63a7",
   "metadata": {},
   "outputs": [],
   "source": [
    "subms = [x for x in ms if x.HasSubstructMatch(levofloxacin)]"
   ]
  },
  {
   "cell_type": "code",
   "execution_count": null,
   "id": "49bde28a-5999-4240-b0d4-0e2129bba779",
   "metadata": {},
   "outputs": [],
   "source": []
  },
  {
   "cell_type": "code",
   "execution_count": null,
   "id": "92962021-c34d-4b12-9a1f-6eb968ac8a97",
   "metadata": {},
   "outputs": [],
   "source": [
    "with Chem.SDMolSupplier('data/cdk2.sdf') as suppl:"
   ]
  },
  {
   "cell_type": "code",
   "execution_count": null,
   "id": "a7c2bee4-2d4e-4cb0-b99b-093f1701a871",
   "metadata": {},
   "outputs": [],
   "source": [
    "from rdkit.Chem import AllChem"
   ]
  },
  {
   "cell_type": "code",
   "execution_count": null,
   "id": "f8cbd7b5-509d-49f6-9c81-66050a13c1dd",
   "metadata": {},
   "outputs": [],
   "source": [
    "with Chem.SDMolSupplier('data/cdk2.sdf') as suppl:\n",
    "    ms = [x for x in suppl if x is not None]"
   ]
  },
  {
   "cell_type": "code",
   "execution_count": null,
   "id": "b5d11d2d-8d65-4319-a591-a41b25b5c808",
   "metadata": {},
   "outputs": [],
   "source": []
  },
  {
   "cell_type": "code",
   "execution_count": null,
   "id": "cc576ed6-3d2b-463e-920e-938c84571f0b",
   "metadata": {},
   "outputs": [],
   "source": [
    "for m in ms: tmp=AllChem.Compute2DCoords(m)"
   ]
  },
  {
   "cell_type": "code",
   "execution_count": null,
   "id": "9689b8f7-ae1b-4375-86c9-49b9dc0efc76",
   "metadata": {},
   "outputs": [],
   "source": [
    "from rdkit.Chem import Draw"
   ]
  },
  {
   "cell_type": "code",
   "execution_count": null,
   "id": "1a2f6e9f-1b4e-41c5-acc2-3abbac04b1da",
   "metadata": {},
   "outputs": [],
   "source": [
    "Draw.MolToFile(ms[0],'images/cdk2_mol1.o.png')"
   ]
  },
  {
   "cell_type": "code",
   "execution_count": null,
   "id": "fccb1df6-0adf-4bb1-b974-a7ad2ee0594e",
   "metadata": {},
   "outputs": [],
   "source": [
    "Draw.MolToFile(ms[1],'images/cdk2_mol2.o.png') "
   ]
  },
  {
   "cell_type": "code",
   "execution_count": null,
   "id": "c95be6af-9f19-4e05-a213-5e8076d9510c",
   "metadata": {},
   "outputs": [],
   "source": []
  },
  {
   "cell_type": "code",
   "execution_count": null,
   "id": "209a7f24-53f9-4494-8abf-41a57507b996",
   "metadata": {},
   "outputs": [],
   "source": [
    "img = Draw.MolsToGridImage(ms[:8],molsPerRow=4,subImgSize=(200,200),legends=[x.GetProp(\"_Name\") for x in ms[:8]])"
   ]
  },
  {
   "cell_type": "code",
   "execution_count": null,
   "id": "788c1b17-ccd4-43db-8a27-a970be9f7cbd",
   "metadata": {},
   "outputs": [],
   "source": [
    "img"
   ]
  },
  {
   "cell_type": "code",
   "execution_count": null,
   "id": "569ce666-1f26-4fac-8220-ba1bbc7eb1e9",
   "metadata": {},
   "outputs": [],
   "source": [
    "img.save('images/cdk2_molgrid.o.png')"
   ]
  },
  {
   "cell_type": "code",
   "execution_count": null,
   "id": "efaa7b11-e2b0-49fe-9ca3-359ad7710daa",
   "metadata": {},
   "outputs": [],
   "source": [
    "from rdkit.six import StringIO"
   ]
  },
  {
   "cell_type": "code",
   "execution_count": null,
   "id": "993fd36d-f2ce-45ba-a5c9-e3f89f75a181",
   "metadata": {},
   "outputs": [],
   "source": [
    "from rdkit import *"
   ]
  },
  {
   "cell_type": "code",
   "execution_count": null,
   "id": "90d2c150-b5c5-4234-aff0-4c35ce33624a",
   "metadata": {},
   "outputs": [],
   "source": [
    "p = Chem.MolFromSmiles('[nH]1cnc2cncnc21')"
   ]
  },
  {
   "cell_type": "code",
   "execution_count": null,
   "id": "23f681b6-af5d-49d8-ba7d-c44586f78545",
   "metadata": {},
   "outputs": [],
   "source": [
    "subms = [x for x in ms if x.HasSubstructMatch(p)]"
   ]
  },
  {
   "cell_type": "code",
   "execution_count": null,
   "id": "9a142eff-6558-4abf-a44d-22f6e22273b8",
   "metadata": {},
   "outputs": [],
   "source": [
    "len(subms)"
   ]
  },
  {
   "cell_type": "code",
   "execution_count": null,
   "id": "f0d82358-dab3-461a-b7e9-5c839e761e5f",
   "metadata": {},
   "outputs": [],
   "source": [
    "AllChem.Compute2DCoords(p)"
   ]
  },
  {
   "cell_type": "code",
   "execution_count": null,
   "id": "bbefba0a-ef95-4a66-a3fd-dbbe08e46480",
   "metadata": {},
   "outputs": [],
   "source": [
    "for m in subms:\n",
    "   _ = AllChem.GenerateDepictionMatching2DStructure(m,p)"
   ]
  },
  {
   "cell_type": "code",
   "execution_count": null,
   "id": "bbbd99d1-eb8f-4394-8778-6942ae01856b",
   "metadata": {},
   "outputs": [],
   "source": [
    "img=Draw.MolsToGridImage(subms,molsPerRow=4,subImgSize=(200,200),legends=[x.GetProp(\"_Name\") for x in subms])"
   ]
  },
  {
   "cell_type": "code",
   "execution_count": null,
   "id": "05f6fee6-823b-4b58-aaa0-f2ff17477306",
   "metadata": {},
   "outputs": [],
   "source": [
    "m"
   ]
  },
  {
   "cell_type": "code",
   "execution_count": null,
   "id": "0d64f0a9-5758-4a64-a126-a0112bb6c4ff",
   "metadata": {},
   "outputs": [],
   "source": []
  }
 ],
 "metadata": {
  "kernelspec": {
   "display_name": "Python 3",
   "language": "python",
   "name": "python3"
  },
  "language_info": {
   "codemirror_mode": {
    "name": "ipython",
    "version": 3
   },
   "file_extension": ".py",
   "mimetype": "text/x-python",
   "name": "python",
   "nbconvert_exporter": "python",
   "pygments_lexer": "ipython3",
   "version": "3.9.5"
  }
 },
 "nbformat": 4,
 "nbformat_minor": 5
}
