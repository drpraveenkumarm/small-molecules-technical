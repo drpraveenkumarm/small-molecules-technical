{
 "cells": [
  {
   "cell_type": "code",
   "execution_count": null,
   "id": "2a107cd4-1b86-45d8-8bc3-ebe67ff6f0f5",
   "metadata": {},
   "outputs": [],
   "source": [
    "from rdkit import Chem\n",
    "from rdkit.Chem import rdMolHash\n",
    "import rdkit"
   ]
  },
  {
   "cell_type": "code",
   "execution_count": null,
   "id": "19db2fa8-b9b7-4e63-9935-a27e59142b6d",
   "metadata": {},
   "outputs": [],
   "source": [
    "Source: http://rdkit.org/docs/Cookbook.html#d-functionality-in-the-rdkit"
   ]
  },
  {
   "cell_type": "code",
   "execution_count": null,
   "id": "7f9f4d9c-141e-4ee9-9a4d-143575f2e14c",
   "metadata": {},
   "outputs": [],
   "source": [
    "s = Chem.MolFromSmiles('CC(C(C1=CC(=C(C=C1)O)O)O)N(C)C(=O)OCC2=CC=CC=C2')"
   ]
  },
  {
   "cell_type": "code",
   "execution_count": null,
   "id": "c8c8cba9-74b4-4c9c-be7c-0c800eb9d8f7",
   "metadata": {},
   "outputs": [],
   "source": [
    "s"
   ]
  },
  {
   "cell_type": "code",
   "execution_count": null,
   "id": "d74841d3-b983-4ef3-84ae-99144ae78a78",
   "metadata": {},
   "outputs": [],
   "source": [
    "molhasf = rdMolHash.HashFunction.names"
   ]
  },
  {
   "cell_type": "code",
   "execution_count": null,
   "id": "413de0b2-9883-4223-bb98-49c66b8e95b0",
   "metadata": {},
   "outputs": [],
   "source": [
    "print(molhasf)"
   ]
  },
  {
   "cell_type": "code",
   "execution_count": null,
   "id": "d74667ac-31a6-416b-8bb8-a037d37d19e0",
   "metadata": {},
   "outputs": [],
   "source": [
    "for i, j in molhasf.items():\n",
    "    print(i, rdMolHash.MolHash(s,j))"
   ]
  },
  {
   "cell_type": "code",
   "execution_count": null,
   "id": "01b06637-8eb7-4d2a-a4bf-f18e2361c49a",
   "metadata": {},
   "outputs": [],
   "source": [
    "# Murcko Scaffold Hashes (from slide 16 in [ref2])\n",
    "# Create a list of SMILES\n",
    "mList = ['CCC1CC(CCC1=O)C(=O)C1=CC=CC(C)=C1','CCC1CC(CCC1=O)C(=O)C1=CC=CC=C1',\n",
    "         'CC(=C)C(C1=CC=CC=C1)S(=O)CC(N)=O','CC1=CC(=CC=C1)C(C1CCC(N)CC1)C(F)(F)F',\n",
    "         'CNC1CCC(C2=CC(Cl)=C(Cl)C=C2)C2=CC=CC=C12','CCCOC(C1CCCCC1)C1=CC=C(Cl)C=C1']"
   ]
  },
  {
   "cell_type": "code",
   "execution_count": null,
   "id": "9f1d6c36-ce78-4139-922d-84bb69c82e20",
   "metadata": {},
   "outputs": [],
   "source": [
    "mList"
   ]
  },
  {
   "cell_type": "code",
   "execution_count": null,
   "id": "f937a8c3-713a-4574-afa0-4b9324d26d09",
   "metadata": {},
   "outputs": [],
   "source": [
    "mMols = [Chem.MolFromSmiles(m) for m in mList]"
   ]
  },
  {
   "cell_type": "code",
   "execution_count": null,
   "id": "df9764b5-8437-454a-98c5-befdd703cd0a",
   "metadata": {},
   "outputs": [],
   "source": [
    "from rdkit.Chem import Draw"
   ]
  },
  {
   "cell_type": "code",
   "execution_count": null,
   "id": "2058d0f2-111a-4f01-aa0f-f6f82987e4ed",
   "metadata": {},
   "outputs": [],
   "source": [
    "Chem.Draw.MolsToGridImage(mMols)"
   ]
  },
  {
   "cell_type": "code",
   "execution_count": null,
   "id": "cc0a2537-6a8e-437d-bf3a-546070282ec8",
   "metadata": {},
   "outputs": [],
   "source": [
    "mMols"
   ]
  },
  {
   "cell_type": "code",
   "execution_count": null,
   "id": "95cf76e4-1bd1-4d66-9a3a-843fda85b142",
   "metadata": {},
   "outputs": [],
   "source": [
    "murckoHashList = [rdMolHash.MolHash(mMol, rdkit.Chem.rdMolHash.HashFunction.MurckoScaffold) for mMol in mMols]"
   ]
  },
  {
   "cell_type": "code",
   "execution_count": null,
   "id": "f5df2174-d083-46ce-b18a-086351ec3173",
   "metadata": {},
   "outputs": [],
   "source": [
    "murckoHashList"
   ]
  },
  {
   "cell_type": "code",
   "execution_count": null,
   "id": "39a1501a-8e8b-4dc2-bdb4-f4414519f3cb",
   "metadata": {},
   "outputs": [],
   "source": [
    "from rdkit import Chem"
   ]
  },
  {
   "cell_type": "code",
   "execution_count": null,
   "id": "1e6362a3-b7c1-4ce0-8390-064985e05f9d",
   "metadata": {},
   "outputs": [],
   "source": [
    "Chem.Draw.MolsToGridImage(mMols)"
   ]
  },
  {
   "cell_type": "code",
   "execution_count": null,
   "id": "0b0f0f49-dc33-4c18-b676-c664e9fb4537",
   "metadata": {},
   "outputs": [],
   "source": [
    "Chem.Draw.MolsToGridImage([Chem.MolFromSmiles(murckohash) for murckohash in murckoHashList])"
   ]
  },
  {
   "cell_type": "code",
   "execution_count": null,
   "id": "1446728a-b9d6-46f0-ba6b-0a1116ca1a20",
   "metadata": {},
   "outputs": [],
   "source": [
    "def mostFreq(list):\n",
    "    return max(set(list), key = list.count)"
   ]
  },
  {
   "cell_type": "markdown",
   "id": "1aa12c24-7f36-445f-a03a-a31d020d40f7",
   "metadata": {},
   "source": [
    "implement without set"
   ]
  },
  {
   "cell_type": "code",
   "execution_count": null,
   "id": "3ffe8a18-91bf-4282-892e-ef45aba53d7f",
   "metadata": {},
   "outputs": [],
   "source": [
    "mostFreq_murckoHash = mostFreq(murckoHashList)"
   ]
  },
  {
   "cell_type": "code",
   "execution_count": null,
   "id": "f9c72614-a2de-48d2-9c92-0c30ec0f8e7f",
   "metadata": {},
   "outputs": [],
   "source": [
    "mostFreq_murckoHash_mol = Chem.MolFromSmiles(mostFreq_murckoHash)"
   ]
  },
  {
   "cell_type": "code",
   "execution_count": null,
   "id": "82a125cf-bda9-48c8-a892-9f685e90897e",
   "metadata": {},
   "outputs": [],
   "source": [
    "mostFreq_murckoHash_mol"
   ]
  },
  {
   "cell_type": "code",
   "execution_count": null,
   "id": "32437761-434a-41cf-98cf-0faed88bf4ae",
   "metadata": {},
   "outputs": [],
   "source": [
    "highlight_mostFreq_murckoHash = [mMol.GetSubstructMatch(mostFreq_murckoHash_mol) for mMol in mMols]"
   ]
  },
  {
   "cell_type": "code",
   "execution_count": null,
   "id": "f7adedb0-bafa-43a6-8771-6debeafb6c73",
   "metadata": {},
   "outputs": [],
   "source": [
    "from rdkit.Chem import Draw"
   ]
  },
  {
   "cell_type": "code",
   "execution_count": null,
   "id": "657a275f-0d7c-43fc-b08b-29c4d031e3ca",
   "metadata": {},
   "outputs": [],
   "source": [
    "Draw.MolsToGridImage(mMols,legends = [murckoHash for murckoHash in murckoHashList],\n",
    "                    highlightAtomLists = highlight_mostFreq_murckoHash, subImgSize = (250,250), useSVG = False)"
   ]
  },
  {
   "cell_type": "code",
   "execution_count": null,
   "id": "7cfb8eb7-2c66-4743-b39c-93bcdadf0939",
   "metadata": {},
   "outputs": [],
   "source": [
    "from rdkit import Chem\n",
    "from rdkit.Chem import rdFMCS\n",
    "from rdkit.Chem import Draw"
   ]
  },
  {
   "cell_type": "code",
   "execution_count": null,
   "id": "01d22fe2-556c-4e6e-ac05-f6daa427ca0b",
   "metadata": {},
   "outputs": [],
   "source": [
    "mList = ['CCC1CC(CCC1=O)C(=O)C1=CC=CC(C)=C1','CCC1CC(CCC1=O)C(=O)C1=CC=CC=C1',\n",
    "         'CC(=C)C(C1=CC=CC=C1)S(=O)CC(N)=O','CC1=CC(=CC=C1)C(C1CCC(N)CC1)C(F)(F)F',\n",
    "         'CNC1CCC(C2=CC(Cl)=C(Cl)C=C2)C2=CC=CC=C12','CCCOC(C1CCCCC1)C1=CC=C(Cl)C=C1']"
   ]
  },
  {
   "cell_type": "code",
   "execution_count": null,
   "id": "731d80fa-e3cc-40ff-a50f-730903197dd7",
   "metadata": {},
   "outputs": [],
   "source": [
    "mols = [Chem.MolFromSmiles(mol) for mol in mList]"
   ]
  },
  {
   "cell_type": "code",
   "execution_count": null,
   "id": "8de371a5-ad99-42cc-b7c6-43d9e1a47f5a",
   "metadata": {},
   "outputs": [],
   "source": [
    "Chem.Draw.MolsToGridImage(mols)"
   ]
  },
  {
   "cell_type": "code",
   "execution_count": null,
   "id": "db20c5af-810a-47e8-a297-97ad6091fbcd",
   "metadata": {},
   "outputs": [],
   "source": [
    "mMols = [Chem.MolFromSmiles(m) for m in mList]"
   ]
  },
  {
   "cell_type": "code",
   "execution_count": null,
   "id": "d4215a91-5531-4392-b913-611defdd0990",
   "metadata": {},
   "outputs": [],
   "source": [
    "commonMCS = rdFMCS.FindMCS(mMols)"
   ]
  },
  {
   "cell_type": "code",
   "execution_count": null,
   "id": "faca0836-7aca-41d8-b103-997f8de346d9",
   "metadata": {},
   "outputs": [],
   "source": [
    "commonMCS_Mol = Chem.MolFromSmarts(commonMCS.smartsString)"
   ]
  },
  {
   "cell_type": "code",
   "execution_count": null,
   "id": "2f268506-3a8a-4285-b053-8cbde57e8929",
   "metadata": {},
   "outputs": [],
   "source": [
    "commonMCS_Mol"
   ]
  },
  {
   "cell_type": "code",
   "execution_count": null,
   "id": "35da8b0c-22eb-43e9-bf48-d2f6a484c4d1",
   "metadata": {},
   "outputs": [],
   "source": [
    "highlight_MCS = [mMol.GetSubstructMatch(commonMCS_Mol) for mMol in mMols]"
   ]
  },
  {
   "cell_type": "code",
   "execution_count": null,
   "id": "c74f951d-840e-4a54-b989-448f52867508",
   "metadata": {},
   "outputs": [],
   "source": [
    "highlight_MCS"
   ]
  },
  {
   "cell_type": "code",
   "execution_count": null,
   "id": "472c3da0-974a-4440-bd7a-a654d944a877",
   "metadata": {},
   "outputs": [],
   "source": [
    "Draw.MolsToGridImage(mMols[1:2],\n",
    "                    highlightAtomLists = highlight_MCS[1:2], subImgSize = (500,500), useSVG = True)"
   ]
  },
  {
   "cell_type": "code",
   "execution_count": null,
   "id": "9f2b0679-e354-4de7-a66c-f84f24e33353",
   "metadata": {},
   "outputs": [],
   "source": [
    "highlight_MCS[0]"
   ]
  },
  {
   "cell_type": "code",
   "execution_count": null,
   "id": "4df6e34d-d4c3-4cce-8c0c-6100b1f56304",
   "metadata": {},
   "outputs": [],
   "source": [
    "Extended_murckoHashList = [rdMolHash.MolHash(mMol, rdkit.Chem.rdMolHash.HashFunction.ExtendedMurcko) for mMol in mMols]\n",
    "mostFreq_Extended_murckoHash = mostFreq(Extended_murckoHashList)\n",
    "mostFreq_Extended_murckoHash_mol = Chem.MolFromSmiles(mostFreq_murckoHash)\n",
    "mostFreq_Extended_murckoHash_mol\n",
    "highlight_mostFreq_Extended_murckoHash = [mMol.GetSubstructMatch(mostFreq_Extended_murckoHash_mol) for mMol in mMols]\n",
    "Draw.MolsToGridImage(mMols, legends = [murckoHash for murckoHash in Extended_murckoHashList],\n",
    "                    highlightAtomLists = highlight_mostFreq_Extended_murckoHash, subImgSize = (250,250), useSVG = False)"
   ]
  },
  {
   "cell_type": "code",
   "execution_count": null,
   "id": "adf3fa89-c504-4adf-873e-6bea40cc726c",
   "metadata": {},
   "outputs": [],
   "source": [
    "#This is leading to error.\n",
    "#MesomerHashList = [rdMolHash.MolHash(mMol, rdkit.Chem.rdMolHash.HashFunction.Mesomer) for mMol in mMols]\n",
    "#mostFreq_MesomerHash = mostFreq(MesomerHashList)\n",
    "#mostFreq_MesomerHash_mol = Chem.MolFromSmiles(mostFreq_MesomerHash)\n",
    "#mostFreq_MesomerHash_mol\n",
    "#highlight_mostFreq_MesomerHash = [mMol.GetSubstructMatch(mostFreq_MesomerHash_mol) for mMol in mMols]\n",
    "#Draw.MolsToGridImage(mMols, legends = [mesomer for mesomer in MesomerHashList],\n",
    "#                    highlightAtomLists = highlight_mostFreq_Extended_murckoHash, subImgSize = (250,250), useSVG = False)"
   ]
  },
  {
   "cell_type": "code",
   "execution_count": null,
   "id": "b0dad68b-0113-468c-98bb-7f8e59a4d388",
   "metadata": {},
   "outputs": [],
   "source": [
    "notes source: http://www.dalkescientific.com/writings/diary/archive/2012/05/13/fmcs.html"
   ]
  },
  {
   "cell_type": "code",
   "execution_count": null,
   "id": "558f2a23-866b-40ea-a01d-dafd76cbb763",
   "metadata": {},
   "outputs": [],
   "source": [
    "import py3Dmol\n",
    "view = py3Dmol.view(query='pdb:1hvr')\n",
    "view.setStyle({'cartoon':{'color':'spectrum'}})\n",
    "view"
   ]
  },
  {
   "cell_type": "code",
   "execution_count": null,
   "id": "80f7e5f4-a1c3-478e-8f65-b38dd12b9d9a",
   "metadata": {},
   "outputs": [],
   "source": []
  },
  {
   "cell_type": "code",
   "execution_count": null,
   "id": "8d7e074f-97b6-467a-9823-4a852b7e77fa",
   "metadata": {},
   "outputs": [],
   "source": []
  },
  {
   "cell_type": "code",
   "execution_count": null,
   "id": "1f8a2f38-45e3-4414-a381-3fd8e4e9af69",
   "metadata": {},
   "outputs": [],
   "source": []
  },
  {
   "cell_type": "code",
   "execution_count": null,
   "id": "40fe7e35-aad3-4dbc-be48-213d8f51e9df",
   "metadata": {},
   "outputs": [],
   "source": []
  }
 ],
 "metadata": {
  "kernelspec": {
   "display_name": "Python 3",
   "language": "python",
   "name": "python3"
  },
  "language_info": {
   "codemirror_mode": {
    "name": "ipython",
    "version": 3
   },
   "file_extension": ".py",
   "mimetype": "text/x-python",
   "name": "python",
   "nbconvert_exporter": "python",
   "pygments_lexer": "ipython3",
   "version": "3.9.5"
  }
 },
 "nbformat": 4,
 "nbformat_minor": 5
}
