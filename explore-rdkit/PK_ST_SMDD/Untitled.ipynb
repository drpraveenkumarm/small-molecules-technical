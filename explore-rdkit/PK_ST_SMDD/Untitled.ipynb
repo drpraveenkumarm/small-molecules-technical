{
 "cells": [
  {
   "cell_type": "code",
   "execution_count": null,
   "id": "8c40e6f2-f747-4876-acf0-16c8417936e2",
   "metadata": {},
   "outputs": [],
   "source": [
    "import rdkit as rd\n",
    "from rdkit import Chem\n",
    "from rdkit.Chem import Draw\n",
    "from rdkit.Chem import AllChem\n",
    "from rdkit.Chem import rdchem\n",
    "from rdkit.Chem import ChemicalFeatures\n",
    "from rdkit import RDConfig\n",
    "import os\n",
    "from rdkit.Chem.rdchem import Atom"
   ]
  },
  {
   "cell_type": "code",
   "execution_count": null,
   "id": "d90fc859-3a73-4453-a4ab-a55804190c4f",
   "metadata": {},
   "outputs": [],
   "source": [
    "m = Chem.MolFromSmiles('C1=CN=CC=C1C(=O)NN')"
   ]
  },
  {
   "cell_type": "code",
   "execution_count": null,
   "id": "1a4123d4-7ecf-4e39-9fc9-f9faeb335446",
   "metadata": {},
   "outputs": [],
   "source": [
    "m"
   ]
  },
  {
   "cell_type": "code",
   "execution_count": null,
   "id": "1305f65b-76ea-4fe1-a3cd-8c7a637cb48b",
   "metadata": {},
   "outputs": [],
   "source": []
  },
  {
   "cell_type": "code",
   "execution_count": null,
   "id": "cc50ee34-ce6c-4818-90c3-e0b899be7509",
   "metadata": {},
   "outputs": [],
   "source": [
    "for atom in m.GetAtoms(): \n",
    "    print(atom.GetAtomicNum())"
   ]
  },
  {
   "cell_type": "code",
   "execution_count": null,
   "id": "e0972139-6c59-48d3-9a69-3ed90c3641ad",
   "metadata": {},
   "outputs": [],
   "source": [
    "m.GetBondBetweenAtoms(0,1).GetBondType()"
   ]
  },
  {
   "cell_type": "code",
   "execution_count": null,
   "id": "48ca1524-4346-4974-a11f-90f14625e1c4",
   "metadata": {},
   "outputs": [],
   "source": [
    "fdefName = os.path.join(RDConfig.RDDataDir,'BaseFeatures.fdef')\n",
    "factory = ChemicalFeatures.BuildFeatureFactory(fdefName)"
   ]
  },
  {
   "cell_type": "code",
   "execution_count": null,
   "id": "036b1b7c-9224-45f0-b6e4-b5a05641939c",
   "metadata": {},
   "outputs": [],
   "source": [
    "feats = factory.GetFeaturesForMol(m)"
   ]
  },
  {
   "cell_type": "code",
   "execution_count": null,
   "id": "07731e80-bee8-4f84-ac6a-5ab42c1d094c",
   "metadata": {},
   "outputs": [],
   "source": [
    "len(feats)"
   ]
  },
  {
   "cell_type": "code",
   "execution_count": null,
   "id": "ece48f3f-dd5d-4ad2-b7a2-6d5d46557914",
   "metadata": {},
   "outputs": [],
   "source": [
    "m.GetBondBetweenAtoms(0,1).GetBondType()"
   ]
  },
  {
   "cell_type": "code",
   "execution_count": null,
   "id": "7bfd5710-566c-4c3e-acf1-b2298dd111f0",
   "metadata": {},
   "outputs": [],
   "source": [
    "feats[0].GetFamily()"
   ]
  },
  {
   "cell_type": "code",
   "execution_count": null,
   "id": "22416510-3a35-40a5-ba9d-0066abbafce0",
   "metadata": {},
   "outputs": [],
   "source": [
    "feats[0].GetType()"
   ]
  },
  {
   "cell_type": "code",
   "execution_count": null,
   "id": "4ec406f5-1376-46bf-8544-c8e46b797aef",
   "metadata": {},
   "outputs": [],
   "source": [
    "i = Chem.MolFromSmiles('CC1=C(C=C(C=C1)NC(=O)C2=CC=C(C=C2)CN3CCN(CC3)C)NC4=NC=CC(=N4)C5=CN=CC=C5.CS(=O)(=O)O')"
   ]
  },
  {
   "cell_type": "code",
   "execution_count": null,
   "id": "bc3b6567-15f0-46ca-8c15-1a13bb52a61f",
   "metadata": {},
   "outputs": [],
   "source": [
    "i"
   ]
  },
  {
   "cell_type": "code",
   "execution_count": null,
   "id": "220c054a-dd33-4ab0-85b0-d4692ab8c77e",
   "metadata": {},
   "outputs": [],
   "source": [
    "for atom in i.GetAtoms(): \n",
    "    print(atom.GetAtomicNum())"
   ]
  },
  {
   "cell_type": "code",
   "execution_count": null,
   "id": "ec74f513-6c77-46f9-b626-26399dde1072",
   "metadata": {},
   "outputs": [],
   "source": [
    "m.GetBondBetweenAtoms(2,3).GetBondType()"
   ]
  },
  {
   "cell_type": "code",
   "execution_count": null,
   "id": "0a2b8b5f-e50c-4a3f-b21b-35ec3838c440",
   "metadata": {},
   "outputs": [],
   "source": [
    "feats[4].GetFamily()"
   ]
  },
  {
   "cell_type": "code",
   "execution_count": null,
   "id": "ec40491b-d04e-4abb-bad5-b9fecddf2dc2",
   "metadata": {},
   "outputs": [],
   "source": [
    "feats[4].GetType()"
   ]
  },
  {
   "cell_type": "code",
   "execution_count": null,
   "id": "278ceefc-ba03-4f3d-920f-f87ce8441e73",
   "metadata": {},
   "outputs": [],
   "source": []
  },
  {
   "cell_type": "code",
   "execution_count": null,
   "id": "70335b35-d302-400a-8bf9-6dda74c6e13a",
   "metadata": {},
   "outputs": [],
   "source": []
  }
 ],
 "metadata": {
  "kernelspec": {
   "display_name": "Python 3",
   "language": "python",
   "name": "python3"
  },
  "language_info": {
   "codemirror_mode": {
    "name": "ipython",
    "version": 3
   },
   "file_extension": ".py",
   "mimetype": "text/x-python",
   "name": "python",
   "nbconvert_exporter": "python",
   "pygments_lexer": "ipython3",
   "version": "3.9.5"
  }
 },
 "nbformat": 4,
 "nbformat_minor": 5
}
