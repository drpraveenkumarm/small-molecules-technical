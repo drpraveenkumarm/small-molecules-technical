{
 "cells": [
  {
   "cell_type": "code",
   "execution_count": null,
   "id": "93e6948b-e484-4565-b559-db7bc5d1b6f5",
   "metadata": {},
   "outputs": [],
   "source": [
    "import rdkit as rd\n",
    "from rdkit import Chem\n",
    "from rdkit.Chem import rdDistGeom\n",
    "from rdkit.Chem import AllChem"
   ]
  },
  {
   "cell_type": "code",
   "execution_count": null,
   "id": "e6e81eec-713c-460f-beb3-bca2a0ba90ad",
   "metadata": {},
   "outputs": [],
   "source": [
    "mList = ['CCC1CC(CCC1=O)C(=O)C1=CC=CC(C)=C1','CCC1CC(CCC1=O)C(=O)C1=CC=CC=C1',\\\n",
    "         'CC(=C)C(C1=CC=CC=C1)S(=O)CC(N)=O','CC1=CC(=CC=C1)C(C1CCC(N)CC1)C(F)(F)F',\\\n",
    "         'CNC1CCC(C2=CC(Cl)=C(Cl)C=C2)C2=CC=CC=C12','CCCOC(C1CCCCC1)C1=CC=C(Cl)C=C1']"
   ]
  },
  {
   "cell_type": "code",
   "execution_count": null,
   "id": "538efc07-a7d5-4ac2-aa31-b86b13ad69ec",
   "metadata": {},
   "outputs": [],
   "source": [
    "mMols = [Chem.MolFromSmiles(m) for m in mList]"
   ]
  },
  {
   "cell_type": "code",
   "execution_count": null,
   "id": "4732ee01-c7b4-49d8-a581-9a5a6b558d75",
   "metadata": {},
   "outputs": [],
   "source": [
    "mMols"
   ]
  },
  {
   "cell_type": "code",
   "execution_count": null,
   "id": "8c87f6bd-e55a-4015-9791-7f9da893ca8f",
   "metadata": {},
   "outputs": [],
   "source": [
    "mMols_AddHs = [Chem.AddHs(mMol) for mMol in mMols]"
   ]
  },
  {
   "cell_type": "code",
   "execution_count": null,
   "id": "d7fdcf86-6b9d-478c-8f97-c86e014c9268",
   "metadata": {},
   "outputs": [],
   "source": [
    "param = rdDistGeom.ETKDGv2()"
   ]
  },
  {
   "cell_type": "code",
   "execution_count": null,
   "id": "e35e597b-324c-48ac-914f-27e10ba43832",
   "metadata": {},
   "outputs": [],
   "source": [
    "numconf = 1"
   ]
  },
  {
   "cell_type": "code",
   "execution_count": null,
   "id": "950a3bce-cc30-4bf3-a623-e71662ca78ea",
   "metadata": {},
   "outputs": [],
   "source": [
    "cids = [rdDistGeom.EmbedMultipleConfs(mol, numconf, rdDistGeom.ETKDGv2()) for mol in mMols_AddHs]"
   ]
  },
  {
   "cell_type": "code",
   "execution_count": null,
   "id": "b3069fa2-419c-44e5-94ca-fbf8652351c3",
   "metadata": {},
   "outputs": [],
   "source": [
    "cids"
   ]
  },
  {
   "cell_type": "code",
   "execution_count": null,
   "id": "b8bfaf9f-ea9b-4d30-96f3-677ecfd1c8b7",
   "metadata": {},
   "outputs": [],
   "source": [
    "mps = [AllChem.MMFFGetMoleculeProperties(mol, mmffVariant = \"MMFF94s\") for mol in mMols_AddHs]"
   ]
  },
  {
   "cell_type": "code",
   "execution_count": null,
   "id": "0c5afbcb-b105-46d2-bc70-288ff01dc1f8",
   "metadata": {},
   "outputs": [],
   "source": [
    "mps"
   ]
  },
  {
   "cell_type": "code",
   "execution_count": null,
   "id": "0639a80e-2dd1-4304-8ad6-423982020945",
   "metadata": {},
   "outputs": [],
   "source": [
    "[AllChem.MMFFOptimizeMoleculeConfs(mol, mmffVariant = \"MMFF94s\") for mol in mMols_AddHs]"
   ]
  },
  {
   "cell_type": "code",
   "execution_count": null,
   "id": "b0f2bd7d-61a3-477a-9619-9e7902433038",
   "metadata": {},
   "outputs": [],
   "source": [
    "for (x, y, z) in zip(mMols_AddHs, mps, cids):\n",
    "    [AllChem.MMFFOptimizeMoleculeConfs(x,y, confID = z)]"
   ]
  },
  {
   "cell_type": "code",
   "execution_count": null,
   "id": "10565505-10b3-4c4a-98f2-ea8539c2c856",
   "metadata": {},
   "outputs": [],
   "source": [
    "mMols_AddHs"
   ]
  },
  {
   "cell_type": "code",
   "execution_count": null,
   "id": "b357f078-9820-4567-b676-e620080b52ac",
   "metadata": {},
   "outputs": [],
   "source": [
    "mps"
   ]
  },
  {
   "cell_type": "code",
   "execution_count": null,
   "id": "31f37b0d-7379-46b8-9452-cd64e91e6170",
   "metadata": {},
   "outputs": [],
   "source": [
    "cids"
   ]
  }
 ],
 "metadata": {
  "kernelspec": {
   "display_name": "Python 3",
   "language": "python",
   "name": "python3"
  },
  "language_info": {
   "codemirror_mode": {
    "name": "ipython",
    "version": 3
   },
   "file_extension": ".py",
   "mimetype": "text/x-python",
   "name": "python",
   "nbconvert_exporter": "python",
   "pygments_lexer": "ipython3",
   "version": "3.9.5"
  }
 },
 "nbformat": 4,
 "nbformat_minor": 5
}
