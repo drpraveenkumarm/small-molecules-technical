{
 "cells": [
  {
   "cell_type": "raw",
   "id": "2e32e8e3-f956-4f69-ad2e-ebdf822d6048",
   "metadata": {},
   "source": [
    "Source: http://rdkit.blogspot.com/2019/01/more-on-constrained-embedding.html"
   ]
  },
  {
   "cell_type": "markdown",
   "id": "3742ea3a-926b-4306-b6ac-ae0be3c88a63",
   "metadata": {},
   "source": [
    "#Importing libraries"
   ]
  },
  {
   "cell_type": "code",
   "execution_count": null,
   "id": "ee2db78a-8988-4bcd-b41b-2bd357c14a9c",
   "metadata": {},
   "outputs": [],
   "source": [
    "from rdkit import Chem\n",
    "#from rdkit.Chem.Draw import IPythonConsole\n",
    "from rdkit.Chem.Draw import rdDepictor\n",
    "rdDepictor.SetPreferCoordGen(True)\n",
    "#IpythonConsole.molSize( 250,200)\n",
    "from rdkit.Chem import AllChem\n",
    "import math\n",
    "import rdkit\n",
    "import time"
   ]
  },
  {
   "cell_type": "markdown",
   "id": "8b393f97-1814-4c0f-97a4-9c208bb1b020",
   "metadata": {},
   "source": [
    "#Importing molecules as SMILES"
   ]
  },
  {
   "cell_type": "code",
   "execution_count": null,
   "id": "41c96d67-ef3f-4787-9da3-428df69b8e73",
   "metadata": {},
   "outputs": [],
   "source": [
    "m = Chem.MolFromSmiles(\"C/C=C/CC(C)C(O)C1C(=O)NC(CC)C(=O)N(C)CC(=O)N(C)C(CC(C)C)C(=O)NC(C(C)C)C(=O)N(C)C(CC(C)C)C(=O)NC(C)C(=O)NC(C)C(=O)N(C)C(CC(C)C)C(=O)N(C)C(CC(C)C)C(=O)N(C)C(C(C)C)C(=O)N1C\")"
   ]
  },
  {
   "cell_type": "markdown",
   "id": "80f61a00-b24d-4938-b0e8-6a7aa599b736",
   "metadata": {},
   "source": [
    "#Computing 2D Co-ordinates"
   ]
  },
  {
   "cell_type": "code",
   "execution_count": null,
   "id": "d8d48f27-92ee-4d8c-b551-8d5121a23e23",
   "metadata": {},
   "outputs": [],
   "source": [
    "rdDepictor.Compute2DCoords(m)"
   ]
  },
  {
   "cell_type": "markdown",
   "id": "e743491b-e3d3-4849-abd6-25d8ae4b1cbe",
   "metadata": {},
   "source": [
    "#Getting SMILES of the substructure"
   ]
  },
  {
   "cell_type": "code",
   "execution_count": null,
   "id": "2b62e61e-b333-421a-8110-996b834acdbc",
   "metadata": {},
   "outputs": [],
   "source": [
    "core = Chem.MolFromSmiles(\"C1C(=O)NCC(=O)NCC(=O)NCC(=O)NCC(=O)NCC(=O)NCC(=O)NCC(=O)NCC(=O)NCC(=O)NCC(=O)N1\")"
   ]
  },
  {
   "cell_type": "code",
   "execution_count": null,
   "id": "4f868ec8-a289-40f1-b655-fa59f8f1c065",
   "metadata": {},
   "outputs": [],
   "source": [
    "m.GetSubstructMatch(core)\n",
    "m"
   ]
  },
  {
   "cell_type": "markdown",
   "id": "47318078-23dc-4a67-b3ec-edae034987c8",
   "metadata": {},
   "source": [
    "#Adding Hydrogens to the molecule which are not explicitly added"
   ]
  },
  {
   "cell_type": "code",
   "execution_count": null,
   "id": "aef6d82a-57cc-4d53-b03b-cbeb35397889",
   "metadata": {},
   "outputs": [],
   "source": [
    "mh = Chem.AddHs(m)"
   ]
  },
  {
   "cell_type": "code",
   "execution_count": null,
   "id": "e43a90a0-355e-4a6b-9e39-d7a5e74c0809",
   "metadata": {},
   "outputs": [],
   "source": [
    "AllChem.EmbedMolecule(mh, randomSeed = 0xf00d)"
   ]
  },
  {
   "cell_type": "code",
   "execution_count": null,
   "id": "688e28e9-c333-42bf-8bee-2eadeb54c56c",
   "metadata": {},
   "outputs": [],
   "source": [
    "smi = 'CCC1NC(=O)C(C(O)C(C)CCCC(=O)OC)N(C)C(=O)C(C(C)C)N(C)C(=O)C(CC(C)C)N(C)C(=O)C(CC(C)C)N(C)C(=O)C(C)NC(=O)C(C)NC(=O)C(CC(C)C)N(C)C(=O)C(C(C)C)NC(=O)C(CC(C)C)N(C)C(=O)CN(C)C1=O'"
   ]
  },
  {
   "cell_type": "code",
   "execution_count": null,
   "id": "9e4d28f9-c4b5-405a-be2a-44d1842c0917",
   "metadata": {},
   "outputs": [],
   "source": [
    "newm = Chem.MolFromSmiles(smi)"
   ]
  },
  {
   "cell_type": "code",
   "execution_count": null,
   "id": "20dbe7a7-2a26-41a4-bd8d-9d6e9bdfc3d9",
   "metadata": {},
   "outputs": [],
   "source": [
    "rdDepictor.Compute2DCoords(newm)"
   ]
  },
  {
   "cell_type": "code",
   "execution_count": null,
   "id": "65a7ad20-981c-4773-bf80-c8b8a8a3811d",
   "metadata": {},
   "outputs": [],
   "source": [
    "newm.GetSubstructMatch(core)"
   ]
  },
  {
   "cell_type": "code",
   "execution_count": null,
   "id": "9b075279-4e5b-40bf-8f54-c7bbcd877ca1",
   "metadata": {},
   "outputs": [],
   "source": [
    "newm"
   ]
  },
  {
   "cell_type": "code",
   "execution_count": null,
   "id": "c75ab142-845f-429d-87dc-9111bf94c85a",
   "metadata": {},
   "outputs": [],
   "source": [
    "newmh = Chem.AddHs(newm)\n",
    "AllChem.EmbedMolecule(mh,randomSeed = 0xf00d)"
   ]
  },
  {
   "cell_type": "code",
   "execution_count": null,
   "id": "d9b28251-c36f-493f-8e6a-795bce88948c",
   "metadata": {},
   "outputs": [],
   "source": [
    "m_match = mh.GetSubstructMatch(core)\n",
    "newm_match = newmh.GetSubstructMatch(core)\n",
    "delta2 = 0.0\n",
    "for mi, newmi in zip(m_match, newm_match):\n",
    "    d = (mh.GetConformer().GetAtomPosition(mi) - newmh.GetConformer().GetAtomPosition(newmi)).LengthSq()\n",
    "    delta2 += d\n",
    "print(\"Core RMSD:\",math.sqrt(delta2/len(m_match)))"
   ]
  },
  {
   "cell_type": "code",
   "execution_count": null,
   "id": "d141efc0-3b53-4102-80a2-9f3753322b55",
   "metadata": {},
   "outputs": [],
   "source": [
    "m_match"
   ]
  },
  {
   "cell_type": "code",
   "execution_count": null,
   "id": "42c7eed8-7c35-425e-a87c-cc381a75b59a",
   "metadata": {},
   "outputs": [],
   "source": [
    "AllChem.AlignMol(newmh, mh, atomMap = list(zip(newm_match,m_match)))\n",
    "delta2 = 0\n",
    "for mi, newmi in zip(m_match,newm_match):\n",
    "    d = (mh.GetConformer().GetAtomPosition(mi) - newmh.GetConformer().GetAtomPosition(newmi)).LengthSq()\n",
    "    delta2 += d\n",
    "print(\"Aligned core RMSD:\",math.sqrt(delta2/len(m_match)))"
   ]
  },
  {
   "cell_type": "code",
   "execution_count": null,
   "id": "246f5107-54a3-4191-9073-028392c69c03",
   "metadata": {},
   "outputs": [],
   "source": []
  }
 ],
 "metadata": {
  "kernelspec": {
   "display_name": "Python 3",
   "language": "python",
   "name": "python3"
  },
  "language_info": {
   "codemirror_mode": {
    "name": "ipython",
    "version": 3
   },
   "file_extension": ".py",
   "mimetype": "text/x-python",
   "name": "python",
   "nbconvert_exporter": "python",
   "pygments_lexer": "ipython3",
   "version": "3.9.5"
  }
 },
 "nbformat": 4,
 "nbformat_minor": 5
}
