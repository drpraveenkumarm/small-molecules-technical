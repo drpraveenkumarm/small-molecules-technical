{
 "cells": [
  {
   "cell_type": "markdown",
   "id": "f06a71a8-81f8-47b7-88d3-7683f7751b80",
   "metadata": {},
   "source": [
    "#Importing the libraries"
   ]
  },
  {
   "cell_type": "code",
   "execution_count": null,
   "id": "76831f15-d179-408c-af1b-bd03a38783e8",
   "metadata": {},
   "outputs": [],
   "source": [
    "import rdkit as rd\n",
    "from rdkit import Chem\n",
    "from rdkit.Chem import rdDistGeom\n",
    "from rdkit.Chem import AllChem"
   ]
  },
  {
   "cell_type": "markdown",
   "id": "dbd3aafc-15a0-42e3-a443-c5a7c0f53096",
   "metadata": {},
   "source": [
    "#Importing Molecular List as SMILES"
   ]
  },
  {
   "cell_type": "code",
   "execution_count": null,
   "id": "0d52df53-9153-401a-9bcc-4d981c95c80d",
   "metadata": {},
   "outputs": [],
   "source": [
    "mList = ['CCC1CC(CCC1=O)C(=O)C1=CC=CC(C)=C1','CCC1CC(CCC1=O)C(=O)C1=CC=CC=C1',\\\n",
    "         'CC(=C)C(C1=CC=CC=C1)S(=O)CC(N)=O','CC1=CC(=CC=C1)C(C1CCC(N)CC1)C(F)(F)F',\\\n",
    "         'CNC1CCC(C2=CC(Cl)=C(Cl)C=C2)C2=CC=CC=C12','CCCOC(C1CCCCC1)C1=CC=C(Cl)C=C1'] "
   ]
  },
  {
   "cell_type": "markdown",
   "id": "b52f8d74-9d24-47b8-b159-525e787221a1",
   "metadata": {},
   "source": [
    "#Converting SMILES to mols"
   ]
  },
  {
   "cell_type": "code",
   "execution_count": null,
   "id": "4bf87411-3975-4646-9c31-c66e74a1bd6c",
   "metadata": {},
   "outputs": [],
   "source": [
    "mMols = [Chem.MolFromSmiles(m) for m in mList]"
   ]
  },
  {
   "cell_type": "code",
   "execution_count": null,
   "id": "7ce1f8ec-b08b-458e-a992-c0907a9be58f",
   "metadata": {},
   "outputs": [],
   "source": [
    "mMols"
   ]
  },
  {
   "cell_type": "markdown",
   "id": "3ac1e6bd-9441-46df-9333-c002b5172da4",
   "metadata": {},
   "source": [
    "#Adding/displaying the Hydrogens to the molecules for getting realistic geometries considering all the hydrogens present in the molecule."
   ]
  },
  {
   "cell_type": "code",
   "execution_count": null,
   "id": "cca5a71d-e716-4b9f-a464-2379b1860a33",
   "metadata": {},
   "outputs": [],
   "source": [
    "mMols_AddHs = [Chem.AddHs(mMol) for mMol in mMols]"
   ]
  },
  {
   "cell_type": "markdown",
   "id": "4f7e2da0-6696-4ed9-ba47-93d6539c9d70",
   "metadata": {},
   "source": [
    "#ETKDG is the default conformer generation method after distance geometry has been applied to generate the conformers. ETKDGs uses the torsion angle preferences to correct the conformers."
   ]
  },
  {
   "cell_type": "code",
   "execution_count": null,
   "id": "779775ec-145a-4b83-a796-8b6ae91b84e7",
   "metadata": {},
   "outputs": [],
   "source": [
    "param = rdDistGeom.ETKDGv2()"
   ]
  },
  {
   "cell_type": "markdown",
   "id": "7ef04ed7-87de-45d5-837e-2542fcd8bd25",
   "metadata": {},
   "source": [
    "#Setting the number of conformers that should be generated"
   ]
  },
  {
   "cell_type": "code",
   "execution_count": null,
   "id": "53ea88c5-8f88-4cc1-83e4-204d11f042e8",
   "metadata": {},
   "outputs": [],
   "source": [
    "numconf = 1"
   ]
  },
  {
   "cell_type": "markdown",
   "id": "67447f05-6f83-4ce6-9bb2-21bdfaeb737c",
   "metadata": {},
   "source": [
    "#Generation of multiple conformers using embedding method"
   ]
  },
  {
   "cell_type": "code",
   "execution_count": null,
   "id": "37ea52ce-dece-44d5-88ab-2cdaa7d13bae",
   "metadata": {},
   "outputs": [],
   "source": [
    "cids = [rdDistGeom.EmbedMultipleConfs(mol,numconf,rdDistGeom.ETKDGv2()) for mol in mMols_AddHs]"
   ]
  },
  {
   "cell_type": "code",
   "execution_count": null,
   "id": "2db21079-9531-4785-be62-91fc51fe0779",
   "metadata": {},
   "outputs": [],
   "source": [
    "cids"
   ]
  },
  {
   "cell_type": "markdown",
   "id": "42ee90de-48a6-4f72-9c6a-34e4099cb4df",
   "metadata": {},
   "source": [
    "#Energy Minimization of the generated conformers using MMFF "
   ]
  },
  {
   "cell_type": "code",
   "execution_count": null,
   "id": "aef51f8d-2209-4091-8371-09d645249714",
   "metadata": {},
   "outputs": [],
   "source": [
    "mps = [AllChem.MMFFGetMoleculeProperties(mol, mmffVariant = \"MMFF94s\") for mol in mMols_AddHs]"
   ]
  },
  {
   "cell_type": "code",
   "execution_count": null,
   "id": "46898588-c4a3-4d6a-846f-44230dcb2b64",
   "metadata": {},
   "outputs": [],
   "source": [
    "mps"
   ]
  },
  {
   "cell_type": "markdown",
   "id": "03ae473e-bdc4-4165-93e4-eb6f5ebf929e",
   "metadata": {},
   "source": [
    "#Optimization of the molecular conformers"
   ]
  },
  {
   "cell_type": "code",
   "execution_count": null,
   "id": "9a98cb62-1e10-46f8-9379-ecb77ba4e2d9",
   "metadata": {},
   "outputs": [],
   "source": [
    "[AllChem.MMFFOptimizeMoleculeConfs(mol, mmffVariant = \"MMFF94s\") for mol in mMols_AddHs]"
   ]
  },
  {
   "cell_type": "code",
   "execution_count": null,
   "id": "b3414fc2-80bb-4141-9cc5-2e61e3eeb335",
   "metadata": {},
   "outputs": [],
   "source": [
    "[AllChem.MMFFOptimizeMoleculeConfs(mMols_AddHs[1], mps[1], confID = cids[1])]"
   ]
  },
  {
   "cell_type": "code",
   "execution_count": null,
   "id": "bf914a98-6bd2-4471-90d8-41ab93b673c9",
   "metadata": {},
   "outputs": [],
   "source": [
    "for (x, y, z) in zip(mMols_AddHs , mps,cids):\n",
    "    [AllChem.MMFFOptimizeMoleculeConfs(x, y, confID = z)]"
   ]
  },
  {
   "cell_type": "code",
   "execution_count": null,
   "id": "a4c86b7a-60ad-42c1-9237-12fa888e4bfe",
   "metadata": {},
   "outputs": [],
   "source": [
    "mMols_AddHs"
   ]
  },
  {
   "cell_type": "code",
   "execution_count": null,
   "id": "dddf96c0-e3b9-44d0-9eee-c116d6290d92",
   "metadata": {},
   "outputs": [],
   "source": [
    "mps"
   ]
  },
  {
   "cell_type": "code",
   "execution_count": null,
   "id": "df7601a8-aad7-4744-bbc3-bc0d20099cb1",
   "metadata": {},
   "outputs": [],
   "source": [
    "cids"
   ]
  },
  {
   "cell_type": "code",
   "execution_count": null,
   "id": "0651c5c7-fe88-46c2-8bd9-fca733238600",
   "metadata": {},
   "outputs": [],
   "source": [
    "Chem.AllChem.GenerateDepictionMatching3DStructure()\n"
   ]
  },
  {
   "cell_type": "code",
   "execution_count": null,
   "id": "99479b32-70e1-4620-b911-49e9db1162b9",
   "metadata": {},
   "outputs": [],
   "source": [
    "import py3Dmol\n",
    "view = py3Dmol.view(query='pdb:1hvr')\n",
    "view.setStyle({'cartoon':{'color':'spectrum'}})\n",
    "view"
   ]
  },
  {
   "cell_type": "markdown",
   "id": "82b607ac-b379-456b-a6c2-d46933cebf5b",
   "metadata": {},
   "source": [
    "#Display 3D molecule from the forumula (smiles) using rdkit and py3Dmol - Shared by Sharmeen"
   ]
  },
  {
   "cell_type": "code",
   "execution_count": null,
   "id": "b47ee920-233a-41cb-ab55-a77728c91bb3",
   "metadata": {},
   "outputs": [],
   "source": [
    "import py3Dmol"
   ]
  },
  {
   "cell_type": "code",
   "execution_count": null,
   "id": "fff1480f-b8f8-4ed4-8779-aae09b708515",
   "metadata": {},
   "outputs": [],
   "source": [
    "def show(smi, style = \"stick\"):\n",
    "    #Construct a molecule from a SMILES string.\n",
    "    mol = Chem.MolFromSmiles(smi)\n",
    "    #Adds hydrogens to the graph of a molecule.\n",
    "    mol = Chem.AddHs(mol)\n",
    "    #Use distance geometry to obtain initial coordinates for a molecule\n",
    "    AllChem.EmbedMolecule(mol)\n",
    "    #uses MMFF to optimize a molecule's structure\n",
    "    AllChem.MMFFOptimizeMolecule(mol,maxIters = 200,mmffVariant = \"MMFF94s\")\n",
    "    mblock = Chem.MolToMolBlock(mol)\n",
    "    view = py3Dmol.view(width = 200, height = 200)\n",
    "    view.addModel(mblock,\"mol\")\n",
    "    view.setStyle({style:{}})\n",
    "    view.zoomTo()\n",
    "    view.show()"
   ]
  },
  {
   "cell_type": "code",
   "execution_count": null,
   "id": "8493ffc0-498a-4ebd-bad8-40024781b6ce",
   "metadata": {},
   "outputs": [],
   "source": [
    "show(\"CCCC1=NN(C2=C1N=C(NC2=O)C3=C(C=CC(=C3)S(=O)(=O)N4CCN(CC4)C)OCC)C\")"
   ]
  },
  {
   "cell_type": "code",
   "execution_count": null,
   "id": "0997f894-0ea5-473c-a641-f470755fc6d3",
   "metadata": {},
   "outputs": [],
   "source": [
    "def show(smi, style = \"stick\"):\n",
    "    #Construct a molecule from a SMILES string.\n",
    "    mol = Chem.MolFromSmiles(smi)\n",
    "    #Adds hydrogens to the graph of a molecule.\n",
    "    mol = Chem.AddHs(mol)\n",
    "    #Use distance geometry to obtain initial coordinates for a molecule\n",
    "    AllChem.EmbedMolecule(mol)\n",
    "    param = rdDistGeom.ETKDGv2()\n",
    "    cids = rdDistGeom.EmbedMultipleConfs(mol,10,rdDistGeom.ETKDGv2())\n",
    "    mps = [AllChem.MMFFGetMoleculeProperties(cid,mmffVariant= \"MMFF94s\") for cid in cids]\n",
    "    [AllChem.MMFFOptimizeMolecule(mp,maxIters = 200,mmffVariant = \"MMFF94s\") for mp in mps]\n",
    "    #uses MMFF to optimize a molecule's structure\n",
    "    #AllChem.MMFFOptimizeMolecule(mol,maxIters = 200,mmffVariant = \"MMFF94s\")\n",
    "    mblock = Chem.MolToMolBlock(mol)\n",
    "    view = py3Dmol.view(width = 200, height = 200)\n",
    "    view.addModel(mblock,\"mol\")\n",
    "    view.setStyle({style:{}})\n",
    "    view.zoomTo()\n",
    "    view.show()"
   ]
  },
  {
   "cell_type": "code",
   "execution_count": null,
   "id": "f0b7e7e7-2241-4fb8-8329-6a277a2aca70",
   "metadata": {},
   "outputs": [],
   "source": [
    "m = Chem.MolFromSmiles(\"C1CCC1OC\")\n",
    "m2 = Chem.AddHs(m)\n",
    "#Use distance geometry to obtain multiple sets of coordinates for a molecule\n",
    "cids = AllChem.EmbedMultipleConfs(m2,20,pruneRmsThresh = 1)\n",
    "#AllChem.MMFFGetMoleculeProperties(m2,mmffVariant = \"MMF94s\")"
   ]
  },
  {
   "cell_type": "code",
   "execution_count": null,
   "id": "44376482-cd56-46c1-b442-b790227e1e31",
   "metadata": {},
   "outputs": [],
   "source": [
    "for cid in cids: AllChem.MMFFOptimizeMolecule(m2,confId = cid)"
   ]
  },
  {
   "cell_type": "code",
   "execution_count": null,
   "id": "866f3db9-c43b-4875-9014-3b69474cc8ac",
   "metadata": {},
   "outputs": [],
   "source": [
    "view = py3Dmol.view(width = 200, height = 200)\n",
    "view.addModel(m2,confId = cid,\"mol\")\n",
    "view.setStyle({style:{}})\n",
    "view.zoomTo()\n",
    "view.show()"
   ]
  },
  {
   "cell_type": "code",
   "execution_count": null,
   "id": "c2bd8b22-15ba-4eac-bace-c939b6115b11",
   "metadata": {},
   "outputs": [],
   "source": [
    "m2"
   ]
  },
  {
   "cell_type": "code",
   "execution_count": null,
   "id": "1bf105de-0519-4585-9f04-089d29510fbb",
   "metadata": {},
   "outputs": [],
   "source": [
    "rmslist = []\n",
    "AllChem.AlignMolConformers(m2,RMSlist = rmslist)\n",
    "print(len(rmslist))"
   ]
  },
  {
   "cell_type": "markdown",
   "id": "576f8179-023f-41bf-b4fc-e01f37ba3d12",
   "metadata": {},
   "source": [
    "rmslist"
   ]
  },
  {
   "cell_type": "code",
   "execution_count": null,
   "id": "8b5b2947-d636-4dca-be69-25b6ea6c6fda",
   "metadata": {},
   "outputs": [],
   "source": [
    "rmslist"
   ]
  },
  {
   "cell_type": "code",
   "execution_count": null,
   "id": "c2e30db9-7b3b-4eec-8bde-fba57eeadb37",
   "metadata": {},
   "outputs": [],
   "source": [
    "res = AllChem.MMFFOptimizeMoleculeConfs(m2)"
   ]
  },
  {
   "cell_type": "code",
   "execution_count": null,
   "id": "5b28ed8e-9d05-426c-9068-7da39742244f",
   "metadata": {},
   "outputs": [],
   "source": []
  },
  {
   "cell_type": "code",
   "execution_count": null,
   "id": "6a45d17e-ef21-42fa-bee1-c5db77fb9cef",
   "metadata": {},
   "outputs": [],
   "source": []
  }
 ],
 "metadata": {
  "kernelspec": {
   "display_name": "Python 3",
   "language": "python",
   "name": "python3"
  },
  "language_info": {
   "codemirror_mode": {
    "name": "ipython",
    "version": 3
   },
   "file_extension": ".py",
   "mimetype": "text/x-python",
   "name": "python",
   "nbconvert_exporter": "python",
   "pygments_lexer": "ipython3",
   "version": "3.9.5"
  }
 },
 "nbformat": 4,
 "nbformat_minor": 5
}
