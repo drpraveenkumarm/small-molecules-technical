{
 "cells": [
  {
   "cell_type": "code",
   "execution_count": null,
   "id": "0fbc643c-833b-4c94-aa0b-fbdab65122d4",
   "metadata": {},
   "outputs": [],
   "source": [
    "from __future__ import print_function"
   ]
  },
  {
   "cell_type": "code",
   "execution_count": null,
   "id": "7c3d8743-4735-4f63-af29-f77dff346fab",
   "metadata": {},
   "outputs": [],
   "source": [
    "from rdkit import Chem\n",
    "from rdkit.Chem import Draw\n",
    "from rdkit.Chem import AllChem\n",
    "from rdkit.Chem import rdchem\n",
    "from rdkit.Chem import ChemicalFeatures\n",
    "from rdkit import RDConfig\n",
    "import os\n",
    "from rdkit.Chem.rdchem import Atom"
   ]
  },
  {
   "cell_type": "code",
   "execution_count": null,
   "id": "3e855dc2-88e4-4fad-bbb4-cd44f023b438",
   "metadata": {},
   "outputs": [],
   "source": [
    "m = Chem.MolFromSmiles('Cc1ccccc1')"
   ]
  },
  {
   "cell_type": "code",
   "execution_count": null,
   "id": "0997039d-aa26-4d04-9f87-1dc019132fb0",
   "metadata": {},
   "outputs": [],
   "source": [
    "m"
   ]
  },
  {
   "cell_type": "code",
   "execution_count": null,
   "id": "127985a6-6100-4a81-904a-1320b1b7e087",
   "metadata": {},
   "outputs": [],
   "source": [
    "m = Chem.MolFromMolFile(\"data/input.mol\")"
   ]
  },
  {
   "cell_type": "code",
   "execution_count": null,
   "id": "710807eb-1522-4831-86e1-6ce09828e7e8",
   "metadata": {},
   "outputs": [],
   "source": [
    "m"
   ]
  },
  {
   "cell_type": "code",
   "execution_count": null,
   "id": "80514ffb-5347-4b1f-a2eb-49ee887ef5e3",
   "metadata": {},
   "outputs": [],
   "source": [
    "stringWithMolData = open('data/input.mol',\"r\").read()"
   ]
  },
  {
   "cell_type": "code",
   "execution_count": null,
   "id": "2e2969d3-8655-41ac-9f4f-17c75d6dbaed",
   "metadata": {},
   "outputs": [],
   "source": [
    "stringWithMolData"
   ]
  },
  {
   "cell_type": "code",
   "execution_count": null,
   "id": "205a5ac1-38ce-4802-bff4-a47c9231fce6",
   "metadata": {},
   "outputs": [],
   "source": [
    "m = Chem.MolFromMolBlock(stringWithMolData)"
   ]
  },
  {
   "cell_type": "code",
   "execution_count": null,
   "id": "dd7ceae9-0660-4cff-9929-bb73177363c9",
   "metadata": {},
   "outputs": [],
   "source": [
    "m"
   ]
  },
  {
   "cell_type": "code",
   "execution_count": null,
   "id": "3635aaa2-9485-443f-a889-09e02a6ba541",
   "metadata": {},
   "outputs": [],
   "source": [
    "m = Chem.MolFromMolFile(\"data/invalid.mol\")"
   ]
  },
  {
   "cell_type": "code",
   "execution_count": null,
   "id": "3a3404c2-d4e3-46be-a49c-4ad4b58b85ec",
   "metadata": {},
   "outputs": [],
   "source": [
    "m"
   ]
  },
  {
   "cell_type": "code",
   "execution_count": null,
   "id": "5f5771e5-6a1b-4ff4-a9dd-a5cfb730f291",
   "metadata": {},
   "outputs": [],
   "source": [
    "suppl = Chem.SDMolSupplier('data/5ht3ligs.sdf')"
   ]
  },
  {
   "cell_type": "code",
   "execution_count": null,
   "id": "b8d05890-a6cd-4f67-bebd-454378b87060",
   "metadata": {},
   "outputs": [],
   "source": [
    "suppl"
   ]
  },
  {
   "cell_type": "code",
   "execution_count": null,
   "id": "34b475cb-3686-47aa-b6df-d86e81e30d65",
   "metadata": {},
   "outputs": [],
   "source": [
    "mols = [x for x in suppl]"
   ]
  },
  {
   "cell_type": "code",
   "execution_count": null,
   "id": "96f0b544-fd12-4809-91e0-2ad2e42cce15",
   "metadata": {},
   "outputs": [],
   "source": [
    "Chem.Draw.MolsToGridImage(mols)"
   ]
  },
  {
   "cell_type": "code",
   "execution_count": null,
   "id": "f55b7e8e-5b27-43a2-801d-6b04a5d730c9",
   "metadata": {},
   "outputs": [],
   "source": [
    "suppl[0].GetNumAtoms()"
   ]
  },
  {
   "cell_type": "code",
   "execution_count": null,
   "id": "fa05c9a9-0949-4bc0-b381-40026a35741c",
   "metadata": {},
   "outputs": [],
   "source": [
    "molnumatoms = [mol.GetNumAtoms() for mol in mols]\n",
    "print(molnumatoms)"
   ]
  },
  {
   "cell_type": "code",
   "execution_count": null,
   "id": "aeeba80f-1284-428f-b383-7213b6ae46db",
   "metadata": {},
   "outputs": [],
   "source": [
    "molnumatoms = []\n",
    "for mol in mols:\n",
    "    molnumatoms.append(mol.GetNumAtoms())\n",
    "print(molnumatoms)"
   ]
  },
  {
   "cell_type": "code",
   "execution_count": null,
   "id": "23df7df7-70b2-4f54-a705-0fd28a36f164",
   "metadata": {},
   "outputs": [],
   "source": [
    "inf = open('data/5ht3ligs.sdf',\"rb\")"
   ]
  },
  {
   "cell_type": "code",
   "execution_count": null,
   "id": "07232190-896d-4cbd-8603-8ce8b3453fd1",
   "metadata": {},
   "outputs": [],
   "source": [
    "fsuppl = Chem.ForwardSDMolSupplier(inf)"
   ]
  },
  {
   "cell_type": "code",
   "execution_count": null,
   "id": "fe1ad565-9945-4717-aa70-9b0fb448bb81",
   "metadata": {},
   "outputs": [],
   "source": [
    "for mol in fsuppl:\n",
    "    if mol is None: continue\n",
    "    print(mol.GetNumAtoms())"
   ]
  },
  {
   "cell_type": "code",
   "execution_count": null,
   "id": "2d79f219-ce56-486b-b0cb-89a79dda7989",
   "metadata": {},
   "outputs": [],
   "source": [
    "fsuppl"
   ]
  },
  {
   "cell_type": "code",
   "execution_count": null,
   "id": "fde71e60-4007-4665-b6ec-927ae4f2b0db",
   "metadata": {},
   "outputs": [],
   "source": [
    "mols = [x for x in fsuppl]"
   ]
  },
  {
   "cell_type": "code",
   "execution_count": null,
   "id": "241263ae-0d51-4f12-a569-30d69fb91082",
   "metadata": {},
   "outputs": [],
   "source": [
    "Chem.Draw.MolsToGridImage(mols)"
   ]
  },
  {
   "cell_type": "code",
   "execution_count": null,
   "id": "b761ae51-9ad7-4b4f-9b56-a65d30c4a729",
   "metadata": {},
   "outputs": [],
   "source": [
    "import gzip"
   ]
  },
  {
   "cell_type": "code",
   "execution_count": null,
   "id": "be345d89-5f6a-46a3-9dbb-2b521984298a",
   "metadata": {},
   "outputs": [],
   "source": [
    "inf = gzip.open(\"data/actives_5ht3.sdf.gz\")"
   ]
  },
  {
   "cell_type": "code",
   "execution_count": null,
   "id": "ba574ab0-f748-431a-b146-5e8a97d7ec75",
   "metadata": {},
   "outputs": [],
   "source": [
    "gzuppl = Chem.ForwardSDMolSupplier(inf)"
   ]
  },
  {
   "cell_type": "code",
   "execution_count": null,
   "id": "65154bce-41b4-4a35-8190-16c818a489ea",
   "metadata": {},
   "outputs": [],
   "source": [
    "gzuppl"
   ]
  },
  {
   "cell_type": "code",
   "execution_count": null,
   "id": "6296ce2a-044c-44e2-9018-cbaaca55e84d",
   "metadata": {},
   "outputs": [],
   "source": [
    "ms = [x for x in gzuppl if x is not None]"
   ]
  },
  {
   "cell_type": "code",
   "execution_count": null,
   "id": "4f5e8626-2f81-4ba0-b31b-35727c62d3ae",
   "metadata": {},
   "outputs": [],
   "source": [
    "len(ms)"
   ]
  },
  {
   "cell_type": "code",
   "execution_count": null,
   "id": "a1e6e454-224e-4350-a1f7-3172db440574",
   "metadata": {},
   "outputs": [],
   "source": [
    "Chem.Draw.MolsToGridImage(ms)"
   ]
  },
  {
   "cell_type": "code",
   "execution_count": null,
   "id": "1aa9ea17-63b6-4de6-aaf9-4416b33a0dec",
   "metadata": {},
   "outputs": [],
   "source": [
    "suppl = Chem.SDMolSupplier('data/5ht3ligs.sdf')"
   ]
  },
  {
   "cell_type": "code",
   "execution_count": null,
   "id": "8b99a03e-8e82-46c5-83a4-4d3ff64cad4d",
   "metadata": {},
   "outputs": [],
   "source": [
    "suppl = Chem.SDMolSupplier('data/5ht3ligs.sdf')"
   ]
  },
  {
   "cell_type": "code",
   "execution_count": null,
   "id": "066406f6-b605-4f5d-a47b-5cf801d9f687",
   "metadata": {},
   "outputs": [],
   "source": [
    "suppl"
   ]
  },
  {
   "cell_type": "code",
   "execution_count": null,
   "id": "b1faf9c9-b4d5-4bb3-b862-9ab5c52ac1e5",
   "metadata": {},
   "outputs": [],
   "source": [
    "mols = [x for x in suppl]"
   ]
  },
  {
   "cell_type": "code",
   "execution_count": null,
   "id": "e8328d13-0df0-4d08-a91b-78a56e82866c",
   "metadata": {},
   "outputs": [],
   "source": [
    "suppl[0].GetChiralTag()"
   ]
  },
  {
   "cell_type": "code",
   "execution_count": null,
   "id": "5b7cdcb0-e70c-48a2-a90a-d4a6183b5952",
   "metadata": {},
   "outputs": [],
   "source": [
    "fdefName = os.path.join(RDConfig.RDDataDir,'BaseFeatures.fdef')\n",
    "factory = ChemicalFeatures.BuildFeatureFactory(fdefName)"
   ]
  },
  {
   "cell_type": "code",
   "execution_count": null,
   "id": "14864c63-4d03-4914-8bc5-2209ddc2d7e5",
   "metadata": {},
   "outputs": [],
   "source": [
    "m = Chem.MolFromSmiles('OCc1ccccc1CN')"
   ]
  },
  {
   "cell_type": "code",
   "execution_count": null,
   "id": "53243fea-9917-4aa3-80a3-7e137bd86ed8",
   "metadata": {},
   "outputs": [],
   "source": [
    "feats = factory.GetFeaturesForMol(m)"
   ]
  },
  {
   "cell_type": "code",
   "execution_count": null,
   "id": "d1f91fda-e306-4d57-86a1-72c10bcd621d",
   "metadata": {},
   "outputs": [],
   "source": [
    "len(feats)"
   ]
  },
  {
   "cell_type": "code",
   "execution_count": null,
   "id": "33f7cd97-64f1-4377-9be6-789d9325c8ff",
   "metadata": {},
   "outputs": [],
   "source": [
    "feats[0].GetFamily()"
   ]
  },
  {
   "cell_type": "code",
   "execution_count": null,
   "id": "c6507e6f-ee4d-49e2-9067-a72a4122ee80",
   "metadata": {},
   "outputs": [],
   "source": [
    "feats[0].GetType()"
   ]
  },
  {
   "cell_type": "code",
   "execution_count": null,
   "id": "89968acf-8c59-4211-a7e1-28390c91d020",
   "metadata": {},
   "outputs": [],
   "source": [
    "feats[0].GetAtomIds()"
   ]
  },
  {
   "cell_type": "code",
   "execution_count": null,
   "id": "a7109fe3-2864-482c-b1bc-f9c36d38eaed",
   "metadata": {},
   "outputs": [],
   "source": [
    "feats[4].GetFamily()"
   ]
  },
  {
   "cell_type": "code",
   "execution_count": null,
   "id": "99de1564-0413-4a1c-8727-aadb3cc7a35a",
   "metadata": {},
   "outputs": [],
   "source": [
    "feats[4].GetAtomIds()"
   ]
  },
  {
   "cell_type": "code",
   "execution_count": null,
   "id": "34f69af3-7ef6-4d16-8de0-06f1218360c8",
   "metadata": {},
   "outputs": [],
   "source": [
    "m = Chem.MolFromSmiles('C1=CC2=C(C=C1)C1=CC=CC=C21')"
   ]
  },
  {
   "cell_type": "code",
   "execution_count": null,
   "id": "53970ade-d965-4410-a7b1-8f16ac9a63f0",
   "metadata": {},
   "outputs": [],
   "source": [
    "m.GetAtomWithIdx(3).GetIsAromatic()"
   ]
  },
  {
   "cell_type": "code",
   "execution_count": null,
   "id": "5d2438a9-da2a-403a-b140-91d368f5a9fc",
   "metadata": {},
   "outputs": [],
   "source": [
    "m.GetAtomWithIdx(6).GetIsAromatic()"
   ]
  },
  {
   "cell_type": "code",
   "execution_count": null,
   "id": "eb84bd3f-3774-40de-b89f-fb0d10946bff",
   "metadata": {},
   "outputs": [],
   "source": [
    "m.GetBondBetweenAtoms(3,6).GetIsAromatic()"
   ]
  },
  {
   "cell_type": "code",
   "execution_count": null,
   "id": "27a55cc8-e2f5-4ad2-babb-62cb9b54d915",
   "metadata": {},
   "outputs": [],
   "source": [
    "#demonstrating both fused rings and the influence of exocyclic double bonds:\n",
    "m=Chem.MolFromSmiles('O=C1C=CC(=O)C2=C1OC=CO2')"
   ]
  },
  {
   "cell_type": "code",
   "execution_count": null,
   "id": "2654c521-e8af-434f-afe2-1917b231aab9",
   "metadata": {},
   "outputs": [],
   "source": [
    "m"
   ]
  },
  {
   "cell_type": "code",
   "execution_count": null,
   "id": "75ce859c-9a72-4c48-b707-d43d96451f62",
   "metadata": {},
   "outputs": [],
   "source": [
    "m.GetAtomWithIdx(6).GetIsAromatic()"
   ]
  },
  {
   "cell_type": "code",
   "execution_count": null,
   "id": "5292259f-40b2-4b7b-9799-5882df99af02",
   "metadata": {},
   "outputs": [],
   "source": [
    "m.GetAtomWithIdx(7).GetIsAromatic()"
   ]
  },
  {
   "cell_type": "code",
   "execution_count": null,
   "id": "7504c9de-c1e2-4269-bf21-24d47fb45b46",
   "metadata": {},
   "outputs": [],
   "source": [
    "m.GetBondBetweenAtoms(6,7).GetIsAromatic()"
   ]
  },
  {
   "cell_type": "code",
   "execution_count": null,
   "id": "9c56ba0c-e498-4f9e-9946-62129b0298c3",
   "metadata": {},
   "outputs": [],
   "source": [
    "#heteroatoms with radicals are not considered candidates for aromaticity:\n",
    "m = Chem.MolFromSmiles('C1=C[N]C=C1')"
   ]
  },
  {
   "cell_type": "code",
   "execution_count": null,
   "id": "77e7c46a-a886-4ab0-887d-3f01b702c21f",
   "metadata": {},
   "outputs": [],
   "source": [
    "m"
   ]
  },
  {
   "cell_type": "code",
   "execution_count": null,
   "id": "410f1852-f790-4ad1-b44c-6597932d1cb2",
   "metadata": {},
   "outputs": [],
   "source": [
    "m.GetAtomWithIdx(0).GetIsAromatic()"
   ]
  },
  {
   "cell_type": "code",
   "execution_count": null,
   "id": "5e94b233-8ac3-4728-b19c-5757dc1afafc",
   "metadata": {},
   "outputs": [],
   "source": [
    "m.GetAtomWithIdx(2).GetIsAromatic()"
   ]
  },
  {
   "cell_type": "code",
   "execution_count": null,
   "id": "b6c3938c-884f-40c9-8bb3-c5e3cdff2408",
   "metadata": {},
   "outputs": [],
   "source": [
    "m.GetAtomWithIdx(2).GetNumRadicalElectrons()"
   ]
  },
  {
   "cell_type": "code",
   "execution_count": null,
   "id": "988bdc20-799b-4676-9125-ea9efcd2db8b",
   "metadata": {},
   "outputs": [],
   "source": [
    "#Charged carbons with radicals are also not considered:\n",
    "m = Chem.MolFromSmiles('C1=CC=CC=C[C+]1')"
   ]
  },
  {
   "cell_type": "code",
   "execution_count": null,
   "id": "f8544a1f-902e-42af-8dc9-0f9cf4f483e2",
   "metadata": {},
   "outputs": [],
   "source": [
    "m"
   ]
  },
  {
   "cell_type": "code",
   "execution_count": null,
   "id": "d6ed14c0-6b36-4c26-9fc9-f34206243d15",
   "metadata": {},
   "outputs": [],
   "source": [
    "m.GetAtomWithIdx(0).GetIsAromatic()"
   ]
  },
  {
   "cell_type": "code",
   "execution_count": null,
   "id": "dac26ddd-ecf1-403f-a02b-8d00ec211c18",
   "metadata": {},
   "outputs": [],
   "source": [
    "m.GetAtomWithIdx(6).GetIsAromatic()"
   ]
  },
  {
   "cell_type": "code",
   "execution_count": null,
   "id": "1a90d1d4-8de3-453c-93eb-ba0ac5762ab2",
   "metadata": {},
   "outputs": [],
   "source": [
    "m.GetAtomWithIdx(6).GetFormalCharge()"
   ]
  },
  {
   "cell_type": "code",
   "execution_count": null,
   "id": "cc8469c9-85d1-41a4-9b45-1101e54b3831",
   "metadata": {},
   "outputs": [],
   "source": [
    "m.GetAtomWithIdx(6).GetNumRadicalElectrons()"
   ]
  },
  {
   "cell_type": "code",
   "execution_count": null,
   "id": "a6546703-29e1-4469-8755-3abf833b849e",
   "metadata": {},
   "outputs": [],
   "source": [
    "#Neutral carbons with radicals, however, are still considered:\n",
    "m = Chem.MolFromSmiles('C1=[C]NC=C1')"
   ]
  },
  {
   "cell_type": "code",
   "execution_count": null,
   "id": "90c6f719-672f-4776-ad35-5ad84347d68f",
   "metadata": {},
   "outputs": [],
   "source": [
    "m"
   ]
  },
  {
   "cell_type": "code",
   "execution_count": null,
   "id": "525589b3-e102-4968-9106-dbe0253d2bb7",
   "metadata": {},
   "outputs": [],
   "source": [
    "m.GetAtomWithIdx(0).GetIsAromatic()"
   ]
  },
  {
   "cell_type": "code",
   "execution_count": null,
   "id": "eca848fe-f158-4018-9f2b-f606b99cfe99",
   "metadata": {},
   "outputs": [],
   "source": [
    "m.GetAtomWithIdx(1).GetIsAromatic()"
   ]
  },
  {
   "cell_type": "code",
   "execution_count": null,
   "id": "ac9356d1-9771-4804-a291-f70c2514c057",
   "metadata": {},
   "outputs": [],
   "source": [
    "m.GetAtomWithIdx(1).GetNumRadicalElectrons()"
   ]
  },
  {
   "cell_type": "code",
   "execution_count": null,
   "id": "125d4431-fe07-4a7b-b92e-7aa33f8fb6dd",
   "metadata": {},
   "outputs": [],
   "source": [
    "#creating a dative bond between the atoms, eg. a bipy(bipyridine)-copper complex(IUPAC NAME: dichloroplatinum;2-pyridin-2-ylpyridine ):\n",
    "bipycu = Chem.MolFromSmiles('c1cccn->2c1-c1n->3cccc1.[Pt]23(Cl)Cl')\n",
    "bipycu.GetBondBetweenAtoms(4,12).GetBondType()"
   ]
  },
  {
   "cell_type": "code",
   "execution_count": null,
   "id": "cb46e457-50ee-4f8e-9bee-f716c6bcede4",
   "metadata": {},
   "outputs": [],
   "source": [
    "Chem.MolToSmiles(bipycu)"
   ]
  },
  {
   "cell_type": "code",
   "execution_count": null,
   "id": "eaae8eda-0cc6-4498-99bf-ee64edfb4277",
   "metadata": {},
   "outputs": [],
   "source": [
    "bipycu"
   ]
  },
  {
   "cell_type": "code",
   "execution_count": null,
   "id": "63df3e9b-ee29-4eff-8acf-380487f98232",
   "metadata": {},
   "outputs": [],
   "source": [
    "bipycu.GetAtomWithIdx(4).GetTotalValence()"
   ]
  },
  {
   "cell_type": "code",
   "execution_count": null,
   "id": "c305e74b-5223-4522-b549-714a2b5ead60",
   "metadata": {},
   "outputs": [],
   "source": [
    "bipycu.GetAtomWithIdx(12).GetTotalValence()"
   ]
  },
  {
   "cell_type": "code",
   "execution_count": null,
   "id": "4c86f27b-12cc-4982-90f0-d72d52ed7dc9",
   "metadata": {},
   "outputs": [],
   "source": [
    "#Hybridization queries\n",
    "#^0 matches S hybridized atoms\n",
    "#^1 matches SP hybridized atoms\n",
    "#^2 matches SP2 hybridized atoms\n",
    "#^3 matches SP3 hybridized atoms\n",
    "#^4 matches SP3D hybridized atoms\n",
    "#^5 matches SP3D2 hybridized atoms\n",
    "Chem.MolFromSmiles('CC=CF').GetSubstructMatches(Chem.MolFromSmarts('[^2]'))"
   ]
  },
  {
   "cell_type": "code",
   "execution_count": null,
   "id": "d7bc7e96-73f4-4e99-8176-5878b94c0822",
   "metadata": {},
   "outputs": [],
   "source": [
    "Chem.MolFromSmiles('CC=CF').GetSubstructMatches(Chem.MolFromSmarts('[^2]'))"
   ]
  },
  {
   "cell_type": "code",
   "execution_count": null,
   "id": "c3c55169-c9f5-4c83-a004-302b84118b6e",
   "metadata": {},
   "outputs": [],
   "source": [
    "#Dative bonds\n",
    "Chem.MolFromSmiles('C1=CC=CC=N1->[Fe]').GetSubstructMatches(Chem.MolFromSmarts('[˓→#7]->*'))"
   ]
  },
  {
   "cell_type": "code",
   "execution_count": null,
   "id": "a0e9c337-bc35-4147-a998-a907be5f1704",
   "metadata": {},
   "outputs": [],
   "source": [
    "Chem.MolFromSmiles('C1=CC=CC=N1->[Fe]').GetSubstructMatches(Chem.MolFromSmarts('*\n",
    "˓→<-[#7]'))"
   ]
  },
  {
   "cell_type": "code",
   "execution_count": null,
   "id": "c6478f6a-ea20-4377-b16d-7cf85aea50cd",
   "metadata": {},
   "outputs": [],
   "source": [
    "#Heteroatom neighbor queries\n",
    "Chem.MolFromSmiles('O=C(O)c1nc(O)ccn1').GetSubstructMatches(Chem.MolFromSmarts(→'[z2]'))\n",
    "Chem.MolFromSmiles('O=C(O)c1nc(O)ccn1').GetSubstructMatches(Chem.MolFromSmarts(→'[Z2]'))\n",
    "Chem.MolFromSmiles('O=C(O)c1nc(O)ccn1').GetSubstructMatches(Chem.MolFromSmarts(→'[Z1]'))"
   ]
  },
  {
   "cell_type": "code",
   "execution_count": null,
   "id": "ec7f9242-0ad9-4615-9f20-717ce1c332cc",
   "metadata": {},
   "outputs": [],
   "source": [
    "#Range queries: Ranges of values can be provided for many query types that expect numeric values. The query types that currently support range queries are: D, h, r, R, v, x, X, z, Z\n",
    "#D{2-4} matches atoms that have between 2 and 4 (inclusive) explicit connections.\n",
    "#D{-3} matches atoms that have less than or equal to 3 explicit connections.\n",
    "#D{2-} matches atoms that have at least 2 explicit connections\n",
    "\n",
    "Chem.MolFromSmiles('CC(=O)OC').GetSubstructMatches(Chem.MolFromSmarts('[z{1-}]'))"
   ]
  },
  {
   "cell_type": "code",
   "execution_count": null,
   "id": "05bf1b36-45a7-43a6-b1e9-43553c446065",
   "metadata": {},
   "outputs": [],
   "source": [
    "Chem.MolFromSmiles('CC(=O)OC').GetSubstructMatches(Chem.MolFromSmarts('[D{2-3}]'))"
   ]
  },
  {
   "cell_type": "code",
   "execution_count": null,
   "id": "77db5867-e343-40bc-9b50-79e0b6d506a1",
   "metadata": {},
   "outputs": [],
   "source": [
    "Chem.MolFromSmiles('CC(=O)OC.C').GetSubstructMatches(Chem.MolFromSmarts('[D{-2}]→'))"
   ]
  },
  {
   "cell_type": "code",
   "execution_count": null,
   "id": "b03b572a-f1b0-4506-a9ef-049eabd9af20",
   "metadata": {},
   "outputs": [],
   "source": [
    "#Chirality\n",
    "#If no chiral information is present in the reaction definition, the stereochemistry of the reactants is preserved\n",
    "# eg. esterification of secondary alcohols, is used throughout\n",
    "alcohol1 = Chem.MolFromSmiles('CC(CCN)O')\n",
    "alcohol2 = Chem.MolFromSmiles('C[C@H](CCN)O')\n",
    "alcohol3 = Chem.MolFromSmiles('C[C@@H](CCN)O')\n"
   ]
  },
  {
   "cell_type": "code",
   "execution_count": null,
   "id": "c7e4c611-53ee-4a1e-9f32-f6f87d6141eb",
   "metadata": {},
   "outputs": [],
   "source": [
    "alcohol1"
   ]
  },
  {
   "cell_type": "code",
   "execution_count": null,
   "id": "07693683-0a20-4529-b9c9-86dd28489d10",
   "metadata": {},
   "outputs": [],
   "source": [
    "alcohol2"
   ]
  },
  {
   "cell_type": "code",
   "execution_count": null,
   "id": "f9c4d3fd-afbc-4aeb-8de8-8260efb0073d",
   "metadata": {},
   "outputs": [],
   "source": [
    "alcohol3"
   ]
  },
  {
   "cell_type": "code",
   "execution_count": null,
   "id": "be5111e0-de4a-4056-b8b3-2c1ea1627342",
   "metadata": {},
   "outputs": [],
   "source": [
    "acid = Chem.MolFromSmiles('CC(=O)O')"
   ]
  },
  {
   "cell_type": "code",
   "execution_count": null,
   "id": "c8022b78-6d1d-45ef-8cef-a3c4487bde8c",
   "metadata": {},
   "outputs": [],
   "source": [
    "acid"
   ]
  },
  {
   "cell_type": "code",
   "execution_count": null,
   "id": "2a8c44a9-4c2d-4a30-b12a-1470ac399871",
   "metadata": {},
   "outputs": [],
   "source": [
    "rxn = AllChem.ReactionFromSmarts('[CH1:1][OH:2].[OH][C:3]=[O:4]>>→[C:1][O:2][C:3]=[O:4]')"
   ]
  },
  {
   "cell_type": "code",
   "execution_count": null,
   "id": "2153b7ee-818e-4bf8-8a12-33fed8d4c086",
   "metadata": {},
   "outputs": [],
   "source": [
    "ps=rxn.RunReactants((alcohol1,acid))\n",
    "Chem.MolToSmiles(ps[0][0],True)"
   ]
  },
  {
   "cell_type": "code",
   "execution_count": null,
   "id": "a2bf29a3-f57c-47f3-9e8e-7c3de45d9b80",
   "metadata": {},
   "outputs": [],
   "source": [
    "ps = rxn.RunReactants((alcohol2, acid))\n",
    "Chem.MolToSmiles(ps[0][0],True)"
   ]
  },
  {
   "cell_type": "code",
   "execution_count": null,
   "id": "2f0c8680-224f-42da-bc12-9cb917bd5f44",
   "metadata": {},
   "outputs": [],
   "source": [
    "ps = rxn.RunReactants((alcohol3, acid))\n",
    "Chem.MolToSmiles(ps[0][0],True)"
   ]
  },
  {
   "cell_type": "code",
   "execution_count": null,
   "id": "c35f451d-2cca-4f68-a4d6-91d9532fa320",
   "metadata": {},
   "outputs": [],
   "source": [
    "#You get the same result (retention of stereochemistry) if a mapped atom has the same chirality in both reactants and products\n",
    "rxn = AllChem.ReactionFromSmarts('[C@H1:1][OH:2].[OH][C:3]=[O:4]>>→[C@:1][O:2][C:3]=[O:4]')\n",
    "ps=rxn.RunReactants((alcohol1,acid))\n",
    "Chem.MolToSmiles(ps[0][0],True)"
   ]
  },
  {
   "cell_type": "code",
   "execution_count": null,
   "id": "743dc5f5-170a-472b-bf76-e0ebf246ecf5",
   "metadata": {},
   "outputs": [],
   "source": [
    "ps=rxn.RunReactants((alcohol2,acid))\n",
    "Chem.MolToSmiles(ps[0][0],True)"
   ]
  },
  {
   "cell_type": "code",
   "execution_count": null,
   "id": "1dc1ba96-4119-441a-9963-636e51409ec8",
   "metadata": {},
   "outputs": [],
   "source": [
    "ps=rxn.RunReactants((alcohol3,acid))\n",
    "Chem.MolToSmiles(ps[0][0],True)"
   ]
  },
  {
   "cell_type": "code",
   "execution_count": null,
   "id": "d2003599-4b3a-4758-b700-c48e25dcb454",
   "metadata": {},
   "outputs": [],
   "source": [
    "#A mapped atom with different chirality in reactants and products leads to inversion of stereochemistry:\n",
    "rxn = AllChem.ReactionFromSmarts('[C@H1:1][OH:2].[OH][C:3]=[O:4]>>→[C@@:1][O:2][C:3]=[O:4]')"
   ]
  },
  {
   "cell_type": "code",
   "execution_count": null,
   "id": "044795ad-2a4a-4118-9805-daae40c837c1",
   "metadata": {},
   "outputs": [],
   "source": [
    "ps=rxn.RunReactants((alcohol1,acid))\n",
    "Chem.MolToSmiles(ps[0][0],True)"
   ]
  },
  {
   "cell_type": "code",
   "execution_count": null,
   "id": "91cd2892-8a96-4117-ba27-7534cd8e321e",
   "metadata": {},
   "outputs": [],
   "source": [
    "ps=rxn.RunReactants((alcohol2,acid))\n",
    "Chem.MolToSmiles(ps[0][0],True)"
   ]
  },
  {
   "cell_type": "code",
   "execution_count": null,
   "id": "d3cd8366-d1f8-4774-9974-ee5741f3ddaf",
   "metadata": {},
   "outputs": [],
   "source": [
    "ps=rxn.RunReactants((alcohol3,acid))\n",
    ">>> Chem.MolToSmiles(ps[0][0],True)"
   ]
  },
  {
   "cell_type": "code",
   "execution_count": null,
   "id": "39d3fb12-3553-4818-9057-5bb07603c134",
   "metadata": {},
   "outputs": [],
   "source": [
    "#If a mapped atom has chirality specified in the reactants, but not in the products, the reaction destroys chirality at that center:"
   ]
  },
  {
   "cell_type": "code",
   "execution_count": null,
   "id": "cbd39d85-61b1-4129-a4e8-872061341fb2",
   "metadata": {},
   "outputs": [],
   "source": [
    "rxn = AllChem.ReactionFromSmarts('[C@H1:1][OH:2].[OH][C:3]=[O:4]>>→[C:1][O:2][C:3]=[O:4]')"
   ]
  },
  {
   "cell_type": "code",
   "execution_count": null,
   "id": "91ccf8f1-b8ab-403f-8136-b13d4d1aa47b",
   "metadata": {},
   "outputs": [],
   "source": [
    "ps=rxn.RunReactants((alcohol1,acid))\n",
    "Chem.MolToSmiles(ps[0][0],True)"
   ]
  },
  {
   "cell_type": "code",
   "execution_count": null,
   "id": "b0fa1317-c4ee-4bf0-88ca-6237f4b3d784",
   "metadata": {},
   "outputs": [],
   "source": [
    "ps=rxn.RunReactants((alcohol2,acid))\n",
    "Chem.MolToSmiles(ps[0][0],True)"
   ]
  },
  {
   "cell_type": "code",
   "execution_count": null,
   "id": "d46dfbc9-ca3b-45db-8e0d-ca94829dcaeb",
   "metadata": {},
   "outputs": [],
   "source": [
    "ps=rxn.RunReactants((alcohol3,acid))\n",
    "Chem.MolToSmiles(ps[0][0],True)"
   ]
  },
  {
   "cell_type": "code",
   "execution_count": null,
   "id": "dc1dc429-b6ec-4015-ae24-a6e4effd8cf9",
   "metadata": {},
   "outputs": [],
   "source": [
    "#And, finally, if chirality is specified in the products, but not the reactants, the reaction creates a stereocenter with the specified chirality:"
   ]
  },
  {
   "cell_type": "code",
   "execution_count": null,
   "id": "975924ad-d777-4222-a9a3-e8e0b46f3ad2",
   "metadata": {},
   "outputs": [],
   "source": [
    "rxn = AllChem.ReactionFromSmarts('[CH1:1][OH:2].[OH][C:3]=[O:4]>>→[C@:1][O:2][C:3]=[O:4]')\n",
    "ps=rxn.RunReactants((alcohol1,acid))\n",
    "ps=rxn.RunReactants((alcohol1,acid))\n",
    "Chem.MolToSmiles(ps[0][0],True)"
   ]
  },
  {
   "cell_type": "code",
   "execution_count": null,
   "id": "1e2b8d1b-774d-4903-8e28-1a1b13d205e0",
   "metadata": {},
   "outputs": [],
   "source": [
    "ps=rxn.RunReactants((alcohol2,acid))\n",
    "Chem.MolToSmiles(ps[0][0],True)"
   ]
  },
  {
   "cell_type": "code",
   "execution_count": null,
   "id": "d56cd443-0b9d-46ea-acbb-62cdb61c8155",
   "metadata": {},
   "outputs": [],
   "source": [
    "ps=rxn.RunReactants((alcohol3,acid))\n",
    "Chem.MolToSmiles(ps[0][0],True)"
   ]
  },
  {
   "cell_type": "code",
   "execution_count": null,
   "id": "142a8d36-bf99-456e-b999-121bff1f2c3c",
   "metadata": {},
   "outputs": [],
   "source": [
    "#Note that this doesn’t make sense without including a bit more context around the stereocenter in the reaction definition:"
   ]
  },
  {
   "cell_type": "code",
   "execution_count": null,
   "id": "f13ee506-6bf1-4454-b0f7-83f2dbfd0fd2",
   "metadata": {},
   "outputs": [],
   "source": [
    "rxn = AllChem.ReactionFromSmarts('[CH3:5][CH1:1]([C:6])[OH:2].[OH][C:3]=[O:4]>>→[C:5][C@:1]([C:6])[O:2][C:3]=[O:4]')"
   ]
  },
  {
   "cell_type": "code",
   "execution_count": null,
   "id": "aebd479e-24b1-42df-ad37-75abf440c096",
   "metadata": {},
   "outputs": [],
   "source": [
    "ps=rxn.RunReactants((alcohol1,acid))\n",
    "Chem.MolToSmiles(ps[0][0],True)"
   ]
  },
  {
   "cell_type": "code",
   "execution_count": null,
   "id": "a3596ded-bde5-4cd0-91ee-eedf929e101f",
   "metadata": {},
   "outputs": [],
   "source": [
    "ps=rxn.RunReactants((alcohol2,acid))\n",
    "Chem.MolToSmiles(ps[0][0],True)"
   ]
  },
  {
   "cell_type": "code",
   "execution_count": null,
   "id": "bbd59b9e-6404-4206-8cf1-3ec96dacb8c8",
   "metadata": {},
   "outputs": [],
   "source": [
    "ps=rxn.RunReactants((alcohol3,acid))\n",
    "Chem.MolToSmiles(ps[0][0],True)"
   ]
  },
  {
   "cell_type": "code",
   "execution_count": null,
   "id": "2bc89a5b-091b-48d9-a3f9-d2e06a280916",
   "metadata": {},
   "outputs": [],
   "source": []
  },
  {
   "cell_type": "code",
   "execution_count": null,
   "id": "63fb232b-06a4-45f1-b406-2158ea448952",
   "metadata": {},
   "outputs": [],
   "source": []
  },
  {
   "cell_type": "code",
   "execution_count": null,
   "id": "d1a44406-8bcb-4834-abee-a16b04d5f980",
   "metadata": {},
   "outputs": [],
   "source": []
  },
  {
   "cell_type": "code",
   "execution_count": null,
   "id": "fd946be8-adf4-4758-b54b-4db28985f9f0",
   "metadata": {},
   "outputs": [],
   "source": []
  },
  {
   "cell_type": "code",
   "execution_count": null,
   "id": "ce623753-95cb-430e-89d9-f40e7d9b681d",
   "metadata": {},
   "outputs": [],
   "source": []
  },
  {
   "cell_type": "code",
   "execution_count": null,
   "id": "dc64edfd-8ec6-4998-987c-d44227a01511",
   "metadata": {},
   "outputs": [],
   "source": []
  }
 ],
 "metadata": {
  "kernelspec": {
   "display_name": "Python 3",
   "language": "python",
   "name": "python3"
  },
  "language_info": {
   "codemirror_mode": {
    "name": "ipython",
    "version": 3
   },
   "file_extension": ".py",
   "mimetype": "text/x-python",
   "name": "python",
   "nbconvert_exporter": "python",
   "pygments_lexer": "ipython3",
   "version": "3.9.5"
  }
 },
 "nbformat": 4,
 "nbformat_minor": 5
}
