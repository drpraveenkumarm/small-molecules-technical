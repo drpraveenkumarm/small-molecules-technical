{
 "cells": [
  {
   "cell_type": "code",
   "execution_count": null,
   "id": "b77e8195-8e98-432d-be6d-e0e5bc34b14f",
   "metadata": {},
   "outputs": [],
   "source": [
    "#RMSD Calculation\n",
    "from rdkit import Chem\n",
    "from rdkit.Chem.Draw import rdDepictor\n",
    "rdDepictor.SetPreferCoordGen(True)\n",
    "from rdkit.Chem import AllChem\n",
    "import math\n",
    "import rdkit\n",
    "import time"
   ]
  },
  {
   "cell_type": "code",
   "execution_count": null,
   "id": "b944e598-c1ca-4513-b403-510aad5590c1",
   "metadata": {},
   "outputs": [],
   "source": [
    "m= Chem.MolFromSmiles(\"C/C=C/CC(C)C(O)C1C(=O)NC(CC)C(=O)N(C)CC(=O)N(C)C(CC(C)C)C(=O)NC(C(C)C)C(=O)N(C)C(CC(C)C)C(=O)NC(C)C(=O)NC(C)C(=O)N(C)C(CC(C)C)C(=O)N(C)C(CC(C)C)C(=O)N(C)C(C(C)C)C(=O)N1C\")"
   ]
  },
  {
   "cell_type": "code",
   "execution_count": null,
   "id": "5d24e109-2d9f-41b8-b152-8240273530d4",
   "metadata": {},
   "outputs": [],
   "source": [
    "rdDepictor.Compute2DCoords(m)"
   ]
  },
  {
   "cell_type": "code",
   "execution_count": null,
   "id": "e43a478a-784b-4115-bf8d-10c79977e67e",
   "metadata": {},
   "outputs": [],
   "source": [
    "core = Chem.MolFromSmiles(\"C1C(=O)NCC(=O)NCC(=O)NCC(=O)NCC(=O)NCC(=O)NCC(=O)NCC(=O)NCC(=O)NCC(=O)NCC(=O)N1\")"
   ]
  },
  {
   "cell_type": "code",
   "execution_count": null,
   "id": "cf49334c-d425-4751-9fc9-28aab61b8d09",
   "metadata": {},
   "outputs": [],
   "source": [
    "m.GetSubstructMatch(core)\n",
    "m"
   ]
  },
  {
   "cell_type": "code",
   "execution_count": null,
   "id": "c55faf19-3828-40c0-a7de-6b3ec17a68e7",
   "metadata": {},
   "outputs": [],
   "source": [
    "mh = Chem.AddHs(m)"
   ]
  },
  {
   "cell_type": "code",
   "execution_count": null,
   "id": "cdf8f28b-9ffc-485d-90b0-559651ff0325",
   "metadata": {},
   "outputs": [],
   "source": [
    "AllChem.EmbedMolecule(mh, randomSeed = 0xf00d)"
   ]
  },
  {
   "cell_type": "code",
   "execution_count": null,
   "id": "898bb56b-913b-4616-a62b-f9a84541938a",
   "metadata": {},
   "outputs": [],
   "source": [
    "smi = 'CCC1NC(=O)C(C(O)C(C)CCCC(=O)OC)N(C)C(=O)C(C(C)C)N(C)C(=O)C(CC(C)C)N(C)C(=O)C(CC(C)C)N(C)C(=O)C(C)NC(=O)C(C)NC(=O)C(CC(C)C)N(C)C(=O)C(C(C)C)NC(=O)C(CC(C)C)N(C)C(=O)CN(C)C1=O'"
   ]
  },
  {
   "cell_type": "code",
   "execution_count": null,
   "id": "2719ebf7-a1f3-4b97-91bf-9a0b1cb5ffc2",
   "metadata": {},
   "outputs": [],
   "source": [
    "newm = Chem.MolFromSmiles(smi)"
   ]
  },
  {
   "cell_type": "code",
   "execution_count": null,
   "id": "cc0df299-e16e-4ceb-acf3-d241a3dd302d",
   "metadata": {},
   "outputs": [],
   "source": [
    "rdDepictor.Compute2DCoords(newm)"
   ]
  },
  {
   "cell_type": "code",
   "execution_count": null,
   "id": "c72f9fae-51e4-471a-90fb-b55b946b94ee",
   "metadata": {},
   "outputs": [],
   "source": [
    "newm.GetSubstructMatch(core)"
   ]
  },
  {
   "cell_type": "code",
   "execution_count": null,
   "id": "39fcb1f8-7bf5-438a-91c5-6e27bf2f822b",
   "metadata": {},
   "outputs": [],
   "source": [
    "newm"
   ]
  },
  {
   "cell_type": "code",
   "execution_count": null,
   "id": "273839a1-ec7f-4133-bc21-f8c922c6328c",
   "metadata": {},
   "outputs": [],
   "source": [
    "newmh = Chem.AddHs(newm)\n",
    "AllChem.EmbedMolecule(mh, randomSeed = 0xf00d)"
   ]
  },
  {
   "cell_type": "code",
   "execution_count": null,
   "id": "b9793892-9554-446b-8923-17305b445467",
   "metadata": {},
   "outputs": [],
   "source": [
    "m_match = mh.GetSubstructMatch(core)\n",
    "newm_match = newmh.GetSubstructMatch(core)\n",
    "delta2 = 0.0\n",
    "for mi, newmi in zip(m_match, newm_match):\n",
    "    d = (mh.GetConformer().GetAtomPosition(mi) - newmh.GetConformer().GetAtomPosition(newmi)).LengthSq()\n",
    "    delta2 += d\n",
    "print(\"Core RMSD:\",math.sqrt(delta2/len(m_match)))"
   ]
  },
  {
   "cell_type": "code",
   "execution_count": null,
   "id": "4ced0639-6c3c-405c-be5a-bd4f405a057b",
   "metadata": {},
   "outputs": [],
   "source": [
    "m_match = mh.GetSubstructMatch(core)\n",
    "newm_match = newmh.GetSubstructMatch(core)\n",
    "delta2 = 0.0\n",
    "for mi, newmi in zip(m_match, newm_match):\n",
    "    d = (mh.GetConformer().GetAtomPosition(mi) - newmh.GetConformer().GetAtomPosition(newmi)).LengthSq()\n",
    "    delta2 += d\n",
    "print(\"Core RMSD:\",math.sqrt(delta2/len(m_match)))"
   ]
  },
  {
   "cell_type": "code",
   "execution_count": null,
   "id": "ec922c6e-dee8-4e84-a4f6-cc7a2a407cd1",
   "metadata": {},
   "outputs": [],
   "source": [
    "m_match"
   ]
  },
  {
   "cell_type": "code",
   "execution_count": null,
   "id": "ff65c98b-193f-4bd4-a65c-b1f029b11d42",
   "metadata": {},
   "outputs": [],
   "source": [
    "AllChem.AlignMol(newmh, mh, atomMap = list(zip(newm_match, m_match)))\n",
    "delta2 = 0\n",
    "for mi, newmi in zip(m_match,newm_match):\n",
    "    d = (mh.GetConformer().GetAtomPosition(mi) - newmh.GetConformer().GetAtomPosition(newmi)).LengthSq()\n",
    "    delta2 += d\n",
    "print(\"Aligned core RMSD:\", math.sqrt(delta2/len(m_match)))"
   ]
  }
 ],
 "metadata": {
  "kernelspec": {
   "display_name": "Python 3",
   "language": "python",
   "name": "python3"
  },
  "language_info": {
   "codemirror_mode": {
    "name": "ipython",
    "version": 3
   },
   "file_extension": ".py",
   "mimetype": "text/x-python",
   "name": "python",
   "nbconvert_exporter": "python",
   "pygments_lexer": "ipython3",
   "version": "3.9.5"
  }
 },
 "nbformat": 4,
 "nbformat_minor": 5
}
