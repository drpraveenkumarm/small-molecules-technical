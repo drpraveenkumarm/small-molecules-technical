{
 "cells": [
  {
   "cell_type": "code",
   "execution_count": null,
   "id": "03d1ea25-c889-4e95-adbb-ac8c0283e03d",
   "metadata": {},
   "outputs": [],
   "source": [
    "#MurckoScaffolds\n",
    "from rdkit import Chem\n",
    "from rdkit.Chem import Scaffolds\n",
    "import rdkit\n",
    "m = Chem.MolFromSmiles('Cc1ccccc1')\n",
    "GetScaffoldForMol(m)\n",
    "Chem.MolToSmiles(GetScaffoldForMol(m))\n",
    "m = Chem.MolFromSmiles('Cc1cc(Oc2nccc(CCC)c2)ccc1')\n",
    "Chem.MolToSmiles(GetScaffoldForMol(m))\n"
   ]
  },
  {
   "cell_type": "code",
   "execution_count": null,
   "id": "54157634-a1e6-4b7c-8cf4-64155642b783",
   "metadata": {},
   "outputs": [],
   "source": [
    "#Molecular Hash Strings"
   ]
  },
  {
   "cell_type": "code",
   "execution_count": null,
   "id": "29e44951-982d-4417-b35f-9162f0b5c9cc",
   "metadata": {},
   "outputs": [],
   "source": [
    "from rdkit import Chem\n",
    "from rdkit.Chem import rdMolHash\n",
    "import rdkit\n",
    "s = Chem.MolFromSmiles('CC(C(C1=CC(=C(C=C1)O)O)O)N(C)C(=O)OCC2=CC=CC=C2')"
   ]
  },
  {
   "cell_type": "code",
   "execution_count": null,
   "id": "970c23bb-3839-4257-93f9-16dc098fb677",
   "metadata": {},
   "outputs": [],
   "source": [
    "s"
   ]
  },
  {
   "cell_type": "code",
   "execution_count": null,
   "id": "558e9b44-a627-4b78-9d45-ad108914064d",
   "metadata": {},
   "outputs": [],
   "source": [
    "molhasf = rdMolHash.HashFunction.names"
   ]
  },
  {
   "cell_type": "code",
   "execution_count": null,
   "id": "17f9ad7d-20b6-47eb-a8c1-794bb668d65e",
   "metadata": {},
   "outputs": [],
   "source": [
    "print(molhasf)"
   ]
  },
  {
   "cell_type": "code",
   "execution_count": null,
   "id": "61db713d-0367-4de4-8052-d7c6f556c221",
   "metadata": {},
   "outputs": [],
   "source": [
    "for i,j in molhasf.items():\n",
    "    print(i,rdMolHash.MolHash(s,j))\n",
    "    \n"
   ]
  },
  {
   "cell_type": "code",
   "execution_count": null,
   "id": "0ca75f6e-ba56-4186-b8da-2a53dae65fc0",
   "metadata": {},
   "outputs": [],
   "source": [
    "#Murcko Scaffold Hashes (from slide 16 in [ref2])\n",
    "# Create a list of SMILES\n",
    "mList = ['CCC1CC(CCC1=O)C(=O)C1=CC=CC(C)=C1','CCC1CC(CCC1=O)C(=O)C1=CC=CC=C1',\\\n",
    "         'CC(=C)C(C1=CC=CC=C1)S(=O)CC(N)=O','CC1=CC(=CC=C1)C(C1CCC(N)CC1)C(F)(F)F',\\\n",
    "         'CNC1CCC(C2=CC(Cl)=C(Cl)C=C2)C2=CC=CC=C12','CCCOC(C1CCCCC1)C1=CC=C(Cl)C=C1']"
   ]
  },
  {
   "cell_type": "code",
   "execution_count": null,
   "id": "33ef26a5-8e31-493e-9674-d961cce7fa05",
   "metadata": {},
   "outputs": [],
   "source": [
    "mList"
   ]
  },
  {
   "cell_type": "code",
   "execution_count": null,
   "id": "2d159244-6dca-4938-b938-461efcb61511",
   "metadata": {},
   "outputs": [],
   "source": [
    "mMols = [Chem.MolFromSmiles(m) for m in mList]"
   ]
  },
  {
   "cell_type": "code",
   "execution_count": null,
   "id": "e7ad2a1a-2ed9-4780-aded-18d14c34582a",
   "metadata": {},
   "outputs": [],
   "source": [
    "mMols"
   ]
  },
  {
   "cell_type": "code",
   "execution_count": null,
   "id": "09b107f8-929e-4c6d-9a59-6f92b49f075e",
   "metadata": {},
   "outputs": [],
   "source": [
    "murckoHashList = [rdMolHash.MolHash(mMol, rdkit.Chem.rdMolHash.HashFunction.MurckoScaffold) for mMol in mMols]"
   ]
  },
  {
   "cell_type": "code",
   "execution_count": null,
   "id": "e2bc800f-61c1-45bc-90ef-32199f77ebd7",
   "metadata": {},
   "outputs": [],
   "source": [
    "def mostFreq(list):\n",
    "    return max(set(list), key = list.count)"
   ]
  },
  {
   "cell_type": "code",
   "execution_count": null,
   "id": "4189b7e0-9836-4618-8440-008f81fb0421",
   "metadata": {},
   "outputs": [],
   "source": [
    "mostFreq_murckoHash = mostFreq(murckoHashList)"
   ]
  },
  {
   "cell_type": "code",
   "execution_count": null,
   "id": "23f14a1e-fc99-42fa-a26f-8aebb731bf07",
   "metadata": {},
   "outputs": [],
   "source": [
    "mostFreq_murckoHash_mol = Chem.MolFromSmiles(mostFreq_murckoHash)"
   ]
  },
  {
   "cell_type": "code",
   "execution_count": null,
   "id": "4664bec6-7d5b-42e1-8d7f-e68983abac2f",
   "metadata": {},
   "outputs": [],
   "source": [
    "mostFreq_murckoHash_mol"
   ]
  },
  {
   "cell_type": "code",
   "execution_count": null,
   "id": "1738381b-8626-4358-bfa1-054dfcef37bd",
   "metadata": {},
   "outputs": [],
   "source": [
    "highlight_mostFreq_murckoHash = [mMol.GetSubstructMatch(mostFreq_murckoHash_mol) for mMol in mMols]"
   ]
  },
  {
   "cell_type": "code",
   "execution_count": null,
   "id": "26e54ebd-f679-48a1-b5dc-3595bc65c26e",
   "metadata": {},
   "outputs": [],
   "source": [
    "from rdkit.Chem import Draw"
   ]
  },
  {
   "cell_type": "code",
   "execution_count": null,
   "id": "8d3f78b1-f720-4eb7-81b6-cc97381482cb",
   "metadata": {},
   "outputs": [],
   "source": [
    "Draw.MolsToGridImage(mMols, legends = [murckoHash for murckoHash in murckoHashList],\n",
    "                    highlightAtomLists = highlight_mostFreq_murckoHash, subImgSize = (250,250), useSVG = False)"
   ]
  },
  {
   "cell_type": "code",
   "execution_count": null,
   "id": "b48cede3-02c1-41cb-8c7f-19929b7adfb1",
   "metadata": {},
   "outputs": [],
   "source": [
    "from rdkit import Chem\n",
    "from rdkit.Chem import rdFMCS"
   ]
  },
  {
   "cell_type": "code",
   "execution_count": null,
   "id": "9dc52ff7-f49f-44fe-bcdc-c6fbbfa72aae",
   "metadata": {},
   "outputs": [],
   "source": [
    "mList = ['CCC1CC(CCC1=O)C(=O)C1=CC=CC(C)=C1','CCC1CC(CCC1=O)C(=O)C1=CC=CC=C1',\\\n",
    "         'CC(=C)C(C1=CC=CC=C1)S(=O)CC(N)=O','CC1=CC(=CC=C1)C(C1CCC(N)CC1)C(F)(F)F',\\\n",
    "         'CNC1CCC(C2=CC(Cl)=C(Cl)C=C2)C2=CC=CC=C12','CCCOC(C1CCCCC1)C1=CC=C(Cl)C=C1']"
   ]
  },
  {
   "cell_type": "code",
   "execution_count": null,
   "id": "5e5444e6-f227-4176-a95d-ac0d650c207b",
   "metadata": {},
   "outputs": [],
   "source": [
    "mMols = [Chem.MolFromSmiles(m) for m in mList]"
   ]
  },
  {
   "cell_type": "code",
   "execution_count": null,
   "id": "0f930bbf-3ae7-44dc-a24c-d626604a02e2",
   "metadata": {},
   "outputs": [],
   "source": [
    "commonMCS = rdFMCS.FindMCS(mMols)"
   ]
  },
  {
   "cell_type": "code",
   "execution_count": null,
   "id": "3e8771c0-ed9e-45df-b258-383a0a2c446f",
   "metadata": {},
   "outputs": [],
   "source": [
    "commonMCS_Mol = Chem.MolFromSmarts(commonMCS.smartsString)"
   ]
  },
  {
   "cell_type": "code",
   "execution_count": null,
   "id": "33f98242-4d00-4098-b00c-87a16ca2b279",
   "metadata": {},
   "outputs": [],
   "source": [
    "highlight_MCS = [mMol.GetSubstructMatch(commonMCS_Mol) for mMol in mMols]"
   ]
  },
  {
   "cell_type": "code",
   "execution_count": null,
   "id": "46518255-c61f-4308-9b00-dffe59e06e75",
   "metadata": {},
   "outputs": [],
   "source": [
    "Draw.MolsToGridImage(mMols,\n",
    "                highlightAtomLists = highlight_MCS, subImgSize = (250,250), useSVG = False)"
   ]
  },
  {
   "cell_type": "code",
   "execution_count": null,
   "id": "fdb6d332-ddc6-4609-8aaa-94b471dc45a4",
   "metadata": {},
   "outputs": [],
   "source": [
    "Extended_murckoHashList = [rdMolHash.MolHash(mMol, rdkit.Chem.rdMolHash.HashFunction.ExtendedMurcko) for mMol in mMols]\n",
    "mostFreq_Extended_murckoHash = mostFreq(Extended_murckoHashList)\n",
    "mostFreq_Extended_murckoHash_mol = Chem.MolFromSmiles(mostFreq_murckoHash)\n",
    "mostFreq_Extended_murckoHash_mol\n",
    "highlight_mostFreq_Extended_murckoHash = [mMol.GetSubstructMatch(mostFreq_Extended_murckoHash_mol) for mMol in mMols]\n",
    "Draw.MolsToGridImage(mMols, legends = [murckoHash for murckoHash in Extended_murckoHashList],\n",
    "                    highlightAtomLists = highlight_mostFreq_Extended_murckoHash, subImgSize = (250,250), useSVG = False)"
   ]
  },
  {
   "cell_type": "code",
   "execution_count": null,
   "id": "acb36c7c-e082-47f8-9640-67d656d9631e",
   "metadata": {},
   "outputs": [],
   "source": [
    "import py3Dmol\n",
    "view = py3Dmol.view(query = 'pdb:1hvr')\n",
    "view.setStyle({'cartoon':{'color':'spectrum'}})\n",
    "view"
   ]
  },
  {
   "cell_type": "code",
   "execution_count": null,
   "id": "91a154a8-2ce6-4b2b-bbe9-42b28797bf77",
   "metadata": {},
   "outputs": [],
   "source": []
  },
  {
   "cell_type": "code",
   "execution_count": null,
   "id": "e6fccf65-4c4d-450f-992d-f9193c8ce87b",
   "metadata": {},
   "outputs": [],
   "source": []
  }
 ],
 "metadata": {
  "kernelspec": {
   "display_name": "Python 3",
   "language": "python",
   "name": "python3"
  },
  "language_info": {
   "codemirror_mode": {
    "name": "ipython",
    "version": 3
   },
   "file_extension": ".py",
   "mimetype": "text/x-python",
   "name": "python",
   "nbconvert_exporter": "python",
   "pygments_lexer": "ipython3",
   "version": "3.9.5"
  }
 },
 "nbformat": 4,
 "nbformat_minor": 5
}
