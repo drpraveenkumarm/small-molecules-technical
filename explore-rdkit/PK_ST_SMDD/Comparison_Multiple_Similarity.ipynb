{
 "cells": [
  {
   "cell_type": "code",
   "execution_count": null,
   "id": "0426c435-d7ba-4418-ac7d-62a88d8f800c",
   "metadata": {},
   "outputs": [],
   "source": [
    "from rdkit import Chem\n",
    "from rdkit.Chem.Draw import SimilarityMaps\n",
    "from rdkit.Chem import MACCSkeys\n",
    "from rdkit import DataStructs"
   ]
  },
  {
   "cell_type": "code",
   "execution_count": null,
   "id": "23577dde-78bd-4939-9a68-b8df152df20e",
   "metadata": {},
   "outputs": [],
   "source": [
    "smiles_dict = [{\"Drug\":\"Levofloxacin\",\"Smiles\":\"C[C@H]1COC2=C3N1C=C(C(=O)C3=CC(=C2N4CCN(CC4)C)F)C(=O)O\"},\n",
    "              {\"Drug\":\"Ofloxacin\",\"Smiles\":\"CC1COC2=C3N1C=C(C(=O)C3=CC(=C2N4CCN(CC4)C)F)C(=O)O\"},\n",
    "              {\"Drug\":\"Pazufloxacin\",\"Smiles\":\"C[C@H]1COC2=C3N1C=C(C(=O)C3=CC(=C2C4(CC4)N)F)C(=O)O\"},\n",
    "              {\"Drug\":\"Lemofloxacin\",\"Smiles\":\"CCN1C=C(C(=O)C2=CC(=C(C(=C21)F)N3CCNC(C3)C)F)C(=O)O\"},\n",
    "              {\"Drug\":\"Tolfenamic Acid\",\"Smiles\":\"CC1=C(C=CC=C1Cl)NC2=CC=CC=C2C(=O)O\"},\n",
    "              {\"Drug\":\"Mefenamic Acid\",\"Smiles\":\"CC1=C(C(=CC=C1)NC2=CC=CC=C2C(=O)O)C\"},\n",
    "              {\"Drug\":\"5-Fluorocytosine\",\"Smiles\":\"C1=NC(=O)NC(=C1F)N\"},\n",
    "              {\"Drug\":\"isocytosine\",\"Smiles\":\"C1=CN=C(NC1=O)N\"}]"
   ]
  },
  {
   "cell_type": "code",
   "execution_count": null,
   "id": "5eea1a82-ac3f-4181-8d4b-fe35a0e583af",
   "metadata": {},
   "outputs": [],
   "source": [
    "smiles_dict"
   ]
  },
  {
   "cell_type": "code",
   "execution_count": null,
   "id": "3bb4c977-5ad2-4dfe-9234-00e8b31be320",
   "metadata": {},
   "outputs": [],
   "source": [
    "smiles = [sub[\"Smiles\"] for sub in smiles_dict]"
   ]
  },
  {
   "cell_type": "code",
   "execution_count": null,
   "id": "cc66eaf7-f5a9-4b92-9ef6-c92f4d3acb98",
   "metadata": {},
   "outputs": [],
   "source": [
    "smiles"
   ]
  },
  {
   "cell_type": "code",
   "execution_count": null,
   "id": "263527dd-e5f6-4eea-90aa-564adaff5d7f",
   "metadata": {},
   "outputs": [],
   "source": [
    "[sub[\"Drug\"] for sub in smiles_dict]"
   ]
  },
  {
   "cell_type": "code",
   "execution_count": null,
   "id": "345af4cb-1abe-4ef4-a070-535063d52c98",
   "metadata": {},
   "outputs": [],
   "source": [
    "mols = [Chem.MolFromSmiles(smiles) for smiles in smiles]"
   ]
  },
  {
   "cell_type": "code",
   "execution_count": null,
   "id": "0ef1e448-5805-4a36-9ea6-21a635191f77",
   "metadata": {},
   "outputs": [],
   "source": [
    "fps_APF = [SimilarityMaps.GetAPFingerprint(mol) for mol in mols]\n",
    "fps_TTF = [SimilarityMaps.GetTTFingerprint(mol) for mol in mols]\n",
    "fps_MorganFP = [SimilarityMaps.GetMorganFingerprint(mol) for mol in mols]\n",
    "fps_MACCSKeys = [MACCSkeys.GenMACCSKeys(mol) for mol in mols]"
   ]
  },
  {
   "cell_type": "code",
   "execution_count": null,
   "id": "daa90a52-fe7c-43f6-b4f0-e5032021e6a5",
   "metadata": {},
   "outputs": [],
   "source": [
    "num1 = 6\n",
    "num2 = 7"
   ]
  },
  {
   "cell_type": "code",
   "execution_count": null,
   "id": "65dcd223-4e13-40bc-910d-8ee992a06420",
   "metadata": {},
   "outputs": [],
   "source": [
    "#DataStructs.FingerprintSimilarity(fps_APF[0],fps_APF[1],metric=DataStructs.DiceSimilarity)\n",
    "#DataStructs.FingerprintSimilarity(fps_TTF[0],fps_TTF[1],metric=DataStructs.CosineSimilarity)\n",
    "print(\"Cosine Similarity = \",DataStructs.FingerprintSimilarity(fps_MACCSKeys[num1],fps_MACCSKeys[num2],metric=DataStructs.CosineSimilarity))\n",
    "print(\"Tanimoto Similarity = \",DataStructs.FingerprintSimilarity(fps_MACCSKeys[num1],fps_MACCSKeys[num2],metric=DataStructs.TanimotoSimilarity))\n",
    "print(\"Dice Similarity = \",DataStructs.FingerprintSimilarity(fps_MACCSKeys[num1],fps_MACCSKeys[num2],metric=DataStructs.DiceSimilarity))\n",
    "print(\"Russels Similarity = \",DataStructs.FingerprintSimilarity(fps_MACCSKeys[num1],fps_MACCSKeys[num2],metric=DataStructs.RusselSimilarity))\n",
    "print(\"McConnughey Similarity = \",DataStructs.FingerprintSimilarity(fps_MACCSKeys[num1],fps_MACCSKeys[num2],metric=DataStructs.McConnaugheySimilarity))\n",
    "#print(\"Tversky Similarity = \",DataStructs.FingerprintSimilarity(fps_MACCSKeys[num1],fps_MACCSKeys[2],metric=DataStructs.TverskySimilarity))"
   ]
  },
  {
   "cell_type": "code",
   "execution_count": null,
   "id": "aa8dbba0-18bb-4e06-801b-248e06c7b8f6",
   "metadata": {},
   "outputs": [],
   "source": [
    "print(\"Cosine Similarity = \",DataStructs.FingerprintSimilarity(fps_MorganFP[num1],fps_MorganFP[num2],metric=DataStructs.CosineSimilarity))\n",
    "print(\"Tanimoto Similarity = \",DataStructs.FingerprintSimilarity(fps_MorganFP[num1],fps_MorganFP[num2],metric=DataStructs.TanimotoSimilarity))\n",
    "print(\"Dice Similarity = \",DataStructs.FingerprintSimilarity(fps_MorganFP[num1],fps_MorganFP[num2],metric=DataStructs.DiceSimilarity))\n",
    "print(\"Russels Similarity = \",DataStructs.FingerprintSimilarity(fps_MorganFP[num1],fps_MorganFP[num2],metric=DataStructs.RusselSimilarity))\n",
    "print(\"McConnughey Similarity = \",DataStructs.FingerprintSimilarity(fps_MorganFP[num1],fps_MorganFP[num2],metric=DataStructs.McConnaugheySimilarity))"
   ]
  },
  {
   "cell_type": "code",
   "execution_count": null,
   "id": "c5dfe45f-bbfc-458d-8af8-4df8b5432749",
   "metadata": {},
   "outputs": [],
   "source": [
    "print(\"Cosine Similarity = \",DataStructs.FingerprintSimilarity(fps_APF[0],fps_APF[2],metric=DataStructs.CosineSimilarity))\n",
    "print(\"Tanimoto Similarity = \",DataStructs.FingerprintSimilarity(fps_APF[0],fps_APF[2],metric=DataStructs.TanimotoSimilarity))\n",
    "print(\"Dice Similarity = \",DataStructs.FingerprintSimilarity(fps_APF[0],fps_APF[2],metric=DataStructs.DiceSimilarity))\n",
    "print(\"Russels Similarity = \",DataStructs.FingerprintSimilarity(fps_APF[0],fps_APF[2],metric=DataStructs.RusselSimilarity))\n",
    "print(\"McConnughey Similarity = \",DataStructs.FingerprintSimilarity(fps_APF[0],fps_APF[2],metric=DataStructs.McConnaugheySimilarity))"
   ]
  },
  {
   "cell_type": "code",
   "execution_count": null,
   "id": "29e0e856-460a-439d-a3e2-51aeb6f2441a",
   "metadata": {},
   "outputs": [],
   "source": [
    "DataStructs.FingerprintSimilarity(fps_MorganFP[0],fps_MorganFP[2],metric=DataStructs.CosineSimilarity)"
   ]
  },
  {
   "cell_type": "code",
   "execution_count": null,
   "id": "12e4fa10-8156-4f48-a228-30543bda3510",
   "metadata": {},
   "outputs": [],
   "source": [
    "DataStructs.FingerprintSimilarity(fps_MACCSKeys[0],fps_MACCSKeys[2],metric=DataStructs.TanimotoSimilarity)"
   ]
  },
  {
   "cell_type": "code",
   "execution_count": null,
   "id": "11676c96-e716-4864-aac6-a2948dbd0858",
   "metadata": {},
   "outputs": [],
   "source": [
    "DataStructs.FingerprintSimilarity(fps_MorganFP[0],fps_MorganFP[2],metric=DataStructs.TanimotoSimilarity)"
   ]
  },
  {
   "cell_type": "code",
   "execution_count": null,
   "id": "8ce016ef-f508-4ea9-a1b5-50ec4a789ac7",
   "metadata": {},
   "outputs": [],
   "source": [
    "DataStructs.McConnaugheySimilarity(fps_MACCSKeys[0],fps_MACCSKeys[2],metric=DataStructs.McConnaugheySimilarity)\n",
    "#Decision was taken to drop McConnaghey SI"
   ]
  },
  {
   "cell_type": "code",
   "execution_count": null,
   "id": "6271c8ab-4fd6-448d-b4e7-6b13634c34eb",
   "metadata": {},
   "outputs": [],
   "source": [
    "molcommon = mols[0].GetSubstructMatch(mols[3])"
   ]
  },
  {
   "cell_type": "code",
   "execution_count": null,
   "id": "ee65cd6d-4d2f-4ac7-9742-76bb23f777de",
   "metadata": {},
   "outputs": [],
   "source": [
    "from rdkit.Chem import rdFMCS\n",
    "from rdkit.Chem import Draw"
   ]
  },
  {
   "cell_type": "code",
   "execution_count": null,
   "id": "e7d6e764-c120-4fe7-8371-5cda5a30faad",
   "metadata": {},
   "outputs": [],
   "source": [
    "commonMCS = rdFMCS.FindMCS(mols[0,3])"
   ]
  },
  {
   "cell_type": "code",
   "execution_count": null,
   "id": "b93b5bfa-9536-4e7f-a8a1-4240ed490e30",
   "metadata": {},
   "outputs": [],
   "source": [
    "mols[0:3]"
   ]
  },
  {
   "cell_type": "code",
   "execution_count": null,
   "id": "d36cc2b5-cf6e-4a63-bb9a-ec564bc3a6fb",
   "metadata": {},
   "outputs": [],
   "source": [
    "commonMCS = rdFMCS.FindMCS([mols[index] for index in [0,3]])"
   ]
  },
  {
   "cell_type": "code",
   "execution_count": null,
   "id": "35253e8d-1bf3-47aa-b41a-14f44936dfab",
   "metadata": {},
   "outputs": [],
   "source": [
    "commonMCS_mol = Chem.MolFromSmarts(commonMCS.smartsString)"
   ]
  },
  {
   "cell_type": "code",
   "execution_count": null,
   "id": "0f4189b7-bdc6-48c6-8d02-e790133b8f94",
   "metadata": {},
   "outputs": [],
   "source": [
    "highlight_MCS = [ms.GetSubstructMatch(commonMCS_mol) for ms in [mols[index] for index in [0,3]]]"
   ]
  },
  {
   "cell_type": "code",
   "execution_count": null,
   "id": "36edab22-60b2-4c76-8054-f96c35cff8d7",
   "metadata": {},
   "outputs": [],
   "source": [
    "highlight_MCS"
   ]
  },
  {
   "cell_type": "code",
   "execution_count": null,
   "id": "b72a01c7-9188-4e1b-8f49-040b45ecaad1",
   "metadata": {},
   "outputs": [],
   "source": [
    "Draw.MolsToGridImage([mols[index] for index in [0,3]], highlightAtomLists=highlight_MCS,\n",
    "                    legends = [\"Levofloxacin\",\"Lomeofloxacin\"],subImgSize = (500,500),useSVG = True)"
   ]
  },
  {
   "cell_type": "code",
   "execution_count": null,
   "id": "a868d899-a4a9-47a1-8b1a-8d27f695f3a0",
   "metadata": {},
   "outputs": [],
   "source": []
  },
  {
   "cell_type": "code",
   "execution_count": null,
   "id": "43cf6a5c-adc5-4895-9d14-d010c3dcdfcf",
   "metadata": {},
   "outputs": [],
   "source": []
  },
  {
   "cell_type": "code",
   "execution_count": null,
   "id": "d7e0897e-99e0-4f12-900e-736864c70bdd",
   "metadata": {},
   "outputs": [],
   "source": []
  },
  {
   "cell_type": "code",
   "execution_count": null,
   "id": "56ae3cb1-7acb-49f9-87e5-1c1c263f0438",
   "metadata": {},
   "outputs": [],
   "source": []
  },
  {
   "cell_type": "code",
   "execution_count": null,
   "id": "5b286374-33e6-4d90-8255-adfc8ce8440b",
   "metadata": {},
   "outputs": [],
   "source": []
  },
  {
   "cell_type": "code",
   "execution_count": null,
   "id": "cec7b44d-a46a-42e2-b825-606b96fce207",
   "metadata": {},
   "outputs": [],
   "source": []
  },
  {
   "cell_type": "code",
   "execution_count": null,
   "id": "a51bac00-8b6a-4f51-a479-94dc69c923fc",
   "metadata": {},
   "outputs": [],
   "source": []
  },
  {
   "cell_type": "code",
   "execution_count": null,
   "id": "8fe973c0-10b2-4f0a-aaa1-972b5aaa9b7d",
   "metadata": {},
   "outputs": [],
   "source": []
  },
  {
   "cell_type": "code",
   "execution_count": null,
   "id": "931c3f19-83fc-40ad-8b05-307442bdd2b1",
   "metadata": {},
   "outputs": [],
   "source": []
  },
  {
   "cell_type": "code",
   "execution_count": null,
   "id": "18521ebb-1a54-46e8-8bb3-285a0096e256",
   "metadata": {},
   "outputs": [],
   "source": []
  },
  {
   "cell_type": "code",
   "execution_count": null,
   "id": "4ce2f3b9-f16e-46cc-a09b-0fad36c5fd79",
   "metadata": {},
   "outputs": [],
   "source": []
  },
  {
   "cell_type": "code",
   "execution_count": null,
   "id": "8b7f2495-cca1-42ec-b1f0-ba67ad3f90c1",
   "metadata": {},
   "outputs": [],
   "source": []
  },
  {
   "cell_type": "code",
   "execution_count": null,
   "id": "c7d6c22f-4313-487c-a5c1-991d4681c486",
   "metadata": {},
   "outputs": [],
   "source": []
  },
  {
   "cell_type": "code",
   "execution_count": null,
   "id": "03bb9216-f6d0-413b-8d0b-5d5593463592",
   "metadata": {},
   "outputs": [],
   "source": []
  },
  {
   "cell_type": "code",
   "execution_count": null,
   "id": "c729e304-f60d-4cf3-99ab-3683418bec92",
   "metadata": {},
   "outputs": [],
   "source": []
  },
  {
   "cell_type": "code",
   "execution_count": null,
   "id": "491a636a-c80f-45fd-bd38-1730841397b7",
   "metadata": {},
   "outputs": [],
   "source": []
  },
  {
   "cell_type": "code",
   "execution_count": null,
   "id": "5acb7b4e-ac4a-443e-96df-0f0a2a0368dd",
   "metadata": {},
   "outputs": [],
   "source": []
  },
  {
   "cell_type": "code",
   "execution_count": null,
   "id": "4de8e5bb-7fd1-4875-9352-ffabd00d053e",
   "metadata": {},
   "outputs": [],
   "source": []
  },
  {
   "cell_type": "code",
   "execution_count": null,
   "id": "0acb0226-79a3-4403-862c-c58521096439",
   "metadata": {},
   "outputs": [],
   "source": []
  },
  {
   "cell_type": "code",
   "execution_count": null,
   "id": "745537e9-7c35-48b7-8bdf-a2445df29f04",
   "metadata": {},
   "outputs": [],
   "source": []
  },
  {
   "cell_type": "code",
   "execution_count": null,
   "id": "8af65008-2fdd-4fd6-926a-bbb1faac0348",
   "metadata": {},
   "outputs": [],
   "source": []
  },
  {
   "cell_type": "code",
   "execution_count": null,
   "id": "0568c4d6-cf19-47d6-83af-fe008ee79eeb",
   "metadata": {},
   "outputs": [],
   "source": []
  },
  {
   "cell_type": "code",
   "execution_count": null,
   "id": "a7fd8106-f2ed-46ca-8b18-f98059660387",
   "metadata": {},
   "outputs": [],
   "source": []
  },
  {
   "cell_type": "code",
   "execution_count": null,
   "id": "06806933-aa0e-49e2-8bb1-94ff9645db22",
   "metadata": {},
   "outputs": [],
   "source": []
  },
  {
   "cell_type": "code",
   "execution_count": null,
   "id": "d2b77ae4-9b79-4442-a6d5-89b892eaee2a",
   "metadata": {},
   "outputs": [],
   "source": []
  },
  {
   "cell_type": "code",
   "execution_count": null,
   "id": "d974b1f6-fd17-47fc-8664-afc413eb328e",
   "metadata": {},
   "outputs": [],
   "source": []
  },
  {
   "cell_type": "code",
   "execution_count": null,
   "id": "f516f83f-da82-452c-912a-c0f2d079765b",
   "metadata": {},
   "outputs": [],
   "source": []
  },
  {
   "cell_type": "code",
   "execution_count": null,
   "id": "adb3c946-d8be-43bb-a80a-7f7c8ea72c88",
   "metadata": {},
   "outputs": [],
   "source": []
  },
  {
   "cell_type": "code",
   "execution_count": null,
   "id": "a1a85e3a-870d-44e4-9192-69dbebfa2bbb",
   "metadata": {},
   "outputs": [],
   "source": []
  },
  {
   "cell_type": "code",
   "execution_count": null,
   "id": "2806a0aa-a9f7-4280-b442-12c431398640",
   "metadata": {},
   "outputs": [],
   "source": []
  },
  {
   "cell_type": "code",
   "execution_count": null,
   "id": "73b385eb-8e5a-43c3-8b9a-aea1675d59a1",
   "metadata": {},
   "outputs": [],
   "source": []
  },
  {
   "cell_type": "code",
   "execution_count": null,
   "id": "f280b97d-beaf-465d-8494-b7a4a233b70c",
   "metadata": {},
   "outputs": [],
   "source": []
  },
  {
   "cell_type": "code",
   "execution_count": null,
   "id": "4595dc6d-af32-45cc-be7e-d15214eada53",
   "metadata": {},
   "outputs": [],
   "source": []
  },
  {
   "cell_type": "code",
   "execution_count": null,
   "id": "d0035fb3-51d3-4e0a-9515-6e016520c640",
   "metadata": {},
   "outputs": [],
   "source": []
  },
  {
   "cell_type": "code",
   "execution_count": null,
   "id": "e79d83a4-b1b4-4ae7-911e-c06325013e06",
   "metadata": {},
   "outputs": [],
   "source": []
  },
  {
   "cell_type": "code",
   "execution_count": null,
   "id": "6e6f95ad-05f0-42d3-8f30-001a45b6cb1b",
   "metadata": {},
   "outputs": [],
   "source": []
  },
  {
   "cell_type": "code",
   "execution_count": null,
   "id": "43ba485c-ad39-4933-97e2-6016e59985b2",
   "metadata": {},
   "outputs": [],
   "source": []
  },
  {
   "cell_type": "code",
   "execution_count": null,
   "id": "1ae8c9aa-04fb-424c-9f05-4a8804e66696",
   "metadata": {},
   "outputs": [],
   "source": []
  },
  {
   "cell_type": "code",
   "execution_count": null,
   "id": "12cd473c-2674-444c-aec5-608da7d9fe25",
   "metadata": {},
   "outputs": [],
   "source": []
  },
  {
   "cell_type": "code",
   "execution_count": null,
   "id": "d51869f2-acfe-4e4f-9f69-4fa113dca9f8",
   "metadata": {},
   "outputs": [],
   "source": []
  },
  {
   "cell_type": "code",
   "execution_count": null,
   "id": "d5633a8e-4235-4c65-9d55-0eb74f4d142b",
   "metadata": {},
   "outputs": [],
   "source": []
  },
  {
   "cell_type": "code",
   "execution_count": null,
   "id": "6a493da2-5d73-4a83-9059-d196b2d21418",
   "metadata": {},
   "outputs": [],
   "source": []
  },
  {
   "cell_type": "code",
   "execution_count": null,
   "id": "f0ae2699-16ab-4081-aee2-2edda547d1ab",
   "metadata": {},
   "outputs": [],
   "source": []
  },
  {
   "cell_type": "code",
   "execution_count": null,
   "id": "ee01bd0a-53d0-45dc-baae-80d67c7e1a6b",
   "metadata": {},
   "outputs": [],
   "source": [
    "\n",
    "\n",
    "\n",
    "\n",
    "\n",
    "\n",
    "\n",
    "\n",
    "\n",
    "\n",
    "\n",
    "\n",
    "\n",
    "\n",
    "\n",
    "\n",
    "\n",
    "\n",
    "\n",
    "\n",
    "\n",
    "\n"
   ]
  }
 ],
 "metadata": {
  "kernelspec": {
   "display_name": "Python 3",
   "language": "python",
   "name": "python3"
  },
  "language_info": {
   "codemirror_mode": {
    "name": "ipython",
    "version": 3
   },
   "file_extension": ".py",
   "mimetype": "text/x-python",
   "name": "python",
   "nbconvert_exporter": "python",
   "pygments_lexer": "ipython3",
   "version": "3.9.5"
  }
 },
 "nbformat": 4,
 "nbformat_minor": 5
}
