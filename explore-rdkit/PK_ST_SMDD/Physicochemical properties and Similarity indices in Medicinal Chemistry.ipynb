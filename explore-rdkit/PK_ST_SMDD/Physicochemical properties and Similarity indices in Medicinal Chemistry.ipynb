{
 "cells": [
  {
   "cell_type": "markdown",
   "id": "6bea4d69-8299-4001-aa66-2a06d6945f0d",
   "metadata": {},
   "source": [
    "#Importing the libraries"
   ]
  },
  {
   "cell_type": "code",
   "execution_count": null,
   "id": "f318e28f-bd66-4e27-965e-6344f86a9937",
   "metadata": {},
   "outputs": [],
   "source": [
    "import rdkit as rd\n",
    "from rdkit import Chem\n",
    "from rdkit.Chem import rdPartialCharges\n",
    "from rdkit.Chem import GraphDescriptors\n",
    "from rdkit.Chem import Descriptors\n",
    "from rdkit.Chem import MolSurf\n",
    "from rdkit.Chem import QED"
   ]
  },
  {
   "cell_type": "markdown",
   "id": "0d6153e4-0732-4150-b143-244fd65bae1c",
   "metadata": {},
   "source": [
    "#Declaring a class for single molecule exploration in rdkit. Defining SMILES for first molecule, furthermore, defining a string for that molecule which would return the various physicochemical properties of that molecule."
   ]
  },
  {
   "cell_type": "code",
   "execution_count": null,
   "id": "82fd66ad-9d07-4b00-999b-0cca87e7e421",
   "metadata": {},
   "outputs": [],
   "source": [
    "#Partial Charges"
   ]
  },
  {
   "cell_type": "markdown",
   "id": "9e1a641a-b07f-4184-b83c-6317548514ac",
   "metadata": {},
   "source": [
    "#Balaban J: The Balaban index is a graph index defined for a graph on nodes, edges, and connected components. Unless otherwise stated, hydrogen atoms are usually ignored in the computation of such indices."
   ]
  },
  {
   "cell_type": "markdown",
   "id": "0b17cdf5-5027-40d4-8115-98f8541e0d7e",
   "metadata": {},
   "source": [
    "#Bertz CT is a topological index meant to quantify “complexity” of molecules. It consists of a sum of two terms, one representing the complexity of the bonding, the other representing the complexity of the distribution of heteroatoms."
   ]
  },
  {
   "cell_type": "markdown",
   "id": "ef62fe38-e380-4e8f-a69d-5bd0c9ba095b",
   "metadata": {},
   "source": [
    "#MollogP calculates the logP of the molecule. The most commonly used measure of lipophilicity is LogP, the partition coefficient of a molecule between an aqueous and lipophilic phases, usually octanol and water."
   ]
  },
  {
   "cell_type": "markdown",
   "id": "d5106ea2-b5e1-41cf-a19c-56ce47bf8f09",
   "metadata": {},
   "source": [
    "#MolWt tells us the molecular weight of the molecule. It the average mass of a molecule of a compound compared to ¹/₁₂ the mass of carbon 12 and calculated as the sum of the atomic weights of the constituent atoms"
   ]
  },
  {
   "cell_type": "markdown",
   "id": "0b94e38a-8304-46d7-b6d1-4c0b6293921a",
   "metadata": {},
   "source": [
    "#ExactMolWt gives us the exact molecular weight of the molecule. The exact mass of a molecule is also called the monoisotopic mass. It is calculated by adding the exact masses of the most abundant isotopes of the constituent elements"
   ]
  },
  {
   "cell_type": "markdown",
   "id": "9aa20dd2-afe2-4989-9945-f61cb252d3f9",
   "metadata": {},
   "source": [
    "#HeavyAtomCount gives us the total number of the heavy atoms"
   ]
  },
  {
   "cell_type": "markdown",
   "id": "412123d6-797f-41cc-a9e7-8fa602020ba9",
   "metadata": {},
   "source": [
    "#HeavyAtomMolWt gives us the Molecular Weight of the heavy atoms"
   ]
  },
  {
   "cell_type": "markdown",
   "id": "bd0cd242-a2b1-4b71-abce-74dd5e1c70c8",
   "metadata": {},
   "source": [
    "#NumHeteroatoms gives the total number of Heteroatoms present in the molecule"
   ]
  },
  {
   "cell_type": "markdown",
   "id": "1a68b444-80f5-4eb4-92de-9d366eac1609",
   "metadata": {},
   "source": [
    "#NumHAcceptors gives the total number of Hydrogen bond acceptors present in the molecule"
   ]
  },
  {
   "cell_type": "markdown",
   "id": "79354abf-d540-44b2-8eb8-aecefcdae50a",
   "metadata": {},
   "source": [
    "#NumHDonors gives the total number of Hydrogen bond donors present in the molecule"
   ]
  },
  {
   "cell_type": "markdown",
   "id": "580cbe67-4d1d-4e02-bb0f-c02dfab41b66",
   "metadata": {},
   "source": [
    "#NumRotatableBonds gives the total number of rotatable bonds present in the molecule"
   ]
  },
  {
   "cell_type": "markdown",
   "id": "93e10688-c910-4461-87d5-01bf5f75110f",
   "metadata": {},
   "source": [
    "#NumSpiroAtoms gives the total number of Spiro Atoms present in the molecule"
   ]
  },
  {
   "cell_type": "markdown",
   "id": "2e966960-f705-44f4-be73-0eccec8dea1f",
   "metadata": {},
   "source": [
    "#NumAliphaticRings gives the total number of Aliphatic rings present in the molecule"
   ]
  },
  {
   "cell_type": "markdown",
   "id": "aebed17f-4774-4ccb-bf7d-b3b3eabb0b7a",
   "metadata": {},
   "source": [
    "#NumAromaticRings gives the total number of Aromatic rings present in the molecule"
   ]
  },
  {
   "cell_type": "markdown",
   "id": "df204118-7bd3-4453-92c2-9df810186ca3",
   "metadata": {},
   "source": [
    "#NumSaturatedRings gives the total number of Saturated rings present in the molecule"
   ]
  },
  {
   "cell_type": "markdown",
   "id": "765853d9-2155-44c9-bfc9-370fbc60dd7c",
   "metadata": {},
   "source": [
    "#The total ring count of the molecule tells us the rings present in the molecule"
   ]
  },
  {
   "cell_type": "markdown",
   "id": "f6b4d461-f945-46e9-97c4-b46c9747236d",
   "metadata": {},
   "source": [
    "#NumAliphaticCarbocycles gives the total number of aliphatic carbocycles present in the molecule"
   ]
  },
  {
   "cell_type": "markdown",
   "id": "3281f023-f506-40cc-8e1a-a076a108d478",
   "metadata": {},
   "source": [
    "#NumAromaticCarbocycles gives the total number of aromatic carbocycles present in the molecule"
   ]
  },
  {
   "cell_type": "markdown",
   "id": "098d9a2b-ba0b-4482-93c0-5ad8e426b36f",
   "metadata": {},
   "source": [
    "#NHOH Count gives the total number of NH-OH groups present in the molecule"
   ]
  },
  {
   "cell_type": "markdown",
   "id": "b2b5abe5-2973-4cc6-b5f2-7a19d6b68177",
   "metadata": {},
   "source": [
    "#NO Count gives the total number of NO group present in the molecule"
   ]
  },
  {
   "cell_type": "markdown",
   "id": "61117971-854c-4aa5-a60f-d9d54b0226ba",
   "metadata": {},
   "source": [
    "#TPSA (Topological Polar Surface Area) is the sum of the polar surfaces like the surfaces of oxygens, nitrogens and attached hydrogens."
   ]
  },
  {
   "cell_type": "markdown",
   "id": "028fd39c-c4aa-4609-b6e1-1beae6e52518",
   "metadata": {},
   "source": [
    "#LabuteASA is Labute's Accessible Surface Area and it refers to the water accessible surface (in Å2) area using a probe radius of 1.4 Å. "
   ]
  },
  {
   "cell_type": "markdown",
   "id": "144abfc1-89f0-4e30-b6eb-14c65ffce86e",
   "metadata": {},
   "source": [
    "#PEOE_VSA(1-10): The Partial Equalization of Orbital Electronegativities (PEOE) method of calculating atomic partial charges [Gasteiger 1980] is a method in which charge is transferred between bonded atoms until equilibrium. To guarantee convergence, the amount of charge transferred at each iteration(1-10) is damped with an exponentially decreasing scale factor."
   ]
  },
  {
   "cell_type": "markdown",
   "id": "30938f64-09e0-431f-a457-7ce988aced7b",
   "metadata": {},
   "source": [
    "#SMR_VSA(1-10), that is the Molecular refractivity (including implicit hydrogens), this property is an atomic contribution model [Crippen 1999] that assumes the correct protonation state (washed structures)."
   ]
  },
  {
   "cell_type": "markdown",
   "id": "4ad4ea51-7ae2-4e2a-b766-5012e7279a6e",
   "metadata": {},
   "source": [
    "#HallKierAlpha: The Kier and Hall are molecular shape indices [Hall 1991] compare the molecular graph with minimal and maximal molecular graphs, and are intended to capture different aspects of molecular shape."
   ]
  },
  {
   "cell_type": "markdown",
   "id": "23e76d68-0fdf-42fa-a7c6-55430f5ec12e",
   "metadata": {},
   "source": [
    "#Kappa(1-3): kappa is used to denote the denticity (number of donor groups in a single ligand that bind to a central atom in a coordination complex) of the compound."
   ]
  },
  {
   "cell_type": "markdown",
   "id": "9c49e2b9-fcb0-4233-a7bb-f9a112f47564",
   "metadata": {},
   "source": [
    "#Chi0: Chi is used to represent the Euler characteristic of a surface. The Euler characteristic (or Euler number, or Euler–Poincaré characteristic) is a topological invariant, a number that describes a topological space's shape or structure regardless of the way it is bent.  "
   ]
  },
  {
   "cell_type": "markdown",
   "id": "4f0b1a91-a6d0-4f95-8164-a35f7c40f28b",
   "metadata": {},
   "source": [
    "#Phi0: Euler's totient/ phi function counts the positive integers up to a given integer n that are relatively prime to n."
   ]
  },
  {
   "cell_type": "markdown",
   "id": "7bed2f39-9e8f-4a48-8f9b-b3bfdd2f915c",
   "metadata": {},
   "source": [
    "#BCUT2D returns a 2D BCUT (eigen value hi, eigenvalue low) given the molecule and the specified atom properties"
   ]
  },
  {
   "cell_type": "markdown",
   "id": "7c727764-3573-435d-b432-3fa618d8cbc9",
   "metadata": {},
   "source": [
    "#SlogP_VSA is the log of the octanol/water partition coefficient (including implicit hydrogens). This property is an atomic contribution model [Crippen 1999] that calculates logP from the given structure; i.e., the correct protonation state (washed structures). Results may vary from the logP(o/w) descriptor.   "
   ]
  },
  {
   "cell_type": "markdown",
   "id": "dae84cd5-f7c1-4e37-bb88-633e27ad9841",
   "metadata": {},
   "source": [
    "#AUTOCORR2D returns the 2D Autocorrelation descriptors vector"
   ]
  },
  {
   "cell_type": "markdown",
   "id": "9d669106-7f6b-4f68-8b13-de141c4ae7d6",
   "metadata": {},
   "source": [
    "#Ipc returns the information content of the coefficients of the characteristic polynomial of the adjacency matrix of a hydrogen-suppressed graph of a molecule. ‘avg = 1’ returns the information content divided by the total population."
   ]
  },
  {
   "cell_type": "markdown",
   "id": "34f6fd2b-767b-475e-826d-3ca7e1957afd",
   "metadata": {},
   "source": [
    "#FractionCSPE returns the fraction of carbons that are sp3 hybridized "
   ]
  },
  {
   "cell_type": "code",
   "execution_count": null,
   "id": "928f8359-5068-4f90-97b9-e34ee2da7755",
   "metadata": {},
   "outputs": [],
   "source": [
    "class SingleMoleculeExplorationRdkit():\n",
    "    \n",
    "    def __init__(self,smiles1):\n",
    "        self.smiles1 = smiles1\n",
    "        #print(PhysioChemicalProperties.__str__(self))\n",
    "        #SingleMoleculeExplorationRdkit.smiles1_to_mol(self)\n",
    "        self.mol1 = Chem.MolFromSmiles(self.smiles1)\n",
    "        print(\"The structure of molecule 1 is \")\n",
    "        \n",
    "    def smiles1_to_mol(self):\n",
    "        self.mol1 = Chem.MolFromSmiles(self.smiles1)\n",
    "        return self.mol1\n",
    "\n",
    "   # def __str__(self):\n",
    "    #    return \"Return the different properties of {smiles1}\".format(self=self)\n",
    "    #def return_mol1(self):\n",
    "    #    return self.mol1\n",
    "    \n",
    "    def physiochemical_properties(self):\n",
    "        PartialCharges = Chem.rdPartialCharges.ComputeGasteigerCharges(self.mol1)\n",
    "        BalabanJ = Chem.GraphDescriptors.BalabanJ(self.mol1)\n",
    "        BertzCT = Chem.GraphDescriptors.BertzCT(self.mol1)\n",
    "        MolLogP = Chem.Descriptors.MolLogP(self.mol1)\n",
    "        MolWt = Chem.Descriptors.MolWt(self.mol1)\n",
    "        ExactMolWt = Chem.rdMolDescriptors.CalcExactMolWt(self.mol1)\n",
    "        HeavyAtomCount = Chem.Lipinski.HeavyAtomCount(self.mol1)\n",
    "        HeavyAtomMolWt = Chem.Descriptors.HeavyAtomMolWt(self.mol1)\n",
    "        NumHeteroatoms = Chem.Lipinski.NumHeteroatoms(self.mol1)\n",
    "        NumHAcceptors = Chem.Lipinski.NumHAcceptors(self.mol1)\n",
    "        NumHDonors = Chem.Lipinski.NumHDonors(self.mol1)\n",
    "        NumRotatableBonds = Chem.Lipinski.NumRotatableBonds(self.mol1)\n",
    "        NumSpiroAtoms = Chem.rdMolDescriptors.CalcNumSpiroAtoms(self.mol1)\n",
    "        NumAliphaticRings = Chem.Lipinski.NumAliphaticRings(self.mol1)\n",
    "        NumAromaticRings = Chem.Lipinski.NumAliphaticRings(self.mol1)\n",
    "        NumSaturatedRings = Chem.Lipinski.NumAliphaticRings(self.mol1)\n",
    "        RingCount = Chem.Lipinski.RingCount(self.mol1)\n",
    "        NumAliphaticCarbocycles = Chem.Lipinski.NumAliphaticCarbocycles(self.mol1)\n",
    "        NumAliphaticHeterocycles = Chem.Lipinski.NumAliphaticHeterocycles(self.mol1)\n",
    "        NHOHCount = Chem.Lipinski.NHOHCount(self.mol1) \n",
    "        NOCount = Chem.Lipinski.NOCount(self.mol1) \n",
    "        TPSA = Chem.MolSurf.TPSA(self.mol1)\n",
    "        LabuteASA = Chem.MolSurf.LabuteASA(self.mol1)\n",
    "        PEOE_VSA1 = Chem.MolSurf.PEOE_VSA1(self.mol1)\n",
    "        PEOE_VSA2 = Chem.MolSurf.PEOE_VSA2(self.mol1)\n",
    "        PEOE_VSA3 = Chem.MolSurf.PEOE_VSA3(self.mol1)\n",
    "        PEOE_VSA4 = Chem.MolSurf.PEOE_VSA4(self.mol1)\n",
    "        PEOE_VSA5 = Chem.MolSurf.PEOE_VSA5(self.mol1)\n",
    "        PEOE_VSA6 = Chem.MolSurf.PEOE_VSA6(self.mol1)\n",
    "        PEOE_VSA7 = Chem.MolSurf.PEOE_VSA7(self.mol1)\n",
    "        PEOE_VSA8 = Chem.MolSurf.PEOE_VSA8(self.mol1)\n",
    "        PEOE_VSA9 = Chem.MolSurf.PEOE_VSA9(self.mol1)\n",
    "        PEOE_VSA10 = Chem.MolSurf.PEOE_VSA10(self.mol1)\n",
    "        SMR_VSA1 = Chem.MolSurf.SMR_VSA1(self.mol1)\n",
    "        SMR_VSA2 = Chem.MolSurf.SMR_VSA1(self.mol1)\n",
    "        SMR_VSA3 = Chem.MolSurf.SMR_VSA1(self.mol1)\n",
    "        SMR_VSA4 = Chem.MolSurf.SMR_VSA1(self.mol1)\n",
    "        SMR_VSA5 = Chem.MolSurf.SMR_VSA1(self.mol1)\n",
    "        SMR_VSA6 = Chem.MolSurf.SMR_VSA1(self.mol1)\n",
    "        SMR_VSA7 = Chem.MolSurf.SMR_VSA1(self.mol1)\n",
    "        SMR_VSA8 = Chem.MolSurf.SMR_VSA1(self.mol1)\n",
    "        SMR_VSA9 = Chem.MolSurf.SMR_VSA1(self.mol1)\n",
    "        SMR_VSA10 = Chem.MolSurf.SMR_VSA1(self.mol1)\n",
    "        HallKierAlpha = Chem.GraphDescriptors.HallKierAlpha(self.mol1)\n",
    "        Kappa1 = Chem.GraphDescriptors.Kappa1(self.mol1)\n",
    "        Kappa2 = Chem.GraphDescriptors.Kappa2(self.mol1)\n",
    "        Kappa3 = Chem.GraphDescriptors.Kappa3(self.mol1)\n",
    "        Chi0 = Chem.GraphDescriptors.Chi0(self.mol1)\n",
    "        Phi0 = Chem.rdMolDescriptors.CalcPhi(self.mol1)\n",
    "        BCUT2D = Chem.rdMolDescriptors.BCUT2D(self.mol1)\n",
    "        SlogP_VSA1 = Chem.MolSurf.SlogP_VSA1(self.mol1)\n",
    "        SlogP_VSA2 = Chem.MolSurf.SlogP_VSA2(self.mol1)\n",
    "        SlogP_VSA3 = Chem.MolSurf.SlogP_VSA3(self.mol1)\n",
    "        SlogP_VSA4 = Chem.MolSurf.SlogP_VSA4(self.mol1)\n",
    "        SlogP_VSA5 = Chem.MolSurf.SlogP_VSA5(self.mol1)\n",
    "        SlogP_VSA6 = Chem.MolSurf.SlogP_VSA6(self.mol1)\n",
    "        SlogP_VSA7 = Chem.MolSurf.SlogP_VSA7(self.mol1)\n",
    "        SlogP_VSA8 = Chem.MolSurf.SlogP_VSA8(self.mol1)\n",
    "        SlogP_VSA9 = Chem.MolSurf.SlogP_VSA9(self.mol1)\n",
    "        SlogP_VSA10 = Chem.MolSurf.SlogP_VSA10(self.mol1)\n",
    "        SlogP_VSA11 = Chem.MolSurf.SlogP_VSA11(self.mol1)\n",
    "        SlogP_VSA12 = Chem.MolSurf.SlogP_VSA12(self.mol1)\n",
    "        AUTOCORR2D = Chem.rdMolDescriptors.CalcAUTOCORR2D(self.mol1)\n",
    "        Ipc = Chem.GraphDescriptors.Ipc(self.mol1)\n",
    "        Ipc0 = Chem.GraphDescriptors.Ipc(self.mol1, avg = 0)\n",
    "        Ipc1 = Chem.GraphDescriptors.Ipc(self.mol1, avg = 1)\n",
    "        Ipcn = Chem.GraphDescriptors.Ipc(self.mol1, avg = 0, dMat=None, forceDMat=0)\n",
    "        FractionCSP3 = Chem.Lipinski.FractionCSP3(self.mol1)\n",
    "        print(\"Partial Charge of the Molecule is \", (PartialCharges))\n",
    "        print(\"Balaban J of the Molecule is\", round(BalabanJ,3))\n",
    "        print(\"BertzCT value is\", round(BertzCT,3))\n",
    "        print(\"MolLogP value of the Molecule is \",MolLogP)\n",
    "        print(\"MolWt of the Molecule is \", (MolWt))\n",
    "        print(\"ExactMolWt of the Molecule is \", (ExactMolWt))\n",
    "        print(\"HeavyAtomCount of the Molecule is \", (HeavyAtomCount))\n",
    "        print(\"HeavyAtomMolWt of the Molecule is \", (HeavyAtomMolWt))\n",
    "        print(\"NumHeteroatoms of the Molecule is \", (NumHeteroatoms))\n",
    "        print(\"Number of Hydrogen bond Acceptors of the Molecule is \", (NumHAcceptors))\n",
    "        print(\"Number of Hydrogen Bond Donors of the molecule is \", (NumHDonors))\n",
    "        print(\"NumRotatableBonds of the molecule is \", (NumRotatableBonds))\n",
    "        print(\"NumSpiroAtoms of the molecule is\", (NumSpiroAtoms))\n",
    "        print(\"NumAliphaticRings of the molecule is \", (NumAliphaticRings))\n",
    "        print(\"NumAromaticRings of the molecule is \", (NumAromaticRings))\n",
    "        print(\"NumSaturatedRings of the molecule is \", (NumSaturatedRings))\n",
    "        print(\"RingCount of the molecule is \", (RingCount))\n",
    "        print(\"NumAliphaticRings of the molecule is \", (NumAliphaticCarbocycles))\n",
    "        print(\"NumAliphaticRings of the molecule is \", (NumAliphaticHeterocycles))\n",
    "        print(\"The NHOH Count of the molecule is \", (NHOHCount))\n",
    "        print(\"The NO Count of the molecule is \", (NOCount))\n",
    "        print(\"The TPSA of the molecule is \", (TPSA))\n",
    "        print(\"The LabuteASA is \", (LabuteASA))\n",
    "        print(\"PEOE_VSA1 is \", (PEOE_VSA1))\n",
    "        print(\"PEOE_VSA2 is \", (PEOE_VSA2))\n",
    "        print(\"PEOE_VSA3 is \", (PEOE_VSA3))\n",
    "        print(\"PEOE_VSA4 is \", (PEOE_VSA4))\n",
    "        print(\"PEOE_VSA5 is \", (PEOE_VSA5))\n",
    "        print(\"PEOE_VSA6 is \", (PEOE_VSA6))\n",
    "        print(\"PEOE_VSA7 is \", (PEOE_VSA7))\n",
    "        print(\"PEOE_VSA8 is \", (PEOE_VSA8))\n",
    "        print(\"PEOE_VSA9 is \", (PEOE_VSA9))\n",
    "        print(\"PEOE_VSA10 is \", (PEOE_VSA10))\n",
    "        print(\"SMR_VSA1 is \", (SMR_VSA1))\n",
    "        print(\"SMR_VSA2 is \", (SMR_VSA2))\n",
    "        print(\"SMR_VSA3 is \", (SMR_VSA3))\n",
    "        print(\"SMR_VSA4 is \", (SMR_VSA4))\n",
    "        print(\"SMR_VSA5 is \", (SMR_VSA5))\n",
    "        print(\"SMR_VSA6 is \", (SMR_VSA6))\n",
    "        print(\"SMR_VSA7 is \", (SMR_VSA7))\n",
    "        print(\"SMR_VSA8 is \", (SMR_VSA8))\n",
    "        print(\"SMR_VSA9 is \", (SMR_VSA9))\n",
    "        print(\"SMR_VSA10 is \", (SMR_VSA10))\n",
    "        print(\"HallKierAlpha= \", (HallKierAlpha))\n",
    "        print(\"Kappa1= \", (Kappa1))\n",
    "        print(\"Kappa2= \", (Kappa2))\n",
    "        print(\"Kappa3= \", (Kappa3))  \n",
    "        print(\"Chi0= \", (Chi0))\n",
    "        print(\"Phi0= \", (Phi0))\n",
    "        print(\"BCUT2D is\", (BCUT2D))\n",
    "        print(\"SlogP_VSA1 is \", (SlogP_VSA1))\n",
    "        print(\"SlogP_VSA2 is \", (SlogP_VSA2))\n",
    "        print(\"SlogP_VSA3 is \", (SlogP_VSA3))\n",
    "        print(\"SlogP_VSA4 is \", (SlogP_VSA4))\n",
    "        print(\"SlogP_VSA5 is \", (SlogP_VSA5))\n",
    "        print(\"SlogP_VSA6 is \", (SlogP_VSA6))\n",
    "        print(\"SlogP_VSA7 is \", (SlogP_VSA7))\n",
    "        print(\"SlogP_VSA8 is \", (SlogP_VSA8))\n",
    "        print(\"SlogP_VSA9 is \", (SlogP_VSA9))\n",
    "        print(\"SlogP_VSA10 is \", (SlogP_VSA10))\n",
    "        print(\"SlogP_VSA11 is \", (SlogP_VSA11))\n",
    "        print(\"SlogP_VSA12 is \", (SlogP_VSA12))\n",
    "        print(\"AUTOCORR2D is\", (AUTOCORR2D))\n",
    "        print(\"Ipc is\", (Ipc))\n",
    "        print(\"Ipc0 is\", (Ipc0))\n",
    "        print(\"Ipc1 is\", (Ipc1))\n",
    "        print(\"Ipcn is\", (Ipcn))\n",
    "        print(\"FractionCSP3 is \", (FractionCSP3))\n",
    "        \n",
    "        \n",
    "        \n",
    "        \n",
    "        \n",
    "        \n",
    "        \n",
    "    def structuresimilarity(self,smiles2):\n",
    "        self.smiles2 = smiles2\n",
    "        self.mol2 = Chem.MolFromSmiles(smiles2)\n",
    "        print(\"The structure of molecule 2 is \")\n",
    "        return self.mol2"
   ]
  },
  {
   "cell_type": "markdown",
   "id": "c8825696-c200-48f6-b7e3-6d1fbda8af35",
   "metadata": {},
   "source": [
    "#Displaying the physicochemical properties for the molecule"
   ]
  },
  {
   "cell_type": "code",
   "execution_count": null,
   "id": "94693052-e87b-4718-b45f-551094dcfdf5",
   "metadata": {},
   "outputs": [],
   "source": [
    "SingleMoleculeExplorationRdkit(smiles1=\"COc1cccc2cc(C(=O)NCCCCN3CCN(c4cccc5nccnc54)CC3)oc21\").physiochemical_properties()"
   ]
  },
  {
   "cell_type": "code",
   "execution_count": null,
   "id": "d71871ac-dff3-4f5b-8d7b-5f83c4c887dc",
   "metadata": {},
   "outputs": [],
   "source": [
    "SingleMoleculeExplorationRdkit(smiles1=\"COc1cccc2cc(C(=O)NCCCCN3CCN(c4cccc5nccnc54)CC3)oc21\").physiochemical_properties()"
   ]
  }
 ],
 "metadata": {
  "kernelspec": {
   "display_name": "Python 3",
   "language": "python",
   "name": "python3"
  },
  "language_info": {
   "codemirror_mode": {
    "name": "ipython",
    "version": 3
   },
   "file_extension": ".py",
   "mimetype": "text/x-python",
   "name": "python",
   "nbconvert_exporter": "python",
   "pygments_lexer": "ipython3",
   "version": "3.9.5"
  }
 },
 "nbformat": 4,
 "nbformat_minor": 5
}
