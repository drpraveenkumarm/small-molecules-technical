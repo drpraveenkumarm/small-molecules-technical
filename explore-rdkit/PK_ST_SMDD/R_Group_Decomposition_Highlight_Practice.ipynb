{
 "cells": [
  {
   "cell_type": "code",
   "execution_count": null,
   "id": "879b4bd0-92d7-4ca7-ae53-191a023180c2",
   "metadata": {},
   "outputs": [],
   "source": [
    "from rdkit import Chem"
   ]
  },
  {
   "cell_type": "code",
   "execution_count": null,
   "id": "4d7a1549-e4ef-4875-b827-22217197ae54",
   "metadata": {},
   "outputs": [],
   "source": [
    "from rdkit.Chem import Draw"
   ]
  },
  {
   "cell_type": "code",
   "execution_count": null,
   "id": "c5895ce1-6d77-4298-b880-4951efbe93f0",
   "metadata": {},
   "outputs": [],
   "source": [
    "from rdkit.Chem.Draw import IPythonConsole"
   ]
  },
  {
   "cell_type": "code",
   "execution_count": null,
   "id": "78172fd3-c017-4f7f-9cfb-d41bfb5a0ba0",
   "metadata": {},
   "outputs": [],
   "source": [
    "IPythonConsole.molsize=(450,350)"
   ]
  },
  {
   "cell_type": "code",
   "execution_count": null,
   "id": "d1cba621-cd0d-460d-a375-fc487687c2fb",
   "metadata": {},
   "outputs": [],
   "source": [
    "from rdkit.Chem import rdRGroupDecomposition"
   ]
  },
  {
   "cell_type": "code",
   "execution_count": null,
   "id": "1731a75b-9f62-496f-857e-16f0c50bcb4f",
   "metadata": {},
   "outputs": [],
   "source": [
    "from rdkit.Chem import rdqueries"
   ]
  },
  {
   "cell_type": "code",
   "execution_count": null,
   "id": "56f52d6b-81a7-43dc-a9fb-aa2b2642cb5d",
   "metadata": {},
   "outputs": [],
   "source": [
    "from rdkit.Chem import rdDepictor"
   ]
  },
  {
   "cell_type": "code",
   "execution_count": null,
   "id": "c261aec6-b113-4aa2-b177-819a92418958",
   "metadata": {},
   "outputs": [],
   "source": [
    "from rdkit.Chem.Draw import rdMolDraw2D"
   ]
  },
  {
   "cell_type": "code",
   "execution_count": null,
   "id": "5c42da57-0fff-4fd8-b1c2-cc3578650ef5",
   "metadata": {},
   "outputs": [],
   "source": [
    "from rdkit import Geometry"
   ]
  },
  {
   "cell_type": "code",
   "execution_count": null,
   "id": "025fb555-9523-4a59-9868-c7213e458fdf",
   "metadata": {},
   "outputs": [],
   "source": [
    "rdDepictor.SetPreferCoordGen(True)"
   ]
  },
  {
   "cell_type": "code",
   "execution_count": null,
   "id": "7003204a-0b1d-4a9e-9abb-94681293657d",
   "metadata": {},
   "outputs": [],
   "source": [
    "import pandas as pd"
   ]
  },
  {
   "cell_type": "code",
   "execution_count": null,
   "id": "2de9a2d7-5073-41d4-a956-6d682e722612",
   "metadata": {},
   "outputs": [],
   "source": [
    "from IPython.display import SVG,Image"
   ]
  },
  {
   "cell_type": "code",
   "execution_count": null,
   "id": "c860d5ec-8669-4b69-ad35-9a202b44683d",
   "metadata": {},
   "outputs": [],
   "source": [
    "from ipywidgets import interact"
   ]
  },
  {
   "cell_type": "code",
   "execution_count": null,
   "id": "783911a1-d3c2-4146-b14f-56fdab54e598",
   "metadata": {},
   "outputs": [],
   "source": [
    "import rdkit"
   ]
  },
  {
   "cell_type": "code",
   "execution_count": null,
   "id": "ebc84226-7f7e-4d95-bacd-f73967a3e27b",
   "metadata": {},
   "outputs": [],
   "source": [
    "print(rdkit.__version__)"
   ]
  },
  {
   "cell_type": "code",
   "execution_count": null,
   "id": "aa4fda42-c187-47e8-809e-488d2308761b",
   "metadata": {},
   "outputs": [],
   "source": [
    "df = pd.read_csv('data/cdk2_rgd_dataset.csv')\n",
    "df.head()"
   ]
  },
  {
   "cell_type": "markdown",
   "id": "ff4780a9-3f2f-4a8e-bbe5-c41d49617701",
   "metadata": {},
   "source": []
  },
  {
   "cell_type": "code",
   "execution_count": null,
   "id": "33239619-411b-486b-a7fa-3c7d3ae9aac0",
   "metadata": {},
   "outputs": [],
   "source": [
    "df_doc1 = df[df.assay_chembl_id=='CHEMBL827377']\n",
    "print(len(df_doc1))\n",
    "df_doc1.head()"
   ]
  },
  {
   "cell_type": "code",
   "execution_count": null,
   "id": "688e5c5d-e9a8-49a5-9b24-9eeb391879a0",
   "metadata": {},
   "outputs": [],
   "source": [
    "rdDepictor.SetPreferCoordGen(True)\n",
    "smis = df_doc1['canonical_smiles']\n",
    "cids = list(df_doc1.compound_chembl_id)\n",
    "ms = [Chem.MolFromSmiles(x) for x in smis]\n",
    "for m in ms:\n",
    "    rdDepictor.Compute2DCoords(m)\n",
    "Draw.MolsToGridImage(ms[:12],legends=cids,molsPerRow=4)"
   ]
  },
  {
   "cell_type": "code",
   "execution_count": null,
   "id": "09e447e0-c471-44db-8a80-61530153bcc8",
   "metadata": {},
   "outputs": [],
   "source": [
    "core= Chem.MolFromSmiles('c1cc(-c2c([*:1])nn3nc([*:2])ccc23)nc(N(c2ccc([*:4])c([*:3])c2))n1')\n",
    "rdDepictor.SetPreferCoordGen(True)\n",
    "rdDepictor.Compute2DCoords(core)\n",
    "core"
   ]
  },
  {
   "cell_type": "code",
   "execution_count": null,
   "id": "95e87e29-f20c-4051-bfa9-8b817cad1b8d",
   "metadata": {},
   "outputs": [],
   "source": [
    "ps = Chem.AdjustQueryParameters.NoAdjustments()\n",
    "ps.makeDummiesQueries=True\n",
    "qcore=Chem.AdjustQueryProperties(core,ps)\n",
    "mhs=[Chem.AddHs(x,addCoords=True) for x in ms]\n",
    "mms=[x for x in mhs if x.HasSubstructMatch(qcore)]\n",
    "for m in mms:\n",
    "    for atom in m.GetAtoms():\n",
    "        atom.SetIntProp(\"SourceAtomIdx\",atom.GetIdx())\n",
    "print(len(mhs),len(mms))"
   ]
  },
  {
   "cell_type": "code",
   "execution_count": null,
   "id": "f0cf3de4-2849-4eff-ae3f-b6c0aba1a989",
   "metadata": {},
   "outputs": [],
   "source": [
    "rdkit.RDLogger.DisableLog('rdApp.warning')\n",
    "groups,_= rdRGroupDecomposition.RGroupDecompose([qcore])"
   ]
  },
  {
   "cell_type": "code",
   "execution_count": null,
   "id": "86baf3ff-7170-46bd-acc4-7beb80767cb9",
   "metadata": {},
   "outputs": [],
   "source": []
  },
  {
   "cell_type": "code",
   "execution_count": null,
   "id": "dd620efb-f31f-49e5-ae7a-63ef4d435633",
   "metadata": {},
   "outputs": [],
   "source": []
  },
  {
   "cell_type": "code",
   "execution_count": null,
   "id": "ff3e50a8-d090-4a0b-96a2-3448c0329ba8",
   "metadata": {},
   "outputs": [],
   "source": []
  },
  {
   "cell_type": "code",
   "execution_count": null,
   "id": "4c713f87-c0fa-42da-a0e6-9f2991e277db",
   "metadata": {},
   "outputs": [],
   "source": []
  },
  {
   "cell_type": "code",
   "execution_count": null,
   "id": "147aee9d-7f3d-4a4a-bfd0-708131961a3a",
   "metadata": {},
   "outputs": [],
   "source": []
  },
  {
   "cell_type": "code",
   "execution_count": null,
   "id": "ccd5e466-dcc1-407c-80e8-a6034a5bd7f0",
   "metadata": {},
   "outputs": [],
   "source": []
  },
  {
   "cell_type": "code",
   "execution_count": null,
   "id": "750d9218-d61e-4989-9360-36d4793c4359",
   "metadata": {},
   "outputs": [],
   "source": []
  },
  {
   "cell_type": "code",
   "execution_count": null,
   "id": "68704025-fbc9-4a49-986e-15183e5cab15",
   "metadata": {},
   "outputs": [],
   "source": []
  },
  {
   "cell_type": "code",
   "execution_count": null,
   "id": "cbe0be24-dd17-4653-96ff-a703ab125dd9",
   "metadata": {},
   "outputs": [],
   "source": []
  },
  {
   "cell_type": "code",
   "execution_count": null,
   "id": "c84aa78c-9d1d-4b4d-949f-d0c2b71a4ca5",
   "metadata": {},
   "outputs": [],
   "source": []
  },
  {
   "cell_type": "code",
   "execution_count": null,
   "id": "97a187c3-207f-42e6-b3a3-a750a3b2af1e",
   "metadata": {},
   "outputs": [],
   "source": []
  },
  {
   "cell_type": "code",
   "execution_count": null,
   "id": "f8333c5c-189c-4a06-9359-bbf43e72a4e6",
   "metadata": {},
   "outputs": [],
   "source": []
  },
  {
   "cell_type": "code",
   "execution_count": null,
   "id": "a50b8a8a-7677-43ff-920b-091101bc4d40",
   "metadata": {},
   "outputs": [],
   "source": []
  }
 ],
 "metadata": {
  "kernelspec": {
   "display_name": "Python 3",
   "language": "python",
   "name": "python3"
  },
  "language_info": {
   "codemirror_mode": {
    "name": "ipython",
    "version": 3
   },
   "file_extension": ".py",
   "mimetype": "text/x-python",
   "name": "python",
   "nbconvert_exporter": "python",
   "pygments_lexer": "ipython3",
   "version": "3.9.5"
  }
 },
 "nbformat": 4,
 "nbformat_minor": 5
}
