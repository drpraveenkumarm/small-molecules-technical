{
 "cells": [
  {
   "cell_type": "code",
   "execution_count": null,
   "id": "cecae411-eae6-4725-8132-97e394b55021",
   "metadata": {},
   "outputs": [],
   "source": [
    "from rdkit import Chem\n",
    "mol = Chem.MolFromSmiles('COc1cccc2cc(C(=O)NCCCCN3CCN(c4cccc5nccnc54)CC3)oc21')\n",
    "refmol = Chem.MolFromSmiles('CCCN(CCCCN1CCN(c2ccccc2OC)CC1)Cc1ccc2ccccc2c1')"
   ]
  },
  {
   "cell_type": "code",
   "execution_count": null,
   "id": "9096b713-2c47-43b5-8f2d-c73bd68cae53",
   "metadata": {},
   "outputs": [],
   "source": [
    "from rdkit.Chem import Draw\n",
    "from rdkit.Chem.Draw import SimilarityMaps\n",
    "fp = SimilarityMaps.GetAPFingerprint(mol, fpType='normal')\n",
    "fp = SimilarityMaps.GetTTFingerprint(mol, fpType='normal')\n",
    "fp = SimilarityMaps.GetMorganFingerprint(mol, fpType='bv')"
   ]
  },
  {
   "cell_type": "code",
   "execution_count": null,
   "id": "e2d630d9-021a-473a-a53a-24bda40f5fa1",
   "metadata": {},
   "outputs": [],
   "source": [
    "fig, maxweight = SimilarityMaps.GetSimilarityMapForFingerprint(refmol, mol, SimilarityMaps.GetMorganFingerprint)"
   ]
  },
  {
   "cell_type": "code",
   "execution_count": null,
   "id": "8e866e51-610a-4927-a47d-0048b03c3ec1",
   "metadata": {},
   "outputs": [],
   "source": [
    "from rdkit import DataStructs"
   ]
  },
  {
   "cell_type": "code",
   "execution_count": null,
   "id": "365583b6-b38f-4b6a-b2a4-efdac21c0eff",
   "metadata": {},
   "outputs": [],
   "source": [
    "ms = [Chem.MolFromSmiles('CCOC'), Chem.MolFromSmiles('CCO'),\n",
    "      Chem.MolFromSmiles('COC')]"
   ]
  },
  {
   "cell_type": "code",
   "execution_count": null,
   "id": "1b9a9e1c-29e7-491e-b419-20a9ed499df3",
   "metadata": {},
   "outputs": [],
   "source": [
    "fps = [Chem.RDKFingerprint(x) for x in ms]"
   ]
  },
  {
   "cell_type": "code",
   "execution_count": null,
   "id": "94c680be-ef55-4adc-a95b-13bb3806958c",
   "metadata": {},
   "outputs": [],
   "source": [
    "DataStructs.FingerprintSimilarity(fps[0],fps[1])"
   ]
  },
  {
   "cell_type": "code",
   "execution_count": null,
   "id": "20d78c3b-5fb8-4a6a-88bf-ab073acbc4a6",
   "metadata": {},
   "outputs": [],
   "source": [
    "DataStructs.FingerprintSimilarity(fps[0],fps[2])"
   ]
  },
  {
   "cell_type": "code",
   "execution_count": null,
   "id": "7f5972ee-36ac-4e97-8cc9-e41ec0385b10",
   "metadata": {},
   "outputs": [],
   "source": [
    "DataStructs.FingerprintSimilarity(fps[1],fps[2])"
   ]
  },
  {
   "cell_type": "code",
   "execution_count": null,
   "id": "2563f100-d2f0-4d2d-b80f-07f95f751f99",
   "metadata": {},
   "outputs": [],
   "source": [
    "DataStructs.FingerprintSimilarity(fps[0],fps[1], metric=DataStructs.DiceSimilarity)"
   ]
  },
  {
   "cell_type": "code",
   "execution_count": null,
   "id": "882cc59c-1a7b-41ea-a38f-1149b17b17a1",
   "metadata": {},
   "outputs": [],
   "source": [
    "from rdkit.Chem import MACCSkeys\n",
    "fps = [MACCSkeys.GenMACCSKeys(x) for x in ms]\n",
    "DataStructs.FingerprintSimilarity(fps[0],fps[1])"
   ]
  },
  {
   "cell_type": "code",
   "execution_count": null,
   "id": "fcc749dd-6786-478b-8682-7ab54836db35",
   "metadata": {},
   "outputs": [],
   "source": []
  },
  {
   "cell_type": "code",
   "execution_count": null,
   "id": "40bd8934-c637-4b7a-a6c7-0c660c5a73ea",
   "metadata": {},
   "outputs": [],
   "source": []
  },
  {
   "cell_type": "code",
   "execution_count": null,
   "id": "4acbe5b2-a809-4223-95b0-5288c3664ca4",
   "metadata": {},
   "outputs": [],
   "source": []
  },
  {
   "cell_type": "code",
   "execution_count": null,
   "id": "0de43358-b6b8-4ab6-8d08-d3cc33641100",
   "metadata": {},
   "outputs": [],
   "source": []
  },
  {
   "cell_type": "code",
   "execution_count": null,
   "id": "c1f4c12e-35aa-4635-bdcb-e4caa3befb8c",
   "metadata": {},
   "outputs": [],
   "source": []
  },
  {
   "cell_type": "code",
   "execution_count": null,
   "id": "20790877-eabd-4dc4-ad72-0a810b418763",
   "metadata": {},
   "outputs": [],
   "source": []
  }
 ],
 "metadata": {
  "kernelspec": {
   "display_name": "Python 3",
   "language": "python",
   "name": "python3"
  },
  "language_info": {
   "codemirror_mode": {
    "name": "ipython",
    "version": 3
   },
   "file_extension": ".py",
   "mimetype": "text/x-python",
   "name": "python",
   "nbconvert_exporter": "python",
   "pygments_lexer": "ipython3",
   "version": "3.9.5"
  }
 },
 "nbformat": 4,
 "nbformat_minor": 5
}
