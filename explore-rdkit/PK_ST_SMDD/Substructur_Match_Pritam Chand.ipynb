{
 "cells": [
  {
   "cell_type": "markdown",
   "id": "a2f6684b-96e9-4ef1-aa1c-5a97461c65a9",
   "metadata": {},
   "source": [
    "Source: https://pchanda.github.io/See-substructure-in-molecule/"
   ]
  },
  {
   "cell_type": "code",
   "execution_count": null,
   "id": "c307815c-58f0-4662-8a6e-c54eb7441573",
   "metadata": {},
   "outputs": [],
   "source": [
    "import rdkit\n",
    "import rdkit.Chem as Chem\n",
    "from rdkit.Chem import rdFMCS\n",
    "from matplotlib import colors\n",
    "from rdkit.Chem.Draw import MolToImage\n",
    "\n",
    "def get_mol(smiles):\n",
    "    mol = Chem.MolFromSmiles(smiles)\n",
    "    if mol is None:\n",
    "        return None\n",
    "    Chem.Kekulize(mol)\n",
    "    return mol\n",
    "\n",
    "\n",
    "def find_matches_one(mol,submol):\n",
    "    #find all matching atoms for each submol in submol_list in mol.\n",
    "    match_dict = {}\n",
    "    mols = [mol,submol] #pairwise search\n",
    "    res=rdFMCS.FindMCS(mols) #,ringMatchesRingOnly=True)\n",
    "    mcsp = Chem.MolFromSmarts(res.smartsString)\n",
    "    matches = mol.GetSubstructMatches(mcsp)\n",
    "    return matches\n",
    "\n",
    "#Draw the molecule\n",
    "def get_image(mol,atomset=None):    \n",
    "    hcolor = colors.to_rgb('green')\n",
    "    if atomset is not None:\n",
    "        #highlight the atoms set while drawing the whole molecule.\n",
    "        img = MolToImage(mol, size=(600, 600),fitImage=True, highlightAtoms=atomset,highlightColor=hcolor)\n",
    "    else:\n",
    "        img = MolToImage(mol, size=(400, 400),fitImage=True)\n",
    "    return img\n"
   ]
  },
  {
   "cell_type": "code",
   "execution_count": null,
   "id": "5a791630-3bd9-4f52-aa4b-91114f651a4c",
   "metadata": {},
   "outputs": [],
   "source": [
    "peptide_smi = 'CCCCCCCCCC(=O)NC(Cc1c[nH]c2ccccc12)C(=O)NC(CC(N)=O)C(=O)NC(CC(=O)O)C(=O)NC4C(C)OC(=O)C(CC(=O)c3ccccc3(N))NC(=O)C(NC(=O)C(CO)NC(=O)CNC(=O)C(CC(=O)O)NC(=O)C(C)NC(=O)C(CC(=O)O)NC(=O)C(CCCN)NC(=O)CNC4(=O))C(C)CC(=O)O'\n",
    "monomer_smi = 'CCCCCCCCCC(=O)O'\n",
    "\n",
    "peptide_mol = get_mol(peptide_smi) #whole molecule\n",
    "monomer_mol = get_mol(monomer_smi) #substructure molecule\n",
    "\n",
    "matches = find_matches_one(peptide_mol,monomer_mol)\n",
    "\n",
    "atomset = list(matches[0])\n",
    "print(atomset)\n",
    "img = get_image(peptide_mol, atomset)\n",
    "img"
   ]
  }
 ],
 "metadata": {
  "kernelspec": {
   "display_name": "Python 3",
   "language": "python",
   "name": "python3"
  },
  "language_info": {
   "codemirror_mode": {
    "name": "ipython",
    "version": 3
   },
   "file_extension": ".py",
   "mimetype": "text/x-python",
   "name": "python",
   "nbconvert_exporter": "python",
   "pygments_lexer": "ipython3",
   "version": "3.9.5"
  }
 },
 "nbformat": 4,
 "nbformat_minor": 5
}
