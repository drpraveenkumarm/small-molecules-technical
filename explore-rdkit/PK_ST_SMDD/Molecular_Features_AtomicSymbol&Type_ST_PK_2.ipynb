{
 "cells": [
  {
   "cell_type": "code",
   "execution_count": null,
   "id": "2e307da9-52aa-4e00-b37c-273688decf44",
   "metadata": {},
   "outputs": [],
   "source": [
    "from rdkit import Chem"
   ]
  },
  {
   "cell_type": "code",
   "execution_count": null,
   "id": "32fdd768-3b5b-4019-8f17-eeb226f25684",
   "metadata": {},
   "outputs": [],
   "source": [
    "ticlopidine = Chem.MolFromSmiles('C1CN(CC2=C1SC=C2)CC3=CC=CC=C3Cl')"
   ]
  },
  {
   "cell_type": "code",
   "execution_count": null,
   "id": "f506aac0-4053-4a54-8626-ff6b95f6a3f8",
   "metadata": {},
   "outputs": [],
   "source": [
    "ticlopidine"
   ]
  },
  {
   "cell_type": "code",
   "execution_count": null,
   "id": "b4d3527f-7a30-48e9-9e94-5ab48e7ab414",
   "metadata": {},
   "outputs": [],
   "source": [
    "for atom in ticlopidine.GetAtoms():\n",
    "    print(atom.GetAtomicNum())"
   ]
  },
  {
   "cell_type": "code",
   "execution_count": null,
   "id": "f59a543d-6c0c-47bf-a7bd-86201fdfad65",
   "metadata": {},
   "outputs": [],
   "source": [
    "for sharmeen in ticlopidine.GetAtoms():\n",
    "    print(sharmeen.GetAtomicNum())"
   ]
  },
  {
   "cell_type": "code",
   "execution_count": null,
   "id": "7479882d-182c-4c52-a0c9-557c1bcd2adc",
   "metadata": {},
   "outputs": [],
   "source": [
    "for atom in ticlopidine.GetAtoms(): \n",
    "    print(atom.GetAtomicNum())"
   ]
  },
  {
   "cell_type": "code",
   "execution_count": null,
   "id": "5a92c58f-d654-4d72-9887-7caae75f6269",
   "metadata": {},
   "outputs": [],
   "source": [
    "Chem.Kekulize(ticlopidine)"
   ]
  },
  {
   "cell_type": "code",
   "execution_count": null,
   "id": "9757d508-eef6-429a-b47c-36f2943ce5eb",
   "metadata": {},
   "outputs": [],
   "source": [
    "Chem.MolToSmiles(ticlopidine,isomeric=True,allBondsExplicit=False,allHsExplicit=False)"
   ]
  },
  {
   "cell_type": "code",
   "execution_count": null,
   "id": "11ad08af-1a09-41ec-80d4-63b285d46605",
   "metadata": {},
   "outputs": [],
   "source": [
    "print(Chem.MolToMolBlock(ticlopidine)) "
   ]
  },
  {
   "cell_type": "code",
   "execution_count": null,
   "id": "c101e642-c394-4317-9f67-6c9a1d59a2be",
   "metadata": {},
   "outputs": [],
   "source": [
    "import pandas as pd"
   ]
  },
  {
   "cell_type": "code",
   "execution_count": null,
   "id": "f5672d10-ba24-4bb7-b0a8-39f231fc6841",
   "metadata": {},
   "outputs": [],
   "source": [
    "mainlist = []\n",
    "for praveen in ticlopidine.GetAtoms():\n",
    "    valuelist_main = []\n",
    "    valuelist_0 = []\n",
    "    valuelist_1 = []\n",
    "    valuelist_2 = []\n",
    "    valuelist_3 = []\n",
    "    valuelist_0.append(\"Symbol\")\n",
    "    valuelist_0.append(praveen.GetSymbol())\n",
    "    valuelist_1.append(\"Mass\")\n",
    "    valuelist_1.append(praveen.GetMass())\n",
    "    valuelist_2.append(\"Atomic number\")\n",
    "    valuelist_2.append(praveen.GetAtomicNum())\n",
    "    valuelist_main.append(\" \".join(str(v) for v in valuelist_0))\n",
    "    valuelist_main.append(\" \".join(str(v) for v in valuelist_1))\n",
    "    valuelist_main.append(\" \".join(str(v) for v in valuelist_2))\n",
    "    mainlist.append(valuelist_main)\n",
    "print(mainlist)\n",
    "pd.DataFrame(mainlist)"
   ]
  },
  {
   "cell_type": "code",
   "execution_count": null,
   "id": "8dde0598-7c09-4e30-b3c4-b132d592de30",
   "metadata": {},
   "outputs": [],
   "source": [
    "ticlopidine.GetAtomWithIdx(0).GetSymbol()\n",
    "ticlopidine.GetAtomWithIdx(2).GetSymbol()"
   ]
  },
  {
   "cell_type": "code",
   "execution_count": null,
   "id": "117826ee-a43b-4bca-a03e-53adb3fb48b6",
   "metadata": {},
   "outputs": [],
   "source": [
    "ticlopidine.SetProp(\"_Name\",\"ticlopidine\")"
   ]
  },
  {
   "cell_type": "code",
   "execution_count": null,
   "id": "e9cdd001-4ba7-441d-8a84-27d99c7647af",
   "metadata": {},
   "outputs": [],
   "source": [
    "print(Chem.MolToMolBlock(ticlopidine))"
   ]
  },
  {
   "cell_type": "code",
   "execution_count": null,
   "id": "8d2d1f78-2c7b-4d11-aee4-08eae1f4d2bf",
   "metadata": {},
   "outputs": [],
   "source": [
    "from rdkit.Chem import AllChem"
   ]
  },
  {
   "cell_type": "code",
   "execution_count": null,
   "id": "fa85ef4c-ee74-4180-82c3-ccf4678b8725",
   "metadata": {},
   "outputs": [],
   "source": [
    "AllChem.Compute2DCoords(ticlopidine)"
   ]
  },
  {
   "cell_type": "code",
   "execution_count": null,
   "id": "07be4f1b-40f2-4c30-91ae-39ddb024a353",
   "metadata": {},
   "outputs": [],
   "source": [
    "print(Chem.MolToMolBlock(ticlopidine))"
   ]
  },
  {
   "cell_type": "code",
   "execution_count": null,
   "id": "85a2db10-158f-4737-85c6-14d4da678b33",
   "metadata": {},
   "outputs": [],
   "source": [
    "suppl = Chem.SDMolSupplier('data/5ht3ligs.sdf')"
   ]
  },
  {
   "cell_type": "code",
   "execution_count": null,
   "id": "f0831118-eb46-4bc5-8262-94bbc9d1eaaa",
   "metadata": {},
   "outputs": [],
   "source": [
    "for mol in suppl:\n",
    "    print(mol.GetNumAtoms())\n",
    "    print(mol.GetNumBonds())\n",
    "    print(mol.GetNumHeavyAtoms())\n",
    "    print(\"___________________\")"
   ]
  },
  {
   "cell_type": "code",
   "execution_count": null,
   "id": "17c0fe90-0af0-458a-bdde-79cd22d1b76c",
   "metadata": {},
   "outputs": [],
   "source": [
    "for mol in suppl:\n",
    "    print(mol.GetNumAtoms())"
   ]
  },
  {
   "cell_type": "code",
   "execution_count": null,
   "id": "5f311252-197a-4885-b920-7be98590abc5",
   "metadata": {},
   "outputs": [],
   "source": [
    "mols = [x for x in suppl]"
   ]
  },
  {
   "cell_type": "code",
   "execution_count": null,
   "id": "41719d77-9a66-420e-885d-77eeb8fedda5",
   "metadata": {},
   "outputs": [],
   "source": [
    "mols = [x for x in suppl]"
   ]
  },
  {
   "cell_type": "code",
   "execution_count": null,
   "id": "84887f9a-257a-4a31-80ed-937c8629335d",
   "metadata": {},
   "outputs": [],
   "source": [
    "len(mols)"
   ]
  },
  {
   "cell_type": "code",
   "execution_count": null,
   "id": "cd50bd1d-8bb6-4bc1-b1bb-a7ca4d3dda5e",
   "metadata": {},
   "outputs": [],
   "source": [
    "print(Chem.MolToMolBlock(ticlopidine), file=open('data/foo.mol', 'w+'))"
   ]
  },
  {
   "cell_type": "code",
   "execution_count": null,
   "id": "d67611d4-43bc-473a-ba9c-020b727952a8",
   "metadata": {},
   "outputs": [],
   "source": [
    "with Chem.SDWriter('data/foo.sdf') as w:\n",
    "    for ticlopidine in mols:\n",
    "        w.write(ticlopidine)"
   ]
  },
  {
   "cell_type": "code",
   "execution_count": null,
   "id": "fdba28a4-f054-4c92-b1d7-f512f6e45f53",
   "metadata": {},
   "outputs": [],
   "source": [
    "from rdkit.six import StringIO"
   ]
  },
  {
   "cell_type": "code",
   "execution_count": null,
   "id": "4edb8e48-7251-4a07-a617-89354401b734",
   "metadata": {},
   "outputs": [],
   "source": [
    "sio = StringIO()"
   ]
  },
  {
   "cell_type": "code",
   "execution_count": null,
   "id": "c3d7e8c8-b879-4c9d-9d4c-9b366653d704",
   "metadata": {},
   "outputs": [],
   "source": [
    "with Chem.SDWriter('data/praveen.sdf') as w:\n",
    "    for rahul in mols:\n",
    "        w.write(rahul)"
   ]
  },
  {
   "cell_type": "code",
   "execution_count": null,
   "id": "159c1dbe-330b-4dae-a299-201fc5dd3836",
   "metadata": {},
   "outputs": [],
   "source": [
    "praveen = Chem.SDMolSupplier('data/praveen.sdf')\n",
    "for m in praveen:\n",
    "    print(m.GetNumAtoms())"
   ]
  },
  {
   "cell_type": "code",
   "execution_count": null,
   "id": "ce2a0e56-73d7-4d7e-adf6-d77fe8497190",
   "metadata": {},
   "outputs": [],
   "source": [
    "with Chem.SDWriter(sio) as w:\n",
    "    for ticlopidine in mols:\n",
    "        w.write(ticlopidine)"
   ]
  },
  {
   "cell_type": "code",
   "execution_count": null,
   "id": "0deed795-ca18-4ccf-b0a4-e2e1b3b5fe27",
   "metadata": {},
   "outputs": [],
   "source": [
    "print(sio.getvalue())"
   ]
  },
  {
   "cell_type": "code",
   "execution_count": null,
   "id": "01d33266-821e-4698-9d61-4bd211a0511a",
   "metadata": {},
   "outputs": [],
   "source": [
    "for atom in ticlopidine.GetAtoms():\n",
    "    print(atom.GetAtomicNum())"
   ]
  },
  {
   "cell_type": "code",
   "execution_count": null,
   "id": "8ef2a045-80d1-4f28-bb57-1bf8ac1f42fc",
   "metadata": {},
   "outputs": [],
   "source": [
    "print(ticlopidine.GetBonds()[0].GetBondType())"
   ]
  },
  {
   "cell_type": "code",
   "execution_count": null,
   "id": "dabd4717-8ca3-4e34-b011-827965929264",
   "metadata": {},
   "outputs": [],
   "source": [
    "ticlopidine = Chem.MolFromSmiles(\"C1CN(CC2=C1SC=C2)CC3=CC=CC=C3Cl\")\n",
    "ticlopidine"
   ]
  },
  {
   "cell_type": "code",
   "execution_count": null,
   "id": "d82b669f-0813-46ed-a8ad-8153f92b760f",
   "metadata": {},
   "outputs": [],
   "source": [
    "for i in ticlopidine.GetBonds():\n",
    "    print(i.GetBondType())\n",
    "for i in ticlopidine.GetAtoms():\n",
    "    print(i.GetSymbol())"
   ]
  },
  {
   "cell_type": "code",
   "execution_count": null,
   "id": "3ecf79e7-e9a0-4ddc-b9b1-7b833ebd6dd6",
   "metadata": {},
   "outputs": [],
   "source": [
    "ticlopidine.GetAtomWithIdx(0).GetSymbol()"
   ]
  },
  {
   "cell_type": "code",
   "execution_count": null,
   "id": "8276d2df-22df-4894-a05e-333819ef0ed0",
   "metadata": {},
   "outputs": [],
   "source": [
    "ticlopidine.GetAtomWithIdx(0).GetExplicitValence()"
   ]
  },
  {
   "cell_type": "code",
   "execution_count": null,
   "id": "d9728220-953a-4251-a5e9-c15870a07350",
   "metadata": {},
   "outputs": [],
   "source": [
    "ticlopidine.GetBondWithIdx(0).GetBeginAtomIdx()"
   ]
  },
  {
   "cell_type": "code",
   "execution_count": null,
   "id": "e54b3216-ca9c-4881-be1e-11583ce45ffa",
   "metadata": {},
   "outputs": [],
   "source": [
    "ticlopidine.GetBondWithIdx(0).GetEndAtomIdx()"
   ]
  },
  {
   "cell_type": "code",
   "execution_count": null,
   "id": "1970a6f0-5e64-4d73-bd4b-f56fd8f27733",
   "metadata": {},
   "outputs": [],
   "source": [
    "ticlopidine.GetBondBetweenAtoms(0,1).GetBondType()"
   ]
  },
  {
   "cell_type": "code",
   "execution_count": null,
   "id": "4edd2546-5fb5-4328-9afe-f2ae96f7daa3",
   "metadata": {},
   "outputs": [],
   "source": [
    "atom = ticlopidine.GetAtomWithIdx(0)"
   ]
  },
  {
   "cell_type": "code",
   "execution_count": null,
   "id": "2d9c577d-35c9-4e23-ad39-fc6ab283d453",
   "metadata": {},
   "outputs": [],
   "source": [
    "from rdkit.Chem.Draw import rdMolDraw2D"
   ]
  },
  {
   "cell_type": "code",
   "execution_count": null,
   "id": "4dff8190-08eb-4dd7-be1c-987c9d8e023e",
   "metadata": {},
   "outputs": [],
   "source": [
    "smi = 'c1cc(F)ccc1'"
   ]
  },
  {
   "cell_type": "code",
   "execution_count": null,
   "id": "4f005f5f-8234-4379-bb4e-c0c3047b2e2a",
   "metadata": {},
   "outputs": [],
   "source": [
    "mol = Chem.MolFromSmiles(smi)"
   ]
  },
  {
   "cell_type": "code",
   "execution_count": null,
   "id": "3ef6402c-e675-4c77-9b4e-71c5a1cd5206",
   "metadata": {},
   "outputs": [],
   "source": []
  },
  {
   "cell_type": "code",
   "execution_count": null,
   "id": "39b1cdba-7ec4-4780-a5ae-ad28adaf40c8",
   "metadata": {},
   "outputs": [],
   "source": []
  },
  {
   "cell_type": "code",
   "execution_count": null,
   "id": "a1703e3d-b268-4ec3-8016-c8a84a8c3c51",
   "metadata": {},
   "outputs": [],
   "source": []
  }
 ],
 "metadata": {
  "kernelspec": {
   "display_name": "Python 3",
   "language": "python",
   "name": "python3"
  },
  "language_info": {
   "codemirror_mode": {
    "name": "ipython",
    "version": 3
   },
   "file_extension": ".py",
   "mimetype": "text/x-python",
   "name": "python",
   "nbconvert_exporter": "python",
   "pygments_lexer": "ipython3",
   "version": "3.9.5"
  }
 },
 "nbformat": 4,
 "nbformat_minor": 5
}
