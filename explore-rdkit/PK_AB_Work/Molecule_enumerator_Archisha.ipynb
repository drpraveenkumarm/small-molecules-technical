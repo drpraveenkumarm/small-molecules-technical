{
 "cells": [
  {
   "cell_type": "code",
   "execution_count": null,
   "id": "d5faa6b8-7819-4666-bcc6-f3b3375515cf",
   "metadata": {},
   "outputs": [],
   "source": [
    "conda install rdkit"
   ]
  },
  {
   "cell_type": "code",
   "execution_count": null,
   "id": "0a24685e-2eba-452e-8c0e-3cb87a0ba3e5",
   "metadata": {},
   "outputs": [],
   "source": [
    "conda install ipywidgets"
   ]
  },
  {
   "cell_type": "code",
   "execution_count": null,
   "id": "5dd286d9-8d00-4808-8f15-4a7644220487",
   "metadata": {},
   "outputs": [],
   "source": [
    "from rdkit import Chem\n",
    "from rdkit.Chem.Draw import rdDepictor\n",
    "from rdkit.Chem import Draw\n",
    "from rdkit.Chem.Draw import IPythonConsole\n",
    "from rdkit.Chem import rdMolEnumerator\n",
    "import rdkit\n",
    "print(rdkit.__version__)"
   ]
  },
  {
   "cell_type": "code",
   "execution_count": null,
   "id": "c185ff5b-bb2d-4638-9994-8146c2d7006f",
   "metadata": {},
   "outputs": [],
   "source": [
    "pv1 = Chem.MolFromMolBlock('''\n",
    "  Mrv2007 06232015292D          \n",
    "\n",
    "  0  0  0     0  0            999 V3000\n",
    "M  V30 BEGIN CTAB\n",
    "M  V30 COUNTS 9 8 0 0 0\n",
    "M  V30 BEGIN ATOM\n",
    "M  V30 1 C -1.7083 2.415 0 0\n",
    "M  V30 2 C -3.042 1.645 0 0\n",
    "M  V30 3 C -3.042 0.105 0 0\n",
    "M  V30 4 N -1.7083 -0.665 0 0\n",
    "M  V30 5 C -0.3747 0.105 0 0\n",
    "M  V30 6 C -0.3747 1.645 0 0\n",
    "M  V30 7 * -0.8192 1.3883 0 0\n",
    "M  V30 8 O -0.8192 3.6983 0 0\n",
    "M  V30 9 C 0.5145 4.4683 0 0\n",
    "M  V30 END ATOM\n",
    "M  V30 BEGIN BOND\n",
    "M  V30 1 1 1 2\n",
    "M  V30 2 2 2 3\n",
    "M  V30 3 1 3 4\n",
    "M  V30 4 2 4 5\n",
    "M  V30 5 1 5 6\n",
    "M  V30 6 2 1 6\n",
    "M  V30 7 1 7 8 ENDPTS=(3 1 5 6) ATTACH=ANY\n",
    "M  V30 8 1 8 9\n",
    "M  V30 END BOND\n",
    "M  V30 END CTAB\n",
    "M  END''')\n",
    "pv1"
   ]
  },
  {
   "cell_type": "code",
   "execution_count": null,
   "id": "92fa2fef-5ced-414a-8cdb-afcdafda2f21",
   "metadata": {},
   "outputs": [],
   "source": [
    "pv1_bundle = rdMolEnumerator.Enumerate(pv1)"
   ]
  },
  {
   "cell_type": "code",
   "execution_count": null,
   "id": "ab562436-afb9-486b-9a5a-4f119de86dcd",
   "metadata": {},
   "outputs": [],
   "source": [
    "Draw.MolsToGridImage(pv1_bundle)"
   ]
  },
  {
   "cell_type": "code",
   "execution_count": null,
   "id": "b6adf69b-1fcb-4f83-a295-e7d2d4056c87",
   "metadata": {},
   "outputs": [],
   "source": [
    "pv1_bundle"
   ]
  },
  {
   "cell_type": "code",
   "execution_count": null,
   "id": "36024811-8bfb-4255-ad9c-fb8b8591347c",
   "metadata": {},
   "outputs": [],
   "source": [
    "from rdkit.Chem import rdFMCS"
   ]
  },
  {
   "cell_type": "code",
   "execution_count": null,
   "id": "dc946977-df86-44b5-acda-b87de150da47",
   "metadata": {},
   "outputs": [],
   "source": [
    "def align_bundle_coords(bndl):\n",
    "    ps = rdFMCS.MCSParameters()\n",
    "    for m in bndl:\n",
    "        Chem.SanitizeMol(m)\n",
    "    mcs = rdFMCS.FindMCS(bndl,completeRingsOnly=True)\n",
    "    q = Chem.MolFromSmarts(mcs.smartsString)\n",
    "    rdDepictor.Compute2DCoords(q)\n",
    "    for m in bndl:\n",
    "        rdDepictor.GenerateDepictionMatching2DStructure(m,q)"
   ]
  },
  {
   "cell_type": "code",
   "execution_count": null,
   "id": "71253f84-d833-430f-a600-9380c967c1ae",
   "metadata": {},
   "outputs": [],
   "source": [
    "pv1_bundle = rdMolEnumerator.Enumerate(pv1)\n",
    "align_bundle_coords(pv1_bundle)\n",
    "Draw.MolsToGridImage(pv1_bundle)"
   ]
  },
  {
   "cell_type": "code",
   "execution_count": null,
   "id": "11aff0df-cd3d-4324-8c78-d78a4c2c8b4d",
   "metadata": {},
   "outputs": [],
   "source": [
    "#a molecule can have more than one position variation bond\n",
    "pv2 = Chem.MolFromMolBlock('''\n",
    "  Mrv2007 06242006032D          \n",
    "\n",
    "  0  0  0     0  0            999 V3000\n",
    "M  V30 BEGIN CTAB\n",
    "M  V30 COUNTS 10 8 0 0 0\n",
    "M  V30 BEGIN ATOM\n",
    "M  V30 1 C -1.7083 2.415 0 0\n",
    "M  V30 2 C -3.042 1.645 0 0\n",
    "M  V30 3 C -3.042 0.105 0 0\n",
    "M  V30 4 N -1.7083 -0.665 0 0\n",
    "M  V30 5 C -0.3747 0.105 0 0\n",
    "M  V30 6 C -0.3747 1.645 0 0\n",
    "M  V30 7 * -3.042 0.875 0 0\n",
    "M  V30 8 F -5.0434 0.875 0 0\n",
    "M  V30 9 * -1.0415 2.03 0 0\n",
    "M  V30 10 Cl -1.0415 4.34 0 0\n",
    "M  V30 END ATOM\n",
    "M  V30 BEGIN BOND\n",
    "M  V30 1 1 1 2\n",
    "M  V30 2 2 2 3\n",
    "M  V30 3 1 3 4\n",
    "M  V30 4 2 4 5\n",
    "M  V30 5 1 5 6\n",
    "M  V30 6 2 1 6\n",
    "M  V30 7 1 7 8 ENDPTS=(2 2 3) ATTACH=ANY\n",
    "M  V30 8 1 9 10 ENDPTS=(2 1 6) ATTACH=ANY\n",
    "M  V30 END BOND\n",
    "M  V30 END CTAB\n",
    "M  END\n",
    "''')\n",
    "pv2"
   ]
  },
  {
   "cell_type": "code",
   "execution_count": null,
   "id": "0ad443e5-0b31-432f-b7a0-e5e8b41c568d",
   "metadata": {},
   "outputs": [],
   "source": [
    "pv2_bundle = rdMolEnumerator.Enumerate(pv2)\n",
    "align_bundle_coords(pv2_bundle)\n",
    "Draw.MolsToGridImage(pv2_bundle)"
   ]
  },
  {
   "cell_type": "code",
   "execution_count": null,
   "id": "f82f5185-98f5-4eaa-93e0-0d4d720aa93a",
   "metadata": {},
   "outputs": [],
   "source": [
    "#link nodes, allow you to describe rings of various sizes or chains with different lengths\n",
    "link1 = Chem.MolFromMolBlock('''one linknode\n",
    "  Mrv2007 06222005102D          \n",
    "\n",
    "  0  0  0     0  0            999 V3000\n",
    "M  V30 BEGIN CTAB\n",
    "M  V30 COUNTS 6 6 0 0 0\n",
    "M  V30 BEGIN ATOM\n",
    "M  V30 1 C 8.25 12.1847 0 0\n",
    "M  V30 2 C 6.9164 12.9547 0 0\n",
    "M  V30 3 C 6.9164 14.4947 0 0\n",
    "M  V30 4 C 9.5836 14.4947 0 0\n",
    "M  V30 5 C 9.5836 12.9547 0 0\n",
    "M  V30 6 O 8.25 10.6447 0 0\n",
    "M  V30 END ATOM\n",
    "M  V30 BEGIN BOND\n",
    "M  V30 1 1 1 2\n",
    "M  V30 2 1 2 3\n",
    "M  V30 3 1 4 5\n",
    "M  V30 4 1 1 5\n",
    "M  V30 5 1 3 4\n",
    "M  V30 6 1 1 6\n",
    "M  V30 END BOND\n",
    "M  V30 LINKNODE 1 4 2 1 2 1 5\n",
    "M  V30 END CTAB\n",
    "M  END''')\n",
    "link1"
   ]
  },
  {
   "cell_type": "code",
   "execution_count": null,
   "id": "38a8bee9-e39b-498e-b6ea-dde14b0e6e73",
   "metadata": {},
   "outputs": [],
   "source": [
    "link1_bundle = rdMolEnumerator.Enumerate(link1)\n",
    "for m in link1_bundle:\n",
    "     Chem.SanitizeMol(m)\n",
    "     rdDepictor.Compute2DCoords(m)\n",
    "Draw.MolsToGridImage(link1_bundle)"
   ]
  },
  {
   "cell_type": "code",
   "execution_count": null,
   "id": "c942ae90-114d-4e36-acdc-3b3d9d44466e",
   "metadata": {},
   "outputs": [],
   "source": [
    "#combine link nodes and position variation bonds in the same molecule\n",
    "combined = Chem.MolFromMolBlock('''\n",
    "  Mrv2108 05132110052D          \n",
    "\n",
    "  0  0  0     0  0            999 V3000\n",
    "M  V30 BEGIN CTAB\n",
    "M  V30 COUNTS 19 20 0 0 0\n",
    "M  V30 BEGIN ATOM\n",
    "M  V30 1 N -2.2078 4.3165 0 0\n",
    "M  V30 2 C -2.9544 2.9695 0 0\n",
    "M  V30 3 C -2.1612 1.6495 0 0\n",
    "M  V30 4 C -0.6214 1.6763 0 0\n",
    "M  V30 5 C 0.1252 3.0233 0 0\n",
    "M  V30 6 C -0.668 4.3433 0 0\n",
    "M  V30 7 C 1.6649 3.0501 0 0\n",
    "M  V30 8 C -4.4941 2.9427 0 0\n",
    "M  V30 9 C 2.4581 1.7301 0 0\n",
    "M  V30 10 C 2.985 3.8433 0 0\n",
    "M  V30 11 C 3.7781 2.5233 0 0\n",
    "M  V30 12 C -6.3747 4.5774 0 0\n",
    "M  V30 13 C -6.9764 3.1598 0 0\n",
    "M  V30 14 C -5.8142 2.1495 0 0\n",
    "M  V30 15 C -4.8405 4.4431 0 0\n",
    "M  V30 16 F -7.1678 5.8974 0 0\n",
    "M  V30 17 O 3.3575 5.3376 0 0\n",
    "M  V30 18 * -1.1502 2.5564 0 0\n",
    "M  V30 19 C -1.1502 0.2464 0 0\n",
    "M  V30 END ATOM\n",
    "M  V30 BEGIN BOND\n",
    "M  V30 1 1 1 2\n",
    "M  V30 2 2 2 3\n",
    "M  V30 3 1 3 4\n",
    "M  V30 4 2 4 5\n",
    "M  V30 5 1 5 6\n",
    "M  V30 6 2 1 6\n",
    "M  V30 7 1 5 7\n",
    "M  V30 8 1 2 8\n",
    "M  V30 9 1 9 11\n",
    "M  V30 10 1 10 11\n",
    "M  V30 11 1 7 9\n",
    "M  V30 12 1 7 10\n",
    "M  V30 13 1 12 13\n",
    "M  V30 14 1 13 14\n",
    "M  V30 15 1 12 15\n",
    "M  V30 16 1 14 8\n",
    "M  V30 17 1 8 15\n",
    "M  V30 18 1 12 16\n",
    "M  V30 19 1 10 17\n",
    "M  V30 20 1 18 19 ENDPTS=(3 6 3 4) ATTACH=ANY\n",
    "M  V30 END BOND\n",
    "M  V30 LINKNODE 1 2 2 10 7 10 11\n",
    "M  V30 LINKNODE 1 2 2 12 13 12 15\n",
    "M  V30 END CTAB\n",
    "M  END\n",
    "''')\n",
    "combined"
   ]
  },
  {
   "cell_type": "code",
   "execution_count": null,
   "id": "c416d139-b47a-4412-8523-77d69f2a5d5c",
   "metadata": {},
   "outputs": [],
   "source": [
    "combined_bundle = rdMolEnumerator.Enumerate(combined)\n",
    "align_bundle_coords(combined_bundle)\n",
    "Draw.MolsToGridImage(combined_bundle,subImgSize=(300,250))"
   ]
  },
  {
   "cell_type": "code",
   "execution_count": null,
   "id": "390d864b-6ccb-406e-ad70-5764dbe6ce39",
   "metadata": {},
   "outputs": [],
   "source": [
    "#Using MolBundles for substructure search\n",
    "qry= Chem.MolFromMolBlock('''\n",
    "  Mrv2108 05132113572D          \n",
    "\n",
    "  0  0  0     0  0            999 V3000\n",
    "M  V30 BEGIN CTAB\n",
    "M  V30 COUNTS 13 13 0 0 0\n",
    "M  V30 BEGIN ATOM\n",
    "M  V30 1 C 1.2124 -2.4845 0 0\n",
    "M  V30 2 N 2.5461 -3.2545 0 0\n",
    "M  V30 3 C 2.5461 -4.7945 0 0\n",
    "M  V30 4 C 1.2124 -5.5645 0 0\n",
    "M  V30 5 C 1.2124 -7.1045 0 0\n",
    "M  V30 6 C -0.0335 -8.0097 0 0\n",
    "M  V30 7 O 0.4424 -9.4744 0 0\n",
    "M  V30 8 C 1.9824 -9.4744 0 0\n",
    "M  V30 9 C 2.4583 -8.0097 0 0\n",
    "M  V30 10 C -0.1212 -4.7945 0 0\n",
    "M  V30 11 C -0.1212 -3.2545 0 0\n",
    "M  V30 12 * 0.5456 -2.8695 0 0\n",
    "M  V30 13 C -0.6094 -0.869 0 0\n",
    "M  V30 END ATOM\n",
    "M  V30 BEGIN BOND\n",
    "M  V30 1 2 1 2\n",
    "M  V30 2 1 2 3\n",
    "M  V30 3 2 3 4\n",
    "M  V30 4 1 4 5\n",
    "M  V30 5 1 6 7\n",
    "M  V30 6 1 7 8\n",
    "M  V30 7 1 8 9\n",
    "M  V30 8 1 5 9\n",
    "M  V30 9 1 4 10\n",
    "M  V30 10 2 10 11\n",
    "M  V30 11 1 1 11\n",
    "M  V30 12 1 12 13 ENDPTS=(2 11 1) ATTACH=ANY\n",
    "M  V30 13 1 5 6\n",
    "M  V30 END BOND\n",
    "M  V30 LINKNODE 1 2 2 6 5 6 7\n",
    "M  V30 END CTAB\n",
    "M  END\n",
    "''')\n",
    "qry"
   ]
  },
  {
   "cell_type": "code",
   "execution_count": null,
   "id": "8df94964-e761-40e9-8635-7195a6014cd9",
   "metadata": {},
   "outputs": [],
   "source": [
    "smis = '''Cc1nc(C(C)(C)NC(=O)c2ccc(C3CCOCC3)c(OCC3CC3)n2)no1\n",
    " CC(C)(CO)NC(=O)c1ccc(C2CCOC2)c(OCC2CC2)n1\n",
    " CC(C)(NC(=O)c1ccc(C2CCOCC2)c(OCC2CC2)n1)c1nccs1\n",
    " Cc1c(-c2cncc(C3(O)CCOCC3)c2)cnc2c1CCCN2C(N)=O\n",
    " CC(C)Oc1cc(NC(=O)N2CCCc3cc(C4CCOC4)c(C=O)nc32)ncc1C#N\n",
    " NC(=O)N1CCCc2cc(-c3cncc(C4(O)CCOC4)c3)cnc21\n",
    " CCC(CC)(NC(=O)c1ccc(C2CCOCC2)c(OCC2CC2)n1)C(=O)NC\n",
    " CC(C)(NC(=O)c1ccc(C2CCOCC2)c(OCC2CC2)n1)c1ncco1\n",
    " N#Cc1cc(-c2ccoc2)c2ccc(OCc3cncc(C4(O)CCOCC4)c3)cc2c1\n",
    " Nc1cc(-c2cc(C3CCOCC3)cnc2N)ccc1C(=O)N[C@H](CO)c1ccccc1\n",
    " Nc1ncc(C2CCOCC2)cc1-c1ccc(C(=O)NCc2cccnc2)cc1\n",
    " Cc1nc(C(C)(C)NC(=O)c2ccc(C3CCOC3)c(OCC3CC3)n2)no1\n",
    " CC(C)C[C@H](NC(=O)c1ccc(C2CCOC2)c(OCC2CC2)n1)C(N)=O\n",
    " Nc1ncc(C2CCOCC2)cc1-c1ccc(C(=O)N[C@H](CO)c2ccccc2)cc1Cl\n",
    " NC(=O)[C@H](CC1CC1)NC(=O)c1ccc(C2CCOC2)c(OCC2CC2)n1\n",
    "'''\n",
    "mols = [Chem.MolFromSmiles(x.strip()) for x in smis.split('\\n') if x.strip()]"
   ]
  },
  {
   "cell_type": "code",
   "execution_count": null,
   "id": "fe161094-27be-42d6-94a5-92aadfd9561f",
   "metadata": {},
   "outputs": [],
   "source": [
    "matches = [x for x in mols if x.HasSubstructMatch(qry)]\n",
    "len(mols),len(matches)"
   ]
  },
  {
   "cell_type": "code",
   "execution_count": null,
   "id": "f849b516-7caf-4e18-b5fe-b43b2b486942",
   "metadata": {},
   "outputs": [],
   "source": [
    "qry_bundle = rdMolEnumerator.Enumerate(qry)\n",
    "matches = [x for x in mols if x.HasSubstructMatch(qry_bundle)]\n",
    "len(mols),len(matches)"
   ]
  },
  {
   "cell_type": "code",
   "execution_count": null,
   "id": "6ea053fd-04b2-493e-a67f-58cc6b54ce6b",
   "metadata": {},
   "outputs": [],
   "source": [
    "matches = []\n",
    "matched_ats = []\n",
    "for x in mols:\n",
    "    match = x.GetSubstructMatch(qry_bundle)\n",
    "    if match:\n",
    "        matches.append(x)\n",
    "        matched_ats.append(match)\n",
    "Draw.MolsToGridImage(matches[:6],highlightAtomLists=matched_ats,subImgSize=(300,250))"
   ]
  },
  {
   "cell_type": "code",
   "execution_count": null,
   "id": "a49c73c5-9754-4456-8599-ad1decdd399c",
   "metadata": {},
   "outputs": [],
   "source": [
    "#It is also possible to read both variable attachment points and link nodes from CXSMILES\n",
    "m = Chem.MolFromSmiles('CO*.C1=CC=NC=C1 |c:2,4,6,m:2:3.5.4|')\n",
    "m"
   ]
  },
  {
   "cell_type": "code",
   "execution_count": null,
   "id": "40021137-0afa-488b-9493-17a9fc5f7a58",
   "metadata": {},
   "outputs": [],
   "source": [
    "m = Chem.MolFromSmiles('OC1CCCC1 |LN:1:1.4.2.5|')\n",
    "m"
   ]
  }
 ],
 "metadata": {
  "kernelspec": {
   "display_name": "Python 3",
   "language": "python",
   "name": "python3"
  },
  "language_info": {
   "codemirror_mode": {
    "name": "ipython",
    "version": 3
   },
   "file_extension": ".py",
   "mimetype": "text/x-python",
   "name": "python",
   "nbconvert_exporter": "python",
   "pygments_lexer": "ipython3",
   "version": "3.9.5"
  }
 },
 "nbformat": 4,
 "nbformat_minor": 5
}
