{
 "cells": [
  {
   "cell_type": "code",
   "execution_count": null,
   "id": "2a74ec54-b3c7-4cba-8d31-65b76c91f4b8",
   "metadata": {},
   "outputs": [],
   "source": [
    "import rdkit\n",
    "import rdkit.Chem as Chem\n",
    "from rdkit.Chem import rdFMCS\n",
    "from matplotlib import colors\n",
    "from rdkit.Chem.Draw import MolToImage\n",
    "from rdkit.Chem.Draw import rdMolDraw2D"
   ]
  },
  {
   "cell_type": "code",
   "execution_count": null,
   "id": "aece0a70-710c-4d04-839c-cfd3f5ca8c3c",
   "metadata": {},
   "outputs": [],
   "source": [
    "def get_mol (smiles) :\n",
    "    mol = Chem.MolFromSmiles (smiles)\n",
    "    if mol is None:\n",
    "        return None\n",
    "    Chem.Kekulize (mol)\n",
    "    return mol"
   ]
  },
  {
   "cell_type": "code",
   "execution_count": null,
   "id": "1bc2ed02-c03b-4d18-bd41-39214e94276f",
   "metadata": {},
   "outputs": [],
   "source": [
    "get_mol ('CCCCCCCCCC(=O)O')"
   ]
  },
  {
   "cell_type": "code",
   "execution_count": null,
   "id": "b2b66cf4-6e78-49a9-940d-3fad11bbc2a9",
   "metadata": {},
   "outputs": [],
   "source": [
    "def find_matches_one(mol,submol) : \n",
    "    mols = [mol,submol]\n",
    "    res=rdFMCS.FindMCS (mols)\n",
    "    mcsp = Chem.MolFromSmarts(res.smartsString)\n",
    "    matches = mol.GetSubstructMatches(mcsp)\n",
    "    return matches"
   ]
  },
  {
   "cell_type": "code",
   "execution_count": null,
   "id": "b98fd7bf-b718-4076-b70e-6f5d1321085f",
   "metadata": {},
   "outputs": [],
   "source": [
    "def get_image(mol,atomset=None):    \n",
    "    hcolor = colors.to_rgb('green')\n",
    "    if atomset is not None:\n",
    "        #highlight the atoms set while drawing the whole molecule.\n",
    "        img = MolToImage(mol, size=(600, 600),fitImage=True, highlightAtoms=atomset,highlightColor=hcolor)\n",
    "    else:\n",
    "        img = MolToImage(mol, size=(400, 400),fitImage=True)\n",
    "    return img"
   ]
  },
  {
   "cell_type": "code",
   "execution_count": null,
   "id": "00b71dbf-dc24-4154-ae25-3d8532e7b26a",
   "metadata": {},
   "outputs": [],
   "source": [
    "peptide_smi = 'CCCCCCCCCC(=O)NC(Cc1c[nH]c2ccccc12)C(=O)NC(CC(N)=O)C(=O)NC(CC(=O)O)C(=O)NC4C(C)OC(=O)C(CC(=O)c3ccccc3(N))NC(=O)C(NC(=O)C(CO)NC(=O)CNC(=O)C(CC(=O)O)NC(=O)C(C)NC(=O)C(CC(=O)O)NC(=O)C(CCCN)NC(=O)CNC4(=O))C(C)CC(=O)O'\n",
    "monomer_smi = 'CCCCCCCCCC(=O)O'\n",
    "\n",
    "peptide_mol = get_mol(peptide_smi) #whole molecule\n",
    "monomer_mol = get_mol(monomer_smi) #substructure molecule"
   ]
  },
  {
   "cell_type": "code",
   "execution_count": null,
   "id": "844e9e5d-e549-4a17-8a06-5751b8176120",
   "metadata": {
    "tags": []
   },
   "outputs": [],
   "source": [
    "matches = find_matches_one(peptide_mol,monomer_mol)\n",
    "\n",
    "atomset = list(matches[0])"
   ]
  },
  {
   "cell_type": "code",
   "execution_count": null,
   "id": "2a1fb924-df6a-429d-836b-8c2ff1b86912",
   "metadata": {},
   "outputs": [],
   "source": [
    "matches"
   ]
  },
  {
   "cell_type": "code",
   "execution_count": null,
   "id": "efd6d6a6-245a-41cb-821b-8923be92226e",
   "metadata": {},
   "outputs": [],
   "source": [
    "img = get_image(peptide_mol, atomset)\n",
    "img #see the whole molecule with the substructure highlighted."
   ]
  },
  {
   "cell_type": "code",
   "execution_count": null,
   "id": "62cfd50f-eeab-4e74-94a6-4f3fc04881a0",
   "metadata": {},
   "outputs": [],
   "source": [
    "img = get_image(monomer_mol)\n",
    "img "
   ]
  },
  {
   "cell_type": "code",
   "execution_count": null,
   "id": "537696b9-c8f7-416e-bda7-890f2bd59707",
   "metadata": {},
   "outputs": [],
   "source": [
    "\"\"\"Check https://www.rdkit.org/docs/GettingStartedInPython.html?highlight=maccs#:~:text=%3E%3E%3E%20colours%20%3D%20%5B(0.8%2C0.0%2C0.8)%2C(0.8%2C0.8%2C0,hit_bonds%2C%0A...%20%20%20%20%20%20%20%20%20%20%20%20%20%20%20%20%20%20%20%20%20%20%20%20%20%20%20%20%20%20%20%20%20%20%20%20highlightBondColors%3Dbond_cols)\"\"\""
   ]
  },
  {
   "cell_type": "code",
   "execution_count": null,
   "id": "8ad2b625-afd1-46c9-b23c-d6d77a4c296c",
   "metadata": {},
   "outputs": [],
   "source": [
    ">>> hit_ats = list(peptide_mol.GetSubstructMatch(monomer_mol))\n",
    ">>> hit_bonds = []\n",
    ">>> for bond in monomer_mol.GetBonds():\n",
    "...    aid1 = hit_ats[bond.GetBeginAtomIdx()]\n",
    "...    aid2 = hit_ats[bond.GetEndAtomIdx()]\n",
    "...    hit_bonds.append(peptide_mol.GetBondBetweenAtoms(aid1,aid2).GetIdx())\n",
    ">>> d = rdMolDraw2D.MolDraw2DCairo(500, 500) \n",
    ">>> rdMolDraw2D.PrepareAndDrawMolecule(d,peptide_mol, highlightAtoms=hit_ats,\n",
    "...                                    highlightBonds=hit_bonds)\n",
    "\n",
    ">>> colours = [(0.8,0.0,0.8),(0.8,0.8,0),(0,0.8,0.8),(0,0,0.8)]\n",
    ">>> atom_cols = {}\n",
    ">>> for i, at in enumerate(hit_ats):\n",
    "...     atom_cols[at] = colours[i%4]\n",
    ">>> bond_cols = {}\n",
    ">>> for i, bd in enumerate(hit_bonds):\n",
    "...     bond_cols[bd] = colours[3 - i%4]\n",
    ">>>\n",
    ">>> d = rdMolDraw2D.MolDraw2DCairo(500, 500)\n",
    ">>> rdMolDraw2D.PrepareAndDrawMolecule(d, mol, highlightAtoms=hit_ats,\n",
    "...                                    highlightAtomColors=atom_cols,\n",
    "...                                    highlightBonds=hit_bonds,\n",
    "...                                    highlightBondColors=bond_cols)"
   ]
  }
 ],
 "metadata": {
  "kernelspec": {
   "display_name": "Python 3",
   "language": "python",
   "name": "python3"
  },
  "language_info": {
   "codemirror_mode": {
    "name": "ipython",
    "version": 3
   },
   "file_extension": ".py",
   "mimetype": "text/x-python",
   "name": "python",
   "nbconvert_exporter": "python",
   "pygments_lexer": "ipython3",
   "version": "3.9.5"
  }
 },
 "nbformat": 4,
 "nbformat_minor": 5
}
