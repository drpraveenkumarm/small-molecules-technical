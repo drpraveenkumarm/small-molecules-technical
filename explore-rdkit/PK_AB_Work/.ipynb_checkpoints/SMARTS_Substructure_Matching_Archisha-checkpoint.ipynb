{
 "cells": [
  {
   "cell_type": "code",
   "execution_count": null,
   "id": "b8f19dc3-fbab-467c-be37-7a0c95362fde",
   "metadata": {},
   "outputs": [],
   "source": [
    "#  https://github.com/rdkit/rdkit-tutorials/blob/master/notebooks/002_SMARTS_SubstructureMatching.ipynb"
   ]
  },
  {
   "cell_type": "code",
   "execution_count": null,
   "id": "81164ea5-78bc-4efd-a28d-ae59e24550dd",
   "metadata": {},
   "outputs": [],
   "source": [
    "from __future__ import print_function\n",
    "# import rdkit components\n",
    "from rdkit import rdBase\n",
    "from rdkit import Chem\n",
    "from rdkit.Chem import AllChem\n",
    "from rdkit.Chem import Draw\n",
    "\n",
    "# use IPythonConsole for pretty drawings\n",
    "from rdkit.Chem.Draw import IPythonConsole"
   ]
  },
  {
   "cell_type": "code",
   "execution_count": null,
   "id": "91b5d2f9-4c23-45b6-a1ab-e68e14547885",
   "metadata": {},
   "outputs": [],
   "source": [
    "#defining the variables as my compounds, and adding them in a list\n",
    "\n",
    "naphthalene = Chem.MolFromSmiles('c12ccccc1cccc2')\n",
    "benzene = Chem.MolFromSmiles('c1ccccc1')\n",
    "benzoxazole = Chem.MolFromSmiles('n1c2ccccc2oc1')\n",
    "indane = Chem.MolFromSmiles('c1ccc2c(c1)CCC2')\n",
    "skatole = Chem.MolFromSmiles('CC1=CNC2=CC=CC=C12')\n",
    "quinoline = Chem.MolFromSmiles('n1cccc2ccccc12')\n",
    "\n",
    "my_compounds = [naphthalene,benzene,benzoxazole,indane,skatole,quinoline]"
   ]
  },
  {
   "cell_type": "code",
   "execution_count": null,
   "id": "337497b0-67fa-4fe3-b509-8d4f58acaccc",
   "metadata": {},
   "outputs": [],
   "source": [
    "#To view the molecules \n",
    "\n",
    "Draw.MolsToGridImage(my_compounds, useSVG=False)"
   ]
  },
  {
   "cell_type": "code",
   "execution_count": null,
   "id": "9e02dbc3-775b-4c02-a95f-9799cc4a5f71",
   "metadata": {},
   "outputs": [],
   "source": [
    "\"\"\" Check https://www.daylight.com/dayhtml_tutorials/languages/smarts/#:~:text=and%20aromatic%20atoms.-,%5BR2%5D%20%C2%A0,-Atoms%20that%20are\n",
    "[R2] in SMARTS means the list of atoms that are a part of 2 rings\n",
    "SSSR = smallest set of smallest rings ( https://depth-first.com/articles/2020/08/31/a-smallest-set-of-smallest-rings/ )\n",
    "\n",
    "This code tests whether any atom in each molecule is a member of two rings \n",
    "\n",
    "\"\"\" \n",
    "is_in_two_rings = Chem.MolFromSmarts('[R2]')\n",
    "[mol.HasSubstructMatch(is_in_two_rings) for mol in my_compounds]"
   ]
  },
  {
   "cell_type": "code",
   "execution_count": null,
   "id": "45760a37-9bc4-4938-a74f-44a60b86fb57",
   "metadata": {},
   "outputs": [],
   "source": [
    "#For RDKit molecules created via SMILES, ring properties are instantiated automatically on molecule creation.\n",
    "#Using SMARTS instead of SMILES to initialize molecules does not result in instantiation of a molecule's RingInfo property. Thus, until Chem.GetSSSR() is invoked on a SMARTS-derived molecule, certain queries will fail."
   ]
  },
  {
   "cell_type": "code",
   "execution_count": null,
   "id": "086ddf0c-d7fa-402a-b3b7-41a00db3c698",
   "metadata": {},
   "outputs": [],
   "source": [
    "benzo_five = Chem.MolFromSmarts('[*r5R1]1[cR2]2[cR1][cR1][cR1][cR1][cR2]2[*r5R1][*r5R1]1')\n",
    "benzo_six = Chem.MolFromSmarts('[*r6R1]1[cR2]2[cR1][cR1][cR1][cR1][cR2]2[*r6R1][*r6R1][*r6R1]1')\n",
    "smarts_queries = [benzo_five, benzo_six]"
   ]
  },
  {
   "cell_type": "code",
   "execution_count": null,
   "id": "e1abe03e-9093-4271-b7f8-bb628326acfa",
   "metadata": {},
   "outputs": [],
   "source": [
    "# our first try fails\n",
    "try:\n",
    "    print([mol.HasSubstructMatch(is_in_two_rings) for mol in smarts_queries])\n",
    "    print('Success!  Your query worked.')\n",
    "except RuntimeError as err:\n",
    "    print('ERROR; {0} because RingInfo wasn\\'t initialized\\n'.format(err))"
   ]
  },
  {
   "cell_type": "code",
   "execution_count": null,
   "id": "2d14232c-c56c-48e5-b79e-f47d228f2e27",
   "metadata": {},
   "outputs": [],
   "source": [
    "# initialize rings\n",
    "[Chem.GetSSSR(mol) for mol in smarts_queries]\n",
    "\n",
    "# now it works\n",
    "try:\n",
    "    print([mol.HasSubstructMatch(is_in_two_rings) for mol in smarts_queries])\n",
    "    print('Success!  Your query worked.\\n')\n",
    "except RuntimeError as err:\n",
    "    print('ERROR; {0} because RingInfo wasn\\'t initialized'.format(err))\n",
    "    \n",
    "    #(doubt. what are we trying to do here?)"
   ]
  },
  {
   "cell_type": "code",
   "execution_count": null,
   "id": "cb80cb2f-9e61-4b9f-888c-dd48499749b5",
   "metadata": {},
   "outputs": [],
   "source": [
    "\"\"\"RingInfo is instantiated, it will be possible to compute meaningful 2D sets of coordinates for the SMARTS molecule and to both (a) query against the SMARTS molecule and (b) use the SMARTS molecule as a query against other molecules. Without calling Chem.GetSSSR(), only the second option would be viable.\"\"\""
   ]
  },
  {
   "cell_type": "code",
   "execution_count": null,
   "id": "13759410-33c6-475b-976c-9ce2861ba0c9",
   "metadata": {},
   "outputs": [],
   "source": [
    "[AllChem.Compute2DCoords(mol) for mol in smarts_queries]"
   ]
  },
  {
   "cell_type": "code",
   "execution_count": null,
   "id": "3ccbd183-136c-477f-b069-4be0f90a9161",
   "metadata": {},
   "outputs": [],
   "source": [
    "# matching the first query\n",
    "for mol in my_compounds:\n",
    "    AllChem.GenerateDepictionMatching2DStructure(mol, benzo_five, acceptFailure = True)"
   ]
  },
  {
   "cell_type": "code",
   "execution_count": null,
   "id": "d656a899-3047-4dfc-a20e-3f83e369a0b5",
   "metadata": {},
   "outputs": [],
   "source": [
    "#matching to our first query is done. Now we have to draw the results"
   ]
  },
  {
   "cell_type": "code",
   "execution_count": null,
   "id": "8e1aa8cf-8b80-41d4-8eea-ffb693eb1cb1",
   "metadata": {},
   "outputs": [],
   "source": [
    "# IPythonConsole module of rdkit.Chem.Draw doesn't seem to pass through the highlightSubstructs = True parameter to the appropriate rendering function, even though it does result in setting the mol.__sssAtoms property for each molecule. We can pass this parameter manually."
   ]
  },
  {
   "cell_type": "code",
   "execution_count": null,
   "id": "5f06fb17-09b6-4e17-b618-67a84f8ba9ea",
   "metadata": {},
   "outputs": [],
   "source": [
    "highlight_lists = [mol.GetSubstructMatch(benzo_five) for mol in my_compounds]\n",
    "Draw.MolsToGridImage(my_compounds, \n",
    "                     highlightAtomLists = highlight_lists,\n",
    "                     useSVG=False\n",
    "                    )"
   ]
  },
  {
   "cell_type": "code",
   "execution_count": null,
   "id": "aaaa82dc-8f32-4a6f-8ce3-13f78ef0ee1e",
   "metadata": {},
   "outputs": [],
   "source": [
    "\"\"\"skatole, indane, and benzoxazole hit our first query, which tested whether a molecule contained a benzene fused to a five-membered ring. The skatole example illustrates that not all atoms in a molecule need to match a query, and also that only those atoms that match will be highlighted. benzene isn't highlighted because it doesn't contain two rings, and naphthalene and quinoline aren't highlighted because they contain benzene fused to a six-membered ring.\"\"\""
   ]
  },
  {
   "cell_type": "code",
   "execution_count": null,
   "id": "1a9200ab-5d9c-4bdc-8ebe-24a1cc8975f8",
   "metadata": {},
   "outputs": [],
   "source": [
    "for mol in my_compounds:\n",
    "    AllChem.GenerateDepictionMatching2DStructure(mol, benzo_six, acceptFailure = True)\n",
    "# make sure the molecules are storing information about the SSS match:\n",
    "highlight_lists = [mol.GetSubstructMatch(benzo_six) for mol in my_compounds]\n",
    "Draw.MolsToGridImage(my_compounds, \n",
    "                     highlightAtomLists = highlight_lists,\n",
    "                     useSVG=False\n",
    "                    )"
   ]
  },
  {
   "cell_type": "code",
   "execution_count": null,
   "id": "790ac5cd-80e4-4521-9d7d-e1dd4572a901",
   "metadata": {},
   "outputs": [],
   "source": [
    ">>> from rdkit.Chem.Draw import rdMolDraw2D\n",
    ">>> highlight_lists = [mol.GetSubstructMatch(benzo_six) for mol in my_compounds]\n",
    ">>> hit_bonds = []\n",
    ">>> for bond in patt.GetBonds():\n",
    "...    aid1 = highlight_lists[bond.GetBeginAtomIdx()]\n",
    "...    aid2 = highlight_lists[bond.GetEndAtomIdx()]\n",
    "...    hit_bonds.append(mol.GetBondBetweenAtoms(aid1,aid2).GetIdx())\n",
    ">>> d = rdMolDraw2D.MolDraw2DSVG(500, 500) # or MolDraw2DCairo to get PNGs\n",
    ">>> rdMolDraw2D.PrepareAndDrawMolecule(d, mol, highlightAtoms=highlight_lists,\n",
    "...                                    highlightBonds=hit_bonds)"
   ]
  },
  {
   "cell_type": "code",
   "execution_count": null,
   "id": "6ba08b8c-c73e-44e5-8e5c-4755c6967cb4",
   "metadata": {},
   "outputs": [],
   "source": []
  },
  {
   "cell_type": "code",
   "execution_count": null,
   "id": "518daa43-0a30-460b-b6ee-9298ef391921",
   "metadata": {},
   "outputs": [],
   "source": []
  },
  {
   "cell_type": "code",
   "execution_count": null,
   "id": "db759164-696d-4969-bf0b-da2b80952cc1",
   "metadata": {},
   "outputs": [],
   "source": []
  },
  {
   "cell_type": "code",
   "execution_count": null,
   "id": "976c7653-ebd9-4797-9557-c5b3548e4276",
   "metadata": {},
   "outputs": [],
   "source": []
  },
  {
   "cell_type": "code",
   "execution_count": null,
   "id": "f3362413-1bbc-47ee-9115-1b6f50f88838",
   "metadata": {},
   "outputs": [],
   "source": []
  },
  {
   "cell_type": "code",
   "execution_count": null,
   "id": "50f10da3-5b30-4482-9a82-f6bd00c7e923",
   "metadata": {},
   "outputs": [],
   "source": []
  },
  {
   "cell_type": "code",
   "execution_count": null,
   "id": "ed870d78-6b3b-4c6b-8459-bd08caf0e079",
   "metadata": {},
   "outputs": [],
   "source": []
  },
  {
   "cell_type": "code",
   "execution_count": null,
   "id": "d8d3bb8a-58f3-467c-b900-66da17d1e6df",
   "metadata": {},
   "outputs": [],
   "source": []
  },
  {
   "cell_type": "code",
   "execution_count": null,
   "id": "cdf38fe9-37b5-42ef-a633-6997675deddb",
   "metadata": {},
   "outputs": [],
   "source": []
  },
  {
   "cell_type": "code",
   "execution_count": null,
   "id": "8c1e7082-f91c-4e79-8a99-ee914d645725",
   "metadata": {},
   "outputs": [],
   "source": []
  },
  {
   "cell_type": "code",
   "execution_count": null,
   "id": "953c1c47-fd0b-4d77-a76c-3cc80c9a3071",
   "metadata": {},
   "outputs": [],
   "source": []
  },
  {
   "cell_type": "code",
   "execution_count": null,
   "id": "c9e03fc6-5f96-41d8-8b59-ad130e1a860f",
   "metadata": {},
   "outputs": [],
   "source": []
  }
 ],
 "metadata": {
  "kernelspec": {
   "display_name": "Python 3",
   "language": "python",
   "name": "python3"
  },
  "language_info": {
   "codemirror_mode": {
    "name": "ipython",
    "version": 3
   },
   "file_extension": ".py",
   "mimetype": "text/x-python",
   "name": "python",
   "nbconvert_exporter": "python",
   "pygments_lexer": "ipython3",
   "version": "3.9.5"
  }
 },
 "nbformat": 4,
 "nbformat_minor": 5
}
