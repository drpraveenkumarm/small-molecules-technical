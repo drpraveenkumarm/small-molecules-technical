{
 "cells": [
  {
   "cell_type": "code",
   "execution_count": null,
   "id": "23ea034a-5f92-4d0a-96cf-759bad014872",
   "metadata": {},
   "outputs": [],
   "source": [
    "from rdkit import Chem\n",
    "from rdkit.Chem import Draw\n",
    "from rdkit.Chem.Draw import IPythonConsole\n",
    "IPythonConsole.molSize=(450,350)\n",
    "from rdkit.Chem import rdRGroupDecomposition\n",
    "from rdkit.Chem import rdqueries\n",
    "from rdkit.Chem import rdDepictor\n",
    "from rdkit.Chem.Draw import rdMolDraw2D\n",
    "from rdkit import Geometry\n",
    "rdDepictor.SetPreferCoordGen(True)\n",
    "import pandas as pd\n",
    "\n",
    "from IPython.display import SVG,Image\n",
    "from ipywidgets import interact\n",
    "\n",
    "import rdkit\n",
    "print(rdkit.__version__)"
   ]
  },
  {
   "cell_type": "code",
   "execution_count": null,
   "id": "25759103-b4da-496c-ad95-2cb20aeb0e86",
   "metadata": {},
   "outputs": [],
   "source": [
    "df = pd.read_csv('data/cdk2_rgd_dataset.csv')\n",
    "df.head()"
   ]
  },
  {
   "cell_type": "code",
   "execution_count": null,
   "id": "c2645139-0216-4944-9233-b475fe7d1ce7",
   "metadata": {},
   "outputs": [],
   "source": [
    "df_doc1 = df[df.assay_chembl_id=='CHEMBL827377']\n",
    "print(len(df_doc1))\n",
    "df_doc1.head()"
   ]
  },
  {
   "cell_type": "code",
   "execution_count": null,
   "id": "eecec804-7f3e-48a9-8015-81caf58dbb07",
   "metadata": {},
   "outputs": [],
   "source": [
    "rdDepictor.SetPreferCoordGen(True)\n",
    "smis = df_doc1['canonical_smiles']\n",
    "cids = list(df_doc1.compound_chembl_id)\n",
    "ms = [Chem.MolFromSmiles(x) for x in smis]\n",
    "for m in ms:\n",
    "    rdDepictor.Compute2DCoords(m)\n",
    "Draw.MolsToGridImage(ms[:12],legends=cids,molsPerRow=4)"
   ]
  },
  {
   "cell_type": "code",
   "execution_count": null,
   "id": "d2a36e1b-5f58-45d2-a26a-474972c19206",
   "metadata": {},
   "outputs": [],
   "source": [
    "core = Chem.MolFromSmiles('c1cc(-c2c([*:1])nn3nc([*:2])ccc23)nc(N(c2ccc([*:4])c([*:3])c2))n1')\n",
    "rdDepictor.SetPreferCoordGen(True)\n",
    "rdDepictor.Compute2DCoords(core)\n",
    "core"
   ]
  },
  {
   "cell_type": "code",
   "execution_count": null,
   "id": "729f9e00-bec8-4a93-a478-1c88985e5afe",
   "metadata": {},
   "outputs": [],
   "source": [
    "ps = Chem.AdjustQueryParameters.NoAdjustments()\n",
    "ps.makeDummiesQueries=True\n",
    "qcore = Chem.AdjustQueryProperties(core,ps)\n",
    "mhs = [Chem.AddHs(x,addCoords=True) for x in ms]\n",
    "mms = [x for x in mhs if x.HasSubstructMatch(qcore)]\n",
    "for m in mms:\n",
    "    for atom in m.GetAtoms():\n",
    "        atom.SetIntProp(\"SourceAtomIdx\",atom.GetIdx())\n",
    "print(len(mhs),len(mms))"
   ]
  },
  {
   "cell_type": "code",
   "execution_count": null,
   "id": "95090621-05c7-4a90-bb53-fee08f8b2500",
   "metadata": {},
   "outputs": [],
   "source": [
    "rdkit.RDLogger.DisableLog('rdApp.warning')\n",
    "groups,_ = rdRGroupDecomposition.RGroupDecompose([qcore],mms,asSmiles=False,asRows=True)"
   ]
  },
  {
   "cell_type": "code",
   "execution_count": null,
   "id": "120d1279-a0ac-4130-814d-d4d7d66fa528",
   "metadata": {},
   "outputs": [],
   "source": [
    "from collections import defaultdict\n",
    "\n",
    "def highlight_rgroups(mol,row,core,width=350,height=200,\n",
    "                      fillRings=True,legend=\"\",\n",
    "                      sourceIdxProperty=\"SourceAtomIdx\",\n",
    "                      lbls=('R1','R2','R3','R4')):\n",
    "    # copy the molecule and core\n",
    "    mol = Chem.Mol(mol)\n",
    "    core = Chem.Mol(core)\n",
    "\n",
    "    # -------------------------------------------\n",
    "    # include the atom map numbers in the substructure search in order to \n",
    "    # try to ensure a good alignment of the molecule to symmetric cores\n",
    "    for at in core.GetAtoms():\n",
    "        if at.GetAtomMapNum():\n",
    "            at.ExpandQuery(rdqueries.IsotopeEqualsQueryAtom(200+at.GetAtomMapNum()))\n",
    "            \n",
    "    for lbl in row:\n",
    "        if lbl=='Core':\n",
    "            continue\n",
    "        rg = row[lbl]\n",
    "        for at in rg.GetAtoms():\n",
    "            if not at.GetAtomicNum() and at.GetAtomMapNum() and \\\n",
    "            at.HasProp('dummyLabel') and at.GetProp('dummyLabel')==lbl:\n",
    "                # attachment point. the atoms connected to this\n",
    "                # should be from the molecule\n",
    "                for nbr in at.GetNeighbors():\n",
    "                    if nbr.HasProp(sourceIdxProperty):\n",
    "                        mAt = mol.GetAtomWithIdx(nbr.GetIntProp(sourceIdxProperty))\n",
    "                        if mAt.GetIsotope():\n",
    "                            mAt.SetIntProp('_OrigIsotope',mAt.GetIsotope())\n",
    "                        mAt.SetIsotope(200+at.GetAtomMapNum())\n",
    "    # remove unmapped hs so that they don't mess up the depiction\n",
    "    rhps = Chem.RemoveHsParameters()\n",
    "    rhps.removeMapped = False\n",
    "    tmol = Chem.RemoveHs(mol,rhps)\n",
    "    rdDepictor.GenerateDepictionMatching2DStructure(tmol,core)\n",
    "\n",
    "    oldNewAtomMap={}\n",
    "    # reset the original isotope values and account for the fact that\n",
    "    # removing the Hs changed atom indices\n",
    "    for i,at in enumerate(tmol.GetAtoms()):\n",
    "        if at.HasProp(sourceIdxProperty):\n",
    "            oldNewAtomMap[at.GetIntProp(sourceIdxProperty)] = i\n",
    "            if at.HasProp(\"_OrigIsotope\"):\n",
    "                at.SetIsotope(at.GetIntProp(\"_OrigIsotope\"))\n",
    "                at.ClearProp(\"_OrigIsotope\")\n",
    "            else:\n",
    "                at.SetIsotope(0)\n",
    "      \n",
    "    # ------------------\n",
    "    #  set up our colormap\n",
    "    #   the three choices here are all \"colorblind\" colormaps\n",
    "    \n",
    "    # \"Tol\" colormap from https://davidmathlogic.com/colorblind\n",
    "    colors = [(51,34,136),(17,119,51),(68,170,153),(136,204,238),(221,204,119),(204,102,119),(170,68,153),(136,34,85)]\n",
    "    # \"IBM\" colormap from https://davidmathlogic.com/colorblind\n",
    "    colors = [(100,143,255),(120,94,240),(220,38,127),(254,97,0),(255,176,0)]\n",
    "    # Okabe_Ito colormap from https://jfly.uni-koeln.de/color/\n",
    "    colors = [(230,159,0),(86,180,233),(0,158,115),(240,228,66),(0,114,178),(213,94,0),(204,121,167)]\n",
    "    for i,x in enumerate(colors):\n",
    "        colors[i] = tuple(y/255 for y in x)\n",
    "  \n",
    "    #----------------------\n",
    "    # Identify and store which atoms, bonds, and rings we'll be highlighting\n",
    "    highlightatoms = defaultdict(list)\n",
    "    highlightbonds = defaultdict(list)\n",
    "    atomrads = {}\n",
    "    widthmults = {}\n",
    "\n",
    "    rings = []\n",
    "    for i,lbl in enumerate(lbls):    \n",
    "        color = colors[i%len(colors)]\n",
    "        rquery = row[lbl]\n",
    "        Chem.GetSSSR(rquery)\n",
    "        rinfo = rquery.GetRingInfo()\n",
    "        for at in rquery.GetAtoms():\n",
    "            if at.HasProp(sourceIdxProperty):\n",
    "                origIdx = oldNewAtomMap[at.GetIntProp(sourceIdxProperty)]\n",
    "                highlightatoms[origIdx].append(color)\n",
    "                atomrads[origIdx] = 0.4\n",
    "        if fillRings:\n",
    "            for aring in rinfo.AtomRings():\n",
    "                tring = []\n",
    "                allFound = True\n",
    "                for aid in aring:\n",
    "                    at = rquery.GetAtomWithIdx(aid)\n",
    "                    if not at.HasProp(sourceIdxProperty):\n",
    "                        allFound = False\n",
    "                        break\n",
    "                    tring.append(oldNewAtomMap[at.GetIntProp(sourceIdxProperty)])\n",
    "                if allFound:\n",
    "                    rings.append((tring,color))\n",
    "        for qbnd in rquery.GetBonds():\n",
    "            batom = qbnd.GetBeginAtom()\n",
    "            eatom = qbnd.GetEndAtom()\n",
    "            if batom.HasProp(sourceIdxProperty) and eatom.HasProp(sourceIdxProperty):\n",
    "                origBnd = tmol.GetBondBetweenAtoms(oldNewAtomMap[batom.GetIntProp(sourceIdxProperty)],\n",
    "                                                 oldNewAtomMap[eatom.GetIntProp(sourceIdxProperty)])\n",
    "                bndIdx = origBnd.GetIdx()\n",
    "                highlightbonds[bndIdx].append(color)\n",
    "                widthmults[bndIdx] = 2\n",
    "\n",
    "    d2d = rdMolDraw2D.MolDraw2DCairo(width,height)\n",
    "    dos = d2d.drawOptions()\n",
    "    dos.useBWAtomPalette()\n",
    "                \n",
    "    #----------------------\n",
    "    # if we are filling rings, go ahead and do that first so that we draw\n",
    "    # the molecule on top of the filled rings\n",
    "    if fillRings and rings:\n",
    "        # a hack to set the molecule scale\n",
    "        d2d.DrawMoleculeWithHighlights(tmol,legend,dict(highlightatoms),\n",
    "                                       dict(highlightbonds),\n",
    "                                       atomrads,widthmults)\n",
    "        d2d.ClearDrawing()\n",
    "        conf = tmol.GetConformer()\n",
    "        for (aring,color) in rings:\n",
    "            ps = []\n",
    "            for aidx in aring:\n",
    "                pos = Geometry.Point2D(conf.GetAtomPosition(aidx))\n",
    "                ps.append(pos)\n",
    "            d2d.SetFillPolys(True)\n",
    "            d2d.SetColour(color)\n",
    "            d2d.DrawPolygon(ps)\n",
    "        dos.clearBackground = False\n",
    "\n",
    "    #----------------------\n",
    "    # now draw the molecule, with highlights:\n",
    "    d2d.DrawMoleculeWithHighlights(tmol,legend,dict(highlightatoms),dict(highlightbonds),\n",
    "                                   atomrads,widthmults)\n",
    "    d2d.FinishDrawing()\n",
    "    png = d2d.GetDrawingText()\n",
    "    return png"
   ]
  },
  {
   "cell_type": "code",
   "execution_count": null,
   "id": "1ccbe112-fec5-431e-9b7a-0081b90e69b5",
   "metadata": {},
   "outputs": [],
   "source": [
    "@interact(idx=range(0,len(ms)))\n",
    "def draw_it(idx=0):\n",
    "    m = mms[idx]\n",
    "    row = groups[idx]\n",
    "    return Image(highlight_rgroups(m,row,qcore,lbls=('R1','R2','R3','R4')))"
   ]
  },
  {
   "cell_type": "code",
   "execution_count": null,
   "id": "8137f41c-f3fd-477a-a720-c93004cf285c",
   "metadata": {},
   "outputs": [],
   "source": [
    "from PIL import Image as pilImage\n",
    "from io import BytesIO\n",
    "\n",
    "def draw_multiple(ms,groups,qcore,lbls,legends=None,nPerRow=4,subImageSize=(250,200)):\n",
    "    nRows = len(ms)//nPerRow\n",
    "    if len(ms)%nPerRow:\n",
    "        nRows+=1\n",
    "    nCols = nPerRow\n",
    "    imgSize = (subImageSize[0]*nCols,subImageSize[1]*nRows)\n",
    "    res = pilImage.new('RGB',imgSize)\n",
    "    \n",
    "    for i,m in enumerate(ms):\n",
    "        col = i%nPerRow\n",
    "        row = i//nPerRow\n",
    "        if legends:\n",
    "            legend = legends[i]\n",
    "        else:\n",
    "            legend = ''\n",
    "        png = highlight_rgroups(m,groups[i],qcore,lbls=lbls,legend=legend,\n",
    "                               width=subImageSize[0],height=subImageSize[1])\n",
    "        bio = BytesIO(png)\n",
    "        img = pilImage.open(bio)\n",
    "        res.paste(img,box=(col*subImageSize[0],row*subImageSize[1]))\n",
    "    bio = BytesIO()\n",
    "    res.save(bio,format='PNG')\n",
    "    return bio.getvalue()"
   ]
  },
  {
   "cell_type": "code",
   "execution_count": null,
   "id": "90c86c1c-7936-4cfd-8156-c0d0ccec06d6",
   "metadata": {},
   "outputs": [],
   "source": [
    "Image(draw_multiple(mms[:16],groups,qcore,('R1','R2','R3','R4'),legends=cids,subImageSize=(300,250)))"
   ]
  },
  {
   "cell_type": "code",
   "execution_count": null,
   "id": "dac834c5-f406-4703-a957-c0c825bcefbd",
   "metadata": {},
   "outputs": [],
   "source": [
    "df_doc2 = df[df.assay_chembl_id=='CHEMBL658107']\n",
    "print(len(df_doc2))\n",
    "df_doc2.head()"
   ]
  },
  {
   "cell_type": "code",
   "execution_count": null,
   "id": "9a4df59a-4e4a-458d-a9a9-a608e395fb5e",
   "metadata": {},
   "outputs": [],
   "source": [
    "smis = df_doc2['canonical_smiles']\n",
    "cids = list(df_doc2.compound_chembl_id)\n",
    "ms = [Chem.MolFromSmiles(x) for x in smis]\n",
    "for m in ms:\n",
    "    rdDepictor.Compute2DCoords(m)\n",
    "Draw.MolsToGridImage(ms[:12],legends=cids,molsPerRow=4)"
   ]
  },
  {
   "cell_type": "code",
   "execution_count": null,
   "id": "b8ec677d-cb9d-4105-a5b7-f5475e9be37b",
   "metadata": {},
   "outputs": [],
   "source": [
    "core = Chem.MolFromSmiles('Cc1nc([*:3])sc1-c1ccnc(N([*:1])[*:2])n1')\n",
    "ps = Chem.AdjustQueryParameters.NoAdjustments()\n",
    "ps.makeDummiesQueries=True\n",
    "qcore = Chem.AdjustQueryProperties(core,ps)\n",
    "mhs = [Chem.AddHs(x,addCoords=True) for x in ms]\n",
    "mms = [x for x in mhs if x.HasSubstructMatch(qcore)]\n",
    "for m in mms:\n",
    "    for atom in m.GetAtoms():\n",
    "        atom.SetIntProp(\"SourceAtomIdx\",atom.GetIdx())\n",
    "print(len(mhs),len(mms))\n",
    "rdDepictor.SetPreferCoordGen(True)\n",
    "rdDepictor.Compute2DCoords(qcore)\n",
    "qcore"
   ]
  },
  {
   "cell_type": "code",
   "execution_count": null,
   "id": "d75429e9-e539-469c-83ea-73a0c66923b3",
   "metadata": {},
   "outputs": [],
   "source": [
    "rdkit.RDLogger.DisableLog('rdApp.warning')\n",
    "groups,_ = rdRGroupDecomposition.RGroupDecompose([qcore],mms,asSmiles=False,asRows=True)"
   ]
  },
  {
   "cell_type": "code",
   "execution_count": null,
   "id": "0031eae0-482d-452b-9d20-8ef7fa52bc08",
   "metadata": {},
   "outputs": [],
   "source": [
    "@interact(idx=range(0,len(mms)))\n",
    "def draw_it(idx=0):\n",
    "    m = mms[idx]\n",
    "    row = groups[idx]\n",
    "    return Image(highlight_rgroups(m,row,qcore,lbls=('R1','R2','R3')))"
   ]
  },
  {
   "cell_type": "code",
   "execution_count": null,
   "id": "726cc511-95c3-4cde-80fd-2ba77413b0c7",
   "metadata": {},
   "outputs": [],
   "source": [
    "Image(draw_multiple(mms[:12],groups,qcore,('R1','R2','R3'),subImageSize=(300,250)))"
   ]
  },
  {
   "cell_type": "code",
   "execution_count": null,
   "id": "89179f98-e074-4f20-8aa6-287ae8f815eb",
   "metadata": {},
   "outputs": [],
   "source": [
    "df_doc3 = df[df.assay_chembl_id=='CHEMBL3101313']\n",
    "print(len(df_doc3))\n",
    "df_doc3.head()"
   ]
  },
  {
   "cell_type": "code",
   "execution_count": null,
   "id": "7476c0f9-674f-4b8c-9021-5c8297f9bc1a",
   "metadata": {},
   "outputs": [],
   "source": [
    "smis = df_doc3['canonical_smiles']\n",
    "cids = list(df_doc3.compound_chembl_id)\n",
    "ms = [Chem.MolFromSmiles(x) for x in smis]\n",
    "for m in ms:\n",
    "    rdDepictor.Compute2DCoords(m)\n",
    "Draw.MolsToGridImage(ms[:12],legends=cids,molsPerRow=4)"
   ]
  },
  {
   "cell_type": "code",
   "execution_count": null,
   "id": "8ef9ebc7-08da-41cd-873b-c809760553c2",
   "metadata": {},
   "outputs": [],
   "source": [
    "core = Chem.MolFromSmiles('OC(=O)c1cc(C(=O)NC(C[*:1])[*:2])nc2ccc([*:3])cc12')\n",
    "ps = Chem.AdjustQueryParameters.NoAdjustments()\n",
    "ps.makeDummiesQueries=True\n",
    "qcore = Chem.AdjustQueryProperties(core,ps)\n",
    "mhs = [Chem.AddHs(x,addCoords=True) for x in ms]\n",
    "mms = [x for x in mhs if x.HasSubstructMatch(qcore)]\n",
    "for m in mms:\n",
    "    for atom in m.GetAtoms():\n",
    "        atom.SetIntProp(\"SourceAtomIdx\",atom.GetIdx())\n",
    "print(len(mhs),len(mms))\n",
    "rdDepictor.SetPreferCoordGen(True)\n",
    "rdDepictor.Compute2DCoords(qcore)\n",
    "qcore"
   ]
  },
  {
   "cell_type": "code",
   "execution_count": null,
   "id": "8578a09d-b0ef-4d13-a748-0a827fb86260",
   "metadata": {},
   "outputs": [],
   "source": [
    "rdkit.RDLogger.DisableLog('rdApp.warning')\n",
    "groups,_ = rdRGroupDecomposition.RGroupDecompose([qcore],mms,asSmiles=False,asRows=True)"
   ]
  },
  {
   "cell_type": "code",
   "execution_count": null,
   "id": "4133f6f1-5452-4c70-8b4a-4a3f94789497",
   "metadata": {},
   "outputs": [],
   "source": [
    "@interact(idx=range(0,len(mms)))\n",
    "def draw_it(idx=0):\n",
    "    m = mms[idx]\n",
    "    row = groups[idx]\n",
    "    return Image(highlight_rgroups(m,row,qcore,lbls=('R1','R2','R3')))"
   ]
  },
  {
   "cell_type": "code",
   "execution_count": null,
   "id": "ee441e61-52c0-462e-8ab0-65a7908afe12",
   "metadata": {},
   "outputs": [],
   "source": [
    "Image(draw_multiple(mms[:12],groups,qcore,('R1','R2','R3'),subImageSize=(300,250)))"
   ]
  }
 ],
 "metadata": {
  "kernelspec": {
   "display_name": "Python 3",
   "language": "python",
   "name": "python3"
  },
  "language_info": {
   "codemirror_mode": {
    "name": "ipython",
    "version": 3
   },
   "file_extension": ".py",
   "mimetype": "text/x-python",
   "name": "python",
   "nbconvert_exporter": "python",
   "pygments_lexer": "ipython3",
   "version": "3.9.5"
  }
 },
 "nbformat": 4,
 "nbformat_minor": 5
}
