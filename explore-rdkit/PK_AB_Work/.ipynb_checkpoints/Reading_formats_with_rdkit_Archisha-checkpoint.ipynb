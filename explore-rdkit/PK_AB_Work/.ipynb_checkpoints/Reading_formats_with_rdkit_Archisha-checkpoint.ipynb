{
 "cells": [
  {
   "cell_type": "code",
   "execution_count": null,
   "id": "805116b9-cef5-434c-a2d4-7d67383d9790",
   "metadata": {},
   "outputs": [],
   "source": [
    "from rdkit import Chem\n",
    "from rdkit.Chem.Draw import IPythonConsole\n",
    "from rdkit.Chem import Draw\n",
    "IPythonConsole.ipython_useSVG=True #for better quality images"
   ]
  },
  {
   "cell_type": "code",
   "execution_count": null,
   "id": "d79964b5-c380-4759-b448-01b96dfc107b",
   "metadata": {},
   "outputs": [],
   "source": [
    "import time\n",
    "print(time.asctime()) # doctest: IGNORE"
   ]
  },
  {
   "cell_type": "code",
   "execution_count": null,
   "id": "d37b38de-681f-4092-aefc-fa79e1cc8752",
   "metadata": {},
   "outputs": [],
   "source": [
    "#Converting smiles to mol\n",
    "m = Chem.MolFromSmiles('COc1ccc2c(c1)[nH]c(n2)[S@@](=O)Cc1ncc(c(c1C)OC)C')\n",
    "m"
   ]
  },
  {
   "cell_type": "code",
   "execution_count": null,
   "id": "c0eab49a-0b3a-4cf3-a2ec-4e2f0b246b7f",
   "metadata": {},
   "outputs": [],
   "source": [
    "m = Chem.MolFromSmiles('[H][C@@]1(CCOC1=O)NC(=O)CC(=O)CCCCCCCCC')\n",
    "m"
   ]
  },
  {
   "cell_type": "code",
   "execution_count": null,
   "id": "b32c2d3f-f85f-4f52-9222-b14705c9f000",
   "metadata": {},
   "outputs": [],
   "source": [
    "LACTONE = Chem.MolFromSmiles('[H][C@@]1(CCOC1=O)NC(=O)CC(=O)CCCCCCCCC')\n",
    "LACTONE"
   ]
  },
  {
   "cell_type": "code",
   "execution_count": null,
   "id": "7a23b82e-3840-4b8e-9599-b42532df5bb5",
   "metadata": {},
   "outputs": [],
   "source": [
    "#Reading mol file data\n",
    "\n",
    "molblock = \"\"\"phenol\n",
    "  Mrv1682210081607082D          \n",
    "\n",
    "  7  7  0  0  0  0            999 V2000\n",
    "   -0.6473    1.0929    0.0000 C   0  0  0  0  0  0  0  0  0  0  0  0\n",
    "   -1.3618    0.6804    0.0000 C   0  0  0  0  0  0  0  0  0  0  0  0\n",
    "   -1.3618   -0.1447    0.0000 C   0  0  0  0  0  0  0  0  0  0  0  0\n",
    "   -0.6473   -0.5572    0.0000 C   0  0  0  0  0  0  0  0  0  0  0  0\n",
    "    0.0671   -0.1447    0.0000 C   0  0  0  0  0  0  0  0  0  0  0  0\n",
    "    0.0671    0.6804    0.0000 C   0  0  0  0  0  0  0  0  0  0  0  0\n",
    "    0.7816    1.0929    0.0000 O   0  0  0  0  0  0  0  0  0  0  0  0\n",
    "  1  2  1  0  0  0  0\n",
    "  2  3  2  0  0  0  0\n",
    "  3  4  1  0  0  0  0\n",
    "  4  5  2  0  0  0  0\n",
    "  5  6  1  0  0  0  0\n",
    "  1  6  2  0  0  0  0\n",
    "  6  7  1  0  0  0  0\n",
    "M  END\"\"\"\n",
    "\n",
    "m= Chem.MolFromMolBlock(molblock)\n",
    "m"
   ]
  },
  {
   "cell_type": "code",
   "execution_count": null,
   "id": "7b5a9fc8-d31c-418d-9e4a-9e688644e50b",
   "metadata": {},
   "outputs": [],
   "source": [
    "molblock2 = \"\"\"243\n",
    "  -OEChem-11222108212D\n",
    "\n",
    " 15 15  0     0  0  0  0  0  0999 V2000\n",
    "    3.7320    1.4400    0.0000 O   0  0  0  0  0  0  0  0  0  0  0  0\n",
    "    2.0000    1.4400    0.0000 O   0  0  0  0  0  0  0  0  0  0  0  0\n",
    "    2.8660   -0.0600    0.0000 C   0  0  0  0  0  0  0  0  0  0  0  0\n",
    "    2.0000   -0.5600    0.0000 C   0  0  0  0  0  0  0  0  0  0  0  0\n",
    "    3.7320   -0.5600    0.0000 C   0  0  0  0  0  0  0  0  0  0  0  0\n",
    "    2.0000   -1.5600    0.0000 C   0  0  0  0  0  0  0  0  0  0  0  0\n",
    "    3.7320   -1.5600    0.0000 C   0  0  0  0  0  0  0  0  0  0  0  0\n",
    "    2.8660   -2.0600    0.0000 C   0  0  0  0  0  0  0  0  0  0  0  0\n",
    "    2.8660    0.9400    0.0000 C   0  0  0  0  0  0  0  0  0  0  0  0\n",
    "    1.4631   -0.2500    0.0000 H   0  0  0  0  0  0  0  0  0  0  0  0\n",
    "    4.2690   -0.2500    0.0000 H   0  0  0  0  0  0  0  0  0  0  0  0\n",
    "    1.4631   -1.8700    0.0000 H   0  0  0  0  0  0  0  0  0  0  0  0\n",
    "    4.2690   -1.8700    0.0000 H   0  0  0  0  0  0  0  0  0  0  0  0\n",
    "    2.8660   -2.6800    0.0000 H   0  0  0  0  0  0  0  0  0  0  0  0\n",
    "    3.7320    2.0600    0.0000 H   0  0  0  0  0  0  0  0  0  0  0  0\n",
    "  1  9  1  0  0  0  0\n",
    "  1 15  1  0  0  0  0\n",
    "  2  9  2  0  0  0  0\n",
    "  3  4  2  0  0  0  0\n",
    "  3  5  1  0  0  0  0\n",
    "  3  9  1  0  0  0  0\n",
    "  4  6  1  0  0  0  0\n",
    "  4 10  1  0  0  0  0\n",
    "  5  7  2  0  0  0  0\n",
    "  5 11  1  0  0  0  0\n",
    "  6  8  2  0  0  0  0\n",
    "  6 12  1  0  0  0  0\n",
    "  7  8  1  0  0  0  0\n",
    "  7 13  1  0  0  0  0\n",
    "  8 14  1  0  0  0  0\n",
    "M  END\n",
    "> <PUBCHEM_COMPOUND_CID>\n",
    "243\n",
    "\n",
    "> <PUBCHEM_COMPOUND_CANONICALIZED>\n",
    "1\n",
    "\n",
    "> <PUBCHEM_CACTVS_COMPLEXITY>\n",
    "104\n",
    "\n",
    "> <PUBCHEM_CACTVS_HBOND_ACCEPTOR>\n",
    "2\n",
    "\n",
    "> <PUBCHEM_CACTVS_HBOND_DONOR>\n",
    "1\n",
    "\n",
    "> <PUBCHEM_CACTVS_ROTATABLE_BOND>\n",
    "1\n",
    "\n",
    "> <PUBCHEM_CACTVS_SUBSKEYS>\n",
    "AAADcYBgMAAAAAAAAAAAAAAAAAAAAAAAAAAwAAAAAAAAAAABAAAAGgAACAAADACAmAAwCIAAAgCIAiDSCAACAAAkAAAIiAEACMgIJjKAFRCAcQAkwAEImYeIyCCOAAAAAAAAAAAAAAAAAAAAAAAAAAAAAA==\n",
    "\n",
    "> <PUBCHEM_IUPAC_OPENEYE_NAME>\n",
    "benzoic acid\n",
    "\n",
    "> <PUBCHEM_IUPAC_CAS_NAME>\n",
    "benzoic acid\n",
    "\n",
    "> <PUBCHEM_IUPAC_NAME_MARKUP>\n",
    "benzoic acid\n",
    "\n",
    "> <PUBCHEM_IUPAC_NAME>\n",
    "benzoic acid\n",
    "\n",
    "> <PUBCHEM_IUPAC_SYSTEMATIC_NAME>\n",
    "benzoic acid\n",
    "\n",
    "> <PUBCHEM_IUPAC_TRADITIONAL_NAME>\n",
    "benzoic acid\n",
    "\n",
    "> <PUBCHEM_IUPAC_INCHI>\n",
    "InChI=1S/C7H6O2/c8-7(9)6-4-2-1-3-5-6/h1-5H,(H,8,9)\n",
    "\n",
    "> <PUBCHEM_IUPAC_INCHIKEY>\n",
    "WPYMKLBDIGXBTP-UHFFFAOYSA-N\n",
    "\n",
    "> <PUBCHEM_XLOGP3>\n",
    "1.9\n",
    "\n",
    "> <PUBCHEM_EXACT_MASS>\n",
    "122.036779430\n",
    "\n",
    "> <PUBCHEM_MOLECULAR_FORMULA>\n",
    "C7H6O2\n",
    "\n",
    "> <PUBCHEM_MOLECULAR_WEIGHT>\n",
    "122.12\n",
    "\n",
    "> <PUBCHEM_OPENEYE_CAN_SMILES>\n",
    "C1=CC=C(C=C1)C(=O)O\n",
    "\n",
    "> <PUBCHEM_OPENEYE_ISO_SMILES>\n",
    "C1=CC=C(C=C1)C(=O)O\n",
    "\n",
    "> <PUBCHEM_CACTVS_TPSA>\n",
    "37.3\n",
    "\n",
    "> <PUBCHEM_MONOISOTOPIC_WEIGHT>\n",
    "122.036779430\n",
    "\n",
    "> <PUBCHEM_TOTAL_CHARGE>\n",
    "0\n",
    "\n",
    "> <PUBCHEM_HEAVY_ATOM_COUNT>\n",
    "9\n",
    "\n",
    "> <PUBCHEM_ATOM_DEF_STEREO_COUNT>\n",
    "0\n",
    "\n",
    "> <PUBCHEM_ATOM_UDEF_STEREO_COUNT>\n",
    "0\n",
    "\n",
    "> <PUBCHEM_BOND_DEF_STEREO_COUNT>\n",
    "0\n",
    "\n",
    "> <PUBCHEM_BOND_UDEF_STEREO_COUNT>\n",
    "0\n",
    "\n",
    "> <PUBCHEM_ISOTOPIC_ATOM_COUNT>\n",
    "0\n",
    "\n",
    "> <PUBCHEM_COMPONENT_COUNT>\n",
    "1\n",
    "\n",
    "> <PUBCHEM_CACTVS_TAUTO_COUNT>\n",
    "-1\n",
    "\n",
    "> <PUBCHEM_COORDINATE_TYPE>\n",
    "1\n",
    "5\n",
    "255\n",
    "\n",
    "> <PUBCHEM_BONDANNOTATIONS>\n",
    "3  4  8\n",
    "3  5  8\n",
    "4  6  8\n",
    "5  7  8\n",
    "6  8  8\n",
    "7  8  8\n",
    "\n",
    "$$$$\n",
    "\"\"\"\n",
    "\n",
    "test = Chem.MolFromMolBlock(molblock2)\n",
    "test"
   ]
  },
  {
   "cell_type": "code",
   "execution_count": null,
   "id": "c357ad61-4aac-4ef4-9c28-66df0201742f",
   "metadata": {},
   "outputs": [],
   "source": [
    "#Number of atoms the test compound has\n",
    "\n",
    "test.GetNumAtoms()"
   ]
  },
  {
   "cell_type": "code",
   "execution_count": null,
   "id": "9d831710-c82f-497e-824a-210d977a5716",
   "metadata": {},
   "outputs": [],
   "source": [
    "test.GetAromaticAtoms()\n",
    "#doubt"
   ]
  },
  {
   "cell_type": "code",
   "execution_count": null,
   "id": "5e29cefa-cd51-4a3c-bf5e-60434fda8317",
   "metadata": {},
   "outputs": [],
   "source": [
    "test.GetConformer()\n",
    "#doubt"
   ]
  },
  {
   "cell_type": "code",
   "execution_count": null,
   "id": "918f7fa7-5e7f-4bea-b148-2ebf8dfcbf2f",
   "metadata": {},
   "outputs": [],
   "source": [
    "test.GetConformers()\n",
    "#doubt"
   ]
  },
  {
   "cell_type": "code",
   "execution_count": null,
   "id": "38c52837-b64f-4d99-b060-8c1ef5053fe4",
   "metadata": {},
   "outputs": [],
   "source": [
    "test.GetNumConformers()"
   ]
  },
  {
   "cell_type": "code",
   "execution_count": null,
   "id": "aa378d8d-cda3-4dc4-8d91-09a1a387a24e",
   "metadata": {},
   "outputs": [],
   "source": [
    "# conformer that is present is 2D (we can see that from the coordinates above\n",
    "test.GetConformer().Is3D()"
   ]
  },
  {
   "cell_type": "code",
   "execution_count": null,
   "id": "e6245a25-8e87-4df5-8788-3ae11caff953",
   "metadata": {},
   "outputs": [],
   "source": [
    "#This molecule has odd coordinates, because it has a 3D conformer.\n",
    "\n",
    "molblock3 ='''cyclopropanol-3D\n",
    "  Mrv1682210081607153D          \n",
    "\n",
    " 10 10  0  0  0  0            999 V2000\n",
    "    0.9159    1.2233    0.2286 C   0  0  1  0  0  0  0  0  0  0  0  0\n",
    "   -0.0738    1.2748   -0.9428 C   0  0  2  0  0  0  0  0  0  0  0  0\n",
    "   -0.3167    0.3104    0.2232 C   0  0  2  0  0  0  0  0  0  0  0  0\n",
    "   -1.3658    0.6623    1.1190 O   0  0  0  0  0  0  0  0  0  0  0  0\n",
    "    1.8730    0.7413    0.0155 H   0  0  0  0  0  0  0  0  0  0  0  0\n",
    "    0.8835    2.0739    0.9139 H   0  0  0  0  0  0  0  0  0  0  0  0\n",
    "    0.2747    0.8266   -1.8737 H   0  0  0  0  0  0  0  0  0  0  0  0\n",
    "   -0.7163    2.1557   -0.9817 H   0  0  0  0  0  0  0  0  0  0  0  0\n",
    "   -0.1264   -0.7446    0.0137 H   0  0  0  0  0  0  0  0  0  0  0  0\n",
    "   -1.1210    0.2486    1.9735 H   0  0  0  0  0  0  0  0  0  0  0  0\n",
    "  1  2  1  0  0  0  0\n",
    "  2  3  1  0  0  0  0\n",
    "  1  3  1  0  0  0  0\n",
    "  3  4  1  0  0  0  0\n",
    "  1  5  1  0  0  0  0\n",
    "  1  6  1  0  0  0  0\n",
    "  2  7  1  0  0  0  0\n",
    "  2  8  1  0  0  0  0\n",
    "  3  9  1  0  0  0  0\n",
    "  4 10  1  0  0  0  0\n",
    "M  END\n",
    "'''\n",
    "m3 = Chem.MolFromMolBlock(molblock3)\n",
    "m3"
   ]
  },
  {
   "cell_type": "code",
   "execution_count": null,
   "id": "b591c200-5a1a-4dec-b785-1fae585a5550",
   "metadata": {},
   "outputs": [],
   "source": [
    "m3.GetNumConformers()"
   ]
  },
  {
   "cell_type": "code",
   "execution_count": null,
   "id": "bb43d2a3-aa5d-4c95-91f6-c3ef21db1fb3",
   "metadata": {},
   "outputs": [],
   "source": [
    "m3.GetConformer().Is3D()"
   ]
  },
  {
   "cell_type": "code",
   "execution_count": null,
   "id": "2c736f54-c35e-4126-8274-500b1ce6d369",
   "metadata": {},
   "outputs": [],
   "source": [
    "#The default behavior for the RDKit Mol block reader is to remove Hs from the input molecule. If we want to keep the Hs and their coordinates, this behavior can be turned off\n",
    "\n",
    "m3_withhyd = Chem.MolFromMolBlock(molblock3,removeHs=False)\n",
    "m3_withhyd"
   ]
  },
  {
   "cell_type": "code",
   "execution_count": null,
   "id": "8ab3625f-e7d5-4164-b424-f3410b9682fd",
   "metadata": {},
   "outputs": [],
   "source": [
    "test_withhyd = Chem.MolFromMolBlock(molblock2,removeHs=False)\n",
    "test_withhyd"
   ]
  },
  {
   "cell_type": "code",
   "execution_count": null,
   "id": "62d190c9-8a18-4623-b259-820bd04b72c9",
   "metadata": {},
   "outputs": [],
   "source": [
    "m1_withhyd = Chem.MolFromMolBlock(molblock,sanitize=True,removeHs=False)\n",
    "m1_withhyd\n",
    "\n",
    "\n",
    "#doubt - why are H not showing????"
   ]
  },
  {
   "cell_type": "code",
   "execution_count": null,
   "id": "719521bc-7c51-4ef7-83c9-07e427452ffe",
   "metadata": {},
   "outputs": [],
   "source": [
    "prot = Chem.MolFromPDBFile('./data/6m71.pdb')\n",
    "prot.GetNumAtoms()"
   ]
  },
  {
   "cell_type": "code",
   "execution_count": null,
   "id": "edcc4398-18bf-4721-abbf-b74f029c5eab",
   "metadata": {},
   "outputs": [],
   "source": [
    "# GETTING THE AMINO ACID SEQUENCE\n",
    "\n",
    "#getting residue information for each atom and storing it in a list\n",
    "residues = [atom.GetPDBResidueInfo() for atom in prot.GetAtoms()]"
   ]
  },
  {
   "cell_type": "code",
   "execution_count": null,
   "id": "740d8c7e-1c16-451f-ab69-06c1d65bc331",
   "metadata": {},
   "outputs": [],
   "source": [
    "# number and name of each residue\n",
    "resinf = [(res.GetResidueNumber(),res.GetResidueName()) for res in residues]\n",
    "resinf[:10]\n",
    "\n",
    "#but why is it starting from 31"
   ]
  },
  {
   "cell_type": "code",
   "execution_count": null,
   "id": "a5d23585-486d-45bb-9614-afa6473db25c",
   "metadata": {},
   "outputs": [],
   "source": [
    "# getting an ordered list of all residues\n",
    "\n",
    "residues = sorted(set(resinf))\n",
    "residues[:10]\n",
    "\n",
    "#(elements are not duplicated in a set)"
   ]
  },
  {
   "cell_type": "code",
   "execution_count": null,
   "id": "6bf4687f-1f34-4c26-8110-a473329a7434",
   "metadata": {},
   "outputs": [],
   "source": [
    "len(residues)"
   ]
  },
  {
   "cell_type": "code",
   "execution_count": null,
   "id": "7db1f18c-7f8a-4f07-836c-9b4a946650db",
   "metadata": {},
   "outputs": [],
   "source": [
    "seq = 'TTCCPSIVAR SNFNVCRLPG TPEAICATYT GCIIIPGATC PGDYAN'\n",
    "m = Chem.MolFromSequence(seq)\n",
    "m"
   ]
  },
  {
   "cell_type": "code",
   "execution_count": null,
   "id": "f6863c98-499b-44b9-84d2-ce3990656fac",
   "metadata": {},
   "outputs": [],
   "source": [
    "m.GetNumAtoms()"
   ]
  },
  {
   "cell_type": "code",
   "execution_count": null,
   "id": "68744dfc-01b4-44a5-815f-e81433cfc5ee",
   "metadata": {},
   "outputs": [],
   "source": [
    "helm = 'PEPTIDE1{T.T.C.C.P.S.I.V.A.R.S.N.F.N.V.C.R.L.P.G.T.P.E.A.I.C.A.T.Y.T.G.C.I.I.I.P.G.A.T.C.P.G.D.Y.A.N}$$$$'\n",
    "m = Chem.MolFromHELM(helm)\n",
    "m"
   ]
  },
  {
   "cell_type": "code",
   "execution_count": null,
   "id": "aec0be42-2d57-4420-87d3-b1844d763d97",
   "metadata": {},
   "outputs": [],
   "source": [
    "helm = 'PEPTIDE1{T.T.C.C.P.S.I.V.A.R.S.N.F.N.V.C.R.L.P.G.T.P.E.A.I.C.A.T.Y.T.G.C.I.I.I.P.G.A.T.C.P.G.D.Y.A.N}$$$$'\n",
    "m = Chem.MolFromHELM(helm)\n",
    "m.GetNumAtoms()"
   ]
  },
  {
   "cell_type": "code",
   "execution_count": null,
   "id": "2a8de0e7-4d3a-4f93-bc67-dcb21c7b83e3",
   "metadata": {},
   "outputs": [],
   "source": [
    "fasta =\"\"\">\n",
    "TTCCPSIVARSNFNVCRLPGTPEAICATYTGCIIIPGATCPGDYAN\n",
    "\"\"\"\n",
    "m = Chem.MolFromFASTA(fasta)\n",
    "m"
   ]
  },
  {
   "cell_type": "code",
   "execution_count": null,
   "id": "17cd21e9-c85b-49b4-a703-f615bdf24bc9",
   "metadata": {},
   "outputs": [],
   "source": [
    "fasta =\"\"\">\n",
    "TTCCPSIVARSNFNVCRLPGTPEAICATYTGCIIIPGATCPGDYAN\n",
    "\"\"\"\n",
    "m = Chem.MolFromFASTA(fasta)\n",
    "m.GetNumAtoms()"
   ]
  },
  {
   "cell_type": "code",
   "execution_count": null,
   "id": "0f2dbb5c-40d7-478d-8594-b82411f68086",
   "metadata": {},
   "outputs": [],
   "source": []
  }
 ],
 "metadata": {
  "kernelspec": {
   "display_name": "Python 3",
   "language": "python",
   "name": "python3"
  },
  "language_info": {
   "codemirror_mode": {
    "name": "ipython",
    "version": 3
   },
   "file_extension": ".py",
   "mimetype": "text/x-python",
   "name": "python",
   "nbconvert_exporter": "python",
   "pygments_lexer": "ipython3",
   "version": "3.9.5"
  }
 },
 "nbformat": 4,
 "nbformat_minor": 5
}
