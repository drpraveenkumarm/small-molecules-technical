{
 "cells": [
  {
   "cell_type": "code",
   "execution_count": null,
   "id": "acc5bcc3-f668-4dc8-a46d-1081d61570e2",
   "metadata": {},
   "outputs": [],
   "source": [
    "import rdkit as rd"
   ]
  },
  {
   "cell_type": "code",
   "execution_count": null,
   "id": "fddce9f6-1f77-4233-a2ea-43352c325cc2",
   "metadata": {},
   "outputs": [],
   "source": [
    "from rdkit import Chem"
   ]
  },
  {
   "cell_type": "code",
   "execution_count": null,
   "id": "9e17c470-16ff-45e7-bd9a-d02b6069668c",
   "metadata": {},
   "outputs": [],
   "source": [
    "Molnupiravir = Chem.MolFromSmiles('CC(C)C(=O)OCC1C(C(C(O1)N2C=CC(=NC2=O)NO)O)O')"
   ]
  },
  {
   "cell_type": "code",
   "execution_count": null,
   "id": "96079e29-2455-4f14-a6c5-6758f20c7dcb",
   "metadata": {},
   "outputs": [],
   "source": [
    "Molnupiravir"
   ]
  },
  {
   "cell_type": "code",
   "execution_count": null,
   "id": "701255e8-7e8a-4c5f-8fde-86513fc6c500",
   "metadata": {},
   "outputs": [],
   "source": [
    "for atom in Molnupiravir.GetAtoms(): print(atom.GetAtomicNum())"
   ]
  },
  {
   "cell_type": "code",
   "execution_count": null,
   "id": "a1e08305-b3b9-42b6-a700-7e8f5b0e0ffc",
   "metadata": {},
   "outputs": [],
   "source": [
    "Molnupiravir.GetAtomWithIdx(1).GetSymbol()"
   ]
  }
 ],
 "metadata": {
  "kernelspec": {
   "display_name": "Python 3",
   "language": "python",
   "name": "python3"
  },
  "language_info": {
   "codemirror_mode": {
    "name": "ipython",
    "version": 3
   },
   "file_extension": ".py",
   "mimetype": "text/x-python",
   "name": "python",
   "nbconvert_exporter": "python",
   "pygments_lexer": "ipython3",
   "version": "3.9.5"
  }
 },
 "nbformat": 4,
 "nbformat_minor": 5
}
