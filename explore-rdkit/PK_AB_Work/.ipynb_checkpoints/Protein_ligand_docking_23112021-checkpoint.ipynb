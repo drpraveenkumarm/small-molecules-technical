{
 "cells": [
  {
   "cell_type": "code",
   "execution_count": null,
   "id": "e4403203-b7ea-484c-9807-e84f0c1e4329",
   "metadata": {},
   "outputs": [],
   "source": [
    "! conda install nglview\n",
    "! conda install openbabel\n",
    "! conda install mdanalysis\n",
    "! pip install https://github.com/volkamerlab/opencadd/archive/master.tar.gz\n",
    "! conda install -c conda-forge smina"
   ]
  },
  {
   "cell_type": "code",
   "execution_count": null,
   "id": "9ac4135a-4e07-4aae-8b85-ef000c11d1eb",
   "metadata": {},
   "outputs": [],
   "source": [
    "import warnings\n",
    "from pathlib import Path\n",
    "import subprocess\n",
    "\n",
    "import nglview as nv\n",
    "from openbabel import pybel\n",
    "\n",
    "from opencadd.structure.core import Structure"
   ]
  },
  {
   "cell_type": "code",
   "execution_count": null,
   "id": "792f7943-7794-42a5-81df-4215fd7ba5af",
   "metadata": {},
   "outputs": [],
   "source": [
    "# filter warnings\n",
    "warnings.filterwarnings(\"ignore\")\n",
    "ob_log_handler = pybel.ob.OBMessageHandler()\n",
    "pybel.ob.obErrorLog.SetOutputLevel(0)"
   ]
  },
  {
   "cell_type": "code",
   "execution_count": null,
   "id": "fe00a634-db28-46d5-850a-9ca74e20c854",
   "metadata": {},
   "outputs": [],
   "source": [
    "# define paths\n",
    "HERE = Path(_dh[-1])\n",
    "DATA = HERE / \"data\""
   ]
  },
  {
   "cell_type": "code",
   "execution_count": null,
   "id": "aa52f50f-7c08-459c-89b9-cc131be3466e",
   "metadata": {},
   "outputs": [],
   "source": [
    "#Preparation of protein and ligand"
   ]
  },
  {
   "cell_type": "code",
   "execution_count": null,
   "id": "dbde88e6-580b-4ae4-9397-a8375f08679b",
   "metadata": {},
   "outputs": [],
   "source": [
    "# retrieve structure from the Protein Data Bank\n",
    "pdb_id = \"2ito\"\n",
    "structure = Structure.from_pdbid(pdb_id)\n",
    "# element information maybe missing, but important for subsequent PDBQT conversion\n",
    "if not hasattr(structure.atoms, \"elements\"):\n",
    "    structure.add_TopologyAttr(\"elements\", structure.atoms.types)\n",
    "structure\n",
    "# NBVAL_CHECK_OUTPUT"
   ]
  },
  {
   "cell_type": "code",
   "execution_count": null,
   "id": "c55fc24f-2d7b-4b45-8c53-be85ca221652",
   "metadata": {},
   "outputs": [],
   "source": [
    "#Prepare protein"
   ]
  },
  {
   "cell_type": "code",
   "execution_count": null,
   "id": "48fc2fce-e935-41f4-87d8-3e0a05672753",
   "metadata": {},
   "outputs": [],
   "source": [
    "# write the protein file to disk\n",
    "protein = structure.select_atoms(\"protein\")\n",
    "protein.write(DATA / \"protein.pdb\")"
   ]
  },
  {
   "cell_type": "code",
   "execution_count": null,
   "id": "e9669578-3dae-4ba3-9df2-1d48dffa7bb8",
   "metadata": {},
   "outputs": [],
   "source": [
    "def pdb_to_pdbqt(pdb_path, pdbqt_path, pH=7.4):\n",
    "    \"\"\"\n",
    "    Convert a PDB file to a PDBQT file needed by docking programs of the AutoDock family.\n",
    "\n",
    "    Parameters\n",
    "    ----------\n",
    "    pdb_path: str or pathlib.Path\n",
    "        Path to input PDB file.\n",
    "    pdbqt_path: str or pathlib.path\n",
    "        Path to output PDBQT file.\n",
    "    pH: float\n",
    "        Protonation at given pH.\n",
    "    \"\"\"\n",
    "    molecule = list(pybel.readfile(\"pdb\", str(pdb_path)))[0]\n",
    "    # add hydrogens at given pH\n",
    "    molecule.OBMol.CorrectForPH(pH)\n",
    "    molecule.addh()\n",
    "    # add partial charges to each atom\n",
    "    for atom in molecule.atoms:\n",
    "        atom.OBAtom.GetPartialCharge()\n",
    "    molecule.write(\"pdbqt\", str(pdbqt_path), overwrite=True)\n",
    "    return"
   ]
  },
  {
   "cell_type": "code",
   "execution_count": null,
   "id": "ce1b154d-d16e-4fb4-96ec-e6b6341ececc",
   "metadata": {},
   "outputs": [],
   "source": [
    "# convert protein to PDBQT format\n",
    "pdb_to_pdbqt(DATA / \"protein.pdb\", DATA / \"protein.pdbqt\")"
   ]
  },
  {
   "cell_type": "code",
   "execution_count": null,
   "id": "1f077a70-9ce4-4df8-a1a6-7695fe628a38",
   "metadata": {},
   "outputs": [],
   "source": [
    "#Prepare ligand"
   ]
  },
  {
   "cell_type": "code",
   "execution_count": null,
   "id": "974edac1-8029-4e9b-b365-4e59c2e95239",
   "metadata": {},
   "outputs": [],
   "source": [
    "# define ligand SMILES for protein-ligand complex of interest\n",
    "smiles = \"COC1=C(C=C2C(=C1)N=CN=C2NC3=CC(=C(C=C3)F)Cl)OCCCN4CCOCC4\""
   ]
  },
  {
   "cell_type": "code",
   "execution_count": null,
   "id": "9ac57b10-3c28-4717-bd40-e54303756922",
   "metadata": {},
   "outputs": [],
   "source": [
    "def smiles_to_pdbqt(smiles, pdbqt_path, pH=7.4):\n",
    "    \"\"\"\n",
    "    Convert a SMILES string to a PDBQT file needed by docking programs of the AutoDock family.\n",
    "\n",
    "    Parameters\n",
    "    ----------\n",
    "    smiles: str\n",
    "        SMILES string.\n",
    "    pdbqt_path: str or pathlib.path\n",
    "        Path to output PDBQT file.\n",
    "    pH: float\n",
    "        Protonation at given pH.\n",
    "    \"\"\"\n",
    "    molecule = pybel.readstring(\"smi\", smiles)\n",
    "    # add hydrogens at given pH\n",
    "    molecule.OBMol.CorrectForPH(pH)\n",
    "    molecule.addh()\n",
    "    # generate 3D coordinates\n",
    "    molecule.make3D(forcefield=\"mmff94s\", steps=10000)\n",
    "    # add partial charges to each atom\n",
    "    for atom in molecule.atoms:\n",
    "        atom.OBAtom.GetPartialCharge()\n",
    "    molecule.write(\"pdbqt\", str(pdbqt_path), overwrite=True)\n",
    "    return"
   ]
  },
  {
   "cell_type": "code",
   "execution_count": null,
   "id": "8e845457-2ff3-470d-b054-8f5c889e94da",
   "metadata": {},
   "outputs": [],
   "source": [
    "# convert the ligand into PDBQT format\n",
    "smiles_to_pdbqt(smiles, DATA / \"ligand.pdbqt\")"
   ]
  },
  {
   "cell_type": "code",
   "execution_count": null,
   "id": "555752c5-b890-4ce8-b870-8ef64a02fb79",
   "metadata": {},
   "outputs": [],
   "source": [
    "#Binding site definition\n",
    "\n",
    "ligand_resname = \"IRE\"\n",
    "ligand = structure.select_atoms(f\"resname {ligand_resname}\")\n",
    "pocket_center = (ligand.positions.max(axis=0) + ligand.positions.min(axis=0)) / 2\n",
    "pocket_size = ligand.positions.max(axis=0) - ligand.positions.min(axis=0) + 5"
   ]
  },
  {
   "cell_type": "code",
   "execution_count": null,
   "id": "e5d693d5-1ab3-4e0b-b478-f8385a4ec3da",
   "metadata": {},
   "outputs": [],
   "source": [
    "#Docking calculation\n",
    "\n",
    "def run_smina(\n",
    "    ligand_path, protein_path, out_path, pocket_center, pocket_size, num_poses=10, exhaustiveness=8\n",
    "):\n",
    "    \"\"\"\n",
    "    Perform docking with Smina.\n",
    "\n",
    "    Parameters\n",
    "    ----------\n",
    "    ligand_path: str or pathlib.Path\n",
    "        Path to ligand PDBQT file that should be docked.\n",
    "    protein_path: str or pathlib.Path\n",
    "        Path to protein PDBQT file that should be docked to.\n",
    "    out_path: str or pathlib.Path\n",
    "        Path to which docking poses should be saved, SDF or PDB format.\n",
    "    pocket_center: iterable of float or int\n",
    "        Coordinates defining the center of the binding site.\n",
    "    pocket_size: iterable of float or int\n",
    "        Lengths of edges defining the binding site.\n",
    "    num_poses: int\n",
    "        Maximum number of poses to generate.\n",
    "    exhaustiveness: int\n",
    "        Accuracy of docking calculations.\n",
    "\n",
    "    Returns\n",
    "    -------\n",
    "    output_text: str\n",
    "        The output of the Smina calculation.\n",
    "    \"\"\"\n",
    "    output_text = subprocess.check_output(\n",
    "        [\n",
    "            \"smina\",\n",
    "            \"--ligand\",\n",
    "            str(ligand_path),\n",
    "            \"--receptor\",\n",
    "            str(protein_path),\n",
    "            \"--out\",\n",
    "            str(out_path),\n",
    "            \"--center_x\",\n",
    "            str(pocket_center[0]),\n",
    "            \"--center_y\",\n",
    "            str(pocket_center[1]),\n",
    "            \"--center_z\",\n",
    "            str(pocket_center[2]),\n",
    "            \"--size_x\",\n",
    "            str(pocket_size[0]),\n",
    "            \"--size_y\",\n",
    "            str(pocket_size[1]),\n",
    "            \"--size_z\",\n",
    "            str(pocket_size[2]),\n",
    "            \"--num_modes\",\n",
    "            str(num_poses),\n",
    "            \"--exhaustiveness\",\n",
    "            str(exhaustiveness),\n",
    "        ],\n",
    "        universal_newlines=True,  # needed to capture output text\n",
    "    )\n",
    "    return output_text"
   ]
  },
  {
   "cell_type": "code",
   "execution_count": null,
   "id": "b25b0909-4282-496d-abde-77432594d650",
   "metadata": {},
   "outputs": [],
   "source": [
    "output_text = run_smina(\n",
    "    DATA / \"ligand.pdbqt\",\n",
    "    DATA / \"protein.pdbqt\",\n",
    "    DATA / \"docking_poses.sdf\",\n",
    "    pocket_center,\n",
    "    pocket_size,\n",
    ")\n",
    "print(output_text)"
   ]
  },
  {
   "cell_type": "code",
   "execution_count": null,
   "id": "c161174a-48a0-4b02-8782-76f264afe3ec",
   "metadata": {},
   "outputs": [],
   "source": [
    "(DATA / \"docking_poses.sdf\").exists()\n",
    "# NBVAL_CHECK_OUTPUT"
   ]
  },
  {
   "cell_type": "code",
   "execution_count": null,
   "id": "4ee138d1-40ab-48e8-91ad-0dcb089dfe2a",
   "metadata": {},
   "outputs": [],
   "source": [
    "def split_sdf_file(sdf_path):\n",
    "    \"\"\"\n",
    "    Split an SDF file into seperate files for each molecule.\n",
    "    Each file is named with consecutive numbers.\n",
    "\n",
    "    Parameters\n",
    "    ----------\n",
    "    sdf_path: str or pathlib.Path\n",
    "        Path to SDF file that should be split.\n",
    "    \"\"\"\n",
    "    sdf_path = Path(sdf_path)\n",
    "    stem = sdf_path.stem\n",
    "    parent = sdf_path.parent\n",
    "    molecules = pybel.readfile(\"sdf\", str(sdf_path))\n",
    "    for i, molecule in enumerate(molecules, 1):\n",
    "        molecule.write(\"sdf\", str(parent / f\"{stem}_{i}.sdf\"), overwrite=True)\n",
    "    return"
   ]
  },
  {
   "cell_type": "code",
   "execution_count": null,
   "id": "a537ab3c-c3e5-49b6-81a4-0d585881364c",
   "metadata": {},
   "outputs": [],
   "source": [
    "split_sdf_file(DATA / \"docking_poses.sdf\")"
   ]
  },
  {
   "cell_type": "code",
   "execution_count": null,
   "id": "d3c717e0-0698-4ebd-9e2c-c9c7e1754f40",
   "metadata": {},
   "outputs": [],
   "source": [
    "docking_pose_id = 1\n",
    "view = nv.show_structure_file(\n",
    "    str(DATA / f\"docking_poses_{docking_pose_id}.sdf\"),\n",
    "    representations=[{\"params\": {}, \"type\": \"licorice\"}],\n",
    ")\n",
    "view.add_pdbid(pdb_id)\n",
    "view"
   ]
  },
  {
   "cell_type": "code",
   "execution_count": null,
   "id": "1c336e4c-ded7-4dac-aef5-8300f37f09a4",
   "metadata": {},
   "outputs": [],
   "source": [
    "view.render_image(trim=True, factor=4);"
   ]
  },
  {
   "cell_type": "code",
   "execution_count": null,
   "id": "98f632e4-bc11-429e-99bd-e8c8167075fa",
   "metadata": {},
   "outputs": [],
   "source": [
    "view._display_image()"
   ]
  },
  {
   "cell_type": "code",
   "execution_count": null,
   "id": "d823879a-cb9a-4a33-99aa-c04fcc4c5df9",
   "metadata": {},
   "outputs": [],
   "source": []
  },
  {
   "cell_type": "code",
   "execution_count": null,
   "id": "748dedf7-32bd-449e-868a-f5cc21a7f0a5",
   "metadata": {},
   "outputs": [],
   "source": []
  },
  {
   "cell_type": "code",
   "execution_count": null,
   "id": "edab198a-939b-4610-9315-1cde2da0a20c",
   "metadata": {},
   "outputs": [],
   "source": []
  },
  {
   "cell_type": "code",
   "execution_count": null,
   "id": "0fc343f5-4779-46ca-b196-9ab5e9356d9b",
   "metadata": {},
   "outputs": [],
   "source": []
  },
  {
   "cell_type": "code",
   "execution_count": null,
   "id": "1a698cb8-9466-4a62-83e2-72f3bd70772b",
   "metadata": {},
   "outputs": [],
   "source": []
  },
  {
   "cell_type": "code",
   "execution_count": null,
   "id": "af5cb887-3acf-47fe-9ba1-efe00c8aa414",
   "metadata": {},
   "outputs": [],
   "source": []
  },
  {
   "cell_type": "code",
   "execution_count": null,
   "id": "4216dd8c-53f0-400b-bf8c-83d5c4e3ec83",
   "metadata": {},
   "outputs": [],
   "source": []
  },
  {
   "cell_type": "code",
   "execution_count": null,
   "id": "73b47831-8198-4a85-98f3-b6b4f458ba84",
   "metadata": {},
   "outputs": [],
   "source": []
  }
 ],
 "metadata": {
  "kernelspec": {
   "display_name": "Python 3",
   "language": "python",
   "name": "python3"
  },
  "language_info": {
   "codemirror_mode": {
    "name": "ipython",
    "version": 3
   },
   "file_extension": ".py",
   "mimetype": "text/x-python",
   "name": "python",
   "nbconvert_exporter": "python",
   "pygments_lexer": "ipython3",
   "version": "3.9.5"
  }
 },
 "nbformat": 4,
 "nbformat_minor": 5
}
