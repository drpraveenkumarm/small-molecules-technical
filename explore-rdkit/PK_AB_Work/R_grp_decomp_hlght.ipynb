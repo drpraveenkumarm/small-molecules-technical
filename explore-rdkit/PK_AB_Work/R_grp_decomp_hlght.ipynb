{
 "cells": [
  {
   "cell_type": "code",
   "execution_count": null,
   "id": "ada3a728-d2fa-4d22-9930-7dbaa34ee750",
   "metadata": {},
   "outputs": [],
   "source": [
    "from rdkit import Chem\n",
    "from rdkit.Chem import Draw\n",
    "from rdkit.Chem.Draw import IPythonConsole\n",
    "IPythonConsole.molSize=(450,350)\n",
    "from rdkit.Chem import rdRGroupDecomposition\n",
    "from rdkit.Chem import rdqueries\n",
    "from rdkit.Chem import rdDepictor\n",
    "from rdkit.Chem.Draw import rdMolDraw2D\n",
    "from rdkit import Geometry\n",
    "rdDepictor.SetPreferCoordGen(True)\n",
    "import pandas as pd\n",
    "\n",
    "from IPython.display import SVG,Image\n",
    "from ipywidgets import interact\n",
    "\n",
    "import rdkit\n",
    "print(rdkit.__version__)"
   ]
  },
  {
   "cell_type": "code",
   "execution_count": null,
   "id": "aa8686dd-be3a-4707-a99b-893f850ccafe",
   "metadata": {},
   "outputs": [],
   "source": [
    "df = pd.read_csv('data/cdk2_rgd_dataset.csv')\n",
    "df.head()"
   ]
  },
  {
   "cell_type": "code",
   "execution_count": null,
   "id": "2776da4f-50f9-46b0-b2a1-0d8e5bade519",
   "metadata": {},
   "outputs": [],
   "source": [
    "df_doc1 = df[df.assay_chembl_id=='CHEMBL827377']\n",
    "print(len(df_doc1))\n",
    "df_doc1.head()"
   ]
  },
  {
   "cell_type": "code",
   "execution_count": null,
   "id": "34414d38-cd8a-4bb0-bcce-3441bc4b5834",
   "metadata": {},
   "outputs": [],
   "source": [
    "rdDepictor.SetPreferCoordGen(True)\n",
    "smis = df_doc1['canonical_smiles']\n",
    "cids = list(df_doc1.compound_chembl_id)\n",
    "ms = [Chem.MolFromSmiles(x) for x in smis]\n",
    "for m in ms:\n",
    "    rdDepictor.Compute2DCoords(m)\n",
    "Draw.MolsToGridImage(ms[:12],legends=cids,molsPerRow=4)"
   ]
  },
  {
   "cell_type": "code",
   "execution_count": null,
   "id": "ee3fa584-029a-4f21-837b-146a7fb495c7",
   "metadata": {},
   "outputs": [],
   "source": [
    "core = Chem.MolFromSmiles('c1cc(-c2c([*:1])nn3nc([*:2])ccc23)nc(N(c2ccc([*:4])c([*:3])c2))n1')\n",
    "rdDepictor.SetPreferCoordGen(True)\n",
    "rdDepictor.Compute2DCoords(core)\n",
    "core"
   ]
  },
  {
   "cell_type": "code",
   "execution_count": null,
   "id": "a62be573-9156-40a2-8bdd-29b90fa162d0",
   "metadata": {},
   "outputs": [],
   "source": [
    "ps = Chem.AdjustQueryParameters.NoAdjustments()\n",
    "ps.makeDummiesQueries=True\n",
    "qcore = Chem.AdjustQueryProperties(core,ps)\n",
    "mhs = [Chem.AddHs(x,addCoords=True) for x in ms]\n",
    "mms = [x for x in mhs if x.HasSubstructMatch(qcore)]\n",
    "for m in mms:\n",
    "    for atom in m.GetAtoms():\n",
    "        atom.SetIntProp(\"SourceAtomIdx\",atom.GetIdx())\n",
    "print(len(mhs),len(mms))"
   ]
  },
  {
   "cell_type": "code",
   "execution_count": null,
   "id": "e941c7ba-a639-4f45-8d8b-be06dacf6968",
   "metadata": {},
   "outputs": [],
   "source": [
    "rdkit.RDLogger.DisableLog('rdApp.warning')\n",
    "groups,_ = rdRGroupDecomposition.RGroupDecompose([qcore],mms,asSmiles=False,asRows=True)"
   ]
  },
  {
   "cell_type": "code",
   "execution_count": null,
   "id": "3510869b-6417-4acc-9efc-e9a8f4284d0d",
   "metadata": {},
   "outputs": [],
   "source": [
    "from collections import defaultdict\n",
    "\n",
    "def highlight_rgroups(mol,row,core,width=350,height=200,\n",
    "                      fillRings=True,legend=\"\",\n",
    "                      sourceIdxProperty=\"SourceAtomIdx\",\n",
    "                      lbls=('R1','R2','R3','R4')):\n",
    "    # copy the molecule and core\n",
    "    mol = Chem.Mol(mol)\n",
    "    core = Chem.Mol(core)\n",
    "\n",
    "    # -------------------------------------------\n",
    "    # include the atom map numbers in the substructure search in order to \n",
    "    # try to ensure a good alignment of the molecule to symmetric cores\n",
    "    for at in core.GetAtoms():\n",
    "        if at.GetAtomMapNum():\n",
    "            at.ExpandQuery(rdqueries.IsotopeEqualsQueryAtom(200+at.GetAtomMapNum()))\n",
    "            \n",
    "    for lbl in row:\n",
    "        if lbl=='Core':\n",
    "            continue\n",
    "        rg = row[lbl]\n",
    "        for at in rg.GetAtoms():\n",
    "            if not at.GetAtomicNum() and at.GetAtomMapNum() and \\\n",
    "            at.HasProp('dummyLabel') and at.GetProp('dummyLabel')==lbl:\n",
    "                # attachment point. the atoms connected to this\n",
    "                # should be from the molecule\n",
    "                for nbr in at.GetNeighbors():\n",
    "                    if nbr.HasProp(sourceIdxProperty):\n",
    "                        mAt = mol.GetAtomWithIdx(nbr.GetIntProp(sourceIdxProperty))\n",
    "                        if mAt.GetIsotope():\n",
    "                            mAt.SetIntProp('_OrigIsotope',mAt.GetIsotope())\n",
    "                        mAt.SetIsotope(200+at.GetAtomMapNum())\n",
    "    # remove unmapped hs so that they don't mess up the depiction\n",
    "    rhps = Chem.RemoveHsParameters()\n",
    "    rhps.removeMapped = False\n",
    "    tmol = Chem.RemoveHs(mol,rhps)\n",
    "    rdDepictor.GenerateDepictionMatching2DStructure(tmol,core)\n",
    "\n",
    "    oldNewAtomMap={}\n",
    "    # reset the original isotope values and account for the fact that\n",
    "    # removing the Hs changed atom indices\n",
    "    for i,at in enumerate(tmol.GetAtoms()):\n",
    "        if at.HasProp(sourceIdxProperty):\n",
    "            oldNewAtomMap[at.GetIntProp(sourceIdxProperty)] = i\n",
    "            if at.HasProp(\"_OrigIsotope\"):\n",
    "                at.SetIsotope(at.GetIntProp(\"_OrigIsotope\"))\n",
    "                at.ClearProp(\"_OrigIsotope\")\n",
    "            else:\n",
    "                at.SetIsotope(0)\n",
    "      \n",
    "    # ------------------\n",
    "    #  set up our colormap\n",
    "    #   the three choices here are all \"colorblind\" colormaps\n",
    "    \n",
    "    # \"Tol\" colormap from https://davidmathlogic.com/colorblind\n",
    "    colors = [(51,34,136),(17,119,51),(68,170,153),(136,204,238),(221,204,119),(204,102,119),(170,68,153),(136,34,85)]\n",
    "    # \"IBM\" colormap from https://davidmathlogic.com/colorblind\n",
    "    colors = [(100,143,255),(120,94,240),(220,38,127),(254,97,0),(255,176,0)]\n",
    "    # Okabe_Ito colormap from https://jfly.uni-koeln.de/color/\n",
    "    colors = [(230,159,0),(86,180,233),(0,158,115),(240,228,66),(0,114,178),(213,94,0),(204,121,167)]\n",
    "    for i,x in enumerate(colors):\n",
    "        colors[i] = tuple(y/255 for y in x)\n",
    "  \n",
    "    #----------------------\n",
    "    # Identify and store which atoms, bonds, and rings we'll be highlighting\n",
    "    highlightatoms = defaultdict(list)\n",
    "    highlightbonds = defaultdict(list)\n",
    "    atomrads = {}\n",
    "    widthmults = {}\n",
    "\n",
    "    rings = []\n",
    "    for i,lbl in enumerate(lbls):    \n",
    "        color = colors[i%len(colors)]\n",
    "        rquery = row[lbl]\n",
    "        Chem.GetSSSR(rquery)\n",
    "        rinfo = rquery.GetRingInfo()\n",
    "        for at in rquery.GetAtoms():\n",
    "            if at.HasProp(sourceIdxProperty):\n",
    "                origIdx = oldNewAtomMap[at.GetIntProp(sourceIdxProperty)]\n",
    "                highlightatoms[origIdx].append(color)\n",
    "                atomrads[origIdx] = 0.4\n",
    "        if fillRings:\n",
    "            for aring in rinfo.AtomRings():\n",
    "                tring = []\n",
    "                allFound = True\n",
    "                for aid in aring:\n",
    "                    at = rquery.GetAtomWithIdx(aid)\n",
    "                    if not at.HasProp(sourceIdxProperty):\n",
    "                        allFound = False\n",
    "                        break\n",
    "                    tring.append(oldNewAtomMap[at.GetIntProp(sourceIdxProperty)])\n",
    "                if allFound:\n",
    "                    rings.append((tring,color))\n",
    "        for qbnd in rquery.GetBonds():\n",
    "            batom = qbnd.GetBeginAtom()\n",
    "            eatom = qbnd.GetEndAtom()\n",
    "            if batom.HasProp(sourceIdxProperty) and eatom.HasProp(sourceIdxProperty):\n",
    "                origBnd = tmol.GetBondBetweenAtoms(oldNewAtomMap[batom.GetIntProp(sourceIdxProperty)],\n",
    "                                                 oldNewAtomMap[eatom.GetIntProp(sourceIdxProperty)])\n",
    "                bndIdx = origBnd.GetIdx()\n",
    "                highlightbonds[bndIdx].append(color)\n",
    "                widthmults[bndIdx] = 2\n",
    "\n",
    "    d2d = rdMolDraw2D.MolDraw2DCairo(width,height)\n",
    "    dos = d2d.drawOptions()\n",
    "    dos.useBWAtomPalette()\n",
    "                \n",
    "    #----------------------\n",
    "    # if we are filling rings, go ahead and do that first so that we draw\n",
    "    # the molecule on top of the filled rings\n",
    "    if fillRings and rings:\n",
    "        # a hack to set the molecule scale\n",
    "        d2d.DrawMoleculeWithHighlights(tmol,legend,dict(highlightatoms),\n",
    "                                       dict(highlightbonds),\n",
    "                                       atomrads,widthmults)\n",
    "        d2d.ClearDrawing()\n",
    "        conf = tmol.GetConformer()\n",
    "        for (aring,color) in rings:\n",
    "            ps = []\n",
    "            for aidx in aring:\n",
    "                pos = Geometry.Point2D(conf.GetAtomPosition(aidx))\n",
    "                ps.append(pos)\n",
    "            d2d.SetFillPolys(True)\n",
    "            d2d.SetColour(color)\n",
    "            d2d.DrawPolygon(ps)\n",
    "        dos.clearBackground = False\n",
    "\n",
    "    #----------------------\n",
    "    # now draw the molecule, with highlights:\n",
    "    d2d.DrawMoleculeWithHighlights(tmol,legend,dict(highlightatoms),dict(highlightbonds),\n",
    "                                   atomrads,widthmults)\n",
    "    d2d.FinishDrawing()\n",
    "    png = d2d.GetDrawingText()\n",
    "    return png"
   ]
  },
  {
   "cell_type": "code",
   "execution_count": null,
   "id": "9eb2baae-7c55-49a1-92f5-c1e281fb21ee",
   "metadata": {},
   "outputs": [],
   "source": [
    "@interact(idx=range(0,len(ms)))\n",
    "def draw_it(idx=0):\n",
    "    m = mms[idx]\n",
    "    row = groups[idx]\n",
    "    return Image(highlight_rgroups(m,row,qcore,lbls=('R1','R2','R3','R4')))"
   ]
  },
  {
   "cell_type": "code",
   "execution_count": null,
   "id": "6dbb1c90-2b55-4890-88a8-bc677db680ac",
   "metadata": {},
   "outputs": [],
   "source": [
    "from PIL import Image as pilImage\n",
    "from io import BytesIO\n",
    "\n",
    "def draw_multiple(ms,groups,qcore,lbls,legends=None,nPerRow=4,subImageSize=(250,200)):\n",
    "    nRows = len(ms)//nPerRow\n",
    "    if len(ms)%nPerRow:\n",
    "        nRows+=1\n",
    "    nCols = nPerRow\n",
    "    imgSize = (subImageSize[0]*nCols,subImageSize[1]*nRows)\n",
    "    res = pilImage.new('RGB',imgSize)\n",
    "    \n",
    "    for i,m in enumerate(ms):\n",
    "        col = i%nPerRow\n",
    "        row = i//nPerRow\n",
    "        if legends:\n",
    "            legend = legends[i]\n",
    "        else:\n",
    "            legend = ''\n",
    "        png = highlight_rgroups(m,groups[i],qcore,lbls=lbls,legend=legend,\n",
    "                               width=subImageSize[0],height=subImageSize[1])\n",
    "        bio = BytesIO(png)\n",
    "        img = pilImage.open(bio)\n",
    "        res.paste(img,box=(col*subImageSize[0],row*subImageSize[1]))\n",
    "    bio = BytesIO()\n",
    "    res.save(bio,format='PNG')\n",
    "    return bio.getvalue()"
   ]
  },
  {
   "cell_type": "code",
   "execution_count": null,
   "id": "4924347e-0fa8-41d4-872b-a59f6e0e8e4f",
   "metadata": {},
   "outputs": [],
   "source": [
    "Image(draw_multiple(mms[:16],groups,qcore,('R1','R2','R3','R4'),legends=cids,subImageSize=(300,250)))"
   ]
  },
  {
   "cell_type": "code",
   "execution_count": null,
   "id": "43392405-1df4-4973-8130-992919e7b0d6",
   "metadata": {},
   "outputs": [],
   "source": [
    "df_doc2 = df[df.assay_chembl_id=='CHEMBL658107']\n",
    "print(len(df_doc2))\n",
    "df_doc2.head()"
   ]
  },
  {
   "cell_type": "code",
   "execution_count": null,
   "id": "9691fc11-c770-4c0f-935f-86915aa52e50",
   "metadata": {},
   "outputs": [],
   "source": [
    "smis = df_doc2['canonical_smiles']\n",
    "cids = list(df_doc2.compound_chembl_id)\n",
    "ms = [Chem.MolFromSmiles(x) for x in smis]\n",
    "for m in ms:\n",
    "    rdDepictor.Compute2DCoords(m)\n",
    "Draw.MolsToGridImage(ms[:12],legends=cids,molsPerRow=4)"
   ]
  },
  {
   "cell_type": "code",
   "execution_count": null,
   "id": "9b7a2ee8-46a8-4c70-ae99-cd54dcf2ad80",
   "metadata": {},
   "outputs": [],
   "source": [
    "core = Chem.MolFromSmiles('Cc1nc([*:3])sc1-c1ccnc(N([*:1])[*:2])n1')\n",
    "ps = Chem.AdjustQueryParameters.NoAdjustments()\n",
    "ps.makeDummiesQueries=True\n",
    "qcore = Chem.AdjustQueryProperties(core,ps)\n",
    "mhs = [Chem.AddHs(x,addCoords=True) for x in ms]\n",
    "mms = [x for x in mhs if x.HasSubstructMatch(qcore)]\n",
    "for m in mms:\n",
    "    for atom in m.GetAtoms():\n",
    "        atom.SetIntProp(\"SourceAtomIdx\",atom.GetIdx())\n",
    "print(len(mhs),len(mms))\n",
    "rdDepictor.SetPreferCoordGen(True)\n",
    "rdDepictor.Compute2DCoords(qcore)\n",
    "qcore"
   ]
  },
  {
   "cell_type": "code",
   "execution_count": null,
   "id": "4244d720-8ce2-490f-ac49-5ebbcaa533d5",
   "metadata": {},
   "outputs": [],
   "source": [
    "rdkit.RDLogger.DisableLog('rdApp.warning')\n",
    "groups,_ = rdRGroupDecomposition.RGroupDecompose([qcore],mms,asSmiles=False,asRows=True)"
   ]
  },
  {
   "cell_type": "code",
   "execution_count": null,
   "id": "04f20a28-7093-461a-9e95-1069af8f1194",
   "metadata": {},
   "outputs": [],
   "source": [
    "@interact(idx=range(0,len(mms)))\n",
    "def draw_it(idx=0):\n",
    "    m = mms[idx]\n",
    "    row = groups[idx]\n",
    "    return Image(highlight_rgroups(m,row,qcore,lbls=('R1','R2','R3')))"
   ]
  },
  {
   "cell_type": "code",
   "execution_count": null,
   "id": "547e7e1a-b1fb-4959-82c9-ce303c847fe9",
   "metadata": {},
   "outputs": [],
   "source": [
    "Image(draw_multiple(mms[:12],groups,qcore,('R1','R2','R3'),subImageSize=(300,250)))"
   ]
  },
  {
   "cell_type": "code",
   "execution_count": null,
   "id": "5a9ef536-f945-4d76-9c76-217d8d19969d",
   "metadata": {},
   "outputs": [],
   "source": [
    "df_doc3 = df[df.assay_chembl_id=='CHEMBL3101313']\n",
    "print(len(df_doc3))\n",
    "df_doc3.head()"
   ]
  },
  {
   "cell_type": "code",
   "execution_count": null,
   "id": "661507a9-db9a-487d-a66b-42a2e9d657ac",
   "metadata": {},
   "outputs": [],
   "source": [
    "smis = df_doc3['canonical_smiles']\n",
    "cids = list(df_doc3.compound_chembl_id)\n",
    "ms = [Chem.MolFromSmiles(x) for x in smis]\n",
    "for m in ms:\n",
    "    rdDepictor.Compute2DCoords(m)\n",
    "Draw.MolsToGridImage(ms[:12],legends=cids,molsPerRow=4)"
   ]
  },
  {
   "cell_type": "code",
   "execution_count": null,
   "id": "5beba7ee-a68d-4da6-814d-cdb404490c06",
   "metadata": {},
   "outputs": [],
   "source": [
    "core = Chem.MolFromSmiles('OC(=O)c1cc(C(=O)NC(C[*:1])[*:2])nc2ccc([*:3])cc12')\n",
    "ps = Chem.AdjustQueryParameters.NoAdjustments()\n",
    "ps.makeDummiesQueries=True\n",
    "qcore = Chem.AdjustQueryProperties(core,ps)\n",
    "mhs = [Chem.AddHs(x,addCoords=True) for x in ms]\n",
    "mms = [x for x in mhs if x.HasSubstructMatch(qcore)]\n",
    "for m in mms:\n",
    "    for atom in m.GetAtoms():\n",
    "        atom.SetIntProp(\"SourceAtomIdx\",atom.GetIdx())\n",
    "print(len(mhs),len(mms))\n",
    "rdDepictor.SetPreferCoordGen(True)\n",
    "rdDepictor.Compute2DCoords(qcore)\n",
    "qcore"
   ]
  },
  {
   "cell_type": "code",
   "execution_count": null,
   "id": "745a5b2a-835f-4407-8eb4-14d6f474849d",
   "metadata": {},
   "outputs": [],
   "source": [
    "rdkit.RDLogger.DisableLog('rdApp.warning')\n",
    "groups,_ = rdRGroupDecomposition.RGroupDecompose([qcore],mms,asSmiles=False,asRows=True)"
   ]
  },
  {
   "cell_type": "code",
   "execution_count": null,
   "id": "1f113b9c-831f-4e27-8955-bc808d0d5fef",
   "metadata": {},
   "outputs": [],
   "source": [
    "@interact(idx=range(0,len(mms)))\n",
    "def draw_it(idx=0):\n",
    "    m = mms[idx]\n",
    "    row = groups[idx]\n",
    "    return Image(highlight_rgroups(m,row,qcore,lbls=('R1','R2','R3')))"
   ]
  },
  {
   "cell_type": "code",
   "execution_count": null,
   "id": "28991e65-6060-485f-926e-f15b073c82e3",
   "metadata": {},
   "outputs": [],
   "source": [
    "Image(draw_multiple(mms[:12],groups,qcore,('R1','R2','R3'),subImageSize=(300,250)))"
   ]
  }
 ],
 "metadata": {
  "kernelspec": {
   "display_name": "Python 3",
   "language": "python",
   "name": "python3"
  },
  "language_info": {
   "codemirror_mode": {
    "name": "ipython",
    "version": 3
   },
   "file_extension": ".py",
   "mimetype": "text/x-python",
   "name": "python",
   "nbconvert_exporter": "python",
   "pygments_lexer": "ipython3",
   "version": "3.9.5"
  }
 },
 "nbformat": 4,
 "nbformat_minor": 5
}
