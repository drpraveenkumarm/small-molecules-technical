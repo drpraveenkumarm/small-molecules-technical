{
 "cells": [
  {
   "cell_type": "code",
   "execution_count": null,
   "id": "c527e01e-10f7-4a75-ac26-f1fd0c39839d",
   "metadata": {},
   "outputs": [],
   "source": [
    "! conda install nglview\n",
    "! conda install openbabel\n",
    "! conda install mdanalysis\n",
    "! pip install https://github.com/volkamerlab/opencadd/archive/master.tar.gz\n",
    "! conda install -c conda-forge smina\n",
    "! mamba install teachopencadd -c conda-forge -c defaults"
   ]
  },
  {
   "cell_type": "code",
   "execution_count": null,
   "id": "307de1da-96a8-4452-8886-360835373f0c",
   "metadata": {},
   "outputs": [],
   "source": [
    "from teachopencadd.utils import show_pdf"
   ]
  },
  {
   "cell_type": "code",
   "execution_count": null,
   "id": "b8884b60-d974-40df-aafa-6ff5ca89322f",
   "metadata": {},
   "outputs": [],
   "source": [
    "pdf = (\n",
    "    \"https://www.ncbi.nlm.nih.gov/\"\n",
    "    \"pmc/articles/PMC4489249/bin/supp_gkv315_nar-00254-web-b-2015-File003.pdf\"\n",
    ")\n",
    "show_pdf(pdf)"
   ]
  },
  {
   "cell_type": "code",
   "execution_count": null,
   "id": "22e80b60-834c-4594-8b8d-806087bf094c",
   "metadata": {},
   "outputs": [],
   "source": [
    "\"\"\"Visualization: complex and interactions¶\n",
    "We will use nglview for visualization. It’s a web-based molecular viewer that can be run on Jupyter notebooks. We will first use it in a basic way to visualize a complex of interest. Then, we will make use of ipywidgets layouts to visualize protein-ligand interactions\"\"\""
   ]
  },
  {
   "cell_type": "code",
   "execution_count": null,
   "id": "152da7eb-163c-4420-9478-e220fe921cc8",
   "metadata": {},
   "outputs": [],
   "source": [
    "# Import libraries\n",
    "from pathlib import Path\n",
    "import time\n",
    "import warnings\n",
    "\n",
    "warnings.filterwarnings(\"ignore\")\n",
    "\n",
    "import pandas as pd\n",
    "import nglview as nv\n",
    "import openbabel\n",
    "import numpy as np\n",
    "import matplotlib.pyplot as plt\n",
    "from matplotlib import colors\n",
    "from plip.structure.preparation import PDBComplex\n",
    "from plip.exchange.report import BindingSiteReport\n",
    "\n",
    "from opencadd.structure.core import Structure"
   ]
  },
  {
   "cell_type": "code",
   "execution_count": null,
   "id": "61849eb7-6bc2-442d-ae7d-99229315fb62",
   "metadata": {},
   "outputs": [],
   "source": [
    "# Absolute path\n",
    "HERE = Path(_dh[-1])\n",
    "DATA = HERE / \"data\""
   ]
  },
  {
   "cell_type": "code",
   "execution_count": null,
   "id": "83c5dac6-59df-4ef0-9324-e60b59eb9ef2",
   "metadata": {},
   "outputs": [],
   "source": [
    "\"\"\"PDB complex: example with EGFR¶\n",
    "As a test case for this notebook, we choose the EGFR kinase. The considered PDB structure is given by the ID 3POZ. Let’s use nglview to visualize the structure in a notebook cell.\n",
    "\n",
    "Note: the complex can easily be changed by adapting the PDB ID in the cell below.\"\"\""
   ]
  },
  {
   "cell_type": "code",
   "execution_count": null,
   "id": "5e098779-c9dc-4455-ad2b-3fd2868147c9",
   "metadata": {},
   "outputs": [],
   "source": [
    "#We now fetch the PDB structure file from the PDB using opencadd.structure.superposition."
   ]
  },
  {
   "cell_type": "code",
   "execution_count": null,
   "id": "9b86f01c-d037-4b28-81f3-919aaefbf0e5",
   "metadata": {},
   "outputs": [],
   "source": [
    "pdb_file = pybel.readfile(\"pdb\", str(DrugDiscoveryGroup/shared/explore-rdkit/data/interaction.pdb)\n",
    "# Download it to file for later use\n",
    "pdb_file.write(DATA / f\"{pdb_id}.pdb\")"
   ]
  },
  {
   "cell_type": "code",
   "execution_count": null,
   "id": "87790d3f-eeae-4f80-8a63-d1bc2875a097",
   "metadata": {},
   "outputs": [],
   "source": [
    "#Show the complex based on PDB ID\n",
    "\n",
    "ngl_viewer = nv.show_pdbid(pdb_id)\n",
    "# add the ligands\n",
    "ngl_viewer.add_representation(repr_type=\"ball+stick\", selection=\"hetero and not water\")\n",
    "# center view on binding site\n",
    "ngl_viewer.center(\"ligand\")\n",
    "ngl_viewer"
   ]
  },
  {
   "cell_type": "code",
   "execution_count": null,
   "id": "36c2aff3-687b-4f5f-aae2-09f185ef6479",
   "metadata": {},
   "outputs": [],
   "source": [
    "ngl_viewer._display_image()"
   ]
  },
  {
   "cell_type": "code",
   "execution_count": null,
   "id": "7400088d-7b12-4371-b5ee-b237c8c1c60f",
   "metadata": {},
   "outputs": [],
   "source": [
    "\"\"\"Profiling protein-ligand interactions using PLIP¶\n",
    "PLIP offers a webserver for automated analysis, but unfortunately there is no API. We could try to use the HTML forms as if we were using the standard web UI, but since the library itself is Python-3 ready and very easy to install with pip, we can just use it locally for simplicity.\n",
    "\n",
    "PLIP takes PDB files as input, so we can pass the PDB file to PLIP and let it do its magic. The BindingSiteReport class processes each detected binding site in PDBComplex and creates an object with the (eight) fields we are interested in, namely\n",
    "\n",
    "hydrophobic interaction : hydrophobic\n",
    "\n",
    "hydrogen bond : hbond\n",
    "\n",
    "water bridge : waterbridge\n",
    "\n",
    "salt bridge : saltbridge\n",
    "\n",
    "-stacking (parallel and perpendicular) : pistacking\n",
    "\n",
    "- cation : pication\n",
    "\n",
    "halogen bond : halogen\n",
    "\n",
    "metal complexation : metal\n",
    "\n",
    "These fields are divided in <field>_features (containing column names) and <field>_info (containing the actual records). If we iterate over the object retrieving the correct attribute name with getattr(), we can compose a dictionary that can be passed to a pandas.DataFrame for nice overviews.\n",
    "\n",
    "This dictionary is composed of two levels: - First level is the detected binding sites. - For each binding site, we have one more sub-dictionary containing eight lists, one for each specific interaction. * Each list will contain the column names in the first row, and the data (if available) in the following.\"\"\""
   ]
  },
  {
   "cell_type": "code",
   "execution_count": null,
   "id": "9402e837-6df1-4cc4-ba66-e2b2e3484203",
   "metadata": {},
   "outputs": [],
   "source": [
    "def retrieve_plip_interactions(pdb_file):\n",
    "    \"\"\"\n",
    "    Retrieves the interactions from PLIP.\n",
    "\n",
    "    Parameters\n",
    "    ----------\n",
    "    pdb_file :\n",
    "            The PDB file of the complex.\n",
    "\n",
    "    Returns\n",
    "    -------\n",
    "    dict :\n",
    "            A dictionary of the binding sites and the interactions.\n",
    "    \"\"\"\n",
    "    protlig = PDBComplex()\n",
    "    protlig.load_pdb(pdb_file)  # load the pdb file\n",
    "    for ligand in protlig.ligands:\n",
    "        protlig.characterize_complex(ligand)  # find ligands and analyze interactions\n",
    "    sites = {}\n",
    "    # loop over binding sites\n",
    "    for key, site in sorted(protlig.interaction_sets.items()):\n",
    "        binding_site = BindingSiteReport(site)  # collect data about interactions\n",
    "        # tuples of *_features and *_info will be converted to pandas data frame\n",
    "        keys = (\n",
    "            \"hydrophobic\",\n",
    "            \"hbond\",\n",
    "            \"waterbridge\",\n",
    "            \"saltbridge\",\n",
    "            \"pistacking\",\n",
    "            \"pication\",\n",
    "            \"halogen\",\n",
    "            \"metal\",\n",
    "        )\n",
    "        # interactions is a dictionary which contains relevant information for each\n",
    "        # of the possible interactions: hydrophobic, hbond, etc. in the considered\n",
    "        # binding site. Each interaction contains a list with\n",
    "        # 1. the features of that interaction, e.g. for hydrophobic:\n",
    "        # ('RESNR', 'RESTYPE', ..., 'LIGCOO', 'PROTCOO')\n",
    "        # 2. information for each of these features, e.g. for hydrophobic\n",
    "        # (residue nb, residue type,..., ligand atom 3D coord., protein atom 3D coord.)\n",
    "        interactions = {\n",
    "            k: [getattr(binding_site, k + \"_features\")] + getattr(binding_site, k + \"_info\")\n",
    "            for k in keys\n",
    "        }\n",
    "        sites[key] = interactions\n",
    "    return sites"
   ]
  },
  {
   "cell_type": "code",
   "execution_count": null,
   "id": "59c8cf46-38cc-4b96-b81e-a8f8961d9206",
   "metadata": {},
   "outputs": [],
   "source": [
    "#We create the dictionary for the complex of interest:\n",
    "interactions_by_site = retrieve_plip_interactions(f\"{DATA}/{pdb_id}.pdb\")"
   ]
  },
  {
   "cell_type": "code",
   "execution_count": null,
   "id": "f21d583f-1694-486c-b452-a5afb9a295f1",
   "metadata": {},
   "outputs": [],
   "source": [
    "#Let’s see how many binding sites are detected:\n",
    "\n",
    "print(\n",
    "    f\"Number of binding sites detected in {pdb_id} : \"\n",
    "    f\"{len(interactions_by_site)}\\n\"\n",
    "    f\"with {interactions_by_site.keys()}\"\n",
    ")\n",
    "# NBVAL_CHECK_OUTPUT"
   ]
  },
  {
   "cell_type": "code",
   "execution_count": null,
   "id": "4bbf8f16-4fb7-498a-9ecd-9dd85c9a0a17",
   "metadata": {},
   "outputs": [],
   "source": [
    "#In this case, the first binding site containing ligand 03P will be further investigated.\n",
    "\n",
    "index_of_selected_site = 0\n",
    "selected_site = list(interactions_by_site.keys())[index_of_selected_site]\n",
    "print(selected_site)"
   ]
  },
  {
   "cell_type": "code",
   "execution_count": null,
   "id": "539ca29c-de81-4e95-958b-3554795283ed",
   "metadata": {},
   "outputs": [],
   "source": [
    "#Table of interaction types¶\n",
    "#We can construct a pandas.DataFrame for a binding site and particular interaction type.\n",
    "\n",
    "def create_df_from_binding_site(selected_site_interactions, interaction_type=\"hbond\"):\n",
    "    \"\"\"\n",
    "    Creates a data frame from a binding site and interaction type.\n",
    "\n",
    "    Parameters\n",
    "    ----------\n",
    "    selected_site_interactions : dict\n",
    "        Precaluclated interactions from PLIP for the selected site\n",
    "    interaction_type : str\n",
    "        The interaction type of interest (default set to hydrogen bond).\n",
    "\n",
    "    Returns\n",
    "    -------\n",
    "    DataFrame :\n",
    "        Data frame with information retrieved from PLIP.\n",
    "    \"\"\"\n",
    "\n",
    "    # check if interaction type is valid:\n",
    "    valid_types = [\n",
    "        \"hydrophobic\",\n",
    "        \"hbond\",\n",
    "        \"waterbridge\",\n",
    "        \"saltbridge\",\n",
    "        \"pistacking\",\n",
    "        \"pication\",\n",
    "        \"halogen\",\n",
    "        \"metal\",\n",
    "    ]\n",
    "\n",
    "    if interaction_type not in valid_types:\n",
    "        print(\"!!! Wrong interaction type specified. Hbond is chosen by default!!!\\n\")\n",
    "        interaction_type = \"hbond\"\n",
    "\n",
    "    df = pd.DataFrame.from_records(\n",
    "        # data is stored AFTER the column names\n",
    "        selected_site_interactions[interaction_type][1:],\n",
    "        # column names are always the first element\n",
    "        columns=selected_site_interactions[interaction_type][0],\n",
    "    )\n",
    "    return df"
   ]
  },
  {
   "cell_type": "code",
   "execution_count": null,
   "id": "d44640f2-b34d-4ae2-bd37-f82c8dff9715",
   "metadata": {},
   "outputs": [],
   "source": [
    "#Hydrophobic interactions\n",
    "\n",
    "#In the next cell, we show the hydrophobic interactions from the selected binding site.\n",
    "\n",
    "create_df_from_binding_site(interactions_by_site[selected_site], interaction_type=\"hydrophobic\")"
   ]
  },
  {
   "cell_type": "code",
   "execution_count": null,
   "id": "d6ee26fd-d399-4b16-b2b8-8b5073994d87",
   "metadata": {},
   "outputs": [],
   "source": [
    "#Hydrogen interactions\n",
    "\n",
    "#If hydrogen interactions are of interest, the table can be generated as follow:\n",
    "\n",
    "create_df_from_binding_site(interactions_by_site[selected_site], interaction_type=\"hbond\")\n"
   ]
  },
  {
   "cell_type": "code",
   "execution_count": null,
   "id": "20095612-4c85-40af-b675-f1409225501c",
   "metadata": {},
   "outputs": [],
   "source": [
    "# halogen interactions:\n",
    "\n",
    "create_df_from_binding_site(interactions_by_site[selected_site], interaction_type=\"halogen\")\n"
   ]
  },
  {
   "cell_type": "code",
   "execution_count": null,
   "id": "3d9d18ce-9de7-4cac-909d-5852228862df",
   "metadata": {},
   "outputs": [],
   "source": [
    "#Visualization with NGLView¶\n",
    "#Now, let’s try to represent those interactions in the NGL viewer. We can draw cylinders between the interaction points (LIGCOO and PROTCOO in the pandas.DataFrame) and color-code them as shown in color_map, which uses RGB tuples.\n",
    "\n",
    "color_map = {\n",
    "    \"hydrophobic\": [0.90, 0.10, 0.29],\n",
    "    \"hbond\": [0.26, 0.83, 0.96],\n",
    "    \"waterbridge\": [1.00, 0.88, 0.10],\n",
    "    \"saltbridge\": [0.67, 1.00, 0.76],\n",
    "    \"pistacking\": [0.75, 0.94, 0.27],\n",
    "    \"pication\": [0.27, 0.60, 0.56],\n",
    "    \"halogen\": [0.94, 0.20, 0.90],\n",
    "    \"metal\": [0.90, 0.75, 1.00],\n",
    "}"
   ]
  },
  {
   "cell_type": "code",
   "execution_count": null,
   "id": "41a581a4-4e35-40e1-a3d9-209de905f5c6",
   "metadata": {},
   "outputs": [],
   "source": [
    "#Let’s see what these RGB colors correspond to:\n",
    "\n",
    "fig, axs = plt.subplots(nrows=2, ncols=4, figsize=(15, 2))\n",
    "plt.subplots_adjust(hspace=1)\n",
    "fig.suptitle(\"Colors for interaction types\", size=16, y=1.2)\n",
    "\n",
    "for ax, (interaction, color) in zip(fig.axes, color_map.items()):\n",
    "    ax.imshow(np.zeros((1, 5)), cmap=colors.ListedColormap(color_map[interaction]))\n",
    "    ax.set_title(interaction, loc=\"center\")\n",
    "    ax.set_axis_off()\n",
    "plt.show()"
   ]
  },
  {
   "cell_type": "code",
   "execution_count": null,
   "id": "20e2563f-ed85-4d65-9b2d-4b385e2ecaea",
   "metadata": {},
   "outputs": [],
   "source": [
    "#Define a helper function to show the interactions.\n",
    "\n",
    "def show_interactions_3D(\n",
    "    pdb_id, selected_site_interactions, highlight_interaction_colors=color_map\n",
    "):\n",
    "    \"\"\"\n",
    "    3D visualization of protein-ligand interactions.\n",
    "\n",
    "    Parameters\n",
    "    ----------\n",
    "    pdb_id : str\n",
    "        The pdb ID of interest.\n",
    "    selected_site_interactions : dict\n",
    "        Precaluclated interactions from PLIP for the selected site\n",
    "    highlight_interaction_colors : dict\n",
    "        The colors used to highlight the different interaction types.\n",
    "\n",
    "    Returns\n",
    "    -------\n",
    "    NGL viewer with explicit interactions given by PLIP.\n",
    "    \"\"\"\n",
    "\n",
    "    # Create NGLviewer\n",
    "    viewer = nv.NGLWidget(height=\"600px\", default=True, gui=True)\n",
    "    # Add protein\n",
    "    prot_component = viewer.add_pdbid(pdb_id)\n",
    "    # Add the ligands\n",
    "    viewer.add_representation(repr_type=\"ball+stick\", selection=\"hetero and not water\")\n",
    "\n",
    "    interacting_residues = []\n",
    "    for interaction_type, interaction_list in selected_site_interactions.items():\n",
    "        color = highlight_interaction_colors[interaction_type]\n",
    "        if len(interaction_list) == 1:\n",
    "            continue\n",
    "        df_interactions = pd.DataFrame.from_records(\n",
    "            interaction_list[1:], columns=interaction_list[0]\n",
    "        )\n",
    "        for _, interaction in df_interactions.iterrows():\n",
    "            name = interaction_type\n",
    "            # add cylinder between ligand and protein coordinate\n",
    "            viewer.shape.add_cylinder(\n",
    "                interaction[\"LIGCOO\"],\n",
    "                interaction[\"PROTCOO\"],\n",
    "                color,\n",
    "                [0.1],\n",
    "                name,\n",
    "            )\n",
    "            interacting_residues.append(interaction[\"RESNR\"])\n",
    "    # Display interacting residues\n",
    "    res_sele = \" or \".join([f\"({r} and not _H)\" for r in interacting_residues])\n",
    "    res_sele_nc = \" or \".join([f\"({r} and ((_O) or (_N) or (_S)))\" for r in interacting_residues])\n",
    "    prot_component.add_ball_and_stick(sele=res_sele, colorScheme=\"chainindex\", aspectRatio=1.5)\n",
    "    prot_component.add_ball_and_stick(sele=res_sele_nc, colorScheme=\"element\", aspectRatio=1.5)\n",
    "    # Center on binding site\n",
    "    viewer.center(\"ligand\")\n",
    "    return viewer"
   ]
  },
  {
   "cell_type": "code",
   "execution_count": null,
   "id": "84d66df0-9807-42cf-a259-385f71338ec6",
   "metadata": {},
   "outputs": [],
   "source": [
    "viewer_3D = show_interactions_3D(pdb_id, interactions_by_site[selected_site])\n",
    "viewer_3D"
   ]
  },
  {
   "cell_type": "code",
   "execution_count": null,
   "id": "81e8d005-4f93-4209-8aa2-c16e7634d11f",
   "metadata": {},
   "outputs": [],
   "source": [
    "viewer_3D.render_image(trim=True, factor=2, transparent=True);"
   ]
  },
  {
   "cell_type": "code",
   "execution_count": null,
   "id": "d051f052-93e0-47e6-8360-1d505c33d85c",
   "metadata": {},
   "outputs": [],
   "source": [
    "viewer_3D._display_image()"
   ]
  },
  {
   "cell_type": "code",
   "execution_count": null,
   "id": "57980495-6233-4816-84d9-002212e4253f",
   "metadata": {},
   "outputs": [],
   "source": [
    "\"\"\"Analysis of interactions¶\n",
    "As we can see in the NGL viewer, PLIP manages to identify different interactions between the protein and the ligand in the binding site, for our kinase example (3poz):\n",
    "\n",
    "The typical hinge hydrogen binding with methionine residue MET793.\n",
    "\n",
    "Hydrophobic interactions with the following residues:\n",
    "\n",
    "LYS745\n",
    "\n",
    "LEU788\n",
    "\n",
    "THR790\n",
    "\n",
    "THR854\n",
    "\n",
    "LEU858\n",
    "\n",
    "Halogen interactions with residues:\n",
    "\n",
    "MET766\n",
    "\n",
    "LEU788\n",
    "\n",
    "THR790\n",
    "\n",
    "Note that for example the hinge interaction is equally identified in KLIFS, see 3poz KLIFS fingerprint, while the hydrophobic interactions identified with PLIP are only a subset of those in KLIFS. Halogen interactions are not explicitly annotated in KLIFS.\n",
    "\n",
    "All the identified interactions in NGLview do indeed correspond to the table of interactions generated above.\"\"\""
   ]
  }
 ],
 "metadata": {
  "kernelspec": {
   "display_name": "Python 3",
   "language": "python",
   "name": "python3"
  },
  "language_info": {
   "codemirror_mode": {
    "name": "ipython",
    "version": 3
   },
   "file_extension": ".py",
   "mimetype": "text/x-python",
   "name": "python",
   "nbconvert_exporter": "python",
   "pygments_lexer": "ipython3",
   "version": "3.9.5"
  }
 },
 "nbformat": 4,
 "nbformat_minor": 5
}
