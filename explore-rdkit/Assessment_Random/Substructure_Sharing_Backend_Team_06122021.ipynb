{
 "cells": [
  {
   "cell_type": "markdown",
   "id": "1455fa8f-9f5f-4887-bf01-a106aee12967",
   "metadata": {},
   "source": [
    "#Substructure matching based on Murcko Scaffold"
   ]
  },
  {
   "cell_type": "markdown",
   "id": "a00c5bdb-0671-4bfb-8aa0-74f985a2104e",
   "metadata": {},
   "source": [
    "#Importing the libraries"
   ]
  },
  {
   "cell_type": "code",
   "execution_count": null,
   "id": "3d6da1de-338e-4807-b323-28266784efcf",
   "metadata": {},
   "outputs": [],
   "source": [
    "from rdkit import Chem\n",
    "from rdkit.Chem import Scaffolds\n",
    "from rdkit.Chem import rdMolHash\n",
    "from rdkit.Chem import Draw"
   ]
  },
  {
   "cell_type": "markdown",
   "id": "802f3d9b-5978-4fff-9dec-193c692920de",
   "metadata": {},
   "source": [
    "#List of molecules as SMILES"
   ]
  },
  {
   "cell_type": "code",
   "execution_count": null,
   "id": "cbcecfb1-92c6-42ee-a644-2b0f5ecbaab0",
   "metadata": {},
   "outputs": [],
   "source": [
    "mList = ['CCCC1=NN(C2=C1N=C(NC2=O)C3=C(C=CC(=C3)S(=O)(=O)N4CCN(CC4)C)OCC)C',\\\n",
    "         'CCCC1=NC(=C2N1N=C(NC2=O)C3=C(C=CC(=C3)S(=O)(=O)N4CCN(CC4)CC)OCC)C']"
   ]
  },
  {
   "cell_type": "markdown",
   "id": "03203e5e-7e84-4636-b518-d6a63728c92d",
   "metadata": {},
   "source": [
    "#Converting SMILES to mols"
   ]
  },
  {
   "cell_type": "code",
   "execution_count": null,
   "id": "05e09be1-3d30-4844-aae0-d99dc795adf8",
   "metadata": {},
   "outputs": [],
   "source": [
    "mMols = [Chem.MolFromSmiles(m) for m in mList]"
   ]
  },
  {
   "cell_type": "markdown",
   "id": "e995ac72-9ee8-418f-8029-63b1a00e05f6",
   "metadata": {},
   "source": [
    "#Identify Mol Hash from the given list of molecules using Murcko Scaffold"
   ]
  },
  {
   "cell_type": "code",
   "execution_count": null,
   "id": "91d181e1-0793-4d76-8999-49c215d72c36",
   "metadata": {},
   "outputs": [],
   "source": [
    "murckoHashList = [rdMolHash.MolHash(mMol, Chem.rdMolHash.HashFunction.MurckoScaffold) for mMol in mMols]"
   ]
  },
  {
   "cell_type": "markdown",
   "id": "14b311d7-b95e-4c0e-8b69-012928845719",
   "metadata": {},
   "source": [
    "#Identify the most frequent Murcko hash (MolHash) out of the list of Murcko hashes identified"
   ]
  },
  {
   "cell_type": "code",
   "execution_count": null,
   "id": "644afd50-69b9-47aa-aa3e-4d8feab6b8ce",
   "metadata": {},
   "outputs": [],
   "source": [
    "def mostFreq(list):\n",
    "    return max(list, key = list.count)"
   ]
  },
  {
   "cell_type": "code",
   "execution_count": null,
   "id": "1dcff914-f35d-4b26-af9c-754e300c07a6",
   "metadata": {},
   "outputs": [],
   "source": [
    "mostFreq_murckoHash = mostFreq(murckoHashList)"
   ]
  },
  {
   "cell_type": "code",
   "execution_count": null,
   "id": "883720c0-09f0-43bc-b307-adbc7172b870",
   "metadata": {},
   "outputs": [],
   "source": [
    "mostFreq_murckoHash = \"c1cc([SH4]N2CCNCC2)cc(-c2nn3cncc3c[nH]2)c1\""
   ]
  },
  {
   "cell_type": "markdown",
   "id": "9579811f-1476-466f-ac82-06454afabea7",
   "metadata": {},
   "source": [
    "#Converting the most frequent Murcko hash to the mol format"
   ]
  },
  {
   "cell_type": "code",
   "execution_count": null,
   "id": "69035e13-3909-416f-888d-88580380e0ca",
   "metadata": {},
   "outputs": [],
   "source": [
    "mostFreq_murckoHash_mol = Chem.MolFromSmiles(mostFreq_murckoHash)"
   ]
  },
  {
   "cell_type": "code",
   "execution_count": null,
   "id": "9d42ed11-c06a-4ee2-8df5-339e4d2fd1ec",
   "metadata": {},
   "outputs": [],
   "source": [
    "Chem.SanitizeMol(Chem.MolFromSmiles(mostFreq_murckoHash))"
   ]
  },
  {
   "cell_type": "code",
   "execution_count": null,
   "id": "fc2648cb-6b94-4014-8435-c0f32c29648d",
   "metadata": {},
   "outputs": [],
   "source": [
    "murckoHashList"
   ]
  },
  {
   "cell_type": "code",
   "execution_count": null,
   "id": "84cc2676-d8e6-4932-9810-f42d111e1805",
   "metadata": {},
   "outputs": [],
   "source": [
    "mostFreq_murckoHash_mol"
   ]
  },
  {
   "cell_type": "markdown",
   "id": "3776c1f5-33ce-4654-98e6-f578af1e4d11",
   "metadata": {},
   "source": [
    "#Getting the substructure match for the Murcko hash based mol for each of the molecule"
   ]
  },
  {
   "cell_type": "code",
   "execution_count": null,
   "id": "f89cce67-201b-43eb-8e7e-85fedf380e18",
   "metadata": {},
   "outputs": [],
   "source": [
    "highlight_mostFreq_murckoHash = [mMol.GetSubstructMatch(mostFreq_murckoHash_mol) for mMol in mMols]"
   ]
  },
  {
   "cell_type": "markdown",
   "id": "193fdc25-e706-44cd-8da6-7980eb412d32",
   "metadata": {},
   "source": [
    "#Generating a grid image to view the mols"
   ]
  },
  {
   "cell_type": "code",
   "execution_count": null,
   "id": "df952e22-e852-4cc0-af7b-318123fdacbb",
   "metadata": {},
   "outputs": [],
   "source": [
    "Draw.MolsToGridImage(mMols, legends = [murckoHash for murckoHash in murckoHashList],\n",
    "                    highlightAtomLists = highlight_mostFreq_murckoHash, subImgSize = (250,250), useSVG = True)"
   ]
  },
  {
   "cell_type": "markdown",
   "id": "75ad966e-5a76-4a28-b93f-fc78982c0d00",
   "metadata": {},
   "source": [
    "#Substructure matching based on maximum common substructure (MCS)"
   ]
  },
  {
   "cell_type": "code",
   "execution_count": null,
   "id": "ba84ce44-03e2-4008-bf5e-9ac6bc8ba065",
   "metadata": {},
   "outputs": [],
   "source": [
    "from rdkit import Chem\n",
    "from rdkit.Chem import Draw\n",
    "from rdkit.Chem import rdFMCS"
   ]
  },
  {
   "cell_type": "markdown",
   "id": "1d076e50-46ba-4ef0-a09e-8c1ba6a1ad97",
   "metadata": {},
   "source": [
    "#List of molecules as SMILES"
   ]
  },
  {
   "cell_type": "code",
   "execution_count": null,
   "id": "7e5e4e4d-922b-46c6-a172-322b6dae199f",
   "metadata": {},
   "outputs": [],
   "source": [
    "mList = ['CCCC1=NN(C2=C1N=C(NC2=O)C3=C(C=CC(=C3)S(=O)(=O)N4CCN(CC4)C)OCC)C',\\\n",
    "         'CCCC1=NC(=C2N1N=C(NC2=O)C3=C(C=CC(=C3)S(=O)(=O)N4CCN(CC4)CC)OCC)C']"
   ]
  },
  {
   "cell_type": "markdown",
   "id": "d1a8c0e0-4543-47c0-8e57-3d08fab04262",
   "metadata": {},
   "source": [
    "#Converting SMILES to mols"
   ]
  },
  {
   "cell_type": "code",
   "execution_count": null,
   "id": "721f7abc-ee58-4117-a373-974c736a3fa4",
   "metadata": {},
   "outputs": [],
   "source": [
    "mMols = [Chem.MolFromSmiles(m) for m in mList]"
   ]
  },
  {
   "cell_type": "markdown",
   "id": "37ee40d7-cd78-40b3-84ad-c0ed2ed03977",
   "metadata": {},
   "source": [
    "#Finding the maximum common substructure among the list of molecules"
   ]
  },
  {
   "cell_type": "code",
   "execution_count": null,
   "id": "c114249f-8851-4981-9b98-392e4e46c828",
   "metadata": {},
   "outputs": [],
   "source": [
    "commonMCS = rdFMCS.FindMCS(mMols,maximizeBonds=True,threshold=1,\n",
    "                           matchValences=False,ringMatchesRingOnly=False,\n",
    "                          completeRingsOnly=False,matchChiralTag=False)"
   ]
  },
  {
   "cell_type": "markdown",
   "id": "95c111bb-13c8-415c-8e8e-48ba730bfb97",
   "metadata": {},
   "source": [
    "#Convert the maximum common substructure to mol format"
   ]
  },
  {
   "cell_type": "code",
   "execution_count": null,
   "id": "c89adffd-8bba-49b8-b8a5-ee5c75d6ecd7",
   "metadata": {},
   "outputs": [],
   "source": [
    "commonMCS_Mol = Chem.MolFromSmarts(commonMCS.smartsString)"
   ]
  },
  {
   "cell_type": "markdown",
   "id": "ab9ce9e1-3fc8-4eed-b778-fa31feac1b0c",
   "metadata": {},
   "source": [
    "#Getting the substructure match for the MCS based mol for each of the molecule"
   ]
  },
  {
   "cell_type": "code",
   "execution_count": null,
   "id": "481524b8-037d-41a3-af28-33919b2184bf",
   "metadata": {},
   "outputs": [],
   "source": [
    "highlight_MCS = [mMol.GetSubstructMatch(commonMCS_Mol) for mMol in mMols]"
   ]
  },
  {
   "cell_type": "markdown",
   "id": "781bb332-c061-46fb-8dd2-a8fe5ea82818",
   "metadata": {},
   "source": [
    "#Generating a grid image to view the mols"
   ]
  },
  {
   "cell_type": "code",
   "execution_count": null,
   "id": "24c55d69-4a37-464d-a719-8f68f1a9fdef",
   "metadata": {},
   "outputs": [],
   "source": [
    "Draw.MolsToGridImage(mMols,\n",
    "                highlightAtomLists = highlight_MCS, subImgSize = (500,500), useSVG = True)"
   ]
  },
  {
   "cell_type": "code",
   "execution_count": null,
   "id": "99d1bfb0-c788-4f72-95e0-4b9eff8c2455",
   "metadata": {},
   "outputs": [],
   "source": []
  }
 ],
 "metadata": {
  "kernelspec": {
   "display_name": "Python 3",
   "language": "python",
   "name": "python3"
  },
  "language_info": {
   "codemirror_mode": {
    "name": "ipython",
    "version": 3
   },
   "file_extension": ".py",
   "mimetype": "text/x-python",
   "name": "python",
   "nbconvert_exporter": "python",
   "pygments_lexer": "ipython3",
   "version": "3.9.5"
  }
 },
 "nbformat": 4,
 "nbformat_minor": 5
}
